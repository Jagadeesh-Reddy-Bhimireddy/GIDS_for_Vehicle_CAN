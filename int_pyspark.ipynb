{
 "cells": [
  {
   "cell_type": "code",
   "execution_count": 2,
   "id": "c7dfefff",
   "metadata": {},
   "outputs": [
    {
     "name": "stderr",
     "output_type": "stream",
     "text": [
      "21/08/22 13:48:54 WARN Utils: Your hostname, laha-ubuntu resolves to a loopback address: 127.0.1.1; using 10.4.130.205 instead (on interface enp6s0)\n",
      "21/08/22 13:48:54 WARN Utils: Set SPARK_LOCAL_IP if you need to bind to another address\n",
      "WARNING: An illegal reflective access operation has occurred\n",
      "WARNING: Illegal reflective access by org.apache.spark.unsafe.Platform (file:/home/laha/anaconda3/envs/tf_ppl/lib/python3.8/site-packages/pyspark/jars/spark-unsafe_2.12-3.1.2.jar) to constructor java.nio.DirectByteBuffer(long,int)\n",
      "WARNING: Please consider reporting this to the maintainers of org.apache.spark.unsafe.Platform\n",
      "WARNING: Use --illegal-access=warn to enable warnings of further illegal reflective access operations\n",
      "WARNING: All illegal access operations will be denied in a future release\n",
      "21/08/22 13:48:54 WARN NativeCodeLoader: Unable to load native-hadoop library for your platform... using builtin-java classes where applicable\n",
      "Using Spark's default log4j profile: org/apache/spark/log4j-defaults.properties\n",
      "Setting default log level to \"WARN\".\n",
      "To adjust logging level use sc.setLogLevel(newLevel). For SparkR, use setLogLevel(newLevel).\n"
     ]
    }
   ],
   "source": [
    "from pyspark.sql import SparkSession\n",
    "spark = SparkSession.builder.appName('Ops').getOrCreate()"
   ]
  },
  {
   "cell_type": "code",
   "execution_count": 3,
   "id": "3c396a59",
   "metadata": {},
   "outputs": [],
   "source": [
    "col_names = ['time_stamp','id', 'dlc','d0','d1','d2','d3','d4','d5','d6','d7','R']"
   ]
  },
  {
   "cell_type": "code",
   "execution_count": 4,
   "id": "494a767c",
   "metadata": {},
   "outputs": [],
   "source": [
    "fuzzy_data = spark.read.csv(\n",
    "    \"data/Fuzzy_dataset.csv\", \n",
    "    header=None\n",
    ")"
   ]
  },
  {
   "cell_type": "code",
   "execution_count": 5,
   "id": "3c0e621a",
   "metadata": {},
   "outputs": [
    {
     "name": "stdout",
     "output_type": "stream",
     "text": [
      "+-----------------+----+---+---+---+---+---+---+---+----+----+----+\n",
      "|              _c0| _c1|_c2|_c3|_c4|_c5|_c6|_c7|_c8| _c9|_c10|_c11|\n",
      "+-----------------+----+---+---+---+---+---+---+---+----+----+----+\n",
      "|1478195721.903877|0545|  8| d8| 00| 00| 8a| 00| 00|  00|  00|   R|\n",
      "|1478195721.905736|02b0|  5| ff| 7f| 00| 05| 49|  R|null|null|null|\n",
      "|1478195721.908437|0002|  8| 00| 00| 00| 00| 00| 01|  07|  15|   R|\n",
      "|1478195721.908676|0153|  8| 00| 21| 10| ff| 00| ff|  00|  00|   R|\n",
      "|1478195721.909414|0130|  8| 19| 80| 00| ff| fe| 7f|  07|  60|   R|\n",
      "+-----------------+----+---+---+---+---+---+---+---+----+----+----+\n",
      "only showing top 5 rows\n",
      "\n"
     ]
    }
   ],
   "source": [
    "fuzzy_data.show(n=5)"
   ]
  },
  {
   "cell_type": "code",
   "execution_count": 6,
   "id": "21a056b5",
   "metadata": {},
   "outputs": [
    {
     "data": {
      "text/plain": [
       "3838860"
      ]
     },
     "execution_count": 6,
     "metadata": {},
     "output_type": "execute_result"
    }
   ],
   "source": [
    "fuzzy_data.count()"
   ]
  },
  {
   "cell_type": "code",
   "execution_count": 7,
   "id": "896559b0",
   "metadata": {},
   "outputs": [
    {
     "name": "stderr",
     "output_type": "stream",
     "text": [
      "                                                                                \r"
     ]
    },
    {
     "data": {
      "text/plain": [
       "3751024"
      ]
     },
     "execution_count": 7,
     "metadata": {},
     "output_type": "execute_result"
    }
   ],
   "source": [
    "fuzzy_data=fuzzy_data.na.drop()\n",
    "fuzzy_data.count()"
   ]
  },
  {
   "cell_type": "code",
   "execution_count": 8,
   "id": "06e702d2",
   "metadata": {},
   "outputs": [],
   "source": [
    "from functools import reduce\n",
    "    \n",
    "def rename_col(data, col_names=col_names):\n",
    "    oldColumns = data.schema.names\n",
    "    data = reduce(lambda data, idx: data.withColumnRenamed(oldColumns[idx], col_names[idx]), \n",
    "                        range(len(oldColumns)), data)\n",
    "    return data"
   ]
  },
  {
   "cell_type": "code",
   "execution_count": 9,
   "id": "d1bad334",
   "metadata": {},
   "outputs": [
    {
     "name": "stdout",
     "output_type": "stream",
     "text": [
      "+-----------------+----+---+---+---+---+---+---+---+---+---+---+\n",
      "|       time_stamp|  id|dlc| d0| d1| d2| d3| d4| d5| d6| d7|  R|\n",
      "+-----------------+----+---+---+---+---+---+---+---+---+---+---+\n",
      "|1478195721.903877|0545|  8| d8| 00| 00| 8a| 00| 00| 00| 00|  R|\n",
      "|1478195721.908437|0002|  8| 00| 00| 00| 00| 00| 01| 07| 15|  R|\n",
      "|1478195721.908676|0153|  8| 00| 21| 10| ff| 00| ff| 00| 00|  R|\n",
      "|1478195721.909414|0130|  8| 19| 80| 00| ff| fe| 7f| 07| 60|  R|\n",
      "|1478195721.909660|0131|  8| 17| 80| 00| 00| 65| 7f| 07| 9f|  R|\n",
      "+-----------------+----+---+---+---+---+---+---+---+---+---+---+\n",
      "only showing top 5 rows\n",
      "\n"
     ]
    }
   ],
   "source": [
    "fuzzy_data = rename_col(fuzzy_data)\n",
    "fuzzy_data.show(n=5)"
   ]
  },
  {
   "cell_type": "code",
   "execution_count": 10,
   "id": "ecb370ee",
   "metadata": {},
   "outputs": [
    {
     "name": "stdout",
     "output_type": "stream",
     "text": [
      "+----+---+---+---+---+---+---+---+---+---+\n",
      "|  id|dlc| d0| d1| d2| d3| d4| d5| d6| d7|\n",
      "+----+---+---+---+---+---+---+---+---+---+\n",
      "|0545|  8| d8| 00| 00| 8a| 00| 00| 00| 00|\n",
      "|0002|  8| 00| 00| 00| 00| 00| 01| 07| 15|\n",
      "|0153|  8| 00| 21| 10| ff| 00| ff| 00| 00|\n",
      "|0130|  8| 19| 80| 00| ff| fe| 7f| 07| 60|\n",
      "|0131|  8| 17| 80| 00| 00| 65| 7f| 07| 9f|\n",
      "+----+---+---+---+---+---+---+---+---+---+\n",
      "only showing top 5 rows\n",
      "\n"
     ]
    }
   ],
   "source": [
    "columns_to_drop = ['time_stamp','R']\n",
    "\n",
    "fuzzy_data = fuzzy_data.drop(*columns_to_drop)\n",
    "fuzzy_data.show(n=5)"
   ]
  },
  {
   "cell_type": "code",
   "execution_count": 11,
   "id": "f539a7ff",
   "metadata": {},
   "outputs": [
    {
     "name": "stderr",
     "output_type": "stream",
     "text": [
      "                                                                                \r"
     ]
    },
    {
     "data": {
      "text/plain": [
       "[(Row(id='0545', dlc='8', d0='d8', d1='00', d2='00', d3='8a', d4='00', d5='00', d6='00', d7='00'),\n",
       "  0),\n",
       " (Row(id='0002', dlc='8', d0='00', d1='00', d2='00', d3='00', d4='00', d5='01', d6='07', d7='15'),\n",
       "  1),\n",
       " (Row(id='0153', dlc='8', d0='00', d1='21', d2='10', d3='ff', d4='00', d5='ff', d6='00', d7='00'),\n",
       "  2),\n",
       " (Row(id='0130', dlc='8', d0='19', d1='80', d2='00', d3='ff', d4='fe', d5='7f', d6='07', d7='60'),\n",
       "  3),\n",
       " (Row(id='0131', dlc='8', d0='17', d1='80', d2='00', d3='00', d4='65', d5='7f', d6='07', d7='9f'),\n",
       "  4)]"
      ]
     },
     "execution_count": 11,
     "metadata": {},
     "output_type": "execute_result"
    }
   ],
   "source": [
    "fuzzy_data.rdd.zipWithIndex().take(5)"
   ]
  },
  {
   "cell_type": "code",
   "execution_count": 12,
   "id": "5c9957ac",
   "metadata": {},
   "outputs": [
    {
     "name": "stderr",
     "output_type": "stream",
     "text": [
      "                                                                                \r"
     ]
    },
    {
     "name": "stdout",
     "output_type": "stream",
     "text": [
      "+-----+----+---+---+---+---+---+---+---+---+---+\n",
      "|index|  id|dlc| d0| d1| d2| d3| d4| d5| d6| d7|\n",
      "+-----+----+---+---+---+---+---+---+---+---+---+\n",
      "|    0|0545|  8| d8| 00| 00| 8a| 00| 00| 00| 00|\n",
      "|    1|0002|  8| 00| 00| 00| 00| 00| 01| 07| 15|\n",
      "|    2|0153|  8| 00| 21| 10| ff| 00| ff| 00| 00|\n",
      "|    3|0130|  8| 19| 80| 00| ff| fe| 7f| 07| 60|\n",
      "|    4|0131|  8| 17| 80| 00| 00| 65| 7f| 07| 9f|\n",
      "+-----+----+---+---+---+---+---+---+---+---+---+\n",
      "only showing top 5 rows\n",
      "\n"
     ]
    }
   ],
   "source": [
    "header = ['index'] + fuzzy_data.columns\n",
    "fuzzy_data = fuzzy_data.rdd.zipWithIndex().map(lambda x: [x[1]] + list(x[0])).toDF(header)\n",
    "fuzzy_data.show(5)"
   ]
  },
  {
   "cell_type": "code",
   "execution_count": null,
   "id": "223c0c27",
   "metadata": {},
   "outputs": [],
   "source": []
  }
 ],
 "metadata": {
  "kernelspec": {
   "display_name": "Python 3 (ipykernel)",
   "language": "python",
   "name": "python3"
  },
  "language_info": {
   "codemirror_mode": {
    "name": "ipython",
    "version": 3
   },
   "file_extension": ".py",
   "mimetype": "text/x-python",
   "name": "python",
   "nbconvert_exporter": "python",
   "pygments_lexer": "ipython3",
   "version": "3.8.10"
  }
 },
 "nbformat": 4,
 "nbformat_minor": 5
}
