{
 "cells": [
  {
   "cell_type": "code",
   "execution_count": 1,
   "id": "9f244072-1ac6-41f2-a8c4-7dc6ece6f43c",
   "metadata": {},
   "outputs": [],
   "source": [
    "import os\n",
    "os.environ['TF_CPP_MIN_LOG_LEVEL'] = '3' \n",
    "# 0 = all messages are logged (default behavior)\n",
    "# 1 = INFO messages are not printed\n",
    "# 2 = INFO and WARNING messages are not printed\n",
    "# 3 = INFO, WARNING, and ERROR messages are not printed"
   ]
  },
  {
   "cell_type": "code",
   "execution_count": 2,
   "id": "ae00fe71",
   "metadata": {},
   "outputs": [],
   "source": [
    "import pandas as pd\n",
    "import numpy as np\n",
    "import tensorflow as tf\n",
    "tf.random.set_seed(0)"
   ]
  },
  {
   "cell_type": "markdown",
   "id": "b0b18261",
   "metadata": {},
   "source": [
    "### 1. Load data\n",
    "- set the load data row number\n",
    "- set colunms names\n",
    "- remove useless colunms"
   ]
  },
  {
   "cell_type": "code",
   "execution_count": 3,
   "id": "dda6bfd1",
   "metadata": {},
   "outputs": [],
   "source": [
    "row_num = 35000\n",
    "test_num= 4100"
   ]
  },
  {
   "cell_type": "code",
   "execution_count": 4,
   "id": "9602bee2",
   "metadata": {},
   "outputs": [],
   "source": [
    "dos_data = pd.read_csv(\"data/DoS_dataset.csv\",nrows=row_num,header=None)"
   ]
  },
  {
   "cell_type": "code",
   "execution_count": 5,
   "id": "6d815d41",
   "metadata": {},
   "outputs": [],
   "source": [
    "col_names = ['time_stamp','id', 'dlc','d0','d1','d2','d3','d4','d5','d6','d7','R']\n",
    "dos_data = dos_data.dropna()"
   ]
  },
  {
   "cell_type": "code",
   "execution_count": 6,
   "id": "dbcd0d96",
   "metadata": {},
   "outputs": [],
   "source": [
    "dos_data.columns = col_names"
   ]
  },
  {
   "cell_type": "code",
   "execution_count": 7,
   "id": "b0d3e56c",
   "metadata": {},
   "outputs": [
    {
     "data": {
      "text/html": [
       "<div>\n",
       "<style scoped>\n",
       "    .dataframe tbody tr th:only-of-type {\n",
       "        vertical-align: middle;\n",
       "    }\n",
       "\n",
       "    .dataframe tbody tr th {\n",
       "        vertical-align: top;\n",
       "    }\n",
       "\n",
       "    .dataframe thead th {\n",
       "        text-align: right;\n",
       "    }\n",
       "</style>\n",
       "<table border=\"1\" class=\"dataframe\">\n",
       "  <thead>\n",
       "    <tr style=\"text-align: right;\">\n",
       "      <th></th>\n",
       "      <th>time_stamp</th>\n",
       "      <th>id</th>\n",
       "      <th>dlc</th>\n",
       "      <th>d0</th>\n",
       "      <th>d1</th>\n",
       "      <th>d2</th>\n",
       "      <th>d3</th>\n",
       "      <th>d4</th>\n",
       "      <th>d5</th>\n",
       "      <th>d6</th>\n",
       "      <th>d7</th>\n",
       "      <th>R</th>\n",
       "    </tr>\n",
       "  </thead>\n",
       "  <tbody>\n",
       "    <tr>\n",
       "      <th>0</th>\n",
       "      <td>1.478198e+09</td>\n",
       "      <td>0316</td>\n",
       "      <td>8</td>\n",
       "      <td>05</td>\n",
       "      <td>21</td>\n",
       "      <td>68</td>\n",
       "      <td>09</td>\n",
       "      <td>21</td>\n",
       "      <td>21</td>\n",
       "      <td>00</td>\n",
       "      <td>6f</td>\n",
       "      <td>R</td>\n",
       "    </tr>\n",
       "    <tr>\n",
       "      <th>1</th>\n",
       "      <td>1.478198e+09</td>\n",
       "      <td>018f</td>\n",
       "      <td>8</td>\n",
       "      <td>fe</td>\n",
       "      <td>5b</td>\n",
       "      <td>00</td>\n",
       "      <td>00</td>\n",
       "      <td>00</td>\n",
       "      <td>3c</td>\n",
       "      <td>00</td>\n",
       "      <td>00</td>\n",
       "      <td>R</td>\n",
       "    </tr>\n",
       "    <tr>\n",
       "      <th>2</th>\n",
       "      <td>1.478198e+09</td>\n",
       "      <td>0260</td>\n",
       "      <td>8</td>\n",
       "      <td>19</td>\n",
       "      <td>21</td>\n",
       "      <td>22</td>\n",
       "      <td>30</td>\n",
       "      <td>08</td>\n",
       "      <td>8e</td>\n",
       "      <td>6d</td>\n",
       "      <td>3a</td>\n",
       "      <td>R</td>\n",
       "    </tr>\n",
       "    <tr>\n",
       "      <th>3</th>\n",
       "      <td>1.478198e+09</td>\n",
       "      <td>02a0</td>\n",
       "      <td>8</td>\n",
       "      <td>64</td>\n",
       "      <td>00</td>\n",
       "      <td>9a</td>\n",
       "      <td>1d</td>\n",
       "      <td>97</td>\n",
       "      <td>02</td>\n",
       "      <td>bd</td>\n",
       "      <td>00</td>\n",
       "      <td>R</td>\n",
       "    </tr>\n",
       "    <tr>\n",
       "      <th>4</th>\n",
       "      <td>1.478198e+09</td>\n",
       "      <td>0329</td>\n",
       "      <td>8</td>\n",
       "      <td>40</td>\n",
       "      <td>bb</td>\n",
       "      <td>7f</td>\n",
       "      <td>14</td>\n",
       "      <td>11</td>\n",
       "      <td>20</td>\n",
       "      <td>00</td>\n",
       "      <td>14</td>\n",
       "      <td>R</td>\n",
       "    </tr>\n",
       "  </tbody>\n",
       "</table>\n",
       "</div>"
      ],
      "text/plain": [
       "     time_stamp    id  dlc  d0  d1  d2  d3  d4  d5  d6  d7  R\n",
       "0  1.478198e+09  0316    8  05  21  68  09  21  21  00  6f  R\n",
       "1  1.478198e+09  018f    8  fe  5b  00  00  00  3c  00  00  R\n",
       "2  1.478198e+09  0260    8  19  21  22  30  08  8e  6d  3a  R\n",
       "3  1.478198e+09  02a0    8  64  00  9a  1d  97  02  bd  00  R\n",
       "4  1.478198e+09  0329    8  40  bb  7f  14  11  20  00  14  R"
      ]
     },
     "execution_count": 7,
     "metadata": {},
     "output_type": "execute_result"
    }
   ],
   "source": [
    "dos_data.head()"
   ]
  },
  {
   "cell_type": "code",
   "execution_count": 8,
   "id": "a1c71b7f",
   "metadata": {},
   "outputs": [
    {
     "data": {
      "text/html": [
       "<div>\n",
       "<style scoped>\n",
       "    .dataframe tbody tr th:only-of-type {\n",
       "        vertical-align: middle;\n",
       "    }\n",
       "\n",
       "    .dataframe tbody tr th {\n",
       "        vertical-align: top;\n",
       "    }\n",
       "\n",
       "    .dataframe thead th {\n",
       "        text-align: right;\n",
       "    }\n",
       "</style>\n",
       "<table border=\"1\" class=\"dataframe\">\n",
       "  <thead>\n",
       "    <tr style=\"text-align: right;\">\n",
       "      <th></th>\n",
       "      <th>time_stamp</th>\n",
       "      <th>id</th>\n",
       "      <th>dlc</th>\n",
       "      <th>d0</th>\n",
       "      <th>d1</th>\n",
       "      <th>d2</th>\n",
       "      <th>d3</th>\n",
       "      <th>d4</th>\n",
       "      <th>d5</th>\n",
       "      <th>d6</th>\n",
       "      <th>d7</th>\n",
       "      <th>R</th>\n",
       "    </tr>\n",
       "  </thead>\n",
       "  <tbody>\n",
       "    <tr>\n",
       "      <th>34995</th>\n",
       "      <td>1.478198e+09</td>\n",
       "      <td>02c0</td>\n",
       "      <td>8</td>\n",
       "      <td>14</td>\n",
       "      <td>00</td>\n",
       "      <td>00</td>\n",
       "      <td>00</td>\n",
       "      <td>00</td>\n",
       "      <td>00</td>\n",
       "      <td>00</td>\n",
       "      <td>00</td>\n",
       "      <td>R</td>\n",
       "    </tr>\n",
       "    <tr>\n",
       "      <th>34996</th>\n",
       "      <td>1.478198e+09</td>\n",
       "      <td>0350</td>\n",
       "      <td>8</td>\n",
       "      <td>05</td>\n",
       "      <td>20</td>\n",
       "      <td>64</td>\n",
       "      <td>68</td>\n",
       "      <td>77</td>\n",
       "      <td>00</td>\n",
       "      <td>00</td>\n",
       "      <td>5e</td>\n",
       "      <td>R</td>\n",
       "    </tr>\n",
       "    <tr>\n",
       "      <th>34997</th>\n",
       "      <td>1.478198e+09</td>\n",
       "      <td>0002</td>\n",
       "      <td>8</td>\n",
       "      <td>00</td>\n",
       "      <td>00</td>\n",
       "      <td>00</td>\n",
       "      <td>00</td>\n",
       "      <td>00</td>\n",
       "      <td>03</td>\n",
       "      <td>0f</td>\n",
       "      <td>65</td>\n",
       "      <td>R</td>\n",
       "    </tr>\n",
       "    <tr>\n",
       "      <th>34998</th>\n",
       "      <td>1.478198e+09</td>\n",
       "      <td>0153</td>\n",
       "      <td>8</td>\n",
       "      <td>00</td>\n",
       "      <td>21</td>\n",
       "      <td>10</td>\n",
       "      <td>ff</td>\n",
       "      <td>00</td>\n",
       "      <td>ff</td>\n",
       "      <td>00</td>\n",
       "      <td>00</td>\n",
       "      <td>R</td>\n",
       "    </tr>\n",
       "    <tr>\n",
       "      <th>34999</th>\n",
       "      <td>1.478198e+09</td>\n",
       "      <td>0130</td>\n",
       "      <td>8</td>\n",
       "      <td>27</td>\n",
       "      <td>80</td>\n",
       "      <td>00</td>\n",
       "      <td>ff</td>\n",
       "      <td>e7</td>\n",
       "      <td>7f</td>\n",
       "      <td>0f</td>\n",
       "      <td>c4</td>\n",
       "      <td>R</td>\n",
       "    </tr>\n",
       "  </tbody>\n",
       "</table>\n",
       "</div>"
      ],
      "text/plain": [
       "         time_stamp    id  dlc  d0  d1  d2  d3  d4  d5  d6  d7  R\n",
       "34995  1.478198e+09  02c0    8  14  00  00  00  00  00  00  00  R\n",
       "34996  1.478198e+09  0350    8  05  20  64  68  77  00  00  5e  R\n",
       "34997  1.478198e+09  0002    8  00  00  00  00  00  03  0f  65  R\n",
       "34998  1.478198e+09  0153    8  00  21  10  ff  00  ff  00  00  R\n",
       "34999  1.478198e+09  0130    8  27  80  00  ff  e7  7f  0f  c4  R"
      ]
     },
     "execution_count": 8,
     "metadata": {},
     "output_type": "execute_result"
    }
   ],
   "source": [
    "dos_data.tail()"
   ]
  },
  {
   "cell_type": "markdown",
   "id": "e64588c7",
   "metadata": {},
   "source": [
    "We can remove the dlc and R colunms because they do not hold any useful information."
   ]
  },
  {
   "cell_type": "code",
   "execution_count": 9,
   "id": "21ace1ef",
   "metadata": {},
   "outputs": [],
   "source": [
    "dos_data = dos_data.drop(['time_stamp', 'dlc','R'], axis=1)"
   ]
  },
  {
   "cell_type": "code",
   "execution_count": 10,
   "id": "13a554ed-fc20-4ddd-baf6-96f57ac3dcaf",
   "metadata": {},
   "outputs": [],
   "source": [
    "# dos_data[1:30].values"
   ]
  },
  {
   "cell_type": "markdown",
   "id": "8dc5ef19",
   "metadata": {},
   "source": [
    "### 2. Create features\n",
    "convert consequtive records into matrix freature according to [paper](https://www.sciencedirect.com/science/article/abs/pii/S2214209619302451)\n",
    "\n",
    "Note: we use integer instead of binary in this notebook"
   ]
  },
  {
   "cell_type": "code",
   "execution_count": 11,
   "id": "62a65cb9",
   "metadata": {},
   "outputs": [],
   "source": [
    "def create_feature(data_frame,label,n=30,m=9):\n",
    "    feature_list = []\n",
    "    nrow = data_frame.shape[0]\n",
    "    for col  in dos_data.columns:\n",
    "        data_frame[col] = data_frame[col].apply(int, base=16)\n",
    "    for i in range(0,nrow,n):\n",
    "        if nrow >=  i+n:\n",
    "            tem_file = data_frame.iloc[i:i+n,:].values\n",
    "            feature_list.append(tem_file)\n",
    "    feature_df = pd.DataFrame(data={\"features\":feature_list,\"label\":[label]*len(feature_list)})\n",
    "    return feature_df"
   ]
  },
  {
   "cell_type": "code",
   "execution_count": 12,
   "id": "b6190c49",
   "metadata": {},
   "outputs": [],
   "source": [
    "dos_feature_df = create_feature(dos_data,\"dos\")    "
   ]
  },
  {
   "cell_type": "code",
   "execution_count": 13,
   "id": "86809609-37e8-417e-a03c-cc7936b669b5",
   "metadata": {},
   "outputs": [
    {
     "data": {
      "text/plain": [
       "(1157, 2)"
      ]
     },
     "execution_count": 13,
     "metadata": {},
     "output_type": "execute_result"
    }
   ],
   "source": [
    "dos_feature_df.shape"
   ]
  },
  {
   "cell_type": "code",
   "execution_count": 14,
   "id": "f38e0059-4656-44f5-90eb-4feeff63ee87",
   "metadata": {},
   "outputs": [
    {
     "data": {
      "text/plain": [
       "2"
      ]
     },
     "execution_count": 14,
     "metadata": {},
     "output_type": "execute_result"
    }
   ],
   "source": [
    "dos_feature_df.shape[1]"
   ]
  },
  {
   "cell_type": "code",
   "execution_count": 15,
   "id": "5b3aa79e",
   "metadata": {},
   "outputs": [
    {
     "data": {
      "text/html": [
       "<div>\n",
       "<style scoped>\n",
       "    .dataframe tbody tr th:only-of-type {\n",
       "        vertical-align: middle;\n",
       "    }\n",
       "\n",
       "    .dataframe tbody tr th {\n",
       "        vertical-align: top;\n",
       "    }\n",
       "\n",
       "    .dataframe thead th {\n",
       "        text-align: right;\n",
       "    }\n",
       "</style>\n",
       "<table border=\"1\" class=\"dataframe\">\n",
       "  <thead>\n",
       "    <tr style=\"text-align: right;\">\n",
       "      <th></th>\n",
       "      <th>features</th>\n",
       "      <th>label</th>\n",
       "    </tr>\n",
       "  </thead>\n",
       "  <tbody>\n",
       "    <tr>\n",
       "      <th>0</th>\n",
       "      <td>[[790, 5, 33, 104, 9, 33, 33, 0, 111], [399, 2...</td>\n",
       "      <td>dos</td>\n",
       "    </tr>\n",
       "    <tr>\n",
       "      <th>1</th>\n",
       "      <td>[[304, 11, 128, 0, 255, 69, 128, 12, 133], [30...</td>\n",
       "      <td>dos</td>\n",
       "    </tr>\n",
       "    <tr>\n",
       "      <th>2</th>\n",
       "      <td>[[1349, 216, 0, 0, 136, 0, 0, 0, 0], [1072, 0,...</td>\n",
       "      <td>dos</td>\n",
       "    </tr>\n",
       "    <tr>\n",
       "      <th>3</th>\n",
       "      <td>[[790, 5, 34, 96, 9, 34, 33, 0, 111], [399, 25...</td>\n",
       "      <td>dos</td>\n",
       "    </tr>\n",
       "    <tr>\n",
       "      <th>4</th>\n",
       "      <td>[[304, 24, 128, 0, 255, 14, 128, 1, 186], [305...</td>\n",
       "      <td>dos</td>\n",
       "    </tr>\n",
       "  </tbody>\n",
       "</table>\n",
       "</div>"
      ],
      "text/plain": [
       "                                            features label\n",
       "0  [[790, 5, 33, 104, 9, 33, 33, 0, 111], [399, 2...   dos\n",
       "1  [[304, 11, 128, 0, 255, 69, 128, 12, 133], [30...   dos\n",
       "2  [[1349, 216, 0, 0, 136, 0, 0, 0, 0], [1072, 0,...   dos\n",
       "3  [[790, 5, 34, 96, 9, 34, 33, 0, 111], [399, 25...   dos\n",
       "4  [[304, 24, 128, 0, 255, 14, 128, 1, 186], [305...   dos"
      ]
     },
     "execution_count": 15,
     "metadata": {},
     "output_type": "execute_result"
    }
   ],
   "source": [
    "dos_feature_df.head()"
   ]
  },
  {
   "cell_type": "code",
   "execution_count": 16,
   "id": "76b1f306",
   "metadata": {},
   "outputs": [],
   "source": [
    "from PIL import Image\n",
    "from IPython.display import display"
   ]
  },
  {
   "cell_type": "code",
   "execution_count": 17,
   "id": "e22b6748",
   "metadata": {},
   "outputs": [
    {
     "data": {
      "image/png": "[encoded data removed]",
      "text/plain": [
       "<PIL.Image.Image image mode=L size=9x30 at 0x7F1E96C97AC0>"
      ]
     },
     "metadata": {},
     "output_type": "display_data"
    }
   ],
   "source": [
    "img = Image.fromarray(dos_feature_df.features[0], 'L')\n",
    "display(img)"
   ]
  },
  {
   "cell_type": "markdown",
   "id": "6444f43b",
   "metadata": {},
   "source": [
    "### 3. Repeat the above operations on the rest of dataset"
   ]
  },
  {
   "cell_type": "code",
   "execution_count": 18,
   "id": "49150869",
   "metadata": {},
   "outputs": [
    {
     "data": {
      "text/html": [
       "<div>\n",
       "<style scoped>\n",
       "    .dataframe tbody tr th:only-of-type {\n",
       "        vertical-align: middle;\n",
       "    }\n",
       "\n",
       "    .dataframe tbody tr th {\n",
       "        vertical-align: top;\n",
       "    }\n",
       "\n",
       "    .dataframe thead th {\n",
       "        text-align: right;\n",
       "    }\n",
       "</style>\n",
       "<table border=\"1\" class=\"dataframe\">\n",
       "  <thead>\n",
       "    <tr style=\"text-align: right;\">\n",
       "      <th></th>\n",
       "      <th>features</th>\n",
       "      <th>label</th>\n",
       "    </tr>\n",
       "  </thead>\n",
       "  <tbody>\n",
       "    <tr>\n",
       "      <th>0</th>\n",
       "      <td>[[1349, 216, 0, 0, 138, 0, 0, 0, 0], [2, 0, 0,...</td>\n",
       "      <td>fuzzy</td>\n",
       "    </tr>\n",
       "    <tr>\n",
       "      <th>1</th>\n",
       "      <td>[[880, 0, 32, 0, 0, 0, 0, 0, 0], [1087, 16, 64...</td>\n",
       "      <td>fuzzy</td>\n",
       "    </tr>\n",
       "    <tr>\n",
       "      <th>2</th>\n",
       "      <td>[[339, 0, 33, 16, 255, 0, 255, 0, 0], [2, 0, 0...</td>\n",
       "      <td>fuzzy</td>\n",
       "    </tr>\n",
       "    <tr>\n",
       "      <th>3</th>\n",
       "      <td>[[672, 4, 0, 153, 29, 151, 2, 189, 0], [809, 6...</td>\n",
       "      <td>fuzzy</td>\n",
       "    </tr>\n",
       "    <tr>\n",
       "      <th>4</th>\n",
       "      <td>[[1087, 16, 64, 96, 255, 125, 136, 9, 0], [108...</td>\n",
       "      <td>fuzzy</td>\n",
       "    </tr>\n",
       "  </tbody>\n",
       "</table>\n",
       "</div>"
      ],
      "text/plain": [
       "                                            features  label\n",
       "0  [[1349, 216, 0, 0, 138, 0, 0, 0, 0], [2, 0, 0,...  fuzzy\n",
       "1  [[880, 0, 32, 0, 0, 0, 0, 0, 0], [1087, 16, 64...  fuzzy\n",
       "2  [[339, 0, 33, 16, 255, 0, 255, 0, 0], [2, 0, 0...  fuzzy\n",
       "3  [[672, 4, 0, 153, 29, 151, 2, 189, 0], [809, 6...  fuzzy\n",
       "4  [[1087, 16, 64, 96, 255, 125, 136, 9, 0], [108...  fuzzy"
      ]
     },
     "execution_count": 18,
     "metadata": {},
     "output_type": "execute_result"
    }
   ],
   "source": [
    "fuzzy_data = pd.read_csv(\"data/Fuzzy_dataset.csv\",nrows=row_num,sep=',',header=None)\n",
    "fuzzy_data.columns = col_names\n",
    "fuzzy_data = fuzzy_data.dropna()\n",
    "fuzzy_data = fuzzy_data.drop(['time_stamp', 'dlc','R'], axis=1)\n",
    "fuzzy_feature_df = create_feature(fuzzy_data,\"fuzzy\")\n",
    "fuzzy_feature_df.head()"
   ]
  },
  {
   "cell_type": "code",
   "execution_count": 19,
   "id": "526f62cb",
   "metadata": {},
   "outputs": [
    {
     "data": {
      "text/html": [
       "<div>\n",
       "<style scoped>\n",
       "    .dataframe tbody tr th:only-of-type {\n",
       "        vertical-align: middle;\n",
       "    }\n",
       "\n",
       "    .dataframe tbody tr th {\n",
       "        vertical-align: top;\n",
       "    }\n",
       "\n",
       "    .dataframe thead th {\n",
       "        text-align: right;\n",
       "    }\n",
       "</style>\n",
       "<table border=\"1\" class=\"dataframe\">\n",
       "  <thead>\n",
       "    <tr style=\"text-align: right;\">\n",
       "      <th></th>\n",
       "      <th>features</th>\n",
       "      <th>label</th>\n",
       "    </tr>\n",
       "  </thead>\n",
       "  <tbody>\n",
       "    <tr>\n",
       "      <th>0</th>\n",
       "      <td>[[320, 0, 0, 0, 0, 16, 41, 42, 36], [704, 21, ...</td>\n",
       "      <td>gear</td>\n",
       "    </tr>\n",
       "    <tr>\n",
       "      <th>1</th>\n",
       "      <td>[[497, 8, 0, 0, 0, 0, 0, 0, 0], [339, 0, 33, 1...</td>\n",
       "      <td>gear</td>\n",
       "    </tr>\n",
       "    <tr>\n",
       "      <th>2</th>\n",
       "      <td>[[399, 254, 80, 0, 0, 0, 60, 0, 0], [608, 25, ...</td>\n",
       "      <td>gear</td>\n",
       "    </tr>\n",
       "    <tr>\n",
       "      <th>3</th>\n",
       "      <td>[[880, 0, 32, 0, 0, 0, 0, 0, 0], [848, 5, 32, ...</td>\n",
       "      <td>gear</td>\n",
       "    </tr>\n",
       "    <tr>\n",
       "      <th>4</th>\n",
       "      <td>[[339, 0, 33, 16, 255, 0, 255, 0, 0], [672, 96...</td>\n",
       "      <td>gear</td>\n",
       "    </tr>\n",
       "  </tbody>\n",
       "</table>\n",
       "</div>"
      ],
      "text/plain": [
       "                                            features label\n",
       "0  [[320, 0, 0, 0, 0, 16, 41, 42, 36], [704, 21, ...  gear\n",
       "1  [[497, 8, 0, 0, 0, 0, 0, 0, 0], [339, 0, 33, 1...  gear\n",
       "2  [[399, 254, 80, 0, 0, 0, 60, 0, 0], [608, 25, ...  gear\n",
       "3  [[880, 0, 32, 0, 0, 0, 0, 0, 0], [848, 5, 32, ...  gear\n",
       "4  [[339, 0, 33, 16, 255, 0, 255, 0, 0], [672, 96...  gear"
      ]
     },
     "execution_count": 19,
     "metadata": {},
     "output_type": "execute_result"
    }
   ],
   "source": [
    "gear_data = pd.read_csv(\"data/gear_dataset.csv\",nrows=row_num,sep=',',header=None)\n",
    "gear_data.columns = col_names\n",
    "gear_data = gear_data.dropna()\n",
    "gear_data = gear_data.drop(['time_stamp', 'dlc','R'], axis=1)\n",
    "gear_feature_df = create_feature(gear_data,\"gear\")\n",
    "gear_feature_df.head()\n"
   ]
  },
  {
   "cell_type": "code",
   "execution_count": 20,
   "id": "788fef33",
   "metadata": {},
   "outputs": [
    {
     "data": {
      "text/html": [
       "<div>\n",
       "<style scoped>\n",
       "    .dataframe tbody tr th:only-of-type {\n",
       "        vertical-align: middle;\n",
       "    }\n",
       "\n",
       "    .dataframe tbody tr th {\n",
       "        vertical-align: top;\n",
       "    }\n",
       "\n",
       "    .dataframe thead th {\n",
       "        text-align: right;\n",
       "    }\n",
       "</style>\n",
       "<table border=\"1\" class=\"dataframe\">\n",
       "  <thead>\n",
       "    <tr style=\"text-align: right;\">\n",
       "      <th></th>\n",
       "      <th>features</th>\n",
       "      <th>label</th>\n",
       "    </tr>\n",
       "  </thead>\n",
       "  <tbody>\n",
       "    <tr>\n",
       "      <th>0</th>\n",
       "      <td>[[790, 5, 34, 104, 9, 34, 32, 0, 117], [399, 2...</td>\n",
       "      <td>rpm</td>\n",
       "    </tr>\n",
       "    <tr>\n",
       "      <th>1</th>\n",
       "      <td>[[305, 251, 127, 0, 0, 56, 127, 10, 65], [320,...</td>\n",
       "      <td>rpm</td>\n",
       "    </tr>\n",
       "    <tr>\n",
       "      <th>2</th>\n",
       "      <td>[[704, 21, 0, 0, 0, 0, 0, 0, 0], [1072, 0, 0, ...</td>\n",
       "      <td>rpm</td>\n",
       "    </tr>\n",
       "    <tr>\n",
       "      <th>3</th>\n",
       "      <td>[[848, 5, 32, 132, 104, 115, 0, 0, 186], [790,...</td>\n",
       "      <td>rpm</td>\n",
       "    </tr>\n",
       "    <tr>\n",
       "      <th>4</th>\n",
       "      <td>[[304, 11, 128, 0, 255, 31, 128, 15, 213], [30...</td>\n",
       "      <td>rpm</td>\n",
       "    </tr>\n",
       "  </tbody>\n",
       "</table>\n",
       "</div>"
      ],
      "text/plain": [
       "                                            features label\n",
       "0  [[790, 5, 34, 104, 9, 34, 32, 0, 117], [399, 2...   rpm\n",
       "1  [[305, 251, 127, 0, 0, 56, 127, 10, 65], [320,...   rpm\n",
       "2  [[704, 21, 0, 0, 0, 0, 0, 0, 0], [1072, 0, 0, ...   rpm\n",
       "3  [[848, 5, 32, 132, 104, 115, 0, 0, 186], [790,...   rpm\n",
       "4  [[304, 11, 128, 0, 255, 31, 128, 15, 213], [30...   rpm"
      ]
     },
     "execution_count": 20,
     "metadata": {},
     "output_type": "execute_result"
    }
   ],
   "source": [
    "rpm_data = pd.read_csv(\"data/RPM_dataset.csv\",nrows=row_num,sep=',',header=None)\n",
    "rpm_data.columns = col_names\n",
    "rpm_data = rpm_data.dropna()\n",
    "rpm_data = rpm_data.drop(['time_stamp', 'dlc','R'], axis=1)\n",
    "rpm_feature_df = create_feature(rpm_data,\"rpm\")\n",
    "rpm_feature_df.head()\n"
   ]
  },
  {
   "cell_type": "markdown",
   "id": "01d29923",
   "metadata": {},
   "source": [
    "On linux run the follow code to coverte txt file format to csv file\n",
    "\n",
    "Orginal format:\n",
    "\n",
    "Timestamp: 1479121500.969313        ID: 0140    000    DLC: 8    00 00 00 00 1a 00 24 ee\n",
    "\n",
    "Expected format:\n",
    "\n",
    "1479121500.969313,0140,8,00,00,00,00,1a,00,24,ee\n",
    "\n",
    "\n",
    "- `sed -i 's/Timestamp: //g' normal_run_data.txt`\n",
    "- `sed -i 's/        ID: /,/g' normal_run_data.txt`\n",
    "- `sed -i 's/    000    DLC: /,/g' normal_run_data.txt`\n",
    "- `sed -i 's/    /,/g' normal_run_data.txt`"
   ]
  },
  {
   "cell_type": "code",
   "execution_count": 21,
   "id": "dcf83f0c",
   "metadata": {},
   "outputs": [
    {
     "data": {
      "text/html": [
       "<div>\n",
       "<style scoped>\n",
       "    .dataframe tbody tr th:only-of-type {\n",
       "        vertical-align: middle;\n",
       "    }\n",
       "\n",
       "    .dataframe tbody tr th {\n",
       "        vertical-align: top;\n",
       "    }\n",
       "\n",
       "    .dataframe thead th {\n",
       "        text-align: right;\n",
       "    }\n",
       "</style>\n",
       "<table border=\"1\" class=\"dataframe\">\n",
       "  <thead>\n",
       "    <tr style=\"text-align: right;\">\n",
       "      <th></th>\n",
       "      <th>features</th>\n",
       "      <th>label</th>\n",
       "    </tr>\n",
       "  </thead>\n",
       "  <tbody>\n",
       "    <tr>\n",
       "      <th>0</th>\n",
       "      <td>[[848, 5, 40, 132, 102, 109, 0, 0, 162], [704,...</td>\n",
       "      <td>norm</td>\n",
       "    </tr>\n",
       "    <tr>\n",
       "      <th>1</th>\n",
       "      <td>[[672, 0, 0, 107, 29, 1, 4, 221, 0], [809, 135...</td>\n",
       "      <td>norm</td>\n",
       "    </tr>\n",
       "    <tr>\n",
       "      <th>2</th>\n",
       "      <td>[[305, 242, 127, 0, 0, 48, 127, 3, 55], [320, ...</td>\n",
       "      <td>norm</td>\n",
       "    </tr>\n",
       "    <tr>\n",
       "      <th>3</th>\n",
       "      <td>[[1088, 255, 0, 0, 0, 255, 106, 8, 0], [704, 2...</td>\n",
       "      <td>norm</td>\n",
       "    </tr>\n",
       "    <tr>\n",
       "      <th>4</th>\n",
       "      <td>[[672, 32, 0, 107, 29, 1, 4, 221, 0], [790, 5,...</td>\n",
       "      <td>norm</td>\n",
       "    </tr>\n",
       "  </tbody>\n",
       "</table>\n",
       "</div>"
      ],
      "text/plain": [
       "                                            features label\n",
       "0  [[848, 5, 40, 132, 102, 109, 0, 0, 162], [704,...  norm\n",
       "1  [[672, 0, 0, 107, 29, 1, 4, 221, 0], [809, 135...  norm\n",
       "2  [[305, 242, 127, 0, 0, 48, 127, 3, 55], [320, ...  norm\n",
       "3  [[1088, 255, 0, 0, 0, 255, 106, 8, 0], [704, 2...  norm\n",
       "4  [[672, 32, 0, 107, 29, 1, 4, 221, 0], [790, 5,...  norm"
      ]
     },
     "execution_count": 21,
     "metadata": {},
     "output_type": "execute_result"
    }
   ],
   "source": [
    "norm_data = pd.read_csv(\"data/normal_run_data.txt\",nrows=row_num,sep=',',header=None)\n",
    "norm_data.columns = col_names[:11]\n",
    "norm_data = norm_data.dropna()\n",
    "norm_data = norm_data.drop(['time_stamp', 'dlc'], axis=1)\n",
    "norm_data_df = create_feature(norm_data,\"norm\")\n",
    "norm_data_df.head()"
   ]
  },
  {
   "cell_type": "markdown",
   "id": "6c3acef9",
   "metadata": {},
   "source": [
    "### 4. Combine the loaded datasets"
   ]
  },
  {
   "cell_type": "code",
   "execution_count": 22,
   "id": "d305481c",
   "metadata": {},
   "outputs": [
    {
     "data": {
      "text/html": [
       "<div>\n",
       "<style scoped>\n",
       "    .dataframe tbody tr th:only-of-type {\n",
       "        vertical-align: middle;\n",
       "    }\n",
       "\n",
       "    .dataframe tbody tr th {\n",
       "        vertical-align: top;\n",
       "    }\n",
       "\n",
       "    .dataframe thead th {\n",
       "        text-align: right;\n",
       "    }\n",
       "</style>\n",
       "<table border=\"1\" class=\"dataframe\">\n",
       "  <thead>\n",
       "    <tr style=\"text-align: right;\">\n",
       "      <th></th>\n",
       "      <th>features</th>\n",
       "      <th>label</th>\n",
       "    </tr>\n",
       "  </thead>\n",
       "  <tbody>\n",
       "    <tr>\n",
       "      <th>0</th>\n",
       "      <td>[[790, 5, 33, 104, 9, 33, 33, 0, 111], [399, 2...</td>\n",
       "      <td>dos</td>\n",
       "    </tr>\n",
       "    <tr>\n",
       "      <th>1</th>\n",
       "      <td>[[304, 11, 128, 0, 255, 69, 128, 12, 133], [30...</td>\n",
       "      <td>dos</td>\n",
       "    </tr>\n",
       "    <tr>\n",
       "      <th>2</th>\n",
       "      <td>[[1349, 216, 0, 0, 136, 0, 0, 0, 0], [1072, 0,...</td>\n",
       "      <td>dos</td>\n",
       "    </tr>\n",
       "    <tr>\n",
       "      <th>3</th>\n",
       "      <td>[[790, 5, 34, 96, 9, 34, 33, 0, 111], [399, 25...</td>\n",
       "      <td>dos</td>\n",
       "    </tr>\n",
       "    <tr>\n",
       "      <th>4</th>\n",
       "      <td>[[304, 24, 128, 0, 255, 14, 128, 1, 186], [305...</td>\n",
       "      <td>dos</td>\n",
       "    </tr>\n",
       "  </tbody>\n",
       "</table>\n",
       "</div>"
      ],
      "text/plain": [
       "                                            features label\n",
       "0  [[790, 5, 33, 104, 9, 33, 33, 0, 111], [399, 2...   dos\n",
       "1  [[304, 11, 128, 0, 255, 69, 128, 12, 133], [30...   dos\n",
       "2  [[1349, 216, 0, 0, 136, 0, 0, 0, 0], [1072, 0,...   dos\n",
       "3  [[790, 5, 34, 96, 9, 34, 33, 0, 111], [399, 25...   dos\n",
       "4  [[304, 24, 128, 0, 255, 14, 128, 1, 186], [305...   dos"
      ]
     },
     "execution_count": 22,
     "metadata": {},
     "output_type": "execute_result"
    }
   ],
   "source": [
    "final_data = pd.concat([dos_feature_df,fuzzy_feature_df,gear_feature_df,rpm_feature_df,norm_data_df],ignore_index = True)\n",
    "final_data.head()"
   ]
  },
  {
   "cell_type": "code",
   "execution_count": 23,
   "id": "f0194192",
   "metadata": {},
   "outputs": [
    {
     "data": {
      "text/html": [
       "<div>\n",
       "<style scoped>\n",
       "    .dataframe tbody tr th:only-of-type {\n",
       "        vertical-align: middle;\n",
       "    }\n",
       "\n",
       "    .dataframe tbody tr th {\n",
       "        vertical-align: top;\n",
       "    }\n",
       "\n",
       "    .dataframe thead th {\n",
       "        text-align: right;\n",
       "    }\n",
       "</style>\n",
       "<table border=\"1\" class=\"dataframe\">\n",
       "  <thead>\n",
       "    <tr style=\"text-align: right;\">\n",
       "      <th></th>\n",
       "      <th>features</th>\n",
       "      <th>label</th>\n",
       "    </tr>\n",
       "  </thead>\n",
       "  <tbody>\n",
       "    <tr>\n",
       "      <th>5661</th>\n",
       "      <td>[[339, 0, 0, 0, 255, 0, 255, 0, 0], [2, 0, 0, ...</td>\n",
       "      <td>norm</td>\n",
       "    </tr>\n",
       "    <tr>\n",
       "      <th>5662</th>\n",
       "      <td>[[672, 64, 0, 107, 29, 1, 4, 221, 0], [809, 64...</td>\n",
       "      <td>norm</td>\n",
       "    </tr>\n",
       "    <tr>\n",
       "      <th>5663</th>\n",
       "      <td>[[1264, 0, 27, 0, 128, 0, 79, 3, 20], [704, 20...</td>\n",
       "      <td>norm</td>\n",
       "    </tr>\n",
       "    <tr>\n",
       "      <th>5664</th>\n",
       "      <td>[[1349, 216, 180, 0, 142, 0, 0, 0, 0], [2, 0, ...</td>\n",
       "      <td>norm</td>\n",
       "    </tr>\n",
       "    <tr>\n",
       "      <th>5665</th>\n",
       "      <td>[[399, 254, 52, 0, 0, 0, 98, 0, 0], [608, 25, ...</td>\n",
       "      <td>norm</td>\n",
       "    </tr>\n",
       "  </tbody>\n",
       "</table>\n",
       "</div>"
      ],
      "text/plain": [
       "                                               features label\n",
       "5661  [[339, 0, 0, 0, 255, 0, 255, 0, 0], [2, 0, 0, ...  norm\n",
       "5662  [[672, 64, 0, 107, 29, 1, 4, 221, 0], [809, 64...  norm\n",
       "5663  [[1264, 0, 27, 0, 128, 0, 79, 3, 20], [704, 20...  norm\n",
       "5664  [[1349, 216, 180, 0, 142, 0, 0, 0, 0], [2, 0, ...  norm\n",
       "5665  [[399, 254, 52, 0, 0, 0, 98, 0, 0], [608, 25, ...  norm"
      ]
     },
     "execution_count": 23,
     "metadata": {},
     "output_type": "execute_result"
    }
   ],
   "source": [
    "final_data.tail()"
   ]
  },
  {
   "cell_type": "code",
   "execution_count": 24,
   "id": "17026d60",
   "metadata": {},
   "outputs": [],
   "source": [
    "from sklearn.utils import shuffle"
   ]
  },
  {
   "cell_type": "code",
   "execution_count": 25,
   "id": "f15b965f",
   "metadata": {},
   "outputs": [
    {
     "data": {
      "text/html": [
       "<div>\n",
       "<style scoped>\n",
       "    .dataframe tbody tr th:only-of-type {\n",
       "        vertical-align: middle;\n",
       "    }\n",
       "\n",
       "    .dataframe tbody tr th {\n",
       "        vertical-align: top;\n",
       "    }\n",
       "\n",
       "    .dataframe thead th {\n",
       "        text-align: right;\n",
       "    }\n",
       "</style>\n",
       "<table border=\"1\" class=\"dataframe\">\n",
       "  <thead>\n",
       "    <tr style=\"text-align: right;\">\n",
       "      <th></th>\n",
       "      <th>features</th>\n",
       "      <th>label</th>\n",
       "    </tr>\n",
       "  </thead>\n",
       "  <tbody>\n",
       "    <tr>\n",
       "      <th>5297</th>\n",
       "      <td>[[304, 218, 137, 0, 255, 21, 129, 4, 142], [30...</td>\n",
       "      <td>norm</td>\n",
       "    </tr>\n",
       "    <tr>\n",
       "      <th>37</th>\n",
       "      <td>[[305, 27, 128, 0, 0, 75, 127, 7, 29], [320, 0...</td>\n",
       "      <td>dos</td>\n",
       "    </tr>\n",
       "    <tr>\n",
       "      <th>1877</th>\n",
       "      <td>[[399, 254, 89, 0, 0, 0, 60, 0, 0], [1939, 117...</td>\n",
       "      <td>fuzzy</td>\n",
       "    </tr>\n",
       "    <tr>\n",
       "      <th>740</th>\n",
       "      <td>[[305, 238, 127, 0, 0, 76, 127, 2, 106], [320,...</td>\n",
       "      <td>dos</td>\n",
       "    </tr>\n",
       "    <tr>\n",
       "      <th>51</th>\n",
       "      <td>[[608, 25, 33, 33, 48, 8, 142, 108, 26], [0, 0...</td>\n",
       "      <td>dos</td>\n",
       "    </tr>\n",
       "  </tbody>\n",
       "</table>\n",
       "</div>"
      ],
      "text/plain": [
       "                                               features  label\n",
       "5297  [[304, 218, 137, 0, 255, 21, 129, 4, 142], [30...   norm\n",
       "37    [[305, 27, 128, 0, 0, 75, 127, 7, 29], [320, 0...    dos\n",
       "1877  [[399, 254, 89, 0, 0, 0, 60, 0, 0], [1939, 117...  fuzzy\n",
       "740   [[305, 238, 127, 0, 0, 76, 127, 2, 106], [320,...    dos\n",
       "51    [[608, 25, 33, 33, 48, 8, 142, 108, 26], [0, 0...    dos"
      ]
     },
     "execution_count": 25,
     "metadata": {},
     "output_type": "execute_result"
    }
   ],
   "source": [
    "final_data = shuffle(final_data)\n",
    "final_data.head()"
   ]
  },
  {
   "cell_type": "code",
   "execution_count": 26,
   "id": "128cc70c-f959-4f47-b1d6-145645c9815c",
   "metadata": {},
   "outputs": [],
   "source": [
    "from sklearn.preprocessing import LabelBinarizer\n",
    "encoder = LabelBinarizer()\n",
    "transfomed_label = encoder.fit_transform(final_data.label)"
   ]
  },
  {
   "cell_type": "code",
   "execution_count": 27,
   "id": "07c066be-da25-4c64-85fe-ae68890a9469",
   "metadata": {},
   "outputs": [],
   "source": [
    "# transfomed_label = transfomed_label.astype(np.float32)"
   ]
  },
  {
   "cell_type": "code",
   "execution_count": 28,
   "id": "45180b74-8795-437d-8b9a-20a1e76ce942",
   "metadata": {},
   "outputs": [
    {
     "data": {
      "text/plain": [
       "(30, 9)"
      ]
     },
     "execution_count": 28,
     "metadata": {},
     "output_type": "execute_result"
    }
   ],
   "source": [
    "a = dos_feature_df.features[0]\n",
    "a.shape"
   ]
  },
  {
   "cell_type": "code",
   "execution_count": 29,
   "id": "56f0bbbc",
   "metadata": {},
   "outputs": [],
   "source": [
    "from tensorflow.keras.layers import Input,Conv1D,Dropout,MaxPooling1D,Flatten,Dense\n",
    "from tensorflow.keras.models import Sequential\n",
    "from tensorflow.keras.layers import concatenate"
   ]
  },
  {
   "cell_type": "code",
   "execution_count": 30,
   "id": "5594acce-1491-4df9-aae1-da72b2bb68fc",
   "metadata": {},
   "outputs": [],
   "source": [
    "n_time_steps = 30\n",
    "n_features = 9\n",
    "n_epoch = 150"
   ]
  },
  {
   "cell_type": "code",
   "execution_count": 31,
   "id": "79c9ed99-7d79-49c8-ae2a-665a764279fd",
   "metadata": {},
   "outputs": [
    {
     "data": {
      "text/plain": [
       "(9, 30)"
      ]
     },
     "execution_count": 31,
     "metadata": {},
     "output_type": "execute_result"
    }
   ],
   "source": [
    "(n_features,n_time_steps)"
   ]
  },
  {
   "cell_type": "code",
   "execution_count": 59,
   "id": "71998f74-c8a0-4926-9068-57b91f2a977b",
   "metadata": {},
   "outputs": [],
   "source": [
    "model = Sequential([\n",
    "# Input((n_time_steps,9)),\n",
    "Conv1D(input_shape=(n_time_steps,n_features),filters=8, kernel_size=3,activation='relu'),\n",
    "Conv1D(filters=16, kernel_size=3,activation='relu'),\n",
    "# Conv1D(filters=32, kernel_size=3,activation='relu'),\n",
    "MaxPooling1D(pool_size=16),\n",
    "\n",
    "Flatten(),\n",
    "Dense(8, activation='relu'),\n",
    "#   tf.keras.layers.Dense(4, activation='relu'),\n",
    "# Dropout(0.2),\n",
    "Dense(5, activation='softmax')\n",
    "])\n",
    "\n",
    "\n",
    "model.compile(optimizer='adam',\n",
    "\n",
    "          loss='categorical_crossentropy',\n",
    "\n",
    "          metrics=['categorical_accuracy'])"
   ]
  },
  {
   "cell_type": "code",
   "execution_count": 60,
   "id": "d0987eab-961a-4d22-8d36-431580770dde",
   "metadata": {},
   "outputs": [
    {
     "name": "stdout",
     "output_type": "stream",
     "text": [
      "Model: \"sequential_3\"\n",
      "_________________________________________________________________\n",
      "Layer (type)                 Output Shape              Param #   \n",
      "=================================================================\n",
      "conv1d_6 (Conv1D)            (None, 28, 8)             224       \n",
      "_________________________________________________________________\n",
      "conv1d_7 (Conv1D)            (None, 26, 16)            400       \n",
      "_________________________________________________________________\n",
      "max_pooling1d_3 (MaxPooling1 (None, 1, 16)             0         \n",
      "_________________________________________________________________\n",
      "flatten_3 (Flatten)          (None, 16)                0         \n",
      "_________________________________________________________________\n",
      "dense_6 (Dense)              (None, 8)                 136       \n",
      "_________________________________________________________________\n",
      "dense_7 (Dense)              (None, 5)                 45        \n",
      "=================================================================\n",
      "Total params: 805\n",
      "Trainable params: 805\n",
      "Non-trainable params: 0\n",
      "_________________________________________________________________\n"
     ]
    }
   ],
   "source": [
    "model.summary()"
   ]
  },
  {
   "cell_type": "code",
   "execution_count": 61,
   "id": "4d3f20d6-ffa4-49e7-949b-bf0903ed9968",
   "metadata": {},
   "outputs": [],
   "source": [
    "features = np.concatenate(final_data.features.values)\n",
    "features = features.reshape(-1,n_time_steps,n_features)"
   ]
  },
  {
   "cell_type": "code",
   "execution_count": 62,
   "id": "9ac0e077-55ec-4891-98e0-cb2f4e0aab46",
   "metadata": {},
   "outputs": [
    {
     "data": {
      "text/plain": [
       "(5666, 30, 9)"
      ]
     },
     "execution_count": 62,
     "metadata": {},
     "output_type": "execute_result"
    }
   ],
   "source": [
    "features.shape"
   ]
  },
  {
   "cell_type": "code",
   "execution_count": 63,
   "id": "cafe2a3c-8b64-4368-ae40-797d7bf5b47b",
   "metadata": {},
   "outputs": [
    {
     "name": "stdout",
     "output_type": "stream",
     "text": [
      "Epoch 1/150\n",
      "65/65 [==============================] - 1s 4ms/step - loss: 70.7580 - categorical_accuracy: 0.2532 - val_loss: 22.2176 - val_categorical_accuracy: 0.2497\n",
      "Epoch 2/150\n",
      "65/65 [==============================] - 0s 3ms/step - loss: 14.9190 - categorical_accuracy: 0.3463 - val_loss: 11.3879 - val_categorical_accuracy: 0.4227\n",
      "Epoch 3/150\n",
      "65/65 [==============================] - 0s 3ms/step - loss: 9.9306 - categorical_accuracy: 0.4293 - val_loss: 8.7466 - val_categorical_accuracy: 0.4432\n",
      "Epoch 4/150\n",
      "65/65 [==============================] - 0s 3ms/step - loss: 7.3813 - categorical_accuracy: 0.4620 - val_loss: 7.3118 - val_categorical_accuracy: 0.4649\n",
      "Epoch 5/150\n",
      "65/65 [==============================] - 0s 3ms/step - loss: 5.8560 - categorical_accuracy: 0.5098 - val_loss: 5.2575 - val_categorical_accuracy: 0.5134\n",
      "Epoch 6/150\n",
      "65/65 [==============================] - 0s 3ms/step - loss: 4.7949 - categorical_accuracy: 0.5485 - val_loss: 4.1827 - val_categorical_accuracy: 0.5670\n",
      "Epoch 7/150\n",
      "65/65 [==============================] - 0s 3ms/step - loss: 4.1398 - categorical_accuracy: 0.5698 - val_loss: 3.5385 - val_categorical_accuracy: 0.5964\n",
      "Epoch 8/150\n",
      "65/65 [==============================] - 0s 3ms/step - loss: 3.5371 - categorical_accuracy: 0.5966 - val_loss: 3.2424 - val_categorical_accuracy: 0.6047\n",
      "Epoch 9/150\n",
      "65/65 [==============================] - 0s 3ms/step - loss: 3.0414 - categorical_accuracy: 0.6200 - val_loss: 2.7457 - val_categorical_accuracy: 0.6315\n",
      "Epoch 10/150\n",
      "65/65 [==============================] - 0s 3ms/step - loss: 2.6564 - categorical_accuracy: 0.6407 - val_loss: 2.4599 - val_categorical_accuracy: 0.6571\n",
      "Epoch 11/150\n",
      "65/65 [==============================] - 0s 3ms/step - loss: 2.4438 - categorical_accuracy: 0.6546 - val_loss: 2.2336 - val_categorical_accuracy: 0.6667\n",
      "Epoch 12/150\n",
      "65/65 [==============================] - 0s 3ms/step - loss: 2.1859 - categorical_accuracy: 0.6729 - val_loss: 2.0223 - val_categorical_accuracy: 0.6871\n",
      "Epoch 13/150\n",
      "65/65 [==============================] - 0s 2ms/step - loss: 1.9439 - categorical_accuracy: 0.6883 - val_loss: 1.9158 - val_categorical_accuracy: 0.6903\n",
      "Epoch 14/150\n",
      "65/65 [==============================] - 0s 2ms/step - loss: 1.7550 - categorical_accuracy: 0.6929 - val_loss: 1.7053 - val_categorical_accuracy: 0.7095\n",
      "Epoch 15/150\n",
      "65/65 [==============================] - 0s 3ms/step - loss: 1.6061 - categorical_accuracy: 0.7102 - val_loss: 1.6081 - val_categorical_accuracy: 0.7075\n",
      "Epoch 16/150\n",
      "65/65 [==============================] - 0s 4ms/step - loss: 1.4698 - categorical_accuracy: 0.7156 - val_loss: 1.5053 - val_categorical_accuracy: 0.7197\n",
      "Epoch 17/150\n",
      "65/65 [==============================] - 0s 4ms/step - loss: 1.3806 - categorical_accuracy: 0.7220 - val_loss: 1.3955 - val_categorical_accuracy: 0.7190\n",
      "Epoch 18/150\n",
      "65/65 [==============================] - 0s 3ms/step - loss: 1.2673 - categorical_accuracy: 0.7324 - val_loss: 1.3446 - val_categorical_accuracy: 0.7248\n",
      "Epoch 19/150\n",
      "65/65 [==============================] - 0s 3ms/step - loss: 1.1915 - categorical_accuracy: 0.7351 - val_loss: 1.2869 - val_categorical_accuracy: 0.7254\n",
      "Epoch 20/150\n",
      "65/65 [==============================] - 0s 4ms/step - loss: 1.1870 - categorical_accuracy: 0.7393 - val_loss: 1.2454 - val_categorical_accuracy: 0.7324\n",
      "Epoch 21/150\n",
      "65/65 [==============================] - 0s 4ms/step - loss: 1.1223 - categorical_accuracy: 0.7407 - val_loss: 1.3305 - val_categorical_accuracy: 0.7395\n",
      "Epoch 22/150\n",
      "65/65 [==============================] - 0s 4ms/step - loss: 1.0867 - categorical_accuracy: 0.7537 - val_loss: 1.1394 - val_categorical_accuracy: 0.7490\n",
      "Epoch 23/150\n",
      "65/65 [==============================] - 0s 3ms/step - loss: 0.9537 - categorical_accuracy: 0.7610 - val_loss: 1.0968 - val_categorical_accuracy: 0.7395\n",
      "Epoch 24/150\n",
      "65/65 [==============================] - 0s 3ms/step - loss: 0.9545 - categorical_accuracy: 0.7600 - val_loss: 1.0456 - val_categorical_accuracy: 0.7478\n",
      "Epoch 25/150\n",
      "65/65 [==============================] - 0s 2ms/step - loss: 0.8821 - categorical_accuracy: 0.7656 - val_loss: 1.0957 - val_categorical_accuracy: 0.7478\n",
      "Epoch 26/150\n",
      "65/65 [==============================] - 0s 3ms/step - loss: 0.8531 - categorical_accuracy: 0.7683 - val_loss: 0.9535 - val_categorical_accuracy: 0.7720\n",
      "Epoch 27/150\n",
      "65/65 [==============================] - 0s 3ms/step - loss: 0.8053 - categorical_accuracy: 0.7727 - val_loss: 0.8710 - val_categorical_accuracy: 0.7784\n",
      "Epoch 28/150\n",
      "65/65 [==============================] - 0s 3ms/step - loss: 0.7549 - categorical_accuracy: 0.7812 - val_loss: 0.8717 - val_categorical_accuracy: 0.7720\n",
      "Epoch 29/150\n",
      "65/65 [==============================] - 0s 3ms/step - loss: 0.7173 - categorical_accuracy: 0.7905 - val_loss: 0.8235 - val_categorical_accuracy: 0.7867\n",
      "Epoch 30/150\n",
      "65/65 [==============================] - 0s 3ms/step - loss: 0.6757 - categorical_accuracy: 0.7890 - val_loss: 0.8710 - val_categorical_accuracy: 0.7829\n",
      "Epoch 31/150\n",
      "65/65 [==============================] - 0s 3ms/step - loss: 0.6482 - categorical_accuracy: 0.7934 - val_loss: 0.8421 - val_categorical_accuracy: 0.7803\n",
      "Epoch 32/150\n",
      "65/65 [==============================] - 0s 3ms/step - loss: 0.6700 - categorical_accuracy: 0.7939 - val_loss: 0.8629 - val_categorical_accuracy: 0.7784\n",
      "Epoch 33/150\n",
      "65/65 [==============================] - 0s 4ms/step - loss: 0.6104 - categorical_accuracy: 0.8046 - val_loss: 0.7502 - val_categorical_accuracy: 0.7957\n",
      "Epoch 34/150\n",
      "65/65 [==============================] - 0s 3ms/step - loss: 0.5821 - categorical_accuracy: 0.8088 - val_loss: 0.7754 - val_categorical_accuracy: 0.7918\n",
      "Epoch 35/150\n",
      "65/65 [==============================] - 0s 3ms/step - loss: 0.5579 - categorical_accuracy: 0.8120 - val_loss: 0.7412 - val_categorical_accuracy: 0.8001\n",
      "Epoch 36/150\n",
      "65/65 [==============================] - 0s 3ms/step - loss: 0.5406 - categorical_accuracy: 0.8159 - val_loss: 0.9129 - val_categorical_accuracy: 0.7810\n",
      "Epoch 37/150\n",
      "65/65 [==============================] - 0s 3ms/step - loss: 0.6048 - categorical_accuracy: 0.8137 - val_loss: 0.8668 - val_categorical_accuracy: 0.7822\n",
      "Epoch 38/150\n",
      "65/65 [==============================] - 0s 3ms/step - loss: 0.5230 - categorical_accuracy: 0.8244 - val_loss: 0.6840 - val_categorical_accuracy: 0.8065\n",
      "Epoch 39/150\n",
      "65/65 [==============================] - 0s 3ms/step - loss: 0.4984 - categorical_accuracy: 0.8259 - val_loss: 0.7192 - val_categorical_accuracy: 0.8123\n",
      "Epoch 40/150\n",
      "65/65 [==============================] - 0s 2ms/step - loss: 0.4817 - categorical_accuracy: 0.8332 - val_loss: 0.7152 - val_categorical_accuracy: 0.8103\n",
      "Epoch 41/150\n",
      "65/65 [==============================] - 0s 3ms/step - loss: 0.5550 - categorical_accuracy: 0.8200 - val_loss: 0.6592 - val_categorical_accuracy: 0.8161\n",
      "Epoch 42/150\n",
      "65/65 [==============================] - 0s 3ms/step - loss: 0.4651 - categorical_accuracy: 0.8366 - val_loss: 0.6679 - val_categorical_accuracy: 0.8123\n",
      "Epoch 43/150\n",
      "65/65 [==============================] - 0s 2ms/step - loss: 0.4469 - categorical_accuracy: 0.8368 - val_loss: 0.6645 - val_categorical_accuracy: 0.8161\n",
      "Epoch 44/150\n",
      "65/65 [==============================] - 0s 2ms/step - loss: 0.4381 - categorical_accuracy: 0.8449 - val_loss: 0.6361 - val_categorical_accuracy: 0.8148\n",
      "Epoch 45/150\n",
      "65/65 [==============================] - 0s 3ms/step - loss: 0.4342 - categorical_accuracy: 0.8471 - val_loss: 0.6312 - val_categorical_accuracy: 0.8218\n",
      "Epoch 46/150\n",
      "65/65 [==============================] - 0s 3ms/step - loss: 0.4184 - categorical_accuracy: 0.8495 - val_loss: 0.6204 - val_categorical_accuracy: 0.8244\n",
      "Epoch 47/150\n",
      "65/65 [==============================] - 0s 3ms/step - loss: 0.4000 - categorical_accuracy: 0.8517 - val_loss: 0.6031 - val_categorical_accuracy: 0.8295\n",
      "Epoch 48/150\n",
      "65/65 [==============================] - 0s 3ms/step - loss: 0.4041 - categorical_accuracy: 0.8505 - val_loss: 0.6224 - val_categorical_accuracy: 0.8269\n",
      "Epoch 49/150\n",
      "65/65 [==============================] - 0s 3ms/step - loss: 0.3917 - categorical_accuracy: 0.8576 - val_loss: 0.6125 - val_categorical_accuracy: 0.8238\n",
      "Epoch 50/150\n",
      "65/65 [==============================] - 0s 3ms/step - loss: 0.3796 - categorical_accuracy: 0.8620 - val_loss: 0.5973 - val_categorical_accuracy: 0.8308\n",
      "Epoch 51/150\n",
      "65/65 [==============================] - 0s 3ms/step - loss: 0.3709 - categorical_accuracy: 0.8600 - val_loss: 0.5926 - val_categorical_accuracy: 0.8372\n",
      "Epoch 52/150\n",
      "65/65 [==============================] - 0s 2ms/step - loss: 0.3667 - categorical_accuracy: 0.8632 - val_loss: 0.6565 - val_categorical_accuracy: 0.8321\n",
      "Epoch 53/150\n",
      "65/65 [==============================] - 0s 4ms/step - loss: 0.3593 - categorical_accuracy: 0.8702 - val_loss: 0.5688 - val_categorical_accuracy: 0.8455\n",
      "Epoch 54/150\n",
      "65/65 [==============================] - 0s 3ms/step - loss: 0.3469 - categorical_accuracy: 0.8695 - val_loss: 0.5798 - val_categorical_accuracy: 0.8276\n",
      "Epoch 55/150\n",
      "65/65 [==============================] - 0s 3ms/step - loss: 0.3431 - categorical_accuracy: 0.8737 - val_loss: 0.5764 - val_categorical_accuracy: 0.8474\n",
      "Epoch 56/150\n",
      "65/65 [==============================] - 0s 3ms/step - loss: 0.3365 - categorical_accuracy: 0.8732 - val_loss: 0.5624 - val_categorical_accuracy: 0.8410\n",
      "Epoch 57/150\n",
      "65/65 [==============================] - 0s 3ms/step - loss: 0.3416 - categorical_accuracy: 0.8710 - val_loss: 0.6015 - val_categorical_accuracy: 0.8378\n",
      "Epoch 58/150\n",
      "65/65 [==============================] - 0s 2ms/step - loss: 0.4031 - categorical_accuracy: 0.8605 - val_loss: 0.5881 - val_categorical_accuracy: 0.8301\n",
      "Epoch 59/150\n",
      "65/65 [==============================] - 0s 2ms/step - loss: 0.3507 - categorical_accuracy: 0.8712 - val_loss: 0.5621 - val_categorical_accuracy: 0.8499\n",
      "Epoch 60/150\n",
      "65/65 [==============================] - 0s 3ms/step - loss: 0.3315 - categorical_accuracy: 0.8790 - val_loss: 0.5615 - val_categorical_accuracy: 0.8474\n",
      "Epoch 61/150\n",
      "65/65 [==============================] - 0s 3ms/step - loss: 0.3261 - categorical_accuracy: 0.8822 - val_loss: 0.6050 - val_categorical_accuracy: 0.8404\n",
      "Epoch 62/150\n",
      "65/65 [==============================] - 0s 3ms/step - loss: 0.3257 - categorical_accuracy: 0.8761 - val_loss: 0.5518 - val_categorical_accuracy: 0.8467\n",
      "Epoch 63/150\n",
      "65/65 [==============================] - 0s 3ms/step - loss: 0.3011 - categorical_accuracy: 0.8807 - val_loss: 0.5407 - val_categorical_accuracy: 0.8531\n",
      "Epoch 64/150\n",
      "65/65 [==============================] - 0s 3ms/step - loss: 0.3101 - categorical_accuracy: 0.8832 - val_loss: 0.5700 - val_categorical_accuracy: 0.8499\n",
      "Epoch 65/150\n",
      "65/65 [==============================] - 0s 3ms/step - loss: 0.3113 - categorical_accuracy: 0.8846 - val_loss: 0.5473 - val_categorical_accuracy: 0.8429\n",
      "Epoch 66/150\n",
      "65/65 [==============================] - 0s 3ms/step - loss: 0.2867 - categorical_accuracy: 0.8883 - val_loss: 0.5604 - val_categorical_accuracy: 0.8538\n",
      "Epoch 67/150\n",
      "65/65 [==============================] - 0s 3ms/step - loss: 0.2931 - categorical_accuracy: 0.8893 - val_loss: 0.5236 - val_categorical_accuracy: 0.8563\n",
      "Epoch 68/150\n",
      "65/65 [==============================] - 0s 3ms/step - loss: 0.4037 - categorical_accuracy: 0.8624 - val_loss: 0.6043 - val_categorical_accuracy: 0.8570\n",
      "Epoch 69/150\n",
      "65/65 [==============================] - 0s 3ms/step - loss: 0.2955 - categorical_accuracy: 0.8829 - val_loss: 0.5143 - val_categorical_accuracy: 0.8455\n",
      "Epoch 70/150\n",
      "65/65 [==============================] - 0s 3ms/step - loss: 0.2916 - categorical_accuracy: 0.8849 - val_loss: 0.4942 - val_categorical_accuracy: 0.8595\n",
      "Epoch 71/150\n",
      "65/65 [==============================] - 0s 3ms/step - loss: 0.2671 - categorical_accuracy: 0.8939 - val_loss: 0.5247 - val_categorical_accuracy: 0.8563\n",
      "Epoch 72/150\n",
      "65/65 [==============================] - 0s 3ms/step - loss: 0.2827 - categorical_accuracy: 0.8898 - val_loss: 0.7154 - val_categorical_accuracy: 0.8218\n",
      "Epoch 73/150\n",
      "65/65 [==============================] - 0s 3ms/step - loss: 0.3485 - categorical_accuracy: 0.8729 - val_loss: 0.5232 - val_categorical_accuracy: 0.8608\n",
      "Epoch 74/150\n",
      "65/65 [==============================] - 0s 3ms/step - loss: 0.2827 - categorical_accuracy: 0.8873 - val_loss: 0.4793 - val_categorical_accuracy: 0.8627\n",
      "Epoch 75/150\n",
      "65/65 [==============================] - 0s 3ms/step - loss: 0.2640 - categorical_accuracy: 0.8949 - val_loss: 0.5278 - val_categorical_accuracy: 0.8582\n",
      "Epoch 76/150\n",
      "65/65 [==============================] - 0s 3ms/step - loss: 0.3432 - categorical_accuracy: 0.8737 - val_loss: 0.5284 - val_categorical_accuracy: 0.8384\n",
      "Epoch 77/150\n",
      "65/65 [==============================] - 0s 3ms/step - loss: 0.2747 - categorical_accuracy: 0.8922 - val_loss: 0.5328 - val_categorical_accuracy: 0.8691\n",
      "Epoch 78/150\n",
      "65/65 [==============================] - 0s 3ms/step - loss: 0.2656 - categorical_accuracy: 0.8959 - val_loss: 0.6084 - val_categorical_accuracy: 0.8410\n",
      "Epoch 79/150\n",
      "65/65 [==============================] - 0s 3ms/step - loss: 0.2871 - categorical_accuracy: 0.8856 - val_loss: 0.5036 - val_categorical_accuracy: 0.8659\n",
      "Epoch 80/150\n",
      "65/65 [==============================] - 0s 3ms/step - loss: 0.2511 - categorical_accuracy: 0.9010 - val_loss: 0.5001 - val_categorical_accuracy: 0.8659\n",
      "Epoch 81/150\n",
      "65/65 [==============================] - 0s 3ms/step - loss: 0.2592 - categorical_accuracy: 0.8990 - val_loss: 0.4700 - val_categorical_accuracy: 0.8653\n",
      "Epoch 82/150\n",
      "65/65 [==============================] - 0s 3ms/step - loss: 0.2568 - categorical_accuracy: 0.8968 - val_loss: 0.4865 - val_categorical_accuracy: 0.8723\n",
      "Epoch 83/150\n",
      "65/65 [==============================] - 0s 3ms/step - loss: 0.2952 - categorical_accuracy: 0.8898 - val_loss: 0.4823 - val_categorical_accuracy: 0.8653\n",
      "Epoch 84/150\n",
      "65/65 [==============================] - 0s 3ms/step - loss: 0.2524 - categorical_accuracy: 0.8961 - val_loss: 0.4591 - val_categorical_accuracy: 0.8799\n",
      "Epoch 85/150\n",
      "65/65 [==============================] - 0s 2ms/step - loss: 0.2424 - categorical_accuracy: 0.9007 - val_loss: 0.4483 - val_categorical_accuracy: 0.8685\n",
      "Epoch 86/150\n",
      "65/65 [==============================] - 0s 3ms/step - loss: 0.2311 - categorical_accuracy: 0.9068 - val_loss: 0.5020 - val_categorical_accuracy: 0.8716\n",
      "Epoch 87/150\n",
      "65/65 [==============================] - 0s 3ms/step - loss: 0.2428 - categorical_accuracy: 0.9037 - val_loss: 0.4496 - val_categorical_accuracy: 0.8748\n",
      "Epoch 88/150\n",
      "65/65 [==============================] - 0s 3ms/step - loss: 0.2253 - categorical_accuracy: 0.9066 - val_loss: 0.4410 - val_categorical_accuracy: 0.8729\n",
      "Epoch 89/150\n",
      "65/65 [==============================] - 0s 3ms/step - loss: 0.2265 - categorical_accuracy: 0.9100 - val_loss: 0.4269 - val_categorical_accuracy: 0.8774\n",
      "Epoch 90/150\n",
      "65/65 [==============================] - 0s 3ms/step - loss: 0.2171 - categorical_accuracy: 0.9095 - val_loss: 0.4836 - val_categorical_accuracy: 0.8653\n",
      "Epoch 91/150\n",
      "65/65 [==============================] - 0s 3ms/step - loss: 0.2854 - categorical_accuracy: 0.8973 - val_loss: 0.4344 - val_categorical_accuracy: 0.8780\n",
      "Epoch 92/150\n",
      "65/65 [==============================] - 0s 3ms/step - loss: 0.2278 - categorical_accuracy: 0.9112 - val_loss: 0.4332 - val_categorical_accuracy: 0.8780\n",
      "Epoch 93/150\n",
      "65/65 [==============================] - 0s 3ms/step - loss: 0.2278 - categorical_accuracy: 0.9051 - val_loss: 0.4718 - val_categorical_accuracy: 0.8640\n",
      "Epoch 94/150\n",
      "65/65 [==============================] - 0s 3ms/step - loss: 0.2070 - categorical_accuracy: 0.9161 - val_loss: 0.4395 - val_categorical_accuracy: 0.8819\n",
      "Epoch 95/150\n",
      "65/65 [==============================] - 0s 3ms/step - loss: 0.1986 - categorical_accuracy: 0.9173 - val_loss: 0.4160 - val_categorical_accuracy: 0.8838\n",
      "Epoch 96/150\n",
      "65/65 [==============================] - 0s 3ms/step - loss: 0.2119 - categorical_accuracy: 0.9120 - val_loss: 0.4207 - val_categorical_accuracy: 0.8825\n",
      "Epoch 97/150\n",
      "65/65 [==============================] - 0s 3ms/step - loss: 0.2084 - categorical_accuracy: 0.9154 - val_loss: 0.4276 - val_categorical_accuracy: 0.8883\n",
      "Epoch 98/150\n",
      "65/65 [==============================] - 0s 3ms/step - loss: 0.1985 - categorical_accuracy: 0.9193 - val_loss: 0.4633 - val_categorical_accuracy: 0.8678\n",
      "Epoch 99/150\n",
      "65/65 [==============================] - 0s 3ms/step - loss: 0.2013 - categorical_accuracy: 0.9156 - val_loss: 0.4614 - val_categorical_accuracy: 0.8787\n",
      "Epoch 100/150\n",
      "65/65 [==============================] - 0s 3ms/step - loss: 0.2020 - categorical_accuracy: 0.9180 - val_loss: 0.4272 - val_categorical_accuracy: 0.8812\n",
      "Epoch 101/150\n",
      "65/65 [==============================] - 0s 3ms/step - loss: 0.1974 - categorical_accuracy: 0.9161 - val_loss: 0.4506 - val_categorical_accuracy: 0.8799\n",
      "Epoch 102/150\n",
      "65/65 [==============================] - 0s 3ms/step - loss: 0.2077 - categorical_accuracy: 0.9180 - val_loss: 0.4899 - val_categorical_accuracy: 0.8863\n",
      "Epoch 103/150\n",
      "65/65 [==============================] - 0s 3ms/step - loss: 0.2163 - categorical_accuracy: 0.9166 - val_loss: 0.4535 - val_categorical_accuracy: 0.8672\n",
      "Epoch 104/150\n",
      "65/65 [==============================] - 0s 3ms/step - loss: 0.2881 - categorical_accuracy: 0.8834 - val_loss: 0.5414 - val_categorical_accuracy: 0.8404\n",
      "Epoch 105/150\n",
      "65/65 [==============================] - 0s 2ms/step - loss: 0.2113 - categorical_accuracy: 0.9154 - val_loss: 0.4182 - val_categorical_accuracy: 0.8851\n",
      "Epoch 106/150\n",
      "65/65 [==============================] - 0s 3ms/step - loss: 0.1867 - categorical_accuracy: 0.9222 - val_loss: 0.4125 - val_categorical_accuracy: 0.8883\n",
      "Epoch 107/150\n",
      "65/65 [==============================] - 0s 3ms/step - loss: 0.1872 - categorical_accuracy: 0.9229 - val_loss: 0.4460 - val_categorical_accuracy: 0.8672\n",
      "Epoch 108/150\n",
      "65/65 [==============================] - 0s 3ms/step - loss: 0.1889 - categorical_accuracy: 0.9251 - val_loss: 0.3993 - val_categorical_accuracy: 0.8902\n",
      "Epoch 109/150\n",
      "65/65 [==============================] - 0s 3ms/step - loss: 0.1789 - categorical_accuracy: 0.9273 - val_loss: 0.4552 - val_categorical_accuracy: 0.8787\n",
      "Epoch 110/150\n",
      "65/65 [==============================] - 0s 3ms/step - loss: 0.1880 - categorical_accuracy: 0.9227 - val_loss: 0.4145 - val_categorical_accuracy: 0.8844\n",
      "Epoch 111/150\n",
      "65/65 [==============================] - 0s 3ms/step - loss: 0.1767 - categorical_accuracy: 0.9288 - val_loss: 0.4202 - val_categorical_accuracy: 0.8819\n",
      "Epoch 112/150\n",
      "65/65 [==============================] - 0s 3ms/step - loss: 0.1821 - categorical_accuracy: 0.9232 - val_loss: 0.3979 - val_categorical_accuracy: 0.8921\n",
      "Epoch 113/150\n",
      "65/65 [==============================] - 0s 3ms/step - loss: 0.1780 - categorical_accuracy: 0.9271 - val_loss: 0.4446 - val_categorical_accuracy: 0.8870\n",
      "Epoch 114/150\n",
      "65/65 [==============================] - 0s 3ms/step - loss: 0.1727 - categorical_accuracy: 0.9320 - val_loss: 0.4034 - val_categorical_accuracy: 0.8934\n",
      "Epoch 115/150\n",
      "65/65 [==============================] - 0s 3ms/step - loss: 0.1833 - categorical_accuracy: 0.9212 - val_loss: 0.4106 - val_categorical_accuracy: 0.8876\n",
      "Epoch 116/150\n",
      "65/65 [==============================] - 0s 2ms/step - loss: 0.1906 - categorical_accuracy: 0.9202 - val_loss: 0.4057 - val_categorical_accuracy: 0.8780\n",
      "Epoch 117/150\n",
      "65/65 [==============================] - 0s 3ms/step - loss: 0.1947 - categorical_accuracy: 0.9215 - val_loss: 0.4041 - val_categorical_accuracy: 0.8876\n",
      "Epoch 118/150\n",
      "65/65 [==============================] - 0s 3ms/step - loss: 0.2128 - categorical_accuracy: 0.9129 - val_loss: 0.4100 - val_categorical_accuracy: 0.8946\n",
      "Epoch 119/150\n",
      "65/65 [==============================] - 0s 3ms/step - loss: 0.1875 - categorical_accuracy: 0.9234 - val_loss: 0.4260 - val_categorical_accuracy: 0.8768\n",
      "Epoch 120/150\n",
      "65/65 [==============================] - 0s 3ms/step - loss: 0.2100 - categorical_accuracy: 0.9134 - val_loss: 0.4631 - val_categorical_accuracy: 0.8883\n",
      "Epoch 121/150\n",
      "65/65 [==============================] - 0s 2ms/step - loss: 0.1738 - categorical_accuracy: 0.9251 - val_loss: 0.4357 - val_categorical_accuracy: 0.8940\n",
      "Epoch 122/150\n",
      "65/65 [==============================] - 0s 2ms/step - loss: 0.1828 - categorical_accuracy: 0.9246 - val_loss: 0.5255 - val_categorical_accuracy: 0.8659\n",
      "Epoch 123/150\n",
      "65/65 [==============================] - 0s 3ms/step - loss: 0.1838 - categorical_accuracy: 0.9271 - val_loss: 0.4010 - val_categorical_accuracy: 0.8940\n",
      "Epoch 124/150\n",
      "65/65 [==============================] - 0s 2ms/step - loss: 0.1650 - categorical_accuracy: 0.9339 - val_loss: 0.5659 - val_categorical_accuracy: 0.8768\n",
      "Epoch 125/150\n",
      "65/65 [==============================] - 0s 3ms/step - loss: 0.2811 - categorical_accuracy: 0.8988 - val_loss: 0.4272 - val_categorical_accuracy: 0.8844\n",
      "Epoch 126/150\n",
      "65/65 [==============================] - 0s 3ms/step - loss: 0.1880 - categorical_accuracy: 0.9263 - val_loss: 0.4387 - val_categorical_accuracy: 0.8716\n",
      "Epoch 127/150\n",
      "65/65 [==============================] - 0s 3ms/step - loss: 0.1680 - categorical_accuracy: 0.9337 - val_loss: 0.3988 - val_categorical_accuracy: 0.8914\n",
      "Epoch 128/150\n",
      "65/65 [==============================] - 0s 3ms/step - loss: 0.1639 - categorical_accuracy: 0.9322 - val_loss: 0.4166 - val_categorical_accuracy: 0.8902\n",
      "Epoch 129/150\n",
      "65/65 [==============================] - 0s 3ms/step - loss: 0.1587 - categorical_accuracy: 0.9368 - val_loss: 0.4649 - val_categorical_accuracy: 0.8825\n",
      "Epoch 130/150\n",
      "65/65 [==============================] - 0s 3ms/step - loss: 0.1775 - categorical_accuracy: 0.9288 - val_loss: 0.4289 - val_categorical_accuracy: 0.8825\n",
      "Epoch 131/150\n",
      "65/65 [==============================] - 0s 3ms/step - loss: 0.1622 - categorical_accuracy: 0.9324 - val_loss: 0.4330 - val_categorical_accuracy: 0.8863\n",
      "Epoch 132/150\n",
      "65/65 [==============================] - 0s 3ms/step - loss: 0.1521 - categorical_accuracy: 0.9385 - val_loss: 0.5206 - val_categorical_accuracy: 0.8787\n",
      "Epoch 133/150\n",
      "65/65 [==============================] - 0s 3ms/step - loss: 0.1657 - categorical_accuracy: 0.9341 - val_loss: 0.4023 - val_categorical_accuracy: 0.8908\n",
      "Epoch 134/150\n",
      "65/65 [==============================] - 0s 3ms/step - loss: 0.1688 - categorical_accuracy: 0.9295 - val_loss: 0.4531 - val_categorical_accuracy: 0.8710\n",
      "Epoch 135/150\n",
      "65/65 [==============================] - 0s 3ms/step - loss: 0.1490 - categorical_accuracy: 0.9400 - val_loss: 0.4247 - val_categorical_accuracy: 0.8844\n",
      "Epoch 136/150\n",
      "65/65 [==============================] - 0s 3ms/step - loss: 0.1716 - categorical_accuracy: 0.9302 - val_loss: 0.4355 - val_categorical_accuracy: 0.8831\n",
      "Epoch 137/150\n",
      "65/65 [==============================] - 0s 3ms/step - loss: 0.1542 - categorical_accuracy: 0.9344 - val_loss: 0.4386 - val_categorical_accuracy: 0.8812\n",
      "Epoch 138/150\n",
      "65/65 [==============================] - 0s 3ms/step - loss: 0.1653 - categorical_accuracy: 0.9295 - val_loss: 0.5154 - val_categorical_accuracy: 0.8755\n",
      "Epoch 139/150\n",
      "65/65 [==============================] - 0s 3ms/step - loss: 0.1724 - categorical_accuracy: 0.9276 - val_loss: 0.4170 - val_categorical_accuracy: 0.8870\n",
      "Epoch 140/150\n",
      "65/65 [==============================] - 0s 3ms/step - loss: 0.1858 - categorical_accuracy: 0.9259 - val_loss: 0.4172 - val_categorical_accuracy: 0.8921\n",
      "Epoch 141/150\n",
      "65/65 [==============================] - 0s 3ms/step - loss: 0.1435 - categorical_accuracy: 0.9400 - val_loss: 0.3969 - val_categorical_accuracy: 0.8889\n",
      "Epoch 142/150\n",
      "65/65 [==============================] - 0s 2ms/step - loss: 0.1651 - categorical_accuracy: 0.9312 - val_loss: 0.4463 - val_categorical_accuracy: 0.8914\n",
      "Epoch 143/150\n",
      "65/65 [==============================] - 0s 2ms/step - loss: 0.1494 - categorical_accuracy: 0.9390 - val_loss: 0.4216 - val_categorical_accuracy: 0.8895\n",
      "Epoch 144/150\n",
      "65/65 [==============================] - 0s 3ms/step - loss: 0.1412 - categorical_accuracy: 0.9427 - val_loss: 0.4777 - val_categorical_accuracy: 0.8742\n",
      "Epoch 145/150\n",
      "65/65 [==============================] - 0s 2ms/step - loss: 0.1545 - categorical_accuracy: 0.9341 - val_loss: 0.4199 - val_categorical_accuracy: 0.8927\n",
      "Epoch 146/150\n",
      "65/65 [==============================] - 0s 2ms/step - loss: 0.1383 - categorical_accuracy: 0.9454 - val_loss: 0.4934 - val_categorical_accuracy: 0.8831\n",
      "Epoch 147/150\n",
      "65/65 [==============================] - 0s 3ms/step - loss: 0.1427 - categorical_accuracy: 0.9427 - val_loss: 0.4521 - val_categorical_accuracy: 0.8940\n",
      "Epoch 148/150\n",
      "65/65 [==============================] - 0s 3ms/step - loss: 0.1785 - categorical_accuracy: 0.9302 - val_loss: 0.4860 - val_categorical_accuracy: 0.8838\n",
      "Epoch 149/150\n",
      "65/65 [==============================] - 0s 3ms/step - loss: 0.1431 - categorical_accuracy: 0.9432 - val_loss: 0.4066 - val_categorical_accuracy: 0.8940\n",
      "Epoch 150/150\n",
      "65/65 [==============================] - 0s 2ms/step - loss: 0.1329 - categorical_accuracy: 0.9456 - val_loss: 0.4269 - val_categorical_accuracy: 0.8863\n"
     ]
    }
   ],
   "source": [
    "history = model.fit(features[:test_num], transfomed_label[:test_num], epochs=n_epoch, batch_size=64,\n",
    "                    validation_data=(features[test_num:], transfomed_label[test_num:]))"
   ]
  },
  {
   "cell_type": "code",
   "execution_count": 64,
   "id": "de085d3d-d9dd-4610-af95-3d33a31692ad",
   "metadata": {},
   "outputs": [],
   "source": [
    "# history.history"
   ]
  },
  {
   "cell_type": "code",
   "execution_count": 65,
   "id": "43f155e7-e0c9-40ce-b8f3-2f8c2cad7d11",
   "metadata": {},
   "outputs": [],
   "source": [
    "import matplotlib.pyplot as plt\n",
    "%matplotlib inline"
   ]
  },
  {
   "cell_type": "code",
   "execution_count": 66,
   "id": "8f99f8db-d630-4586-b30e-db506568d73b",
   "metadata": {},
   "outputs": [
    {
     "data": {
      "image/png": "[encoded data removed]",
      "text/plain": [
       "<Figure size 432x288 with 1 Axes>"
      ]
     },
     "metadata": {
      "needs_background": "light"
     },
     "output_type": "display_data"
    }
   ],
   "source": [
    "x = list(range(n_epoch))\n",
    "plt.plot(x, history.history['loss'],label=\"loss\")\n",
    "plt.plot(x, history.history['val_loss'],label=\"val_loss\")\n",
    "plt.legend();"
   ]
  },
  {
   "cell_type": "code",
   "execution_count": 67,
   "id": "176d378a-70d0-4bb6-8603-3f08fbfcc119",
   "metadata": {},
   "outputs": [
    {
     "data": {
      "image/png": "[encoded data removed]",
      "text/plain": [
       "<Figure size 432x288 with 1 Axes>"
      ]
     },
     "metadata": {
      "needs_background": "light"
     },
     "output_type": "display_data"
    }
   ],
   "source": [
    "plt.plot(x, history.history['val_categorical_accuracy'],label=\"val_categorical_accuracy\")\n",
    "plt.plot(x, history.history['categorical_accuracy'],label=\"categorical_accuracy\")\n",
    "plt.legend();"
   ]
  },
  {
   "cell_type": "code",
   "execution_count": null,
   "id": "51380f70-da44-42cb-8a00-3551c5501c1c",
   "metadata": {},
   "outputs": [],
   "source": []
  },
  {
   "cell_type": "code",
   "execution_count": null,
   "id": "c9fca2fc-a507-4f9c-a0b7-af41376135ca",
   "metadata": {},
   "outputs": [],
   "source": []
  },
  {
   "cell_type": "code",
   "execution_count": null,
   "id": "fe52c4ce-b76e-4757-8cf6-2bb7092b3d86",
   "metadata": {},
   "outputs": [],
   "source": []
  },
  {
   "cell_type": "code",
   "execution_count": null,
   "id": "e9d4242f-3ca3-46a0-8413-08d7838a2c6c",
   "metadata": {},
   "outputs": [],
   "source": []
  },
  {
   "cell_type": "code",
   "execution_count": null,
   "id": "f59c4e2c-bf29-4df6-98da-1d7f4fc73a88",
   "metadata": {},
   "outputs": [],
   "source": []
  }
 ],
 "metadata": {
  "kernelspec": {
   "display_name": "Python 3 (ipykernel)",
   "language": "python",
   "name": "python3"
  },
  "language_info": {
   "codemirror_mode": {
    "name": "ipython",
    "version": 3
   },
   "file_extension": ".py",
   "mimetype": "text/x-python",
   "name": "python",
   "nbconvert_exporter": "python",
   "pygments_lexer": "ipython3",
   "version": "3.8.10"
  }
 },
 "nbformat": 4,
 "nbformat_minor": 5
}
