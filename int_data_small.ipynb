{
 "cells": [
  {
   "cell_type": "code",
   "execution_count": 23,
   "id": "ae00fe71",
   "metadata": {},
   "outputs": [],
   "source": [
    "import pandas as pd\n",
    "import numpy as np"
   ]
  },
  {
   "cell_type": "code",
   "execution_count": 24,
   "id": "9602bee2",
   "metadata": {},
   "outputs": [],
   "source": [
    "dos_data = pd.read_csv(\"data/DoS_dataset.csv\",nrows=90,header=None)"
   ]
  },
  {
   "cell_type": "code",
   "execution_count": 25,
   "id": "6d815d41",
   "metadata": {},
   "outputs": [],
   "source": [
    "col_names = ['time_stamp','id', 'dlc','d0','d1','d2','d3','d4','d5','d6','d7','R']"
   ]
  },
  {
   "cell_type": "code",
   "execution_count": 26,
   "id": "dbcd0d96",
   "metadata": {},
   "outputs": [],
   "source": [
    "dos_data.columns = col_names"
   ]
  },
  {
   "cell_type": "code",
   "execution_count": 27,
   "id": "b0d3e56c",
   "metadata": {},
   "outputs": [
    {
     "data": {
      "text/html": [
       "<div>\n",
       "<style scoped>\n",
       "    .dataframe tbody tr th:only-of-type {\n",
       "        vertical-align: middle;\n",
       "    }\n",
       "\n",
       "    .dataframe tbody tr th {\n",
       "        vertical-align: top;\n",
       "    }\n",
       "\n",
       "    .dataframe thead th {\n",
       "        text-align: right;\n",
       "    }\n",
       "</style>\n",
       "<table border=\"1\" class=\"dataframe\">\n",
       "  <thead>\n",
       "    <tr style=\"text-align: right;\">\n",
       "      <th></th>\n",
       "      <th>time_stamp</th>\n",
       "      <th>id</th>\n",
       "      <th>dlc</th>\n",
       "      <th>d0</th>\n",
       "      <th>d1</th>\n",
       "      <th>d2</th>\n",
       "      <th>d3</th>\n",
       "      <th>d4</th>\n",
       "      <th>d5</th>\n",
       "      <th>d6</th>\n",
       "      <th>d7</th>\n",
       "      <th>R</th>\n",
       "    </tr>\n",
       "  </thead>\n",
       "  <tbody>\n",
       "    <tr>\n",
       "      <th>0</th>\n",
       "      <td>1.478198e+09</td>\n",
       "      <td>0316</td>\n",
       "      <td>8</td>\n",
       "      <td>05</td>\n",
       "      <td>21</td>\n",
       "      <td>68</td>\n",
       "      <td>09</td>\n",
       "      <td>21</td>\n",
       "      <td>21</td>\n",
       "      <td>00</td>\n",
       "      <td>6f</td>\n",
       "      <td>R</td>\n",
       "    </tr>\n",
       "    <tr>\n",
       "      <th>1</th>\n",
       "      <td>1.478198e+09</td>\n",
       "      <td>018f</td>\n",
       "      <td>8</td>\n",
       "      <td>fe</td>\n",
       "      <td>5b</td>\n",
       "      <td>00</td>\n",
       "      <td>00</td>\n",
       "      <td>00</td>\n",
       "      <td>3c</td>\n",
       "      <td>00</td>\n",
       "      <td>00</td>\n",
       "      <td>R</td>\n",
       "    </tr>\n",
       "    <tr>\n",
       "      <th>2</th>\n",
       "      <td>1.478198e+09</td>\n",
       "      <td>0260</td>\n",
       "      <td>8</td>\n",
       "      <td>19</td>\n",
       "      <td>21</td>\n",
       "      <td>22</td>\n",
       "      <td>30</td>\n",
       "      <td>08</td>\n",
       "      <td>8e</td>\n",
       "      <td>6d</td>\n",
       "      <td>3a</td>\n",
       "      <td>R</td>\n",
       "    </tr>\n",
       "    <tr>\n",
       "      <th>3</th>\n",
       "      <td>1.478198e+09</td>\n",
       "      <td>02a0</td>\n",
       "      <td>8</td>\n",
       "      <td>64</td>\n",
       "      <td>00</td>\n",
       "      <td>9a</td>\n",
       "      <td>1d</td>\n",
       "      <td>97</td>\n",
       "      <td>02</td>\n",
       "      <td>bd</td>\n",
       "      <td>00</td>\n",
       "      <td>R</td>\n",
       "    </tr>\n",
       "    <tr>\n",
       "      <th>4</th>\n",
       "      <td>1.478198e+09</td>\n",
       "      <td>0329</td>\n",
       "      <td>8</td>\n",
       "      <td>40</td>\n",
       "      <td>bb</td>\n",
       "      <td>7f</td>\n",
       "      <td>14</td>\n",
       "      <td>11</td>\n",
       "      <td>20</td>\n",
       "      <td>00</td>\n",
       "      <td>14</td>\n",
       "      <td>R</td>\n",
       "    </tr>\n",
       "  </tbody>\n",
       "</table>\n",
       "</div>"
      ],
      "text/plain": [
       "     time_stamp    id  dlc  d0  d1  d2  d3  d4  d5  d6  d7  R\n",
       "0  1.478198e+09  0316    8  05  21  68  09  21  21  00  6f  R\n",
       "1  1.478198e+09  018f    8  fe  5b  00  00  00  3c  00  00  R\n",
       "2  1.478198e+09  0260    8  19  21  22  30  08  8e  6d  3a  R\n",
       "3  1.478198e+09  02a0    8  64  00  9a  1d  97  02  bd  00  R\n",
       "4  1.478198e+09  0329    8  40  bb  7f  14  11  20  00  14  R"
      ]
     },
     "execution_count": 27,
     "metadata": {},
     "output_type": "execute_result"
    }
   ],
   "source": [
    "dos_data.head()"
   ]
  },
  {
   "cell_type": "code",
   "execution_count": 28,
   "id": "6582672d",
   "metadata": {},
   "outputs": [
    {
     "data": {
      "text/html": [
       "<div>\n",
       "<style scoped>\n",
       "    .dataframe tbody tr th:only-of-type {\n",
       "        vertical-align: middle;\n",
       "    }\n",
       "\n",
       "    .dataframe tbody tr th {\n",
       "        vertical-align: top;\n",
       "    }\n",
       "\n",
       "    .dataframe thead th {\n",
       "        text-align: right;\n",
       "    }\n",
       "</style>\n",
       "<table border=\"1\" class=\"dataframe\">\n",
       "  <thead>\n",
       "    <tr style=\"text-align: right;\">\n",
       "      <th></th>\n",
       "      <th>time_stamp</th>\n",
       "      <th>id</th>\n",
       "      <th>dlc</th>\n",
       "      <th>d0</th>\n",
       "      <th>d1</th>\n",
       "      <th>d2</th>\n",
       "      <th>d3</th>\n",
       "      <th>d4</th>\n",
       "      <th>d5</th>\n",
       "      <th>d6</th>\n",
       "      <th>d7</th>\n",
       "      <th>R</th>\n",
       "    </tr>\n",
       "  </thead>\n",
       "  <tbody>\n",
       "    <tr>\n",
       "      <th>85</th>\n",
       "      <td>1.478198e+09</td>\n",
       "      <td>0131</td>\n",
       "      <td>8</td>\n",
       "      <td>05</td>\n",
       "      <td>80</td>\n",
       "      <td>00</td>\n",
       "      <td>00</td>\n",
       "      <td>46</td>\n",
       "      <td>7f</td>\n",
       "      <td>0f</td>\n",
       "      <td>c8</td>\n",
       "      <td>R</td>\n",
       "    </tr>\n",
       "    <tr>\n",
       "      <th>86</th>\n",
       "      <td>1.478198e+09</td>\n",
       "      <td>0140</td>\n",
       "      <td>8</td>\n",
       "      <td>00</td>\n",
       "      <td>00</td>\n",
       "      <td>00</td>\n",
       "      <td>00</td>\n",
       "      <td>10</td>\n",
       "      <td>28</td>\n",
       "      <td>2f</td>\n",
       "      <td>01</td>\n",
       "      <td>R</td>\n",
       "    </tr>\n",
       "    <tr>\n",
       "      <th>87</th>\n",
       "      <td>1.478198e+09</td>\n",
       "      <td>0350</td>\n",
       "      <td>8</td>\n",
       "      <td>05</td>\n",
       "      <td>20</td>\n",
       "      <td>54</td>\n",
       "      <td>68</td>\n",
       "      <td>77</td>\n",
       "      <td>00</td>\n",
       "      <td>00</td>\n",
       "      <td>6e</td>\n",
       "      <td>R</td>\n",
       "    </tr>\n",
       "    <tr>\n",
       "      <th>88</th>\n",
       "      <td>1.478198e+09</td>\n",
       "      <td>043f</td>\n",
       "      <td>8</td>\n",
       "      <td>00</td>\n",
       "      <td>40</td>\n",
       "      <td>60</td>\n",
       "      <td>ff</td>\n",
       "      <td>7e</td>\n",
       "      <td>c9</td>\n",
       "      <td>08</td>\n",
       "      <td>00</td>\n",
       "      <td>R</td>\n",
       "    </tr>\n",
       "    <tr>\n",
       "      <th>89</th>\n",
       "      <td>1.478198e+09</td>\n",
       "      <td>0370</td>\n",
       "      <td>8</td>\n",
       "      <td>00</td>\n",
       "      <td>20</td>\n",
       "      <td>00</td>\n",
       "      <td>00</td>\n",
       "      <td>00</td>\n",
       "      <td>00</td>\n",
       "      <td>00</td>\n",
       "      <td>00</td>\n",
       "      <td>R</td>\n",
       "    </tr>\n",
       "  </tbody>\n",
       "</table>\n",
       "</div>"
      ],
      "text/plain": [
       "      time_stamp    id  dlc  d0  d1  d2  d3  d4  d5  d6  d7  R\n",
       "85  1.478198e+09  0131    8  05  80  00  00  46  7f  0f  c8  R\n",
       "86  1.478198e+09  0140    8  00  00  00  00  10  28  2f  01  R\n",
       "87  1.478198e+09  0350    8  05  20  54  68  77  00  00  6e  R\n",
       "88  1.478198e+09  043f    8  00  40  60  ff  7e  c9  08  00  R\n",
       "89  1.478198e+09  0370    8  00  20  00  00  00  00  00  00  R"
      ]
     },
     "execution_count": 28,
     "metadata": {},
     "output_type": "execute_result"
    }
   ],
   "source": [
    "dos_data.tail()"
   ]
  },
  {
   "cell_type": "code",
   "execution_count": 29,
   "id": "21ace1ef",
   "metadata": {},
   "outputs": [
    {
     "data": {
      "text/html": [
       "<div>\n",
       "<style scoped>\n",
       "    .dataframe tbody tr th:only-of-type {\n",
       "        vertical-align: middle;\n",
       "    }\n",
       "\n",
       "    .dataframe tbody tr th {\n",
       "        vertical-align: top;\n",
       "    }\n",
       "\n",
       "    .dataframe thead th {\n",
       "        text-align: right;\n",
       "    }\n",
       "</style>\n",
       "<table border=\"1\" class=\"dataframe\">\n",
       "  <thead>\n",
       "    <tr style=\"text-align: right;\">\n",
       "      <th></th>\n",
       "      <th>id</th>\n",
       "      <th>d0</th>\n",
       "      <th>d1</th>\n",
       "      <th>d2</th>\n",
       "      <th>d3</th>\n",
       "      <th>d4</th>\n",
       "      <th>d5</th>\n",
       "      <th>d6</th>\n",
       "      <th>d7</th>\n",
       "    </tr>\n",
       "  </thead>\n",
       "  <tbody>\n",
       "    <tr>\n",
       "      <th>0</th>\n",
       "      <td>0316</td>\n",
       "      <td>05</td>\n",
       "      <td>21</td>\n",
       "      <td>68</td>\n",
       "      <td>09</td>\n",
       "      <td>21</td>\n",
       "      <td>21</td>\n",
       "      <td>00</td>\n",
       "      <td>6f</td>\n",
       "    </tr>\n",
       "    <tr>\n",
       "      <th>1</th>\n",
       "      <td>018f</td>\n",
       "      <td>fe</td>\n",
       "      <td>5b</td>\n",
       "      <td>00</td>\n",
       "      <td>00</td>\n",
       "      <td>00</td>\n",
       "      <td>3c</td>\n",
       "      <td>00</td>\n",
       "      <td>00</td>\n",
       "    </tr>\n",
       "    <tr>\n",
       "      <th>2</th>\n",
       "      <td>0260</td>\n",
       "      <td>19</td>\n",
       "      <td>21</td>\n",
       "      <td>22</td>\n",
       "      <td>30</td>\n",
       "      <td>08</td>\n",
       "      <td>8e</td>\n",
       "      <td>6d</td>\n",
       "      <td>3a</td>\n",
       "    </tr>\n",
       "    <tr>\n",
       "      <th>3</th>\n",
       "      <td>02a0</td>\n",
       "      <td>64</td>\n",
       "      <td>00</td>\n",
       "      <td>9a</td>\n",
       "      <td>1d</td>\n",
       "      <td>97</td>\n",
       "      <td>02</td>\n",
       "      <td>bd</td>\n",
       "      <td>00</td>\n",
       "    </tr>\n",
       "    <tr>\n",
       "      <th>4</th>\n",
       "      <td>0329</td>\n",
       "      <td>40</td>\n",
       "      <td>bb</td>\n",
       "      <td>7f</td>\n",
       "      <td>14</td>\n",
       "      <td>11</td>\n",
       "      <td>20</td>\n",
       "      <td>00</td>\n",
       "      <td>14</td>\n",
       "    </tr>\n",
       "  </tbody>\n",
       "</table>\n",
       "</div>"
      ],
      "text/plain": [
       "     id  d0  d1  d2  d3  d4  d5  d6  d7\n",
       "0  0316  05  21  68  09  21  21  00  6f\n",
       "1  018f  fe  5b  00  00  00  3c  00  00\n",
       "2  0260  19  21  22  30  08  8e  6d  3a\n",
       "3  02a0  64  00  9a  1d  97  02  bd  00\n",
       "4  0329  40  bb  7f  14  11  20  00  14"
      ]
     },
     "execution_count": 29,
     "metadata": {},
     "output_type": "execute_result"
    }
   ],
   "source": [
    "dos_data = dos_data.drop(['time_stamp', 'dlc','R'], axis=1)\n",
    "dos_data.head()"
   ]
  },
  {
   "cell_type": "code",
   "execution_count": 30,
   "id": "42db3399",
   "metadata": {},
   "outputs": [],
   "source": [
    "dos_data_int = dos_data.head(n=30)"
   ]
  },
  {
   "cell_type": "code",
   "execution_count": 31,
   "id": "22e257e5",
   "metadata": {},
   "outputs": [
    {
     "data": {
      "text/plain": [
       "0      790\n",
       "1      399\n",
       "2      608\n",
       "3      672\n",
       "4      809\n",
       "5     1349\n",
       "6        2\n",
       "7      339\n",
       "8      704\n",
       "9      304\n",
       "10     305\n",
       "11     320\n",
       "12     848\n",
       "13    1087\n",
       "14     880\n",
       "15    1088\n",
       "16     790\n",
       "17     399\n",
       "18     608\n",
       "19     672\n",
       "20     809\n",
       "21    1264\n",
       "22    1349\n",
       "23    1072\n",
       "24    1201\n",
       "25     497\n",
       "26     339\n",
       "27       2\n",
       "28     704\n",
       "29     848\n",
       "Name: id, dtype: int64"
      ]
     },
     "execution_count": 31,
     "metadata": {},
     "output_type": "execute_result"
    }
   ],
   "source": [
    "dos_data_int.id.apply(int, base=16)"
   ]
  },
  {
   "cell_type": "code",
   "execution_count": 32,
   "id": "73f6be91",
   "metadata": {},
   "outputs": [],
   "source": [
    "temp_np = dos_data_int.to_numpy()"
   ]
  },
  {
   "cell_type": "code",
   "execution_count": 33,
   "id": "0695caa3",
   "metadata": {},
   "outputs": [
    {
     "data": {
      "text/plain": [
       "array([[0., 0., 0., 0., 0., 0., 0., 0., 0.],\n",
       "       [0., 0., 0., 0., 0., 0., 0., 0., 0.],\n",
       "       [0., 0., 0., 0., 0., 0., 0., 0., 0.],\n",
       "       [0., 0., 0., 0., 0., 0., 0., 0., 0.],\n",
       "       [0., 0., 0., 0., 0., 0., 0., 0., 0.],\n",
       "       [0., 0., 0., 0., 0., 0., 0., 0., 0.],\n",
       "       [0., 0., 0., 0., 0., 0., 0., 0., 0.],\n",
       "       [0., 0., 0., 0., 0., 0., 0., 0., 0.],\n",
       "       [0., 0., 0., 0., 0., 0., 0., 0., 0.],\n",
       "       [0., 0., 0., 0., 0., 0., 0., 0., 0.],\n",
       "       [0., 0., 0., 0., 0., 0., 0., 0., 0.],\n",
       "       [0., 0., 0., 0., 0., 0., 0., 0., 0.],\n",
       "       [0., 0., 0., 0., 0., 0., 0., 0., 0.],\n",
       "       [0., 0., 0., 0., 0., 0., 0., 0., 0.],\n",
       "       [0., 0., 0., 0., 0., 0., 0., 0., 0.],\n",
       "       [0., 0., 0., 0., 0., 0., 0., 0., 0.],\n",
       "       [0., 0., 0., 0., 0., 0., 0., 0., 0.],\n",
       "       [0., 0., 0., 0., 0., 0., 0., 0., 0.],\n",
       "       [0., 0., 0., 0., 0., 0., 0., 0., 0.],\n",
       "       [0., 0., 0., 0., 0., 0., 0., 0., 0.],\n",
       "       [0., 0., 0., 0., 0., 0., 0., 0., 0.],\n",
       "       [0., 0., 0., 0., 0., 0., 0., 0., 0.],\n",
       "       [0., 0., 0., 0., 0., 0., 0., 0., 0.],\n",
       "       [0., 0., 0., 0., 0., 0., 0., 0., 0.],\n",
       "       [0., 0., 0., 0., 0., 0., 0., 0., 0.],\n",
       "       [0., 0., 0., 0., 0., 0., 0., 0., 0.],\n",
       "       [0., 0., 0., 0., 0., 0., 0., 0., 0.],\n",
       "       [0., 0., 0., 0., 0., 0., 0., 0., 0.],\n",
       "       [0., 0., 0., 0., 0., 0., 0., 0., 0.],\n",
       "       [0., 0., 0., 0., 0., 0., 0., 0., 0.]])"
      ]
     },
     "execution_count": 33,
     "metadata": {},
     "output_type": "execute_result"
    }
   ],
   "source": [
    "n = 30\n",
    "m = 9\n",
    "\n",
    "tem_file = np.zeros([n,m])\n",
    "tem_file"
   ]
  },
  {
   "cell_type": "code",
   "execution_count": 34,
   "id": "d20f170a",
   "metadata": {},
   "outputs": [],
   "source": [
    "temp_np = dos_data_int.to_numpy()"
   ]
  },
  {
   "cell_type": "code",
   "execution_count": 35,
   "id": "50534ffe",
   "metadata": {},
   "outputs": [],
   "source": [
    "for i in range(n):\n",
    "    line = []\n",
    "    for j in range(9):\n",
    "        num = int(temp_np[i][j],base=16)\n",
    "#         print(num)\n",
    "        line.append(num)\n",
    "    tem_file[i] = np.array(line,dtype=np.int32)     "
   ]
  },
  {
   "cell_type": "code",
   "execution_count": null,
   "id": "e7a89953",
   "metadata": {},
   "outputs": [],
   "source": []
  },
  {
   "cell_type": "code",
   "execution_count": 36,
   "id": "01f4b129",
   "metadata": {},
   "outputs": [
    {
     "data": {
      "text/plain": [
       "array([[ 790.,    5.,   33.,  104.,    9.,   33.,   33.,    0.,  111.],\n",
       "       [ 399.,  254.,   91.,    0.,    0.,    0.,   60.,    0.,    0.],\n",
       "       [ 608.,   25.,   33.,   34.,   48.,    8.,  142.,  109.,   58.],\n",
       "       [ 672.,  100.,    0.,  154.,   29.,  151.,    2.,  189.,    0.],\n",
       "       [ 809.,   64.,  187.,  127.,   20.,   17.,   32.,    0.,   20.],\n",
       "       [1349.,  216.,    0.,    0.,  138.,    0.,    0.,    0.,    0.],\n",
       "       [   2.,    0.,    0.,    0.,    0.,    0.,    3.,   11.,   17.],\n",
       "       [ 339.,    0.,   33.,   16.,  255.,    0.,  255.,    0.,    0.],\n",
       "       [ 704.,   20.,    0.,    0.,    0.,    0.,    0.,    0.,    0.],\n",
       "       [ 304.,    8.,  128.,    0.,  255.,   49.,  128.,   11.,  127.],\n",
       "       [ 305.,  229.,  127.,    0.,    0.,   72.,  127.,   11.,  172.],\n",
       "       [ 320.,    0.,    0.,    0.,    0.,    8.,   34.,   43.,  163.],\n",
       "       [ 848.,    5.,   32.,   20.,  104.,  119.,    0.,    0.,   46.],\n",
       "       [1087.,    0.,   64.,   96.,  255.,  126.,  206.,    8.,    0.],\n",
       "       [ 880.,    0.,   32.,    0.,    0.,    0.,    0.,    0.,    0.],\n",
       "       [1088.,  255.,    0.,    0.,    0.,  255.,  206.,    8.,    0.],\n",
       "       [ 790.,    5.,   33.,  104.,    9.,   33.,   33.,    0.,  111.],\n",
       "       [ 399.,  254.,   91.,    0.,    0.,    0.,   60.,    0.,    0.],\n",
       "       [ 608.,   25.,   33.,   34.,   48.,    8.,  142.,  109.,    7.],\n",
       "       [ 672.,    4.,    0.,  154.,   29.,  151.,    2.,  189.,    0.],\n",
       "       [ 809.,   64.,  187.,  127.,   20.,   17.,   32.,    0.,   20.],\n",
       "       [1264.,    0.,    0.,    0.,  128.,    0.,  105.,  209.,   19.],\n",
       "       [1349.,  216.,    0.,    0.,  138.,    0.,    0.,    0.,    0.],\n",
       "       [1072.,    0.,    0.,    0.,    0.,    0.,    0.,    0.,    0.],\n",
       "       [1201.,   41.,   39.,   39.,   35.,    0.,    0.,    0.,  154.],\n",
       "       [ 497.,    8.,    0.,    0.,    0.,    0.,    0.,    0.,    0.],\n",
       "       [ 339.,    0.,   33.,   16.,  255.,    0.,  255.,    0.,    0.],\n",
       "       [   2.,    0.,    0.,    0.,    0.,    0.,    3.,   12.,   66.],\n",
       "       [ 704.,   20.,    0.,    0.,    0.,    0.,    0.,    0.,    0.],\n",
       "       [ 848.,    5.,   32.,   36.,  104.,  119.,    0.,    0.,   30.]])"
      ]
     },
     "execution_count": 36,
     "metadata": {},
     "output_type": "execute_result"
    }
   ],
   "source": [
    "tem_file"
   ]
  },
  {
   "cell_type": "code",
   "execution_count": 37,
   "id": "76b1f306",
   "metadata": {},
   "outputs": [],
   "source": [
    "from PIL import Image\n",
    "from IPython.display import display"
   ]
  },
  {
   "cell_type": "code",
   "execution_count": 38,
   "id": "0b0b173d",
   "metadata": {},
   "outputs": [],
   "source": [
    "img = Image.fromarray(tem_file, 'L')"
   ]
  },
  {
   "cell_type": "code",
   "execution_count": 39,
   "id": "8e3d4842",
   "metadata": {},
   "outputs": [
    {
     "data": {
      "image/png": "[encoded data removed]",
      "text/plain": [
       "<PIL.Image.Image image mode=L size=9x30 at 0x7F77B4661B80>"
      ]
     },
     "metadata": {},
     "output_type": "display_data"
    }
   ],
   "source": [
    "display(img)"
   ]
  },
  {
   "cell_type": "code",
   "execution_count": 40,
   "id": "c00d13a9",
   "metadata": {},
   "outputs": [],
   "source": [
    "img.show()"
   ]
  },
  {
   "cell_type": "code",
   "execution_count": 41,
   "id": "b811e29c",
   "metadata": {},
   "outputs": [],
   "source": [
    "d = {'x':[tem_file],'y':[\"dos\"]}\n",
    "df = pd.DataFrame(data=d)"
   ]
  },
  {
   "cell_type": "code",
   "execution_count": 42,
   "id": "ee696147",
   "metadata": {},
   "outputs": [
    {
     "data": {
      "text/html": [
       "<div>\n",
       "<style scoped>\n",
       "    .dataframe tbody tr th:only-of-type {\n",
       "        vertical-align: middle;\n",
       "    }\n",
       "\n",
       "    .dataframe tbody tr th {\n",
       "        vertical-align: top;\n",
       "    }\n",
       "\n",
       "    .dataframe thead th {\n",
       "        text-align: right;\n",
       "    }\n",
       "</style>\n",
       "<table border=\"1\" class=\"dataframe\">\n",
       "  <thead>\n",
       "    <tr style=\"text-align: right;\">\n",
       "      <th></th>\n",
       "      <th>x</th>\n",
       "      <th>y</th>\n",
       "    </tr>\n",
       "  </thead>\n",
       "  <tbody>\n",
       "    <tr>\n",
       "      <th>0</th>\n",
       "      <td>[[790.0, 5.0, 33.0, 104.0, 9.0, 33.0, 33.0, 0....</td>\n",
       "      <td>dos</td>\n",
       "    </tr>\n",
       "  </tbody>\n",
       "</table>\n",
       "</div>"
      ],
      "text/plain": [
       "                                                   x    y\n",
       "0  [[790.0, 5.0, 33.0, 104.0, 9.0, 33.0, 33.0, 0....  dos"
      ]
     },
     "execution_count": 42,
     "metadata": {},
     "output_type": "execute_result"
    }
   ],
   "source": [
    "df.head()"
   ]
  },
  {
   "cell_type": "code",
   "execution_count": 43,
   "id": "499d51f4",
   "metadata": {},
   "outputs": [
    {
     "data": {
      "text/plain": [
       "(1, 2)"
      ]
     },
     "execution_count": 43,
     "metadata": {},
     "output_type": "execute_result"
    }
   ],
   "source": [
    "df.shape"
   ]
  },
  {
   "cell_type": "code",
   "execution_count": 21,
   "id": "58a8558b",
   "metadata": {},
   "outputs": [
    {
     "data": {
      "text/plain": [
       "array([[ 790.,    5.,   33.,  104.,    9.,   33.,   33.,    0.,  111.],\n",
       "       [ 399.,  254.,   91.,    0.,    0.,    0.,   60.,    0.,    0.],\n",
       "       [ 608.,   25.,   33.,   34.,   48.,    8.,  142.,  109.,   58.],\n",
       "       [ 672.,  100.,    0.,  154.,   29.,  151.,    2.,  189.,    0.],\n",
       "       [ 809.,   64.,  187.,  127.,   20.,   17.,   32.,    0.,   20.],\n",
       "       [1349.,  216.,    0.,    0.,  138.,    0.,    0.,    0.,    0.],\n",
       "       [   2.,    0.,    0.,    0.,    0.,    0.,    3.,   11.,   17.],\n",
       "       [ 339.,    0.,   33.,   16.,  255.,    0.,  255.,    0.,    0.],\n",
       "       [ 704.,   20.,    0.,    0.,    0.,    0.,    0.,    0.,    0.],\n",
       "       [ 304.,    8.,  128.,    0.,  255.,   49.,  128.,   11.,  127.],\n",
       "       [ 305.,  229.,  127.,    0.,    0.,   72.,  127.,   11.,  172.],\n",
       "       [ 320.,    0.,    0.,    0.,    0.,    8.,   34.,   43.,  163.],\n",
       "       [ 848.,    5.,   32.,   20.,  104.,  119.,    0.,    0.,   46.],\n",
       "       [1087.,    0.,   64.,   96.,  255.,  126.,  206.,    8.,    0.],\n",
       "       [ 880.,    0.,   32.,    0.,    0.,    0.,    0.,    0.,    0.],\n",
       "       [1088.,  255.,    0.,    0.,    0.,  255.,  206.,    8.,    0.],\n",
       "       [ 790.,    5.,   33.,  104.,    9.,   33.,   33.,    0.,  111.],\n",
       "       [ 399.,  254.,   91.,    0.,    0.,    0.,   60.,    0.,    0.],\n",
       "       [ 608.,   25.,   33.,   34.,   48.,    8.,  142.,  109.,    7.],\n",
       "       [ 672.,    4.,    0.,  154.,   29.,  151.,    2.,  189.,    0.],\n",
       "       [ 809.,   64.,  187.,  127.,   20.,   17.,   32.,    0.,   20.],\n",
       "       [1264.,    0.,    0.,    0.,  128.,    0.,  105.,  209.,   19.],\n",
       "       [1349.,  216.,    0.,    0.,  138.,    0.,    0.,    0.,    0.],\n",
       "       [1072.,    0.,    0.,    0.,    0.,    0.,    0.,    0.,    0.],\n",
       "       [1201.,   41.,   39.,   39.,   35.,    0.,    0.,    0.,  154.],\n",
       "       [ 497.,    8.,    0.,    0.,    0.,    0.,    0.,    0.,    0.],\n",
       "       [ 339.,    0.,   33.,   16.,  255.,    0.,  255.,    0.,    0.],\n",
       "       [   2.,    0.,    0.,    0.,    0.,    0.,    3.,   12.,   66.],\n",
       "       [ 704.,   20.,    0.,    0.,    0.,    0.,    0.,    0.,    0.],\n",
       "       [ 848.,    5.,   32.,   36.,  104.,  119.,    0.,    0.,   30.]])"
      ]
     },
     "execution_count": 21,
     "metadata": {},
     "output_type": "execute_result"
    }
   ],
   "source": [
    "df.x[0]"
   ]
  },
  {
   "cell_type": "code",
   "execution_count": 22,
   "id": "6a293c68",
   "metadata": {},
   "outputs": [
    {
     "data": {
      "text/html": [
       "<div>\n",
       "<style scoped>\n",
       "    .dataframe tbody tr th:only-of-type {\n",
       "        vertical-align: middle;\n",
       "    }\n",
       "\n",
       "    .dataframe tbody tr th {\n",
       "        vertical-align: top;\n",
       "    }\n",
       "\n",
       "    .dataframe thead th {\n",
       "        text-align: right;\n",
       "    }\n",
       "</style>\n",
       "<table border=\"1\" class=\"dataframe\">\n",
       "  <thead>\n",
       "    <tr style=\"text-align: right;\">\n",
       "      <th></th>\n",
       "      <th>time_stamp</th>\n",
       "      <th>id</th>\n",
       "      <th>dlc</th>\n",
       "      <th>d0</th>\n",
       "      <th>d1</th>\n",
       "      <th>d2</th>\n",
       "      <th>d3</th>\n",
       "      <th>d4</th>\n",
       "      <th>d5</th>\n",
       "      <th>d6</th>\n",
       "      <th>d7</th>\n",
       "      <th>R</th>\n",
       "    </tr>\n",
       "  </thead>\n",
       "  <tbody>\n",
       "    <tr>\n",
       "      <th>0</th>\n",
       "      <td>1.478198e+09</td>\n",
       "      <td>0316</td>\n",
       "      <td>8</td>\n",
       "      <td>05</td>\n",
       "      <td>21</td>\n",
       "      <td>68</td>\n",
       "      <td>09</td>\n",
       "      <td>21</td>\n",
       "      <td>21</td>\n",
       "      <td>00</td>\n",
       "      <td>6f</td>\n",
       "      <td>R</td>\n",
       "    </tr>\n",
       "    <tr>\n",
       "      <th>1</th>\n",
       "      <td>1.478198e+09</td>\n",
       "      <td>018f</td>\n",
       "      <td>8</td>\n",
       "      <td>fe</td>\n",
       "      <td>5b</td>\n",
       "      <td>00</td>\n",
       "      <td>00</td>\n",
       "      <td>00</td>\n",
       "      <td>3c</td>\n",
       "      <td>00</td>\n",
       "      <td>00</td>\n",
       "      <td>R</td>\n",
       "    </tr>\n",
       "    <tr>\n",
       "      <th>2</th>\n",
       "      <td>1.478198e+09</td>\n",
       "      <td>0260</td>\n",
       "      <td>8</td>\n",
       "      <td>19</td>\n",
       "      <td>21</td>\n",
       "      <td>22</td>\n",
       "      <td>30</td>\n",
       "      <td>08</td>\n",
       "      <td>8e</td>\n",
       "      <td>6d</td>\n",
       "      <td>3a</td>\n",
       "      <td>R</td>\n",
       "    </tr>\n",
       "    <tr>\n",
       "      <th>3</th>\n",
       "      <td>1.478198e+09</td>\n",
       "      <td>02a0</td>\n",
       "      <td>8</td>\n",
       "      <td>64</td>\n",
       "      <td>00</td>\n",
       "      <td>9a</td>\n",
       "      <td>1d</td>\n",
       "      <td>97</td>\n",
       "      <td>02</td>\n",
       "      <td>bd</td>\n",
       "      <td>00</td>\n",
       "      <td>R</td>\n",
       "    </tr>\n",
       "    <tr>\n",
       "      <th>4</th>\n",
       "      <td>1.478198e+09</td>\n",
       "      <td>0329</td>\n",
       "      <td>8</td>\n",
       "      <td>40</td>\n",
       "      <td>bb</td>\n",
       "      <td>7f</td>\n",
       "      <td>14</td>\n",
       "      <td>11</td>\n",
       "      <td>20</td>\n",
       "      <td>00</td>\n",
       "      <td>14</td>\n",
       "      <td>R</td>\n",
       "    </tr>\n",
       "  </tbody>\n",
       "</table>\n",
       "</div>"
      ],
      "text/plain": [
       "     time_stamp    id  dlc  d0  d1  d2  d3  d4  d5  d6  d7  R\n",
       "0  1.478198e+09  0316    8  05  21  68  09  21  21  00  6f  R\n",
       "1  1.478198e+09  018f    8  fe  5b  00  00  00  3c  00  00  R\n",
       "2  1.478198e+09  0260    8  19  21  22  30  08  8e  6d  3a  R\n",
       "3  1.478198e+09  02a0    8  64  00  9a  1d  97  02  bd  00  R\n",
       "4  1.478198e+09  0329    8  40  bb  7f  14  11  20  00  14  R"
      ]
     },
     "execution_count": 22,
     "metadata": {},
     "output_type": "execute_result"
    }
   ],
   "source": [
    "dos_data = pd.read_csv(\"DoS_dataset.csv\",header=None)\n",
    "dos_data.columns = col_names\n",
    "dos_data.head()"
   ]
  },
  {
   "cell_type": "code",
   "execution_count": 23,
   "id": "f71a8e08",
   "metadata": {},
   "outputs": [],
   "source": [
    "dos_data = dos_data.drop(['time_stamp', 'dlc','R'], axis=1)"
   ]
  },
  {
   "cell_type": "code",
   "execution_count": 24,
   "id": "e5cf1510",
   "metadata": {},
   "outputs": [
    {
     "data": {
      "text/html": [
       "<div>\n",
       "<style scoped>\n",
       "    .dataframe tbody tr th:only-of-type {\n",
       "        vertical-align: middle;\n",
       "    }\n",
       "\n",
       "    .dataframe tbody tr th {\n",
       "        vertical-align: top;\n",
       "    }\n",
       "\n",
       "    .dataframe thead th {\n",
       "        text-align: right;\n",
       "    }\n",
       "</style>\n",
       "<table border=\"1\" class=\"dataframe\">\n",
       "  <thead>\n",
       "    <tr style=\"text-align: right;\">\n",
       "      <th></th>\n",
       "      <th>id</th>\n",
       "      <th>d0</th>\n",
       "      <th>d1</th>\n",
       "      <th>d2</th>\n",
       "      <th>d3</th>\n",
       "      <th>d4</th>\n",
       "      <th>d5</th>\n",
       "      <th>d6</th>\n",
       "      <th>d7</th>\n",
       "    </tr>\n",
       "  </thead>\n",
       "  <tbody>\n",
       "    <tr>\n",
       "      <th>0</th>\n",
       "      <td>0316</td>\n",
       "      <td>05</td>\n",
       "      <td>21</td>\n",
       "      <td>68</td>\n",
       "      <td>09</td>\n",
       "      <td>21</td>\n",
       "      <td>21</td>\n",
       "      <td>00</td>\n",
       "      <td>6f</td>\n",
       "    </tr>\n",
       "    <tr>\n",
       "      <th>1</th>\n",
       "      <td>018f</td>\n",
       "      <td>fe</td>\n",
       "      <td>5b</td>\n",
       "      <td>00</td>\n",
       "      <td>00</td>\n",
       "      <td>00</td>\n",
       "      <td>3c</td>\n",
       "      <td>00</td>\n",
       "      <td>00</td>\n",
       "    </tr>\n",
       "    <tr>\n",
       "      <th>2</th>\n",
       "      <td>0260</td>\n",
       "      <td>19</td>\n",
       "      <td>21</td>\n",
       "      <td>22</td>\n",
       "      <td>30</td>\n",
       "      <td>08</td>\n",
       "      <td>8e</td>\n",
       "      <td>6d</td>\n",
       "      <td>3a</td>\n",
       "    </tr>\n",
       "    <tr>\n",
       "      <th>3</th>\n",
       "      <td>02a0</td>\n",
       "      <td>64</td>\n",
       "      <td>00</td>\n",
       "      <td>9a</td>\n",
       "      <td>1d</td>\n",
       "      <td>97</td>\n",
       "      <td>02</td>\n",
       "      <td>bd</td>\n",
       "      <td>00</td>\n",
       "    </tr>\n",
       "    <tr>\n",
       "      <th>4</th>\n",
       "      <td>0329</td>\n",
       "      <td>40</td>\n",
       "      <td>bb</td>\n",
       "      <td>7f</td>\n",
       "      <td>14</td>\n",
       "      <td>11</td>\n",
       "      <td>20</td>\n",
       "      <td>00</td>\n",
       "      <td>14</td>\n",
       "    </tr>\n",
       "  </tbody>\n",
       "</table>\n",
       "</div>"
      ],
      "text/plain": [
       "     id  d0  d1  d2  d3  d4  d5  d6  d7\n",
       "0  0316  05  21  68  09  21  21  00  6f\n",
       "1  018f  fe  5b  00  00  00  3c  00  00\n",
       "2  0260  19  21  22  30  08  8e  6d  3a\n",
       "3  02a0  64  00  9a  1d  97  02  bd  00\n",
       "4  0329  40  bb  7f  14  11  20  00  14"
      ]
     },
     "execution_count": 24,
     "metadata": {},
     "output_type": "execute_result"
    }
   ],
   "source": [
    "dos_data.head()"
   ]
  },
  {
   "cell_type": "code",
   "execution_count": 25,
   "id": "e2c8edfa",
   "metadata": {},
   "outputs": [
    {
     "data": {
      "text/plain": [
       "(3665771, 9)"
      ]
     },
     "execution_count": 25,
     "metadata": {},
     "output_type": "execute_result"
    }
   ],
   "source": [
    "dos_data.shape"
   ]
  },
  {
   "cell_type": "code",
   "execution_count": 26,
   "id": "d162d291",
   "metadata": {},
   "outputs": [
    {
     "data": {
      "text/plain": [
       "(3634583, 9)"
      ]
     },
     "execution_count": 26,
     "metadata": {},
     "output_type": "execute_result"
    }
   ],
   "source": [
    "dos_data = dos_data.dropna()\n",
    "dos_data.shape"
   ]
  },
  {
   "cell_type": "code",
   "execution_count": 27,
   "id": "62a65cb9",
   "metadata": {},
   "outputs": [],
   "source": [
    "def create_feature(data_frame,label,n=30,m=9):\n",
    "    feature_list = []\n",
    "    nrow = data_frame.shape[0]\n",
    "    for col  in dos_data.columns:\n",
    "        data_frame[col] = data_frame[col].apply(int, base=16)\n",
    "    for i in range(0,nrow,n):\n",
    "        if nrow >=  i+n:\n",
    "            tem_file = data_frame.iloc[i:i+n,:].to_numpy()\n",
    "            feature_list.append(tem_file)\n",
    "    feature_df = pd.DataFrame(data={\"features\":feature_list,\"label\":[label]*len(feature_list)})\n",
    "    return feature_df"
   ]
  },
  {
   "cell_type": "code",
   "execution_count": null,
   "id": "b6190c49",
   "metadata": {},
   "outputs": [],
   "source": [
    "dos_feature_df = create_feature(dos_data,\"dos\")    "
   ]
  },
  {
   "cell_type": "code",
   "execution_count": null,
   "id": "5b3aa79e",
   "metadata": {},
   "outputs": [],
   "source": [
    "dos_feature_df.head()"
   ]
  },
  {
   "cell_type": "code",
   "execution_count": null,
   "id": "e22b6748",
   "metadata": {},
   "outputs": [],
   "source": [
    "dos_feature_df.shape"
   ]
  },
  {
   "cell_type": "code",
   "execution_count": 7,
   "id": "49150869",
   "metadata": {},
   "outputs": [
    {
     "name": "stderr",
     "output_type": "stream",
     "text": [
      "<ipython-input-7-479496432d9d>:1: ParserWarning: Falling back to the 'python' engine because the 'c' engine does not support regex separators (separators > 1 char and different from '\\s+' are interpreted as regex); you can avoid this warning by specifying engine='python'.\n",
      "  fuzzy_data = pd.read_csv(\"Fuzzy_dataset.csv\",sep='delimiter',header=None)\n"
     ]
    },
    {
     "data": {
      "text/html": [
       "<div>\n",
       "<style scoped>\n",
       "    .dataframe tbody tr th:only-of-type {\n",
       "        vertical-align: middle;\n",
       "    }\n",
       "\n",
       "    .dataframe tbody tr th {\n",
       "        vertical-align: top;\n",
       "    }\n",
       "\n",
       "    .dataframe thead th {\n",
       "        text-align: right;\n",
       "    }\n",
       "</style>\n",
       "<table border=\"1\" class=\"dataframe\">\n",
       "  <thead>\n",
       "    <tr style=\"text-align: right;\">\n",
       "      <th></th>\n",
       "      <th>0</th>\n",
       "    </tr>\n",
       "  </thead>\n",
       "  <tbody>\n",
       "    <tr>\n",
       "      <th>0</th>\n",
       "      <td>1478195721.903877,0545,8,d8,00,00,8a,00,00,00,...</td>\n",
       "    </tr>\n",
       "    <tr>\n",
       "      <th>1</th>\n",
       "      <td>1478195721.905736,02b0,5,ff,7f,00,05,49,R</td>\n",
       "    </tr>\n",
       "    <tr>\n",
       "      <th>2</th>\n",
       "      <td>1478195721.908437,0002,8,00,00,00,00,00,01,07,...</td>\n",
       "    </tr>\n",
       "    <tr>\n",
       "      <th>3</th>\n",
       "      <td>1478195721.908676,0153,8,00,21,10,ff,00,ff,00,...</td>\n",
       "    </tr>\n",
       "    <tr>\n",
       "      <th>4</th>\n",
       "      <td>1478195721.909414,0130,8,19,80,00,ff,fe,7f,07,...</td>\n",
       "    </tr>\n",
       "  </tbody>\n",
       "</table>\n",
       "</div>"
      ],
      "text/plain": [
       "                                                   0\n",
       "0  1478195721.903877,0545,8,d8,00,00,8a,00,00,00,...\n",
       "1          1478195721.905736,02b0,5,ff,7f,00,05,49,R\n",
       "2  1478195721.908437,0002,8,00,00,00,00,00,01,07,...\n",
       "3  1478195721.908676,0153,8,00,21,10,ff,00,ff,00,...\n",
       "4  1478195721.909414,0130,8,19,80,00,ff,fe,7f,07,..."
      ]
     },
     "execution_count": 7,
     "metadata": {},
     "output_type": "execute_result"
    }
   ],
   "source": [
    "fuzzy_data = pd.read_csv(\"Fuzzy_dataset.csv\",sep='delimiter',header=None)\n",
    "# fuzzy_data.columns = col_names\n",
    "fuzzy_data.head()"
   ]
  },
  {
   "cell_type": "code",
   "execution_count": 26,
   "id": "42aa8c44",
   "metadata": {},
   "outputs": [],
   "source": [
    "from pyspark.sql import SparkSession\n",
    "spark = SparkSession.builder.appName('Ops').getOrCreate()"
   ]
  },
  {
   "cell_type": "code",
   "execution_count": 62,
   "id": "424ed41c",
   "metadata": {},
   "outputs": [],
   "source": [
    "fuzzy_data = spark.read.csv(\n",
    "    \"DoS_dataset.csv\", \n",
    "    header=None\n",
    ")"
   ]
  },
  {
   "cell_type": "code",
   "execution_count": 63,
   "id": "1e8a0729",
   "metadata": {},
   "outputs": [
    {
     "name": "stdout",
     "output_type": "stream",
     "text": [
      "+-----------------+----+---+---+---+---+---+---+---+---+----+----+\n",
      "|              _c0| _c1|_c2|_c3|_c4|_c5|_c6|_c7|_c8|_c9|_c10|_c11|\n",
      "+-----------------+----+---+---+---+---+---+---+---+---+----+----+\n",
      "|1478198376.389427|0316|  8| 05| 21| 68| 09| 21| 21| 00|  6f|   R|\n",
      "|1478198376.389636|018f|  8| fe| 5b| 00| 00| 00| 3c| 00|  00|   R|\n",
      "|1478198376.389864|0260|  8| 19| 21| 22| 30| 08| 8e| 6d|  3a|   R|\n",
      "|1478198376.390096|02a0|  8| 64| 00| 9a| 1d| 97| 02| bd|  00|   R|\n",
      "|1478198376.390333|0329|  8| 40| bb| 7f| 14| 11| 20| 00|  14|   R|\n",
      "+-----------------+----+---+---+---+---+---+---+---+---+----+----+\n",
      "only showing top 5 rows\n",
      "\n"
     ]
    }
   ],
   "source": [
    "fuzzy_data.show(n=5)"
   ]
  },
  {
   "cell_type": "code",
   "execution_count": 64,
   "id": "0ff84029",
   "metadata": {},
   "outputs": [],
   "source": [
    "from functools import reduce\n",
    "    \n",
    "def rename_col(data, col_names=col_names):\n",
    "    oldColumns = data.schema.names\n",
    "    data = reduce(lambda data, idx: data.withColumnRenamed(oldColumns[idx], col_names[idx]), \n",
    "                        range(len(oldColumns)), data)\n",
    "    return data\n"
   ]
  },
  {
   "cell_type": "code",
   "execution_count": 65,
   "id": "1fba33a4",
   "metadata": {},
   "outputs": [
    {
     "name": "stdout",
     "output_type": "stream",
     "text": [
      "+-----------------+----+---+---+---+---+---+---+---+---+---+---+\n",
      "|       time_stamp|  id|dlc| d0| d1| d2| d3| d4| d5| d6| d7|  R|\n",
      "+-----------------+----+---+---+---+---+---+---+---+---+---+---+\n",
      "|1478198376.389427|0316|  8| 05| 21| 68| 09| 21| 21| 00| 6f|  R|\n",
      "|1478198376.389636|018f|  8| fe| 5b| 00| 00| 00| 3c| 00| 00|  R|\n",
      "|1478198376.389864|0260|  8| 19| 21| 22| 30| 08| 8e| 6d| 3a|  R|\n",
      "|1478198376.390096|02a0|  8| 64| 00| 9a| 1d| 97| 02| bd| 00|  R|\n",
      "|1478198376.390333|0329|  8| 40| bb| 7f| 14| 11| 20| 00| 14|  R|\n",
      "+-----------------+----+---+---+---+---+---+---+---+---+---+---+\n",
      "only showing top 5 rows\n",
      "\n"
     ]
    }
   ],
   "source": [
    "fuzzy_data = rename_col(fuzzy_data)\n",
    "fuzzy_data.show(n=5)"
   ]
  },
  {
   "cell_type": "code",
   "execution_count": 66,
   "id": "597ba8f4",
   "metadata": {},
   "outputs": [
    {
     "name": "stdout",
     "output_type": "stream",
     "text": [
      "+----+---+---+---+---+---+---+---+---+---+\n",
      "|  id|dlc| d0| d1| d2| d3| d4| d5| d6| d7|\n",
      "+----+---+---+---+---+---+---+---+---+---+\n",
      "|0316|  8| 05| 21| 68| 09| 21| 21| 00| 6f|\n",
      "|018f|  8| fe| 5b| 00| 00| 00| 3c| 00| 00|\n",
      "|0260|  8| 19| 21| 22| 30| 08| 8e| 6d| 3a|\n",
      "|02a0|  8| 64| 00| 9a| 1d| 97| 02| bd| 00|\n",
      "|0329|  8| 40| bb| 7f| 14| 11| 20| 00| 14|\n",
      "+----+---+---+---+---+---+---+---+---+---+\n",
      "only showing top 5 rows\n",
      "\n"
     ]
    }
   ],
   "source": [
    "columns_to_drop = ['time_stamp','R']\n",
    "\n",
    "fuzzy_data = fuzzy_data.drop(*columns_to_drop)\n",
    "fuzzy_data.show(n=5)"
   ]
  },
  {
   "cell_type": "code",
   "execution_count": 67,
   "id": "3d526b2b",
   "metadata": {},
   "outputs": [
    {
     "data": {
      "text/plain": [
       "3665771"
      ]
     },
     "execution_count": 67,
     "metadata": {},
     "output_type": "execute_result"
    }
   ],
   "source": [
    "fuzzy_data.count()"
   ]
  },
  {
   "cell_type": "code",
   "execution_count": 68,
   "id": "a93c4a78",
   "metadata": {},
   "outputs": [
    {
     "data": {
      "text/plain": [
       "3634583"
      ]
     },
     "execution_count": 68,
     "metadata": {},
     "output_type": "execute_result"
    }
   ],
   "source": [
    "fuzzy_data=fuzzy_data.na.drop()\n",
    "fuzzy_data.count()"
   ]
  },
  {
   "cell_type": "code",
   "execution_count": null,
   "id": "00b1d1a2",
   "metadata": {},
   "outputs": [],
   "source": [
    "from functools import reduce\n",
    "    \n",
    "def rename_col(data, col_names=col_names):\n",
    "    oldColumns = data.schema.names\n",
    "    data = reduce(lambda data, idx: data.withColumnRenamed(oldColumns[idx], col_names[idx]), \n",
    "                        range(len(oldColumns)), data)\n",
    "    return data"
   ]
  },
  {
   "cell_type": "code",
   "execution_count": 69,
   "id": "a2ba02e5",
   "metadata": {},
   "outputs": [
    {
     "name": "stdout",
     "output_type": "stream",
     "text": [
      "+----+---+---+---+---+---+---+---+---+---+\n",
      "|  id|dlc| d0| d1| d2| d3| d4| d5| d6| d7|\n",
      "+----+---+---+---+---+---+---+---+---+---+\n",
      "|0316|  8| 05| 21| 68| 09| 21| 21| 00| 6f|\n",
      "|018f|  8| fe| 5b| 00| 00| 00| 3c| 00| 00|\n",
      "|0260|  8| 19| 21| 22| 30| 08| 8e| 6d| 3a|\n",
      "|02a0|  8| 64| 00| 9a| 1d| 97| 02| bd| 00|\n",
      "|0329|  8| 40| bb| 7f| 14| 11| 20| 00| 14|\n",
      "+----+---+---+---+---+---+---+---+---+---+\n",
      "only showing top 5 rows\n",
      "\n"
     ]
    }
   ],
   "source": [
    "fuzzy_data.show(n=5)"
   ]
  },
  {
   "cell_type": "code",
   "execution_count": 1,
   "id": "cc192a59",
   "metadata": {},
   "outputs": [
    {
     "ename": "NameError",
     "evalue": "name 'fuzzy_data' is not defined",
     "output_type": "error",
     "traceback": [
      "\u001b[0;31m---------------------------------------------------------------------------\u001b[0m",
      "\u001b[0;31mNameError\u001b[0m                                 Traceback (most recent call last)",
      "\u001b[0;32m/tmp/ipykernel_173416/1834414253.py\u001b[0m in \u001b[0;36m<module>\u001b[0;34m\u001b[0m\n\u001b[0;32m----> 1\u001b[0;31m \u001b[0mfuzzy_data\u001b[0m\u001b[0;34m[\u001b[0m\u001b[0;36m2\u001b[0m\u001b[0;34m:\u001b[0m\u001b[0;36m10\u001b[0m\u001b[0;34m,\u001b[0m\u001b[0;34m]\u001b[0m\u001b[0;34m\u001b[0m\u001b[0;34m\u001b[0m\u001b[0m\n\u001b[0m",
      "\u001b[0;31mNameError\u001b[0m: name 'fuzzy_data' is not defined"
     ]
    }
   ],
   "source": [
    "fuzzy_data[2:10,]"
   ]
  },
  {
   "cell_type": "code",
   "execution_count": 73,
   "id": "e44013b0",
   "metadata": {},
   "outputs": [
    {
     "ename": "AnalysisException",
     "evalue": "cannot resolve '`row_num`' given input columns: [t_fuzzy.d0, t_fuzzy.d1, t_fuzzy.d2, t_fuzzy.d3, t_fuzzy.d4, t_fuzzy.d5, t_fuzzy.d6, t_fuzzy.d7, t_fuzzy.dlc, t_fuzzy.id]; line 1 pos 28;\n'Project [*]\n+- 'Filter (('row_num >= 1) AND ('row_num <= 2))\n   +- SubqueryAlias t_fuzzy\n      +- Filter AtLeastNNulls(n, id#1679,dlc#1692,d0#1705,d1#1718,d2#1731,d3#1744,d4#1757,d5#1770,d6#1783,d7#1796)\n         +- Project [id#1679, dlc#1692, d0#1705, d1#1718, d2#1731, d3#1744, d4#1757, d5#1770, d6#1783, d7#1796]\n            +- Project [time_stamp#1666, id#1679, dlc#1692, d0#1705, d1#1718, d2#1731, d3#1744, d4#1757, d5#1770, d6#1783, d7#1796, _c11#1592 AS R#1809]\n               +- Project [time_stamp#1666, id#1679, dlc#1692, d0#1705, d1#1718, d2#1731, d3#1744, d4#1757, d5#1770, d6#1783, _c10#1591 AS d7#1796, _c11#1592]\n                  +- Project [time_stamp#1666, id#1679, dlc#1692, d0#1705, d1#1718, d2#1731, d3#1744, d4#1757, d5#1770, _c9#1590 AS d6#1783, _c10#1591, _c11#1592]\n                     +- Project [time_stamp#1666, id#1679, dlc#1692, d0#1705, d1#1718, d2#1731, d3#1744, d4#1757, _c8#1589 AS d5#1770, _c9#1590, _c10#1591, _c11#1592]\n                        +- Project [time_stamp#1666, id#1679, dlc#1692, d0#1705, d1#1718, d2#1731, d3#1744, _c7#1588 AS d4#1757, _c8#1589, _c9#1590, _c10#1591, _c11#1592]\n                           +- Project [time_stamp#1666, id#1679, dlc#1692, d0#1705, d1#1718, d2#1731, _c6#1587 AS d3#1744, _c7#1588, _c8#1589, _c9#1590, _c10#1591, _c11#1592]\n                              +- Project [time_stamp#1666, id#1679, dlc#1692, d0#1705, d1#1718, _c5#1586 AS d2#1731, _c6#1587, _c7#1588, _c8#1589, _c9#1590, _c10#1591, _c11#1592]\n                                 +- Project [time_stamp#1666, id#1679, dlc#1692, d0#1705, _c4#1585 AS d1#1718, _c5#1586, _c6#1587, _c7#1588, _c8#1589, _c9#1590, _c10#1591, _c11#1592]\n                                    +- Project [time_stamp#1666, id#1679, dlc#1692, _c3#1584 AS d0#1705, _c4#1585, _c5#1586, _c6#1587, _c7#1588, _c8#1589, _c9#1590, _c10#1591, _c11#1592]\n                                       +- Project [time_stamp#1666, id#1679, _c2#1583 AS dlc#1692, _c3#1584, _c4#1585, _c5#1586, _c6#1587, _c7#1588, _c8#1589, _c9#1590, _c10#1591, _c11#1592]\n                                          +- Project [time_stamp#1666, _c1#1582 AS id#1679, _c2#1583, _c3#1584, _c4#1585, _c5#1586, _c6#1587, _c7#1588, _c8#1589, _c9#1590, _c10#1591, _c11#1592]\n                                             +- Project [_c0#1581 AS time_stamp#1666, _c1#1582, _c2#1583, _c3#1584, _c4#1585, _c5#1586, _c6#1587, _c7#1588, _c8#1589, _c9#1590, _c10#1591, _c11#1592]\n                                                +- Relation[_c0#1581,_c1#1582,_c2#1583,_c3#1584,_c4#1585,_c5#1586,_c6#1587,_c7#1588,_c8#1589,_c9#1590,_c10#1591,_c11#1592] csv\n",
     "output_type": "error",
     "traceback": [
      "\u001b[1;31m---------------------------------------------------------------------------\u001b[0m",
      "\u001b[1;31mAnalysisException\u001b[0m                         Traceback (most recent call last)",
      "\u001b[1;32m<ipython-input-73-055c4ca7b66a>\u001b[0m in \u001b[0;36m<module>\u001b[1;34m\u001b[0m\n\u001b[1;32m----> 1\u001b[1;33m \u001b[0mspark\u001b[0m\u001b[1;33m.\u001b[0m\u001b[0msql\u001b[0m\u001b[1;33m(\u001b[0m\u001b[1;34m\"SELECT * FROM t_fuzzy WHERE row_num between 1 and 2\"\u001b[0m\u001b[1;33m)\u001b[0m\u001b[1;33m.\u001b[0m\u001b[0mshow\u001b[0m\u001b[1;33m(\u001b[0m\u001b[1;33m)\u001b[0m\u001b[1;33m\u001b[0m\u001b[1;33m\u001b[0m\u001b[0m\n\u001b[0m",
      "\u001b[1;32mC:\\ProgramData\\Anaconda3\\envs\\tf_ppl\\lib\\site-packages\\pyspark\\sql\\session.py\u001b[0m in \u001b[0;36msql\u001b[1;34m(self, sqlQuery)\u001b[0m\n\u001b[0;32m    721\u001b[0m         \u001b[1;33m[\u001b[0m\u001b[0mRow\u001b[0m\u001b[1;33m(\u001b[0m\u001b[0mf1\u001b[0m\u001b[1;33m=\u001b[0m\u001b[1;36m1\u001b[0m\u001b[1;33m,\u001b[0m \u001b[0mf2\u001b[0m\u001b[1;33m=\u001b[0m\u001b[1;34m'row1'\u001b[0m\u001b[1;33m)\u001b[0m\u001b[1;33m,\u001b[0m \u001b[0mRow\u001b[0m\u001b[1;33m(\u001b[0m\u001b[0mf1\u001b[0m\u001b[1;33m=\u001b[0m\u001b[1;36m2\u001b[0m\u001b[1;33m,\u001b[0m \u001b[0mf2\u001b[0m\u001b[1;33m=\u001b[0m\u001b[1;34m'row2'\u001b[0m\u001b[1;33m)\u001b[0m\u001b[1;33m,\u001b[0m \u001b[0mRow\u001b[0m\u001b[1;33m(\u001b[0m\u001b[0mf1\u001b[0m\u001b[1;33m=\u001b[0m\u001b[1;36m3\u001b[0m\u001b[1;33m,\u001b[0m \u001b[0mf2\u001b[0m\u001b[1;33m=\u001b[0m\u001b[1;34m'row3'\u001b[0m\u001b[1;33m)\u001b[0m\u001b[1;33m]\u001b[0m\u001b[1;33m\u001b[0m\u001b[1;33m\u001b[0m\u001b[0m\n\u001b[0;32m    722\u001b[0m         \"\"\"\n\u001b[1;32m--> 723\u001b[1;33m         \u001b[1;32mreturn\u001b[0m \u001b[0mDataFrame\u001b[0m\u001b[1;33m(\u001b[0m\u001b[0mself\u001b[0m\u001b[1;33m.\u001b[0m\u001b[0m_jsparkSession\u001b[0m\u001b[1;33m.\u001b[0m\u001b[0msql\u001b[0m\u001b[1;33m(\u001b[0m\u001b[0msqlQuery\u001b[0m\u001b[1;33m)\u001b[0m\u001b[1;33m,\u001b[0m \u001b[0mself\u001b[0m\u001b[1;33m.\u001b[0m\u001b[0m_wrapped\u001b[0m\u001b[1;33m)\u001b[0m\u001b[1;33m\u001b[0m\u001b[1;33m\u001b[0m\u001b[0m\n\u001b[0m\u001b[0;32m    724\u001b[0m \u001b[1;33m\u001b[0m\u001b[0m\n\u001b[0;32m    725\u001b[0m     \u001b[1;32mdef\u001b[0m \u001b[0mtable\u001b[0m\u001b[1;33m(\u001b[0m\u001b[0mself\u001b[0m\u001b[1;33m,\u001b[0m \u001b[0mtableName\u001b[0m\u001b[1;33m)\u001b[0m\u001b[1;33m:\u001b[0m\u001b[1;33m\u001b[0m\u001b[1;33m\u001b[0m\u001b[0m\n",
      "\u001b[1;32mC:\\ProgramData\\Anaconda3\\envs\\tf_ppl\\lib\\site-packages\\py4j\\java_gateway.py\u001b[0m in \u001b[0;36m__call__\u001b[1;34m(self, *args)\u001b[0m\n\u001b[0;32m   1302\u001b[0m \u001b[1;33m\u001b[0m\u001b[0m\n\u001b[0;32m   1303\u001b[0m         \u001b[0manswer\u001b[0m \u001b[1;33m=\u001b[0m \u001b[0mself\u001b[0m\u001b[1;33m.\u001b[0m\u001b[0mgateway_client\u001b[0m\u001b[1;33m.\u001b[0m\u001b[0msend_command\u001b[0m\u001b[1;33m(\u001b[0m\u001b[0mcommand\u001b[0m\u001b[1;33m)\u001b[0m\u001b[1;33m\u001b[0m\u001b[1;33m\u001b[0m\u001b[0m\n\u001b[1;32m-> 1304\u001b[1;33m         return_value = get_return_value(\n\u001b[0m\u001b[0;32m   1305\u001b[0m             answer, self.gateway_client, self.target_id, self.name)\n\u001b[0;32m   1306\u001b[0m \u001b[1;33m\u001b[0m\u001b[0m\n",
      "\u001b[1;32mC:\\ProgramData\\Anaconda3\\envs\\tf_ppl\\lib\\site-packages\\pyspark\\sql\\utils.py\u001b[0m in \u001b[0;36mdeco\u001b[1;34m(*a, **kw)\u001b[0m\n\u001b[0;32m    115\u001b[0m                 \u001b[1;31m# Hide where the exception came from that shows a non-Pythonic\u001b[0m\u001b[1;33m\u001b[0m\u001b[1;33m\u001b[0m\u001b[1;33m\u001b[0m\u001b[0m\n\u001b[0;32m    116\u001b[0m                 \u001b[1;31m# JVM exception message.\u001b[0m\u001b[1;33m\u001b[0m\u001b[1;33m\u001b[0m\u001b[1;33m\u001b[0m\u001b[0m\n\u001b[1;32m--> 117\u001b[1;33m                 \u001b[1;32mraise\u001b[0m \u001b[0mconverted\u001b[0m \u001b[1;32mfrom\u001b[0m \u001b[1;32mNone\u001b[0m\u001b[1;33m\u001b[0m\u001b[1;33m\u001b[0m\u001b[0m\n\u001b[0m\u001b[0;32m    118\u001b[0m             \u001b[1;32melse\u001b[0m\u001b[1;33m:\u001b[0m\u001b[1;33m\u001b[0m\u001b[1;33m\u001b[0m\u001b[0m\n\u001b[0;32m    119\u001b[0m                 \u001b[1;32mraise\u001b[0m\u001b[1;33m\u001b[0m\u001b[1;33m\u001b[0m\u001b[0m\n",
      "\u001b[1;31mAnalysisException\u001b[0m: cannot resolve '`row_num`' given input columns: [t_fuzzy.d0, t_fuzzy.d1, t_fuzzy.d2, t_fuzzy.d3, t_fuzzy.d4, t_fuzzy.d5, t_fuzzy.d6, t_fuzzy.d7, t_fuzzy.dlc, t_fuzzy.id]; line 1 pos 28;\n'Project [*]\n+- 'Filter (('row_num >= 1) AND ('row_num <= 2))\n   +- SubqueryAlias t_fuzzy\n      +- Filter AtLeastNNulls(n, id#1679,dlc#1692,d0#1705,d1#1718,d2#1731,d3#1744,d4#1757,d5#1770,d6#1783,d7#1796)\n         +- Project [id#1679, dlc#1692, d0#1705, d1#1718, d2#1731, d3#1744, d4#1757, d5#1770, d6#1783, d7#1796]\n            +- Project [time_stamp#1666, id#1679, dlc#1692, d0#1705, d1#1718, d2#1731, d3#1744, d4#1757, d5#1770, d6#1783, d7#1796, _c11#1592 AS R#1809]\n               +- Project [time_stamp#1666, id#1679, dlc#1692, d0#1705, d1#1718, d2#1731, d3#1744, d4#1757, d5#1770, d6#1783, _c10#1591 AS d7#1796, _c11#1592]\n                  +- Project [time_stamp#1666, id#1679, dlc#1692, d0#1705, d1#1718, d2#1731, d3#1744, d4#1757, d5#1770, _c9#1590 AS d6#1783, _c10#1591, _c11#1592]\n                     +- Project [time_stamp#1666, id#1679, dlc#1692, d0#1705, d1#1718, d2#1731, d3#1744, d4#1757, _c8#1589 AS d5#1770, _c9#1590, _c10#1591, _c11#1592]\n                        +- Project [time_stamp#1666, id#1679, dlc#1692, d0#1705, d1#1718, d2#1731, d3#1744, _c7#1588 AS d4#1757, _c8#1589, _c9#1590, _c10#1591, _c11#1592]\n                           +- Project [time_stamp#1666, id#1679, dlc#1692, d0#1705, d1#1718, d2#1731, _c6#1587 AS d3#1744, _c7#1588, _c8#1589, _c9#1590, _c10#1591, _c11#1592]\n                              +- Project [time_stamp#1666, id#1679, dlc#1692, d0#1705, d1#1718, _c5#1586 AS d2#1731, _c6#1587, _c7#1588, _c8#1589, _c9#1590, _c10#1591, _c11#1592]\n                                 +- Project [time_stamp#1666, id#1679, dlc#1692, d0#1705, _c4#1585 AS d1#1718, _c5#1586, _c6#1587, _c7#1588, _c8#1589, _c9#1590, _c10#1591, _c11#1592]\n                                    +- Project [time_stamp#1666, id#1679, dlc#1692, _c3#1584 AS d0#1705, _c4#1585, _c5#1586, _c6#1587, _c7#1588, _c8#1589, _c9#1590, _c10#1591, _c11#1592]\n                                       +- Project [time_stamp#1666, id#1679, _c2#1583 AS dlc#1692, _c3#1584, _c4#1585, _c5#1586, _c6#1587, _c7#1588, _c8#1589, _c9#1590, _c10#1591, _c11#1592]\n                                          +- Project [time_stamp#1666, _c1#1582 AS id#1679, _c2#1583, _c3#1584, _c4#1585, _c5#1586, _c6#1587, _c7#1588, _c8#1589, _c9#1590, _c10#1591, _c11#1592]\n                                             +- Project [_c0#1581 AS time_stamp#1666, _c1#1582, _c2#1583, _c3#1584, _c4#1585, _c5#1586, _c6#1587, _c7#1588, _c8#1589, _c9#1590, _c10#1591, _c11#1592]\n                                                +- Relation[_c0#1581,_c1#1582,_c2#1583,_c3#1584,_c4#1585,_c5#1586,_c6#1587,_c7#1588,_c8#1589,_c9#1590,_c10#1591,_c11#1592] csv\n"
     ]
    }
   ],
   "source": [
    "spark.sql(\"SELECT * FROM t_fuzzy WHERE row_num between 1 and 2\").show()"
   ]
  },
  {
   "cell_type": "code",
   "execution_count": null,
   "id": "5b4bba10",
   "metadata": {},
   "outputs": [],
   "source": []
  }
 ],
 "metadata": {
  "kernelspec": {
   "display_name": "Python 3 (ipykernel)",
   "language": "python",
   "name": "python3"
  },
  "language_info": {
   "codemirror_mode": {
    "name": "ipython",
    "version": 3
   },
   "file_extension": ".py",
   "mimetype": "text/x-python",
   "name": "python",
   "nbconvert_exporter": "python",
   "pygments_lexer": "ipython3",
   "version": "3.8.10"
  }
 },
 "nbformat": 4,
 "nbformat_minor": 5
}
