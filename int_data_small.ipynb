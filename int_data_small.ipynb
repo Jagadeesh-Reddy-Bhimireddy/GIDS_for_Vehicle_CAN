{
 "cells": [
  {
   "cell_type": "code",
   "execution_count": 1,
   "id": "9f244072-1ac6-41f2-a8c4-7dc6ece6f43c",
   "metadata": {},
   "outputs": [],
   "source": [
    "import os\n",
    "os.environ['TF_CPP_MIN_LOG_LEVEL'] = '3' \n",
    "# 0 = all messages are logged (default behavior)\n",
    "# 1 = INFO messages are not printed\n",
    "# 2 = INFO and WARNING messages are not printed\n",
    "# 3 = INFO, WARNING, and ERROR messages are not printed"
   ]
  },
  {
   "cell_type": "code",
   "execution_count": 2,
   "id": "ae00fe71",
   "metadata": {},
   "outputs": [],
   "source": [
    "import pandas as pd\n",
    "import numpy as np\n",
    "import tensorflow as tf\n",
    "tf.random.set_seed(0)"
   ]
  },
  {
   "cell_type": "markdown",
   "id": "b0b18261",
   "metadata": {},
   "source": [
    "### 1. Load data\n",
    "- set the load data row number\n",
    "- set colunms names\n",
    "- remove useless colunms"
   ]
  },
  {
   "cell_type": "code",
   "execution_count": 3,
   "id": "dda6bfd1",
   "metadata": {},
   "outputs": [],
   "source": [
    "row_num = 35000\n",
    "test_num= 5000"
   ]
  },
  {
   "cell_type": "code",
   "execution_count": 4,
   "id": "9602bee2",
   "metadata": {},
   "outputs": [],
   "source": [
    "dos_data = pd.read_csv(\"data/DoS_dataset.csv\",nrows=row_num,header=None)"
   ]
  },
  {
   "cell_type": "code",
   "execution_count": 5,
   "id": "6d815d41",
   "metadata": {},
   "outputs": [],
   "source": [
    "col_names = ['time_stamp','id', 'dlc','d0','d1','d2','d3','d4','d5','d6','d7','R']\n",
    "dos_data = dos_data.dropna()"
   ]
  },
  {
   "cell_type": "code",
   "execution_count": 6,
   "id": "dbcd0d96",
   "metadata": {},
   "outputs": [],
   "source": [
    "dos_data.columns = col_names"
   ]
  },
  {
   "cell_type": "code",
   "execution_count": 7,
   "id": "b0d3e56c",
   "metadata": {},
   "outputs": [
    {
     "data": {
      "text/html": [
       "<div>\n",
       "<style scoped>\n",
       "    .dataframe tbody tr th:only-of-type {\n",
       "        vertical-align: middle;\n",
       "    }\n",
       "\n",
       "    .dataframe tbody tr th {\n",
       "        vertical-align: top;\n",
       "    }\n",
       "\n",
       "    .dataframe thead th {\n",
       "        text-align: right;\n",
       "    }\n",
       "</style>\n",
       "<table border=\"1\" class=\"dataframe\">\n",
       "  <thead>\n",
       "    <tr style=\"text-align: right;\">\n",
       "      <th></th>\n",
       "      <th>time_stamp</th>\n",
       "      <th>id</th>\n",
       "      <th>dlc</th>\n",
       "      <th>d0</th>\n",
       "      <th>d1</th>\n",
       "      <th>d2</th>\n",
       "      <th>d3</th>\n",
       "      <th>d4</th>\n",
       "      <th>d5</th>\n",
       "      <th>d6</th>\n",
       "      <th>d7</th>\n",
       "      <th>R</th>\n",
       "    </tr>\n",
       "  </thead>\n",
       "  <tbody>\n",
       "    <tr>\n",
       "      <th>0</th>\n",
       "      <td>1.478198e+09</td>\n",
       "      <td>0316</td>\n",
       "      <td>8</td>\n",
       "      <td>05</td>\n",
       "      <td>21</td>\n",
       "      <td>68</td>\n",
       "      <td>09</td>\n",
       "      <td>21</td>\n",
       "      <td>21</td>\n",
       "      <td>00</td>\n",
       "      <td>6f</td>\n",
       "      <td>R</td>\n",
       "    </tr>\n",
       "    <tr>\n",
       "      <th>1</th>\n",
       "      <td>1.478198e+09</td>\n",
       "      <td>018f</td>\n",
       "      <td>8</td>\n",
       "      <td>fe</td>\n",
       "      <td>5b</td>\n",
       "      <td>00</td>\n",
       "      <td>00</td>\n",
       "      <td>00</td>\n",
       "      <td>3c</td>\n",
       "      <td>00</td>\n",
       "      <td>00</td>\n",
       "      <td>R</td>\n",
       "    </tr>\n",
       "    <tr>\n",
       "      <th>2</th>\n",
       "      <td>1.478198e+09</td>\n",
       "      <td>0260</td>\n",
       "      <td>8</td>\n",
       "      <td>19</td>\n",
       "      <td>21</td>\n",
       "      <td>22</td>\n",
       "      <td>30</td>\n",
       "      <td>08</td>\n",
       "      <td>8e</td>\n",
       "      <td>6d</td>\n",
       "      <td>3a</td>\n",
       "      <td>R</td>\n",
       "    </tr>\n",
       "    <tr>\n",
       "      <th>3</th>\n",
       "      <td>1.478198e+09</td>\n",
       "      <td>02a0</td>\n",
       "      <td>8</td>\n",
       "      <td>64</td>\n",
       "      <td>00</td>\n",
       "      <td>9a</td>\n",
       "      <td>1d</td>\n",
       "      <td>97</td>\n",
       "      <td>02</td>\n",
       "      <td>bd</td>\n",
       "      <td>00</td>\n",
       "      <td>R</td>\n",
       "    </tr>\n",
       "    <tr>\n",
       "      <th>4</th>\n",
       "      <td>1.478198e+09</td>\n",
       "      <td>0329</td>\n",
       "      <td>8</td>\n",
       "      <td>40</td>\n",
       "      <td>bb</td>\n",
       "      <td>7f</td>\n",
       "      <td>14</td>\n",
       "      <td>11</td>\n",
       "      <td>20</td>\n",
       "      <td>00</td>\n",
       "      <td>14</td>\n",
       "      <td>R</td>\n",
       "    </tr>\n",
       "  </tbody>\n",
       "</table>\n",
       "</div>"
      ],
      "text/plain": [
       "     time_stamp    id  dlc  d0  d1  d2  d3  d4  d5  d6  d7  R\n",
       "0  1.478198e+09  0316    8  05  21  68  09  21  21  00  6f  R\n",
       "1  1.478198e+09  018f    8  fe  5b  00  00  00  3c  00  00  R\n",
       "2  1.478198e+09  0260    8  19  21  22  30  08  8e  6d  3a  R\n",
       "3  1.478198e+09  02a0    8  64  00  9a  1d  97  02  bd  00  R\n",
       "4  1.478198e+09  0329    8  40  bb  7f  14  11  20  00  14  R"
      ]
     },
     "execution_count": 7,
     "metadata": {},
     "output_type": "execute_result"
    }
   ],
   "source": [
    "dos_data.head()"
   ]
  },
  {
   "cell_type": "code",
   "execution_count": 8,
   "id": "a1c71b7f",
   "metadata": {},
   "outputs": [
    {
     "data": {
      "text/html": [
       "<div>\n",
       "<style scoped>\n",
       "    .dataframe tbody tr th:only-of-type {\n",
       "        vertical-align: middle;\n",
       "    }\n",
       "\n",
       "    .dataframe tbody tr th {\n",
       "        vertical-align: top;\n",
       "    }\n",
       "\n",
       "    .dataframe thead th {\n",
       "        text-align: right;\n",
       "    }\n",
       "</style>\n",
       "<table border=\"1\" class=\"dataframe\">\n",
       "  <thead>\n",
       "    <tr style=\"text-align: right;\">\n",
       "      <th></th>\n",
       "      <th>time_stamp</th>\n",
       "      <th>id</th>\n",
       "      <th>dlc</th>\n",
       "      <th>d0</th>\n",
       "      <th>d1</th>\n",
       "      <th>d2</th>\n",
       "      <th>d3</th>\n",
       "      <th>d4</th>\n",
       "      <th>d5</th>\n",
       "      <th>d6</th>\n",
       "      <th>d7</th>\n",
       "      <th>R</th>\n",
       "    </tr>\n",
       "  </thead>\n",
       "  <tbody>\n",
       "    <tr>\n",
       "      <th>34995</th>\n",
       "      <td>1.478198e+09</td>\n",
       "      <td>02c0</td>\n",
       "      <td>8</td>\n",
       "      <td>14</td>\n",
       "      <td>00</td>\n",
       "      <td>00</td>\n",
       "      <td>00</td>\n",
       "      <td>00</td>\n",
       "      <td>00</td>\n",
       "      <td>00</td>\n",
       "      <td>00</td>\n",
       "      <td>R</td>\n",
       "    </tr>\n",
       "    <tr>\n",
       "      <th>34996</th>\n",
       "      <td>1.478198e+09</td>\n",
       "      <td>0350</td>\n",
       "      <td>8</td>\n",
       "      <td>05</td>\n",
       "      <td>20</td>\n",
       "      <td>64</td>\n",
       "      <td>68</td>\n",
       "      <td>77</td>\n",
       "      <td>00</td>\n",
       "      <td>00</td>\n",
       "      <td>5e</td>\n",
       "      <td>R</td>\n",
       "    </tr>\n",
       "    <tr>\n",
       "      <th>34997</th>\n",
       "      <td>1.478198e+09</td>\n",
       "      <td>0002</td>\n",
       "      <td>8</td>\n",
       "      <td>00</td>\n",
       "      <td>00</td>\n",
       "      <td>00</td>\n",
       "      <td>00</td>\n",
       "      <td>00</td>\n",
       "      <td>03</td>\n",
       "      <td>0f</td>\n",
       "      <td>65</td>\n",
       "      <td>R</td>\n",
       "    </tr>\n",
       "    <tr>\n",
       "      <th>34998</th>\n",
       "      <td>1.478198e+09</td>\n",
       "      <td>0153</td>\n",
       "      <td>8</td>\n",
       "      <td>00</td>\n",
       "      <td>21</td>\n",
       "      <td>10</td>\n",
       "      <td>ff</td>\n",
       "      <td>00</td>\n",
       "      <td>ff</td>\n",
       "      <td>00</td>\n",
       "      <td>00</td>\n",
       "      <td>R</td>\n",
       "    </tr>\n",
       "    <tr>\n",
       "      <th>34999</th>\n",
       "      <td>1.478198e+09</td>\n",
       "      <td>0130</td>\n",
       "      <td>8</td>\n",
       "      <td>27</td>\n",
       "      <td>80</td>\n",
       "      <td>00</td>\n",
       "      <td>ff</td>\n",
       "      <td>e7</td>\n",
       "      <td>7f</td>\n",
       "      <td>0f</td>\n",
       "      <td>c4</td>\n",
       "      <td>R</td>\n",
       "    </tr>\n",
       "  </tbody>\n",
       "</table>\n",
       "</div>"
      ],
      "text/plain": [
       "         time_stamp    id  dlc  d0  d1  d2  d3  d4  d5  d6  d7  R\n",
       "34995  1.478198e+09  02c0    8  14  00  00  00  00  00  00  00  R\n",
       "34996  1.478198e+09  0350    8  05  20  64  68  77  00  00  5e  R\n",
       "34997  1.478198e+09  0002    8  00  00  00  00  00  03  0f  65  R\n",
       "34998  1.478198e+09  0153    8  00  21  10  ff  00  ff  00  00  R\n",
       "34999  1.478198e+09  0130    8  27  80  00  ff  e7  7f  0f  c4  R"
      ]
     },
     "execution_count": 8,
     "metadata": {},
     "output_type": "execute_result"
    }
   ],
   "source": [
    "dos_data.tail()"
   ]
  },
  {
   "cell_type": "markdown",
   "id": "e64588c7",
   "metadata": {},
   "source": [
    "We can remove the dlc and R colunms because they do not hold any useful information."
   ]
  },
  {
   "cell_type": "code",
   "execution_count": 9,
   "id": "21ace1ef",
   "metadata": {},
   "outputs": [],
   "source": [
    "dos_data = dos_data.drop(['time_stamp', 'dlc','R'], axis=1)"
   ]
  },
  {
   "cell_type": "code",
   "execution_count": 10,
   "id": "13a554ed-fc20-4ddd-baf6-96f57ac3dcaf",
   "metadata": {},
   "outputs": [],
   "source": [
    "# dos_data[1:30].values"
   ]
  },
  {
   "cell_type": "markdown",
   "id": "8dc5ef19",
   "metadata": {},
   "source": [
    "### 2. Create features\n",
    "convert consequtive records into matrix freature according to [paper](https://www.sciencedirect.com/science/article/abs/pii/S2214209619302451)\n",
    "\n",
    "Note: we use integer instead of binary in this notebook"
   ]
  },
  {
   "cell_type": "code",
   "execution_count": 11,
   "id": "e57becb0-b2c1-4d26-bb80-dba37c430aec",
   "metadata": {},
   "outputs": [],
   "source": [
    "from sklearn.preprocessing import MinMaxScaler\n",
    "scaler = MinMaxScaler()"
   ]
  },
  {
   "cell_type": "code",
   "execution_count": 12,
   "id": "62a65cb9",
   "metadata": {},
   "outputs": [],
   "source": [
    "def create_feature(data_frame,label,n=30,m=9):\n",
    "    feature_list = []\n",
    "    nrow = data_frame.shape[0]\n",
    "    scale_colums = ['id', 'd0', 'd1', 'd2', 'd3', 'd4', 'd5', 'd6', 'd7']\n",
    "    for col  in dos_data.columns:\n",
    "        data_frame[col] = data_frame[col].apply(int, base=16)\n",
    "    data_frame[scale_colums] = scaler.fit_transform(data_frame[scale_colums])    \n",
    "    for i in range(0,nrow,n):\n",
    "        if nrow >=  i+n:\n",
    "            tem_file = data_frame.iloc[i:i+n,:].values\n",
    "            feature_list.append(tem_file)\n",
    "    feature_df = pd.DataFrame(data={\"features\":feature_list,\"label\":[label]*len(feature_list)})\n",
    "    return feature_df"
   ]
  },
  {
   "cell_type": "code",
   "execution_count": 13,
   "id": "b6190c49",
   "metadata": {},
   "outputs": [],
   "source": [
    "dos_feature_df = create_feature(dos_data,\"dos\")    "
   ]
  },
  {
   "cell_type": "code",
   "execution_count": 14,
   "id": "86809609-37e8-417e-a03c-cc7936b669b5",
   "metadata": {},
   "outputs": [
    {
     "data": {
      "text/plain": [
       "(1157, 2)"
      ]
     },
     "execution_count": 14,
     "metadata": {},
     "output_type": "execute_result"
    }
   ],
   "source": [
    "dos_feature_df.shape"
   ]
  },
  {
   "cell_type": "code",
   "execution_count": 15,
   "id": "f38e0059-4656-44f5-90eb-4feeff63ee87",
   "metadata": {},
   "outputs": [
    {
     "data": {
      "text/plain": [
       "2"
      ]
     },
     "execution_count": 15,
     "metadata": {},
     "output_type": "execute_result"
    }
   ],
   "source": [
    "dos_feature_df.shape[1]"
   ]
  },
  {
   "cell_type": "code",
   "execution_count": 16,
   "id": "5b3aa79e",
   "metadata": {},
   "outputs": [
    {
     "data": {
      "text/html": [
       "<div>\n",
       "<style scoped>\n",
       "    .dataframe tbody tr th:only-of-type {\n",
       "        vertical-align: middle;\n",
       "    }\n",
       "\n",
       "    .dataframe tbody tr th {\n",
       "        vertical-align: top;\n",
       "    }\n",
       "\n",
       "    .dataframe thead th {\n",
       "        text-align: right;\n",
       "    }\n",
       "</style>\n",
       "<table border=\"1\" class=\"dataframe\">\n",
       "  <thead>\n",
       "    <tr style=\"text-align: right;\">\n",
       "      <th></th>\n",
       "      <th>features</th>\n",
       "      <th>label</th>\n",
       "    </tr>\n",
       "  </thead>\n",
       "  <tbody>\n",
       "    <tr>\n",
       "      <th>0</th>\n",
       "      <td>[[0.4702380952380953, 0.0196078431372549, 0.17...</td>\n",
       "      <td>dos</td>\n",
       "    </tr>\n",
       "    <tr>\n",
       "      <th>1</th>\n",
       "      <td>[[0.18095238095238098, 0.043137254901960784, 0...</td>\n",
       "      <td>dos</td>\n",
       "    </tr>\n",
       "    <tr>\n",
       "      <th>2</th>\n",
       "      <td>[[0.8029761904761905, 0.8470588235294118, 0.0,...</td>\n",
       "      <td>dos</td>\n",
       "    </tr>\n",
       "    <tr>\n",
       "      <th>3</th>\n",
       "      <td>[[0.4702380952380953, 0.0196078431372549, 0.17...</td>\n",
       "      <td>dos</td>\n",
       "    </tr>\n",
       "    <tr>\n",
       "      <th>4</th>\n",
       "      <td>[[0.18095238095238098, 0.09411764705882353, 0....</td>\n",
       "      <td>dos</td>\n",
       "    </tr>\n",
       "  </tbody>\n",
       "</table>\n",
       "</div>"
      ],
      "text/plain": [
       "                                            features label\n",
       "0  [[0.4702380952380953, 0.0196078431372549, 0.17...   dos\n",
       "1  [[0.18095238095238098, 0.043137254901960784, 0...   dos\n",
       "2  [[0.8029761904761905, 0.8470588235294118, 0.0,...   dos\n",
       "3  [[0.4702380952380953, 0.0196078431372549, 0.17...   dos\n",
       "4  [[0.18095238095238098, 0.09411764705882353, 0....   dos"
      ]
     },
     "execution_count": 16,
     "metadata": {},
     "output_type": "execute_result"
    }
   ],
   "source": [
    "dos_feature_df.head()"
   ]
  },
  {
   "cell_type": "code",
   "execution_count": 17,
   "id": "76b1f306",
   "metadata": {},
   "outputs": [],
   "source": [
    "from PIL import Image\n",
    "from IPython.display import display"
   ]
  },
  {
   "cell_type": "code",
   "execution_count": 18,
   "id": "e22b6748",
   "metadata": {},
   "outputs": [
    {
     "data": {
      "image/png": "[encoded data removed]",
      "text/plain": [
       "<PIL.Image.Image image mode=L size=9x30 at 0x7FACCFBE6100>"
      ]
     },
     "metadata": {},
     "output_type": "display_data"
    }
   ],
   "source": [
    "img = Image.fromarray(dos_feature_df.features[0], 'L')\n",
    "display(img)"
   ]
  },
  {
   "cell_type": "markdown",
   "id": "6444f43b",
   "metadata": {},
   "source": [
    "### 3. Repeat the above operations on the rest of dataset"
   ]
  },
  {
   "cell_type": "code",
   "execution_count": 19,
   "id": "49150869",
   "metadata": {},
   "outputs": [
    {
     "data": {
      "text/html": [
       "<div>\n",
       "<style scoped>\n",
       "    .dataframe tbody tr th:only-of-type {\n",
       "        vertical-align: middle;\n",
       "    }\n",
       "\n",
       "    .dataframe tbody tr th {\n",
       "        vertical-align: top;\n",
       "    }\n",
       "\n",
       "    .dataframe thead th {\n",
       "        text-align: right;\n",
       "    }\n",
       "</style>\n",
       "<table border=\"1\" class=\"dataframe\">\n",
       "  <thead>\n",
       "    <tr style=\"text-align: right;\">\n",
       "      <th></th>\n",
       "      <th>features</th>\n",
       "      <th>label</th>\n",
       "    </tr>\n",
       "  </thead>\n",
       "  <tbody>\n",
       "    <tr>\n",
       "      <th>0</th>\n",
       "      <td>[[0.6590131900341963, 0.8470588235294118, 0.0,...</td>\n",
       "      <td>fuzzy</td>\n",
       "    </tr>\n",
       "    <tr>\n",
       "      <th>1</th>\n",
       "      <td>[[0.4298974108451392, 0.0, 0.12549019607843137...</td>\n",
       "      <td>fuzzy</td>\n",
       "    </tr>\n",
       "    <tr>\n",
       "      <th>2</th>\n",
       "      <td>[[0.16560820713238886, 0.0, 0.1294117647058823...</td>\n",
       "      <td>fuzzy</td>\n",
       "    </tr>\n",
       "    <tr>\n",
       "      <th>3</th>\n",
       "      <td>[[0.32828529555446995, 0.01568627450980392, 0....</td>\n",
       "      <td>fuzzy</td>\n",
       "    </tr>\n",
       "    <tr>\n",
       "      <th>4</th>\n",
       "      <td>[[0.5310210063507572, 0.06274509803921569, 0.2...</td>\n",
       "      <td>fuzzy</td>\n",
       "    </tr>\n",
       "  </tbody>\n",
       "</table>\n",
       "</div>"
      ],
      "text/plain": [
       "                                            features  label\n",
       "0  [[0.6590131900341963, 0.8470588235294118, 0.0,...  fuzzy\n",
       "1  [[0.4298974108451392, 0.0, 0.12549019607843137...  fuzzy\n",
       "2  [[0.16560820713238886, 0.0, 0.1294117647058823...  fuzzy\n",
       "3  [[0.32828529555446995, 0.01568627450980392, 0....  fuzzy\n",
       "4  [[0.5310210063507572, 0.06274509803921569, 0.2...  fuzzy"
      ]
     },
     "execution_count": 19,
     "metadata": {},
     "output_type": "execute_result"
    }
   ],
   "source": [
    "fuzzy_data = pd.read_csv(\"data/Fuzzy_dataset.csv\",nrows=row_num,sep=',',header=None)\n",
    "fuzzy_data.columns = col_names\n",
    "fuzzy_data = fuzzy_data.dropna()\n",
    "fuzzy_data = fuzzy_data.drop(['time_stamp', 'dlc','R'], axis=1)\n",
    "fuzzy_feature_df = create_feature(fuzzy_data,\"fuzzy\")\n",
    "fuzzy_feature_df.head()"
   ]
  },
  {
   "cell_type": "code",
   "execution_count": 20,
   "id": "526f62cb",
   "metadata": {},
   "outputs": [
    {
     "data": {
      "text/html": [
       "<div>\n",
       "<style scoped>\n",
       "    .dataframe tbody tr th:only-of-type {\n",
       "        vertical-align: middle;\n",
       "    }\n",
       "\n",
       "    .dataframe tbody tr th {\n",
       "        vertical-align: top;\n",
       "    }\n",
       "\n",
       "    .dataframe thead th {\n",
       "        text-align: right;\n",
       "    }\n",
       "</style>\n",
       "<table border=\"1\" class=\"dataframe\">\n",
       "  <thead>\n",
       "    <tr style=\"text-align: right;\">\n",
       "      <th></th>\n",
       "      <th>features</th>\n",
       "      <th>label</th>\n",
       "    </tr>\n",
       "  </thead>\n",
       "  <tbody>\n",
       "    <tr>\n",
       "      <th>0</th>\n",
       "      <td>[[0.18951132300357568, 0.0, 0.0, 0.0, 0.0, 0.0...</td>\n",
       "      <td>gear</td>\n",
       "    </tr>\n",
       "    <tr>\n",
       "      <th>1</th>\n",
       "      <td>[[0.29499404052443384, 0.03137254901960784, 0....</td>\n",
       "      <td>gear</td>\n",
       "    </tr>\n",
       "    <tr>\n",
       "      <th>2</th>\n",
       "      <td>[[0.23659117997616208, 0.996078431372549, 0.42...</td>\n",
       "      <td>gear</td>\n",
       "    </tr>\n",
       "    <tr>\n",
       "      <th>3</th>\n",
       "      <td>[[0.5232419547079856, 0.0, 0.1702127659574468,...</td>\n",
       "      <td>gear</td>\n",
       "    </tr>\n",
       "    <tr>\n",
       "      <th>4</th>\n",
       "      <td>[[0.200834326579261, 0.0, 0.17553191489361702,...</td>\n",
       "      <td>gear</td>\n",
       "    </tr>\n",
       "  </tbody>\n",
       "</table>\n",
       "</div>"
      ],
      "text/plain": [
       "                                            features label\n",
       "0  [[0.18951132300357568, 0.0, 0.0, 0.0, 0.0, 0.0...  gear\n",
       "1  [[0.29499404052443384, 0.03137254901960784, 0....  gear\n",
       "2  [[0.23659117997616208, 0.996078431372549, 0.42...  gear\n",
       "3  [[0.5232419547079856, 0.0, 0.1702127659574468,...  gear\n",
       "4  [[0.200834326579261, 0.0, 0.17553191489361702,...  gear"
      ]
     },
     "execution_count": 20,
     "metadata": {},
     "output_type": "execute_result"
    }
   ],
   "source": [
    "gear_data = pd.read_csv(\"data/gear_dataset.csv\",nrows=row_num,sep=',',header=None)\n",
    "gear_data.columns = col_names\n",
    "gear_data = gear_data.dropna()\n",
    "gear_data = gear_data.drop(['time_stamp', 'dlc','R'], axis=1)\n",
    "gear_feature_df = create_feature(gear_data,\"gear\")\n",
    "gear_feature_df.head()\n"
   ]
  },
  {
   "cell_type": "code",
   "execution_count": 21,
   "id": "788fef33",
   "metadata": {},
   "outputs": [
    {
     "data": {
      "text/html": [
       "<div>\n",
       "<style scoped>\n",
       "    .dataframe tbody tr th:only-of-type {\n",
       "        vertical-align: middle;\n",
       "    }\n",
       "\n",
       "    .dataframe tbody tr th {\n",
       "        vertical-align: top;\n",
       "    }\n",
       "\n",
       "    .dataframe thead th {\n",
       "        text-align: right;\n",
       "    }\n",
       "</style>\n",
       "<table border=\"1\" class=\"dataframe\">\n",
       "  <thead>\n",
       "    <tr style=\"text-align: right;\">\n",
       "      <th></th>\n",
       "      <th>features</th>\n",
       "      <th>label</th>\n",
       "    </tr>\n",
       "  </thead>\n",
       "  <tbody>\n",
       "    <tr>\n",
       "      <th>0</th>\n",
       "      <td>[[0.46960667461263406, 0.0196078431372549, 0.1...</td>\n",
       "      <td>rpm</td>\n",
       "    </tr>\n",
       "    <tr>\n",
       "      <th>1</th>\n",
       "      <td>[[0.18057210965435042, 0.984313725490196, 0.69...</td>\n",
       "      <td>rpm</td>\n",
       "    </tr>\n",
       "    <tr>\n",
       "      <th>2</th>\n",
       "      <td>[[0.41835518474374256, 0.08235294117647059, 0....</td>\n",
       "      <td>rpm</td>\n",
       "    </tr>\n",
       "    <tr>\n",
       "      <th>3</th>\n",
       "      <td>[[0.5041716328963051, 0.0196078431372549, 0.17...</td>\n",
       "      <td>rpm</td>\n",
       "    </tr>\n",
       "    <tr>\n",
       "      <th>4</th>\n",
       "      <td>[[0.1799761620977354, 0.043137254901960784, 0....</td>\n",
       "      <td>rpm</td>\n",
       "    </tr>\n",
       "  </tbody>\n",
       "</table>\n",
       "</div>"
      ],
      "text/plain": [
       "                                            features label\n",
       "0  [[0.46960667461263406, 0.0196078431372549, 0.1...   rpm\n",
       "1  [[0.18057210965435042, 0.984313725490196, 0.69...   rpm\n",
       "2  [[0.41835518474374256, 0.08235294117647059, 0....   rpm\n",
       "3  [[0.5041716328963051, 0.0196078431372549, 0.17...   rpm\n",
       "4  [[0.1799761620977354, 0.043137254901960784, 0....   rpm"
      ]
     },
     "execution_count": 21,
     "metadata": {},
     "output_type": "execute_result"
    }
   ],
   "source": [
    "rpm_data = pd.read_csv(\"data/RPM_dataset.csv\",nrows=row_num,sep=',',header=None)\n",
    "rpm_data.columns = col_names\n",
    "rpm_data = rpm_data.dropna()\n",
    "rpm_data = rpm_data.drop(['time_stamp', 'dlc','R'], axis=1)\n",
    "rpm_feature_df = create_feature(rpm_data,\"rpm\")\n",
    "rpm_feature_df.head()\n"
   ]
  },
  {
   "cell_type": "markdown",
   "id": "01d29923",
   "metadata": {},
   "source": [
    "On linux run the follow code to coverte txt file format to csv file\n",
    "\n",
    "Orginal format:\n",
    "\n",
    "Timestamp: 1479121500.969313        ID: 0140    000    DLC: 8    00 00 00 00 1a 00 24 ee\n",
    "\n",
    "Expected format:\n",
    "\n",
    "1479121500.969313,0140,8,00,00,00,00,1a,00,24,ee\n",
    "\n",
    "\n",
    "- `sed -i 's/Timestamp: //g' normal_run_data.txt`\n",
    "- `sed -i 's/        ID: /,/g' normal_run_data.txt`\n",
    "- `sed -i 's/    000    DLC: /,/g' normal_run_data.txt`\n",
    "- `sed -i 's/    /,/g' normal_run_data.txt`"
   ]
  },
  {
   "cell_type": "code",
   "execution_count": 22,
   "id": "dcf83f0c",
   "metadata": {},
   "outputs": [
    {
     "data": {
      "text/html": [
       "<div>\n",
       "<style scoped>\n",
       "    .dataframe tbody tr th:only-of-type {\n",
       "        vertical-align: middle;\n",
       "    }\n",
       "\n",
       "    .dataframe tbody tr th {\n",
       "        vertical-align: top;\n",
       "    }\n",
       "\n",
       "    .dataframe thead th {\n",
       "        text-align: right;\n",
       "    }\n",
       "</style>\n",
       "<table border=\"1\" class=\"dataframe\">\n",
       "  <thead>\n",
       "    <tr style=\"text-align: right;\">\n",
       "      <th></th>\n",
       "      <th>features</th>\n",
       "      <th>label</th>\n",
       "    </tr>\n",
       "  </thead>\n",
       "  <tbody>\n",
       "    <tr>\n",
       "      <th>0</th>\n",
       "      <td>[[0.5041716328963051, 0.0196078431372549, 0.15...</td>\n",
       "      <td>norm</td>\n",
       "    </tr>\n",
       "    <tr>\n",
       "      <th>1</th>\n",
       "      <td>[[0.39928486293206195, 0.0, 0.0, 0.42125984251...</td>\n",
       "      <td>norm</td>\n",
       "    </tr>\n",
       "    <tr>\n",
       "      <th>2</th>\n",
       "      <td>[[0.18057210965435042, 0.9490196078431372, 0.5...</td>\n",
       "      <td>norm</td>\n",
       "    </tr>\n",
       "    <tr>\n",
       "      <th>3</th>\n",
       "      <td>[[0.6471990464839094, 1.0, 0.0, 0.0, 0.0, 1.0,...</td>\n",
       "      <td>norm</td>\n",
       "    </tr>\n",
       "    <tr>\n",
       "      <th>4</th>\n",
       "      <td>[[0.39928486293206195, 0.12549019607843137, 0....</td>\n",
       "      <td>norm</td>\n",
       "    </tr>\n",
       "  </tbody>\n",
       "</table>\n",
       "</div>"
      ],
      "text/plain": [
       "                                            features label\n",
       "0  [[0.5041716328963051, 0.0196078431372549, 0.15...  norm\n",
       "1  [[0.39928486293206195, 0.0, 0.0, 0.42125984251...  norm\n",
       "2  [[0.18057210965435042, 0.9490196078431372, 0.5...  norm\n",
       "3  [[0.6471990464839094, 1.0, 0.0, 0.0, 0.0, 1.0,...  norm\n",
       "4  [[0.39928486293206195, 0.12549019607843137, 0....  norm"
      ]
     },
     "execution_count": 22,
     "metadata": {},
     "output_type": "execute_result"
    }
   ],
   "source": [
    "norm_data = pd.read_csv(\"data/normal_run_data.txt\",nrows=row_num,sep=',',header=None)\n",
    "norm_data.columns = col_names[:11]\n",
    "norm_data = norm_data.dropna()\n",
    "norm_data = norm_data.drop(['time_stamp', 'dlc'], axis=1)\n",
    "norm_data_df = create_feature(norm_data,\"norm\")\n",
    "norm_data_df.head()"
   ]
  },
  {
   "cell_type": "markdown",
   "id": "6c3acef9",
   "metadata": {},
   "source": [
    "### 4. Combine the loaded datasets"
   ]
  },
  {
   "cell_type": "code",
   "execution_count": 23,
   "id": "d305481c",
   "metadata": {},
   "outputs": [
    {
     "data": {
      "text/html": [
       "<div>\n",
       "<style scoped>\n",
       "    .dataframe tbody tr th:only-of-type {\n",
       "        vertical-align: middle;\n",
       "    }\n",
       "\n",
       "    .dataframe tbody tr th {\n",
       "        vertical-align: top;\n",
       "    }\n",
       "\n",
       "    .dataframe thead th {\n",
       "        text-align: right;\n",
       "    }\n",
       "</style>\n",
       "<table border=\"1\" class=\"dataframe\">\n",
       "  <thead>\n",
       "    <tr style=\"text-align: right;\">\n",
       "      <th></th>\n",
       "      <th>features</th>\n",
       "      <th>label</th>\n",
       "    </tr>\n",
       "  </thead>\n",
       "  <tbody>\n",
       "    <tr>\n",
       "      <th>0</th>\n",
       "      <td>[[0.4702380952380953, 0.0196078431372549, 0.17...</td>\n",
       "      <td>dos</td>\n",
       "    </tr>\n",
       "    <tr>\n",
       "      <th>1</th>\n",
       "      <td>[[0.18095238095238098, 0.043137254901960784, 0...</td>\n",
       "      <td>dos</td>\n",
       "    </tr>\n",
       "    <tr>\n",
       "      <th>2</th>\n",
       "      <td>[[0.8029761904761905, 0.8470588235294118, 0.0,...</td>\n",
       "      <td>dos</td>\n",
       "    </tr>\n",
       "    <tr>\n",
       "      <th>3</th>\n",
       "      <td>[[0.4702380952380953, 0.0196078431372549, 0.17...</td>\n",
       "      <td>dos</td>\n",
       "    </tr>\n",
       "    <tr>\n",
       "      <th>4</th>\n",
       "      <td>[[0.18095238095238098, 0.09411764705882353, 0....</td>\n",
       "      <td>dos</td>\n",
       "    </tr>\n",
       "  </tbody>\n",
       "</table>\n",
       "</div>"
      ],
      "text/plain": [
       "                                            features label\n",
       "0  [[0.4702380952380953, 0.0196078431372549, 0.17...   dos\n",
       "1  [[0.18095238095238098, 0.043137254901960784, 0...   dos\n",
       "2  [[0.8029761904761905, 0.8470588235294118, 0.0,...   dos\n",
       "3  [[0.4702380952380953, 0.0196078431372549, 0.17...   dos\n",
       "4  [[0.18095238095238098, 0.09411764705882353, 0....   dos"
      ]
     },
     "execution_count": 23,
     "metadata": {},
     "output_type": "execute_result"
    }
   ],
   "source": [
    "final_data = pd.concat([dos_feature_df,fuzzy_feature_df,gear_feature_df,rpm_feature_df,norm_data_df],ignore_index = True)\n",
    "final_data.head()"
   ]
  },
  {
   "cell_type": "code",
   "execution_count": 24,
   "id": "f0194192",
   "metadata": {},
   "outputs": [
    {
     "data": {
      "text/html": [
       "<div>\n",
       "<style scoped>\n",
       "    .dataframe tbody tr th:only-of-type {\n",
       "        vertical-align: middle;\n",
       "    }\n",
       "\n",
       "    .dataframe tbody tr th {\n",
       "        vertical-align: top;\n",
       "    }\n",
       "\n",
       "    .dataframe thead th {\n",
       "        text-align: right;\n",
       "    }\n",
       "</style>\n",
       "<table border=\"1\" class=\"dataframe\">\n",
       "  <thead>\n",
       "    <tr style=\"text-align: right;\">\n",
       "      <th></th>\n",
       "      <th>features</th>\n",
       "      <th>label</th>\n",
       "    </tr>\n",
       "  </thead>\n",
       "  <tbody>\n",
       "    <tr>\n",
       "      <th>5661</th>\n",
       "      <td>[[0.200834326579261, 0.0, 0.0, 0.0, 1.0, 0.0, ...</td>\n",
       "      <td>norm</td>\n",
       "    </tr>\n",
       "    <tr>\n",
       "      <th>5662</th>\n",
       "      <td>[[0.39928486293206195, 0.25098039215686274, 0....</td>\n",
       "      <td>norm</td>\n",
       "    </tr>\n",
       "    <tr>\n",
       "      <th>5663</th>\n",
       "      <td>[[0.7520858164481525, 0.0, 0.1062992125984252,...</td>\n",
       "      <td>norm</td>\n",
       "    </tr>\n",
       "    <tr>\n",
       "      <th>5664</th>\n",
       "      <td>[[0.8027413587604291, 0.8470588235294118, 0.70...</td>\n",
       "      <td>norm</td>\n",
       "    </tr>\n",
       "    <tr>\n",
       "      <th>5665</th>\n",
       "      <td>[[0.23659117997616208, 0.996078431372549, 0.20...</td>\n",
       "      <td>norm</td>\n",
       "    </tr>\n",
       "  </tbody>\n",
       "</table>\n",
       "</div>"
      ],
      "text/plain": [
       "                                               features label\n",
       "5661  [[0.200834326579261, 0.0, 0.0, 0.0, 1.0, 0.0, ...  norm\n",
       "5662  [[0.39928486293206195, 0.25098039215686274, 0....  norm\n",
       "5663  [[0.7520858164481525, 0.0, 0.1062992125984252,...  norm\n",
       "5664  [[0.8027413587604291, 0.8470588235294118, 0.70...  norm\n",
       "5665  [[0.23659117997616208, 0.996078431372549, 0.20...  norm"
      ]
     },
     "execution_count": 24,
     "metadata": {},
     "output_type": "execute_result"
    }
   ],
   "source": [
    "final_data.tail()"
   ]
  },
  {
   "cell_type": "code",
   "execution_count": 25,
   "id": "17026d60",
   "metadata": {},
   "outputs": [],
   "source": [
    "from sklearn.utils import shuffle"
   ]
  },
  {
   "cell_type": "code",
   "execution_count": 26,
   "id": "f15b965f",
   "metadata": {},
   "outputs": [
    {
     "data": {
      "text/html": [
       "<div>\n",
       "<style scoped>\n",
       "    .dataframe tbody tr th:only-of-type {\n",
       "        vertical-align: middle;\n",
       "    }\n",
       "\n",
       "    .dataframe tbody tr th {\n",
       "        vertical-align: top;\n",
       "    }\n",
       "\n",
       "    .dataframe thead th {\n",
       "        text-align: right;\n",
       "    }\n",
       "</style>\n",
       "<table border=\"1\" class=\"dataframe\">\n",
       "  <thead>\n",
       "    <tr style=\"text-align: right;\">\n",
       "      <th></th>\n",
       "      <th>features</th>\n",
       "      <th>label</th>\n",
       "    </tr>\n",
       "  </thead>\n",
       "  <tbody>\n",
       "    <tr>\n",
       "      <th>565</th>\n",
       "      <td>[[0.1904761904761905, 0.0, 0.0, 0.0, 0.0, 0.03...</td>\n",
       "      <td>dos</td>\n",
       "    </tr>\n",
       "    <tr>\n",
       "      <th>62</th>\n",
       "      <td>[[0.5047619047619049, 0.0196078431372549, 0.16...</td>\n",
       "      <td>dos</td>\n",
       "    </tr>\n",
       "    <tr>\n",
       "      <th>586</th>\n",
       "      <td>[[0.0011904761904761906, 0.0, 0.0, 0.0, 0.0, 0...</td>\n",
       "      <td>dos</td>\n",
       "    </tr>\n",
       "    <tr>\n",
       "      <th>216</th>\n",
       "      <td>[[0.0, 0.0, 0.0, 0.0, 0.0, 0.0, 0.0, 0.0, 0.0]...</td>\n",
       "      <td>dos</td>\n",
       "    </tr>\n",
       "    <tr>\n",
       "      <th>2780</th>\n",
       "      <td>[[0.18057210965435042, 0.0196078431372549, 0.6...</td>\n",
       "      <td>gear</td>\n",
       "    </tr>\n",
       "  </tbody>\n",
       "</table>\n",
       "</div>"
      ],
      "text/plain": [
       "                                               features label\n",
       "565   [[0.1904761904761905, 0.0, 0.0, 0.0, 0.0, 0.03...   dos\n",
       "62    [[0.5047619047619049, 0.0196078431372549, 0.16...   dos\n",
       "586   [[0.0011904761904761906, 0.0, 0.0, 0.0, 0.0, 0...   dos\n",
       "216   [[0.0, 0.0, 0.0, 0.0, 0.0, 0.0, 0.0, 0.0, 0.0]...   dos\n",
       "2780  [[0.18057210965435042, 0.0196078431372549, 0.6...  gear"
      ]
     },
     "execution_count": 26,
     "metadata": {},
     "output_type": "execute_result"
    }
   ],
   "source": [
    "final_data = shuffle(final_data)\n",
    "final_data.head()"
   ]
  },
  {
   "cell_type": "code",
   "execution_count": 27,
   "id": "128cc70c-f959-4f47-b1d6-145645c9815c",
   "metadata": {},
   "outputs": [],
   "source": [
    "from sklearn.preprocessing import LabelBinarizer\n",
    "encoder = LabelBinarizer()\n",
    "transfomed_label = encoder.fit_transform(final_data.label)"
   ]
  },
  {
   "cell_type": "code",
   "execution_count": 28,
   "id": "07c066be-da25-4c64-85fe-ae68890a9469",
   "metadata": {},
   "outputs": [],
   "source": [
    "# transfomed_label = transfomed_label.astype(np.float32)"
   ]
  },
  {
   "cell_type": "code",
   "execution_count": 29,
   "id": "45180b74-8795-437d-8b9a-20a1e76ce942",
   "metadata": {},
   "outputs": [
    {
     "data": {
      "text/plain": [
       "(30, 9)"
      ]
     },
     "execution_count": 29,
     "metadata": {},
     "output_type": "execute_result"
    }
   ],
   "source": [
    "a = dos_feature_df.features[0]\n",
    "a.shape"
   ]
  },
  {
   "cell_type": "code",
   "execution_count": 30,
   "id": "56f0bbbc",
   "metadata": {},
   "outputs": [],
   "source": [
    "from tensorflow.keras.layers import Input,Conv1D,Dropout,MaxPooling1D,Flatten,Dense\n",
    "from tensorflow.keras.models import Sequential\n",
    "from tensorflow.keras.layers import concatenate"
   ]
  },
  {
   "cell_type": "code",
   "execution_count": 31,
   "id": "5594acce-1491-4df9-aae1-da72b2bb68fc",
   "metadata": {},
   "outputs": [],
   "source": [
    "n_time_steps = 30\n",
    "n_features = 9\n",
    "n_epoch = 150"
   ]
  },
  {
   "cell_type": "code",
   "execution_count": 32,
   "id": "79c9ed99-7d79-49c8-ae2a-665a764279fd",
   "metadata": {},
   "outputs": [
    {
     "data": {
      "text/plain": [
       "(9, 30)"
      ]
     },
     "execution_count": 32,
     "metadata": {},
     "output_type": "execute_result"
    }
   ],
   "source": [
    "(n_features,n_time_steps)"
   ]
  },
  {
   "cell_type": "code",
   "execution_count": 33,
   "id": "71998f74-c8a0-4926-9068-57b91f2a977b",
   "metadata": {},
   "outputs": [],
   "source": [
    "model = Sequential([\n",
    "# Input((n_time_steps,9)),\n",
    "Conv1D(input_shape=(n_time_steps,n_features),filters=16, kernel_size=3,activation='relu'),\n",
    "Conv1D(filters=16, kernel_size=3,activation='relu'),\n",
    "# Conv1D(filters=32, kernel_size=3,activation='relu'),\n",
    "MaxPooling1D(pool_size=16),\n",
    "\n",
    "Flatten(),\n",
    "Dense(8, activation='relu'),\n",
    "#   tf.keras.layers.Dense(4, activation='relu'),\n",
    "# Dropout(0.2),\n",
    "Dense(5, activation='softmax')\n",
    "])\n",
    "\n",
    "\n",
    "model.compile(optimizer='adam',\n",
    "\n",
    "          loss='categorical_crossentropy',\n",
    "\n",
    "          metrics=['categorical_accuracy'])"
   ]
  },
  {
   "cell_type": "code",
   "execution_count": 34,
   "id": "d0987eab-961a-4d22-8d36-431580770dde",
   "metadata": {},
   "outputs": [
    {
     "name": "stdout",
     "output_type": "stream",
     "text": [
      "Model: \"sequential\"\n",
      "_________________________________________________________________\n",
      "Layer (type)                 Output Shape              Param #   \n",
      "=================================================================\n",
      "conv1d (Conv1D)              (None, 28, 16)            448       \n",
      "_________________________________________________________________\n",
      "conv1d_1 (Conv1D)            (None, 26, 16)            784       \n",
      "_________________________________________________________________\n",
      "max_pooling1d (MaxPooling1D) (None, 1, 16)             0         \n",
      "_________________________________________________________________\n",
      "flatten (Flatten)            (None, 16)                0         \n",
      "_________________________________________________________________\n",
      "dense (Dense)                (None, 8)                 136       \n",
      "_________________________________________________________________\n",
      "dense_1 (Dense)              (None, 5)                 45        \n",
      "=================================================================\n",
      "Total params: 1,413\n",
      "Trainable params: 1,413\n",
      "Non-trainable params: 0\n",
      "_________________________________________________________________\n"
     ]
    }
   ],
   "source": [
    "model.summary()"
   ]
  },
  {
   "cell_type": "code",
   "execution_count": 35,
   "id": "4d3f20d6-ffa4-49e7-949b-bf0903ed9968",
   "metadata": {},
   "outputs": [],
   "source": [
    "features = np.concatenate(final_data.features.values)\n",
    "features = features.reshape(-1,n_time_steps,n_features)"
   ]
  },
  {
   "cell_type": "code",
   "execution_count": 36,
   "id": "9ac0e077-55ec-4891-98e0-cb2f4e0aab46",
   "metadata": {},
   "outputs": [
    {
     "data": {
      "text/plain": [
       "(5666, 30, 9)"
      ]
     },
     "execution_count": 36,
     "metadata": {},
     "output_type": "execute_result"
    }
   ],
   "source": [
    "features.shape"
   ]
  },
  {
   "cell_type": "code",
   "execution_count": 37,
   "id": "cafe2a3c-8b64-4368-ae40-797d7bf5b47b",
   "metadata": {},
   "outputs": [
    {
     "name": "stdout",
     "output_type": "stream",
     "text": [
      "Epoch 1/150\n",
      "79/79 [==============================] - 2s 4ms/step - loss: 1.5136 - categorical_accuracy: 0.4020 - val_loss: 1.4036 - val_categorical_accuracy: 0.5210\n",
      "Epoch 2/150\n",
      "79/79 [==============================] - 0s 2ms/step - loss: 1.2603 - categorical_accuracy: 0.5442 - val_loss: 1.0913 - val_categorical_accuracy: 0.6111\n",
      "Epoch 3/150\n",
      "79/79 [==============================] - 0s 2ms/step - loss: 0.9604 - categorical_accuracy: 0.6402 - val_loss: 0.8084 - val_categorical_accuracy: 0.7042\n",
      "Epoch 4/150\n",
      "79/79 [==============================] - 0s 3ms/step - loss: 0.7084 - categorical_accuracy: 0.7748 - val_loss: 0.5906 - val_categorical_accuracy: 0.8544\n",
      "Epoch 5/150\n",
      "79/79 [==============================] - 0s 3ms/step - loss: 0.5331 - categorical_accuracy: 0.8428 - val_loss: 0.4643 - val_categorical_accuracy: 0.8739\n",
      "Epoch 6/150\n",
      "79/79 [==============================] - 0s 3ms/step - loss: 0.4259 - categorical_accuracy: 0.8810 - val_loss: 0.3891 - val_categorical_accuracy: 0.8964\n",
      "Epoch 7/150\n",
      "79/79 [==============================] - 0s 3ms/step - loss: 0.3607 - categorical_accuracy: 0.9000 - val_loss: 0.3427 - val_categorical_accuracy: 0.9039\n",
      "Epoch 8/150\n",
      "79/79 [==============================] - 0s 3ms/step - loss: 0.3115 - categorical_accuracy: 0.9142 - val_loss: 0.2964 - val_categorical_accuracy: 0.9174\n",
      "Epoch 9/150\n",
      "79/79 [==============================] - 0s 2ms/step - loss: 0.2791 - categorical_accuracy: 0.9242 - val_loss: 0.2752 - val_categorical_accuracy: 0.9174\n",
      "Epoch 10/150\n",
      "79/79 [==============================] - 0s 2ms/step - loss: 0.2496 - categorical_accuracy: 0.9316 - val_loss: 0.2524 - val_categorical_accuracy: 0.9204\n",
      "Epoch 11/150\n",
      "79/79 [==============================] - 0s 3ms/step - loss: 0.2279 - categorical_accuracy: 0.9360 - val_loss: 0.2277 - val_categorical_accuracy: 0.9294\n",
      "Epoch 12/150\n",
      "79/79 [==============================] - 0s 3ms/step - loss: 0.2057 - categorical_accuracy: 0.9432 - val_loss: 0.2237 - val_categorical_accuracy: 0.9234\n",
      "Epoch 13/150\n",
      "79/79 [==============================] - 0s 3ms/step - loss: 0.1896 - categorical_accuracy: 0.9476 - val_loss: 0.1885 - val_categorical_accuracy: 0.9429\n",
      "Epoch 14/150\n",
      "79/79 [==============================] - 0s 2ms/step - loss: 0.1731 - categorical_accuracy: 0.9518 - val_loss: 0.1722 - val_categorical_accuracy: 0.9444\n",
      "Epoch 15/150\n",
      "79/79 [==============================] - 0s 3ms/step - loss: 0.1590 - categorical_accuracy: 0.9566 - val_loss: 0.1668 - val_categorical_accuracy: 0.9520\n",
      "Epoch 16/150\n",
      "79/79 [==============================] - 0s 3ms/step - loss: 0.1455 - categorical_accuracy: 0.9610 - val_loss: 0.1441 - val_categorical_accuracy: 0.9535\n",
      "Epoch 17/150\n",
      "79/79 [==============================] - 0s 4ms/step - loss: 0.1326 - categorical_accuracy: 0.9646 - val_loss: 0.1324 - val_categorical_accuracy: 0.9625\n",
      "Epoch 18/150\n",
      "79/79 [==============================] - 0s 3ms/step - loss: 0.1249 - categorical_accuracy: 0.9656 - val_loss: 0.1295 - val_categorical_accuracy: 0.9565\n",
      "Epoch 19/150\n",
      "79/79 [==============================] - 0s 3ms/step - loss: 0.1154 - categorical_accuracy: 0.9674 - val_loss: 0.1181 - val_categorical_accuracy: 0.9580\n",
      "Epoch 20/150\n",
      "79/79 [==============================] - 0s 3ms/step - loss: 0.1070 - categorical_accuracy: 0.9706 - val_loss: 0.1211 - val_categorical_accuracy: 0.9580\n",
      "Epoch 21/150\n",
      "79/79 [==============================] - 0s 3ms/step - loss: 0.1012 - categorical_accuracy: 0.9718 - val_loss: 0.1099 - val_categorical_accuracy: 0.9640\n",
      "Epoch 22/150\n",
      "79/79 [==============================] - 0s 4ms/step - loss: 0.0946 - categorical_accuracy: 0.9740 - val_loss: 0.1058 - val_categorical_accuracy: 0.9640\n",
      "Epoch 23/150\n",
      "79/79 [==============================] - 0s 3ms/step - loss: 0.0913 - categorical_accuracy: 0.9768 - val_loss: 0.0967 - val_categorical_accuracy: 0.9685\n",
      "Epoch 24/150\n",
      "79/79 [==============================] - 0s 3ms/step - loss: 0.0812 - categorical_accuracy: 0.9776 - val_loss: 0.0921 - val_categorical_accuracy: 0.9685\n",
      "Epoch 25/150\n",
      "79/79 [==============================] - 0s 3ms/step - loss: 0.0786 - categorical_accuracy: 0.9792 - val_loss: 0.0963 - val_categorical_accuracy: 0.9685\n",
      "Epoch 26/150\n",
      "79/79 [==============================] - 0s 3ms/step - loss: 0.0757 - categorical_accuracy: 0.9788 - val_loss: 0.0889 - val_categorical_accuracy: 0.9700\n",
      "Epoch 27/150\n",
      "79/79 [==============================] - 0s 3ms/step - loss: 0.0702 - categorical_accuracy: 0.9826 - val_loss: 0.0835 - val_categorical_accuracy: 0.9715\n",
      "Epoch 28/150\n",
      "79/79 [==============================] - 0s 3ms/step - loss: 0.0672 - categorical_accuracy: 0.9828 - val_loss: 0.0788 - val_categorical_accuracy: 0.9745\n",
      "Epoch 29/150\n",
      "79/79 [==============================] - 0s 3ms/step - loss: 0.0641 - categorical_accuracy: 0.9824 - val_loss: 0.0747 - val_categorical_accuracy: 0.9775\n",
      "Epoch 30/150\n",
      "79/79 [==============================] - 0s 3ms/step - loss: 0.0604 - categorical_accuracy: 0.9832 - val_loss: 0.0722 - val_categorical_accuracy: 0.9745\n",
      "Epoch 31/150\n",
      "79/79 [==============================] - 0s 3ms/step - loss: 0.0606 - categorical_accuracy: 0.9844 - val_loss: 0.0710 - val_categorical_accuracy: 0.9790\n",
      "Epoch 32/150\n",
      "79/79 [==============================] - 0s 3ms/step - loss: 0.0551 - categorical_accuracy: 0.9860 - val_loss: 0.0736 - val_categorical_accuracy: 0.9745\n",
      "Epoch 33/150\n",
      "79/79 [==============================] - 0s 2ms/step - loss: 0.0547 - categorical_accuracy: 0.9858 - val_loss: 0.0747 - val_categorical_accuracy: 0.9805\n",
      "Epoch 34/150\n",
      "79/79 [==============================] - 0s 3ms/step - loss: 0.0528 - categorical_accuracy: 0.9858 - val_loss: 0.0653 - val_categorical_accuracy: 0.9790\n",
      "Epoch 35/150\n",
      "79/79 [==============================] - 0s 3ms/step - loss: 0.0505 - categorical_accuracy: 0.9866 - val_loss: 0.0660 - val_categorical_accuracy: 0.9775\n",
      "Epoch 36/150\n",
      "79/79 [==============================] - 0s 3ms/step - loss: 0.0522 - categorical_accuracy: 0.9846 - val_loss: 0.0638 - val_categorical_accuracy: 0.9820\n",
      "Epoch 37/150\n",
      "79/79 [==============================] - 0s 2ms/step - loss: 0.0472 - categorical_accuracy: 0.9872 - val_loss: 0.0629 - val_categorical_accuracy: 0.9850\n",
      "Epoch 38/150\n",
      "79/79 [==============================] - 0s 3ms/step - loss: 0.0464 - categorical_accuracy: 0.9876 - val_loss: 0.0583 - val_categorical_accuracy: 0.9850\n",
      "Epoch 39/150\n",
      "79/79 [==============================] - 0s 3ms/step - loss: 0.0434 - categorical_accuracy: 0.9894 - val_loss: 0.0613 - val_categorical_accuracy: 0.9790\n",
      "Epoch 40/150\n",
      "79/79 [==============================] - 0s 3ms/step - loss: 0.0398 - categorical_accuracy: 0.9904 - val_loss: 0.0599 - val_categorical_accuracy: 0.9805\n",
      "Epoch 41/150\n",
      "79/79 [==============================] - 0s 3ms/step - loss: 0.0380 - categorical_accuracy: 0.9918 - val_loss: 0.0690 - val_categorical_accuracy: 0.9835\n",
      "Epoch 42/150\n",
      "79/79 [==============================] - 0s 3ms/step - loss: 0.0374 - categorical_accuracy: 0.9904 - val_loss: 0.0538 - val_categorical_accuracy: 0.9865\n",
      "Epoch 43/150\n",
      "79/79 [==============================] - 0s 3ms/step - loss: 0.0346 - categorical_accuracy: 0.9914 - val_loss: 0.0536 - val_categorical_accuracy: 0.9850\n",
      "Epoch 44/150\n",
      "79/79 [==============================] - 0s 3ms/step - loss: 0.0347 - categorical_accuracy: 0.9908 - val_loss: 0.0503 - val_categorical_accuracy: 0.9880\n",
      "Epoch 45/150\n",
      "79/79 [==============================] - 0s 3ms/step - loss: 0.0344 - categorical_accuracy: 0.9916 - val_loss: 0.0554 - val_categorical_accuracy: 0.9790\n",
      "Epoch 46/150\n",
      "79/79 [==============================] - 0s 3ms/step - loss: 0.0319 - categorical_accuracy: 0.9926 - val_loss: 0.0494 - val_categorical_accuracy: 0.9865\n",
      "Epoch 47/150\n",
      "79/79 [==============================] - 0s 3ms/step - loss: 0.0306 - categorical_accuracy: 0.9936 - val_loss: 0.0515 - val_categorical_accuracy: 0.9835\n",
      "Epoch 48/150\n",
      "79/79 [==============================] - 0s 3ms/step - loss: 0.0294 - categorical_accuracy: 0.9930 - val_loss: 0.0664 - val_categorical_accuracy: 0.9805\n",
      "Epoch 49/150\n",
      "79/79 [==============================] - 0s 3ms/step - loss: 0.0332 - categorical_accuracy: 0.9900 - val_loss: 0.0503 - val_categorical_accuracy: 0.9865\n",
      "Epoch 50/150\n",
      "79/79 [==============================] - 0s 3ms/step - loss: 0.0294 - categorical_accuracy: 0.9930 - val_loss: 0.0501 - val_categorical_accuracy: 0.9850\n",
      "Epoch 51/150\n",
      "79/79 [==============================] - 0s 2ms/step - loss: 0.0260 - categorical_accuracy: 0.9936 - val_loss: 0.0559 - val_categorical_accuracy: 0.9820\n",
      "Epoch 52/150\n",
      "79/79 [==============================] - 0s 3ms/step - loss: 0.0295 - categorical_accuracy: 0.9920 - val_loss: 0.0510 - val_categorical_accuracy: 0.9865\n",
      "Epoch 53/150\n",
      "79/79 [==============================] - 0s 3ms/step - loss: 0.0270 - categorical_accuracy: 0.9934 - val_loss: 0.0692 - val_categorical_accuracy: 0.9790\n",
      "Epoch 54/150\n",
      "79/79 [==============================] - 0s 3ms/step - loss: 0.0303 - categorical_accuracy: 0.9922 - val_loss: 0.0473 - val_categorical_accuracy: 0.9880\n",
      "Epoch 55/150\n",
      "79/79 [==============================] - 0s 3ms/step - loss: 0.0224 - categorical_accuracy: 0.9956 - val_loss: 0.0462 - val_categorical_accuracy: 0.9835\n",
      "Epoch 56/150\n",
      "79/79 [==============================] - 0s 2ms/step - loss: 0.0220 - categorical_accuracy: 0.9952 - val_loss: 0.0480 - val_categorical_accuracy: 0.9850\n",
      "Epoch 57/150\n",
      "79/79 [==============================] - 0s 2ms/step - loss: 0.0204 - categorical_accuracy: 0.9960 - val_loss: 0.0454 - val_categorical_accuracy: 0.9880\n",
      "Epoch 58/150\n",
      "79/79 [==============================] - 0s 2ms/step - loss: 0.0193 - categorical_accuracy: 0.9962 - val_loss: 0.0463 - val_categorical_accuracy: 0.9895\n",
      "Epoch 59/150\n",
      "79/79 [==============================] - 0s 2ms/step - loss: 0.0193 - categorical_accuracy: 0.9964 - val_loss: 0.0446 - val_categorical_accuracy: 0.9895\n",
      "Epoch 60/150\n",
      "79/79 [==============================] - 0s 2ms/step - loss: 0.0186 - categorical_accuracy: 0.9958 - val_loss: 0.0484 - val_categorical_accuracy: 0.9865\n",
      "Epoch 61/150\n",
      "79/79 [==============================] - 0s 3ms/step - loss: 0.0181 - categorical_accuracy: 0.9966 - val_loss: 0.0403 - val_categorical_accuracy: 0.9910\n",
      "Epoch 62/150\n",
      "79/79 [==============================] - 0s 3ms/step - loss: 0.0190 - categorical_accuracy: 0.9960 - val_loss: 0.0420 - val_categorical_accuracy: 0.9880\n",
      "Epoch 63/150\n",
      "79/79 [==============================] - 0s 3ms/step - loss: 0.0175 - categorical_accuracy: 0.9962 - val_loss: 0.0411 - val_categorical_accuracy: 0.9865\n",
      "Epoch 64/150\n",
      "79/79 [==============================] - 0s 2ms/step - loss: 0.0173 - categorical_accuracy: 0.9960 - val_loss: 0.0423 - val_categorical_accuracy: 0.9880\n",
      "Epoch 65/150\n",
      "79/79 [==============================] - 0s 2ms/step - loss: 0.0174 - categorical_accuracy: 0.9962 - val_loss: 0.0387 - val_categorical_accuracy: 0.9895\n",
      "Epoch 66/150\n",
      "79/79 [==============================] - 0s 2ms/step - loss: 0.0153 - categorical_accuracy: 0.9976 - val_loss: 0.0416 - val_categorical_accuracy: 0.9910\n",
      "Epoch 67/150\n",
      "79/79 [==============================] - 0s 2ms/step - loss: 0.0156 - categorical_accuracy: 0.9968 - val_loss: 0.0426 - val_categorical_accuracy: 0.9895\n",
      "Epoch 68/150\n",
      "79/79 [==============================] - 0s 3ms/step - loss: 0.0163 - categorical_accuracy: 0.9968 - val_loss: 0.0384 - val_categorical_accuracy: 0.9895\n",
      "Epoch 69/150\n",
      "79/79 [==============================] - 0s 3ms/step - loss: 0.0152 - categorical_accuracy: 0.9970 - val_loss: 0.0420 - val_categorical_accuracy: 0.9910\n",
      "Epoch 70/150\n",
      "79/79 [==============================] - 0s 3ms/step - loss: 0.0132 - categorical_accuracy: 0.9982 - val_loss: 0.0383 - val_categorical_accuracy: 0.9910\n",
      "Epoch 71/150\n",
      "79/79 [==============================] - 0s 3ms/step - loss: 0.0133 - categorical_accuracy: 0.9976 - val_loss: 0.0347 - val_categorical_accuracy: 0.9910\n",
      "Epoch 72/150\n",
      "79/79 [==============================] - 0s 3ms/step - loss: 0.0138 - categorical_accuracy: 0.9972 - val_loss: 0.0452 - val_categorical_accuracy: 0.9880\n",
      "Epoch 73/150\n",
      "79/79 [==============================] - 0s 3ms/step - loss: 0.0134 - categorical_accuracy: 0.9974 - val_loss: 0.0448 - val_categorical_accuracy: 0.9865\n",
      "Epoch 74/150\n",
      "79/79 [==============================] - 0s 3ms/step - loss: 0.0128 - categorical_accuracy: 0.9974 - val_loss: 0.0358 - val_categorical_accuracy: 0.9925\n",
      "Epoch 75/150\n",
      "79/79 [==============================] - 0s 3ms/step - loss: 0.0112 - categorical_accuracy: 0.9976 - val_loss: 0.0426 - val_categorical_accuracy: 0.9880\n",
      "Epoch 76/150\n",
      "79/79 [==============================] - 0s 3ms/step - loss: 0.0108 - categorical_accuracy: 0.9986 - val_loss: 0.0358 - val_categorical_accuracy: 0.9895\n",
      "Epoch 77/150\n",
      "79/79 [==============================] - 0s 2ms/step - loss: 0.0112 - categorical_accuracy: 0.9972 - val_loss: 0.0422 - val_categorical_accuracy: 0.9850\n",
      "Epoch 78/150\n",
      "79/79 [==============================] - 0s 2ms/step - loss: 0.0103 - categorical_accuracy: 0.9982 - val_loss: 0.0418 - val_categorical_accuracy: 0.9865\n",
      "Epoch 79/150\n",
      "79/79 [==============================] - 0s 3ms/step - loss: 0.0096 - categorical_accuracy: 0.9986 - val_loss: 0.0334 - val_categorical_accuracy: 0.9880\n",
      "Epoch 80/150\n",
      "79/79 [==============================] - 0s 3ms/step - loss: 0.0091 - categorical_accuracy: 0.9986 - val_loss: 0.0353 - val_categorical_accuracy: 0.9925\n",
      "Epoch 81/150\n",
      "79/79 [==============================] - 0s 2ms/step - loss: 0.0083 - categorical_accuracy: 0.9990 - val_loss: 0.0390 - val_categorical_accuracy: 0.9895\n",
      "Epoch 82/150\n",
      "79/79 [==============================] - 0s 2ms/step - loss: 0.0084 - categorical_accuracy: 0.9988 - val_loss: 0.0350 - val_categorical_accuracy: 0.9925\n",
      "Epoch 83/150\n",
      "79/79 [==============================] - 0s 2ms/step - loss: 0.0084 - categorical_accuracy: 0.9986 - val_loss: 0.0445 - val_categorical_accuracy: 0.9850\n",
      "Epoch 84/150\n",
      "79/79 [==============================] - 0s 2ms/step - loss: 0.0089 - categorical_accuracy: 0.9978 - val_loss: 0.0338 - val_categorical_accuracy: 0.9925\n",
      "Epoch 85/150\n",
      "79/79 [==============================] - 0s 2ms/step - loss: 0.0086 - categorical_accuracy: 0.9988 - val_loss: 0.0340 - val_categorical_accuracy: 0.9925\n",
      "Epoch 86/150\n",
      "79/79 [==============================] - 0s 3ms/step - loss: 0.0074 - categorical_accuracy: 0.9992 - val_loss: 0.0366 - val_categorical_accuracy: 0.9895\n",
      "Epoch 87/150\n",
      "79/79 [==============================] - 0s 3ms/step - loss: 0.0070 - categorical_accuracy: 0.9994 - val_loss: 0.0354 - val_categorical_accuracy: 0.9925\n",
      "Epoch 88/150\n",
      "79/79 [==============================] - 0s 3ms/step - loss: 0.0067 - categorical_accuracy: 0.9994 - val_loss: 0.0402 - val_categorical_accuracy: 0.9895\n",
      "Epoch 89/150\n",
      "79/79 [==============================] - 0s 3ms/step - loss: 0.0074 - categorical_accuracy: 0.9992 - val_loss: 0.0355 - val_categorical_accuracy: 0.9895\n",
      "Epoch 90/150\n",
      "79/79 [==============================] - 0s 3ms/step - loss: 0.0070 - categorical_accuracy: 0.9996 - val_loss: 0.0326 - val_categorical_accuracy: 0.9925\n",
      "Epoch 91/150\n",
      "79/79 [==============================] - 0s 3ms/step - loss: 0.0059 - categorical_accuracy: 0.9996 - val_loss: 0.0331 - val_categorical_accuracy: 0.9910\n",
      "Epoch 92/150\n",
      "79/79 [==============================] - 0s 3ms/step - loss: 0.0057 - categorical_accuracy: 0.9992 - val_loss: 0.0369 - val_categorical_accuracy: 0.9895\n",
      "Epoch 93/150\n",
      "79/79 [==============================] - 0s 3ms/step - loss: 0.0085 - categorical_accuracy: 0.9980 - val_loss: 0.0452 - val_categorical_accuracy: 0.9895\n",
      "Epoch 94/150\n",
      "79/79 [==============================] - 0s 2ms/step - loss: 0.0059 - categorical_accuracy: 0.9994 - val_loss: 0.0287 - val_categorical_accuracy: 0.9925\n",
      "Epoch 95/150\n",
      "79/79 [==============================] - 0s 2ms/step - loss: 0.0050 - categorical_accuracy: 0.9994 - val_loss: 0.0299 - val_categorical_accuracy: 0.9925\n",
      "Epoch 96/150\n",
      "79/79 [==============================] - 0s 2ms/step - loss: 0.0077 - categorical_accuracy: 0.9984 - val_loss: 0.0629 - val_categorical_accuracy: 0.9790\n",
      "Epoch 97/150\n",
      "79/79 [==============================] - 0s 2ms/step - loss: 0.0086 - categorical_accuracy: 0.9982 - val_loss: 0.0388 - val_categorical_accuracy: 0.9850\n",
      "Epoch 98/150\n",
      "79/79 [==============================] - 0s 2ms/step - loss: 0.0063 - categorical_accuracy: 0.9988 - val_loss: 0.0347 - val_categorical_accuracy: 0.9910\n",
      "Epoch 99/150\n",
      "79/79 [==============================] - 0s 2ms/step - loss: 0.0048 - categorical_accuracy: 0.9994 - val_loss: 0.0334 - val_categorical_accuracy: 0.9910\n",
      "Epoch 100/150\n",
      "79/79 [==============================] - 0s 2ms/step - loss: 0.0040 - categorical_accuracy: 0.9998 - val_loss: 0.0322 - val_categorical_accuracy: 0.9895\n",
      "Epoch 101/150\n",
      "79/79 [==============================] - 0s 2ms/step - loss: 0.0045 - categorical_accuracy: 0.9994 - val_loss: 0.0304 - val_categorical_accuracy: 0.9925\n",
      "Epoch 102/150\n",
      "79/79 [==============================] - 0s 2ms/step - loss: 0.0049 - categorical_accuracy: 0.9990 - val_loss: 0.0338 - val_categorical_accuracy: 0.9910\n",
      "Epoch 103/150\n",
      "79/79 [==============================] - 0s 2ms/step - loss: 0.0052 - categorical_accuracy: 0.9992 - val_loss: 0.0311 - val_categorical_accuracy: 0.9925\n",
      "Epoch 104/150\n",
      "79/79 [==============================] - 0s 2ms/step - loss: 0.0040 - categorical_accuracy: 0.9994 - val_loss: 0.0352 - val_categorical_accuracy: 0.9895\n",
      "Epoch 105/150\n",
      "79/79 [==============================] - 0s 2ms/step - loss: 0.0032 - categorical_accuracy: 1.0000 - val_loss: 0.0438 - val_categorical_accuracy: 0.9895\n",
      "Epoch 106/150\n",
      "79/79 [==============================] - 0s 2ms/step - loss: 0.0038 - categorical_accuracy: 1.0000 - val_loss: 0.0318 - val_categorical_accuracy: 0.9910\n",
      "Epoch 107/150\n",
      "79/79 [==============================] - 0s 2ms/step - loss: 0.0030 - categorical_accuracy: 0.9996 - val_loss: 0.0373 - val_categorical_accuracy: 0.9910\n",
      "Epoch 108/150\n",
      "79/79 [==============================] - 0s 3ms/step - loss: 0.0029 - categorical_accuracy: 1.0000 - val_loss: 0.0321 - val_categorical_accuracy: 0.9895\n",
      "Epoch 109/150\n",
      "79/79 [==============================] - 0s 4ms/step - loss: 0.0029 - categorical_accuracy: 0.9996 - val_loss: 0.0308 - val_categorical_accuracy: 0.9910\n",
      "Epoch 110/150\n",
      "79/79 [==============================] - 0s 2ms/step - loss: 0.0032 - categorical_accuracy: 0.9998 - val_loss: 0.0328 - val_categorical_accuracy: 0.9895\n",
      "Epoch 111/150\n",
      "79/79 [==============================] - 0s 2ms/step - loss: 0.0032 - categorical_accuracy: 0.9996 - val_loss: 0.0397 - val_categorical_accuracy: 0.9895\n",
      "Epoch 112/150\n",
      "79/79 [==============================] - 0s 2ms/step - loss: 0.0052 - categorical_accuracy: 0.9990 - val_loss: 0.0518 - val_categorical_accuracy: 0.9865\n",
      "Epoch 113/150\n",
      "79/79 [==============================] - 0s 2ms/step - loss: 0.0034 - categorical_accuracy: 0.9996 - val_loss: 0.0344 - val_categorical_accuracy: 0.9895\n",
      "Epoch 114/150\n",
      "79/79 [==============================] - 0s 2ms/step - loss: 0.0026 - categorical_accuracy: 0.9998 - val_loss: 0.0283 - val_categorical_accuracy: 0.9940\n",
      "Epoch 115/150\n",
      "79/79 [==============================] - 0s 2ms/step - loss: 0.0025 - categorical_accuracy: 1.0000 - val_loss: 0.0299 - val_categorical_accuracy: 0.9925\n",
      "Epoch 116/150\n",
      "79/79 [==============================] - 0s 2ms/step - loss: 0.0025 - categorical_accuracy: 1.0000 - val_loss: 0.0307 - val_categorical_accuracy: 0.9895\n",
      "Epoch 117/150\n",
      "79/79 [==============================] - 0s 2ms/step - loss: 0.0022 - categorical_accuracy: 0.9998 - val_loss: 0.0291 - val_categorical_accuracy: 0.9910\n",
      "Epoch 118/150\n",
      "79/79 [==============================] - 0s 2ms/step - loss: 0.0020 - categorical_accuracy: 1.0000 - val_loss: 0.0326 - val_categorical_accuracy: 0.9895\n",
      "Epoch 119/150\n",
      "79/79 [==============================] - 0s 2ms/step - loss: 0.0026 - categorical_accuracy: 0.9996 - val_loss: 0.0344 - val_categorical_accuracy: 0.9880\n",
      "Epoch 120/150\n",
      "79/79 [==============================] - 0s 2ms/step - loss: 0.0021 - categorical_accuracy: 0.9998 - val_loss: 0.0317 - val_categorical_accuracy: 0.9910\n",
      "Epoch 121/150\n",
      "79/79 [==============================] - 0s 2ms/step - loss: 0.0021 - categorical_accuracy: 1.0000 - val_loss: 0.0287 - val_categorical_accuracy: 0.9910\n",
      "Epoch 122/150\n",
      "79/79 [==============================] - 0s 2ms/step - loss: 0.0027 - categorical_accuracy: 0.9998 - val_loss: 0.0318 - val_categorical_accuracy: 0.9910\n",
      "Epoch 123/150\n",
      "79/79 [==============================] - 0s 2ms/step - loss: 0.0020 - categorical_accuracy: 0.9998 - val_loss: 0.0566 - val_categorical_accuracy: 0.9865\n",
      "Epoch 124/150\n",
      "79/79 [==============================] - 0s 2ms/step - loss: 0.0023 - categorical_accuracy: 0.9998 - val_loss: 0.0338 - val_categorical_accuracy: 0.9895\n",
      "Epoch 125/150\n",
      "79/79 [==============================] - 0s 3ms/step - loss: 0.0038 - categorical_accuracy: 0.9988 - val_loss: 0.0382 - val_categorical_accuracy: 0.9910\n",
      "Epoch 126/150\n",
      "79/79 [==============================] - 0s 2ms/step - loss: 0.0023 - categorical_accuracy: 0.9998 - val_loss: 0.0354 - val_categorical_accuracy: 0.9895\n",
      "Epoch 127/150\n",
      "79/79 [==============================] - 0s 2ms/step - loss: 0.0022 - categorical_accuracy: 0.9996 - val_loss: 0.0337 - val_categorical_accuracy: 0.9895\n",
      "Epoch 128/150\n",
      "79/79 [==============================] - 0s 2ms/step - loss: 0.0015 - categorical_accuracy: 1.0000 - val_loss: 0.0294 - val_categorical_accuracy: 0.9895\n",
      "Epoch 129/150\n",
      "79/79 [==============================] - 0s 2ms/step - loss: 0.0020 - categorical_accuracy: 0.9998 - val_loss: 0.0329 - val_categorical_accuracy: 0.9880\n",
      "Epoch 130/150\n",
      "79/79 [==============================] - 0s 2ms/step - loss: 0.0017 - categorical_accuracy: 0.9998 - val_loss: 0.0368 - val_categorical_accuracy: 0.9910\n",
      "Epoch 131/150\n",
      "79/79 [==============================] - 0s 2ms/step - loss: 0.0025 - categorical_accuracy: 0.9996 - val_loss: 0.0352 - val_categorical_accuracy: 0.9895\n",
      "Epoch 132/150\n",
      "79/79 [==============================] - 0s 2ms/step - loss: 0.0016 - categorical_accuracy: 1.0000 - val_loss: 0.0381 - val_categorical_accuracy: 0.9880\n",
      "Epoch 133/150\n",
      "79/79 [==============================] - 0s 2ms/step - loss: 0.0017 - categorical_accuracy: 0.9998 - val_loss: 0.0306 - val_categorical_accuracy: 0.9910\n",
      "Epoch 134/150\n",
      "79/79 [==============================] - 0s 2ms/step - loss: 0.0015 - categorical_accuracy: 1.0000 - val_loss: 0.0322 - val_categorical_accuracy: 0.9895\n",
      "Epoch 135/150\n",
      "79/79 [==============================] - 0s 2ms/step - loss: 0.0012 - categorical_accuracy: 1.0000 - val_loss: 0.0318 - val_categorical_accuracy: 0.9895\n",
      "Epoch 136/150\n",
      "79/79 [==============================] - 0s 2ms/step - loss: 0.0013 - categorical_accuracy: 1.0000 - val_loss: 0.0334 - val_categorical_accuracy: 0.9925\n",
      "Epoch 137/150\n",
      "79/79 [==============================] - 0s 2ms/step - loss: 0.0017 - categorical_accuracy: 0.9998 - val_loss: 0.0284 - val_categorical_accuracy: 0.9925\n",
      "Epoch 138/150\n",
      "79/79 [==============================] - 0s 3ms/step - loss: 0.0051 - categorical_accuracy: 0.9982 - val_loss: 0.0397 - val_categorical_accuracy: 0.9895\n",
      "Epoch 139/150\n",
      "79/79 [==============================] - 0s 3ms/step - loss: 0.0018 - categorical_accuracy: 1.0000 - val_loss: 0.0343 - val_categorical_accuracy: 0.9865\n",
      "Epoch 140/150\n",
      "79/79 [==============================] - 0s 2ms/step - loss: 0.0013 - categorical_accuracy: 1.0000 - val_loss: 0.0358 - val_categorical_accuracy: 0.9880\n",
      "Epoch 141/150\n",
      "79/79 [==============================] - 0s 2ms/step - loss: 0.0012 - categorical_accuracy: 1.0000 - val_loss: 0.0314 - val_categorical_accuracy: 0.9895\n",
      "Epoch 142/150\n",
      "79/79 [==============================] - 0s 2ms/step - loss: 0.0012 - categorical_accuracy: 0.9998 - val_loss: 0.0345 - val_categorical_accuracy: 0.9880\n",
      "Epoch 143/150\n",
      "79/79 [==============================] - 0s 2ms/step - loss: 0.0015 - categorical_accuracy: 0.9998 - val_loss: 0.0308 - val_categorical_accuracy: 0.9910\n",
      "Epoch 144/150\n",
      "79/79 [==============================] - 0s 2ms/step - loss: 0.0011 - categorical_accuracy: 1.0000 - val_loss: 0.0338 - val_categorical_accuracy: 0.9895\n",
      "Epoch 145/150\n",
      "79/79 [==============================] - 0s 3ms/step - loss: 8.6629e-04 - categorical_accuracy: 1.0000 - val_loss: 0.0343 - val_categorical_accuracy: 0.9895\n",
      "Epoch 146/150\n",
      "79/79 [==============================] - 0s 3ms/step - loss: 7.4167e-04 - categorical_accuracy: 1.0000 - val_loss: 0.0341 - val_categorical_accuracy: 0.9895\n",
      "Epoch 147/150\n",
      "79/79 [==============================] - 0s 2ms/step - loss: 7.2466e-04 - categorical_accuracy: 1.0000 - val_loss: 0.0305 - val_categorical_accuracy: 0.9910\n",
      "Epoch 148/150\n",
      "79/79 [==============================] - 0s 2ms/step - loss: 0.0036 - categorical_accuracy: 0.9988 - val_loss: 0.0467 - val_categorical_accuracy: 0.9880\n",
      "Epoch 149/150\n",
      "79/79 [==============================] - 0s 2ms/step - loss: 0.0132 - categorical_accuracy: 0.9946 - val_loss: 0.0417 - val_categorical_accuracy: 0.9865\n",
      "Epoch 150/150\n",
      "79/79 [==============================] - 0s 2ms/step - loss: 0.0032 - categorical_accuracy: 0.9990 - val_loss: 0.0517 - val_categorical_accuracy: 0.9865\n"
     ]
    }
   ],
   "source": [
    "history = model.fit(features[:test_num], transfomed_label[:test_num], epochs=n_epoch, batch_size=64,\n",
    "                    validation_data=(features[test_num:], transfomed_label[test_num:]))"
   ]
  },
  {
   "cell_type": "code",
   "execution_count": 38,
   "id": "43f155e7-e0c9-40ce-b8f3-2f8c2cad7d11",
   "metadata": {},
   "outputs": [],
   "source": [
    "import matplotlib.pyplot as plt\n",
    "%matplotlib inline"
   ]
  },
  {
   "cell_type": "code",
   "execution_count": 39,
   "id": "8f99f8db-d630-4586-b30e-db506568d73b",
   "metadata": {},
   "outputs": [
    {
     "data": {
      "image/png": "[encoded data removed]",
      "text/plain": [
       "<Figure size 432x288 with 1 Axes>"
      ]
     },
     "metadata": {
      "needs_background": "light"
     },
     "output_type": "display_data"
    }
   ],
   "source": [
    "x = list(range(n_epoch))\n",
    "plt.plot(x, history.history['loss'],label=\"loss\")\n",
    "plt.plot(x, history.history['val_loss'],label=\"val_loss\")\n",
    "plt.legend();"
   ]
  },
  {
   "cell_type": "code",
   "execution_count": 40,
   "id": "176d378a-70d0-4bb6-8603-3f08fbfcc119",
   "metadata": {},
   "outputs": [
    {
     "data": {
      "image/png": "[encoded data removed]",
      "text/plain": [
       "<Figure size 432x288 with 1 Axes>"
      ]
     },
     "metadata": {
      "needs_background": "light"
     },
     "output_type": "display_data"
    }
   ],
   "source": [
    "plt.plot(x, history.history['val_categorical_accuracy'],label=\"val_categorical_accuracy\")\n",
    "plt.plot(x, history.history['categorical_accuracy'],label=\"categorical_accuracy\")\n",
    "plt.legend();"
   ]
  },
  {
   "cell_type": "code",
   "execution_count": null,
   "id": "51380f70-da44-42cb-8a00-3551c5501c1c",
   "metadata": {},
   "outputs": [],
   "source": []
  },
  {
   "cell_type": "code",
   "execution_count": null,
   "id": "f59c4e2c-bf29-4df6-98da-1d7f4fc73a88",
   "metadata": {},
   "outputs": [],
   "source": []
  }
 ],
 "metadata": {
  "kernelspec": {
   "display_name": "Python 3 (ipykernel)",
   "language": "python",
   "name": "python3"
  },
  "language_info": {
   "codemirror_mode": {
    "name": "ipython",
    "version": 3
   },
   "file_extension": ".py",
   "mimetype": "text/x-python",
   "name": "python",
   "nbconvert_exporter": "python",
   "pygments_lexer": "ipython3",
   "version": "3.8.10"
  }
 },
 "nbformat": 4,
 "nbformat_minor": 5
}
