{
 "cells": [
  {
   "cell_type": "code",
   "execution_count": 1,
   "id": "9f244072-1ac6-41f2-a8c4-7dc6ece6f43c",
   "metadata": {},
   "outputs": [],
   "source": [
    "import os\n",
    "os.environ['TF_CPP_MIN_LOG_LEVEL'] = '3' \n",
    "# 0 = all messages are logged (default behavior)\n",
    "# 1 = INFO messages are not printed\n",
    "# 2 = INFO and WARNING messages are not printed\n",
    "# 3 = INFO, WARNING, and ERROR messages are not printed"
   ]
  },
  {
   "cell_type": "code",
   "execution_count": 2,
   "id": "ae00fe71",
   "metadata": {},
   "outputs": [],
   "source": [
    "import pandas as pd\n",
    "import numpy as np\n",
    "import tensorflow as tf\n",
    "tf.random.set_seed(0)"
   ]
  },
  {
   "cell_type": "markdown",
   "id": "b0b18261",
   "metadata": {},
   "source": [
    "### 1. Load data\n",
    "- set the load data row number\n",
    "- set colunms names\n",
    "- remove useless colunms"
   ]
  },
  {
   "cell_type": "code",
   "execution_count": 3,
   "id": "dda6bfd1",
   "metadata": {},
   "outputs": [],
   "source": [
    "row_num = 35000\n",
    "test_num= 5000"
   ]
  },
  {
   "cell_type": "code",
   "execution_count": 4,
   "id": "9602bee2",
   "metadata": {},
   "outputs": [],
   "source": [
    "dos_data = pd.read_csv(\"data/DoS_dataset.csv\",nrows=row_num,header=None)"
   ]
  },
  {
   "cell_type": "code",
   "execution_count": 5,
   "id": "6d815d41",
   "metadata": {},
   "outputs": [],
   "source": [
    "col_names = ['time_stamp','id', 'dlc','d0','d1','d2','d3','d4','d5','d6','d7','R']\n",
    "dos_data = dos_data.dropna()"
   ]
  },
  {
   "cell_type": "code",
   "execution_count": 6,
   "id": "dbcd0d96",
   "metadata": {},
   "outputs": [],
   "source": [
    "dos_data.columns = col_names"
   ]
  },
  {
   "cell_type": "code",
   "execution_count": 7,
   "id": "b0d3e56c",
   "metadata": {},
   "outputs": [
    {
     "data": {
      "text/html": [
       "<div>\n",
       "<style scoped>\n",
       "    .dataframe tbody tr th:only-of-type {\n",
       "        vertical-align: middle;\n",
       "    }\n",
       "\n",
       "    .dataframe tbody tr th {\n",
       "        vertical-align: top;\n",
       "    }\n",
       "\n",
       "    .dataframe thead th {\n",
       "        text-align: right;\n",
       "    }\n",
       "</style>\n",
       "<table border=\"1\" class=\"dataframe\">\n",
       "  <thead>\n",
       "    <tr style=\"text-align: right;\">\n",
       "      <th></th>\n",
       "      <th>time_stamp</th>\n",
       "      <th>id</th>\n",
       "      <th>dlc</th>\n",
       "      <th>d0</th>\n",
       "      <th>d1</th>\n",
       "      <th>d2</th>\n",
       "      <th>d3</th>\n",
       "      <th>d4</th>\n",
       "      <th>d5</th>\n",
       "      <th>d6</th>\n",
       "      <th>d7</th>\n",
       "      <th>R</th>\n",
       "    </tr>\n",
       "  </thead>\n",
       "  <tbody>\n",
       "    <tr>\n",
       "      <th>0</th>\n",
       "      <td>1.478198e+09</td>\n",
       "      <td>0316</td>\n",
       "      <td>8</td>\n",
       "      <td>05</td>\n",
       "      <td>21</td>\n",
       "      <td>68</td>\n",
       "      <td>09</td>\n",
       "      <td>21</td>\n",
       "      <td>21</td>\n",
       "      <td>00</td>\n",
       "      <td>6f</td>\n",
       "      <td>R</td>\n",
       "    </tr>\n",
       "    <tr>\n",
       "      <th>1</th>\n",
       "      <td>1.478198e+09</td>\n",
       "      <td>018f</td>\n",
       "      <td>8</td>\n",
       "      <td>fe</td>\n",
       "      <td>5b</td>\n",
       "      <td>00</td>\n",
       "      <td>00</td>\n",
       "      <td>00</td>\n",
       "      <td>3c</td>\n",
       "      <td>00</td>\n",
       "      <td>00</td>\n",
       "      <td>R</td>\n",
       "    </tr>\n",
       "    <tr>\n",
       "      <th>2</th>\n",
       "      <td>1.478198e+09</td>\n",
       "      <td>0260</td>\n",
       "      <td>8</td>\n",
       "      <td>19</td>\n",
       "      <td>21</td>\n",
       "      <td>22</td>\n",
       "      <td>30</td>\n",
       "      <td>08</td>\n",
       "      <td>8e</td>\n",
       "      <td>6d</td>\n",
       "      <td>3a</td>\n",
       "      <td>R</td>\n",
       "    </tr>\n",
       "    <tr>\n",
       "      <th>3</th>\n",
       "      <td>1.478198e+09</td>\n",
       "      <td>02a0</td>\n",
       "      <td>8</td>\n",
       "      <td>64</td>\n",
       "      <td>00</td>\n",
       "      <td>9a</td>\n",
       "      <td>1d</td>\n",
       "      <td>97</td>\n",
       "      <td>02</td>\n",
       "      <td>bd</td>\n",
       "      <td>00</td>\n",
       "      <td>R</td>\n",
       "    </tr>\n",
       "    <tr>\n",
       "      <th>4</th>\n",
       "      <td>1.478198e+09</td>\n",
       "      <td>0329</td>\n",
       "      <td>8</td>\n",
       "      <td>40</td>\n",
       "      <td>bb</td>\n",
       "      <td>7f</td>\n",
       "      <td>14</td>\n",
       "      <td>11</td>\n",
       "      <td>20</td>\n",
       "      <td>00</td>\n",
       "      <td>14</td>\n",
       "      <td>R</td>\n",
       "    </tr>\n",
       "  </tbody>\n",
       "</table>\n",
       "</div>"
      ],
      "text/plain": [
       "     time_stamp    id  dlc  d0  d1  d2  d3  d4  d5  d6  d7  R\n",
       "0  1.478198e+09  0316    8  05  21  68  09  21  21  00  6f  R\n",
       "1  1.478198e+09  018f    8  fe  5b  00  00  00  3c  00  00  R\n",
       "2  1.478198e+09  0260    8  19  21  22  30  08  8e  6d  3a  R\n",
       "3  1.478198e+09  02a0    8  64  00  9a  1d  97  02  bd  00  R\n",
       "4  1.478198e+09  0329    8  40  bb  7f  14  11  20  00  14  R"
      ]
     },
     "execution_count": 7,
     "metadata": {},
     "output_type": "execute_result"
    }
   ],
   "source": [
    "dos_data.head()"
   ]
  },
  {
   "cell_type": "code",
   "execution_count": 8,
   "id": "a1c71b7f",
   "metadata": {},
   "outputs": [
    {
     "data": {
      "text/html": [
       "<div>\n",
       "<style scoped>\n",
       "    .dataframe tbody tr th:only-of-type {\n",
       "        vertical-align: middle;\n",
       "    }\n",
       "\n",
       "    .dataframe tbody tr th {\n",
       "        vertical-align: top;\n",
       "    }\n",
       "\n",
       "    .dataframe thead th {\n",
       "        text-align: right;\n",
       "    }\n",
       "</style>\n",
       "<table border=\"1\" class=\"dataframe\">\n",
       "  <thead>\n",
       "    <tr style=\"text-align: right;\">\n",
       "      <th></th>\n",
       "      <th>time_stamp</th>\n",
       "      <th>id</th>\n",
       "      <th>dlc</th>\n",
       "      <th>d0</th>\n",
       "      <th>d1</th>\n",
       "      <th>d2</th>\n",
       "      <th>d3</th>\n",
       "      <th>d4</th>\n",
       "      <th>d5</th>\n",
       "      <th>d6</th>\n",
       "      <th>d7</th>\n",
       "      <th>R</th>\n",
       "    </tr>\n",
       "  </thead>\n",
       "  <tbody>\n",
       "    <tr>\n",
       "      <th>34995</th>\n",
       "      <td>1.478198e+09</td>\n",
       "      <td>02c0</td>\n",
       "      <td>8</td>\n",
       "      <td>14</td>\n",
       "      <td>00</td>\n",
       "      <td>00</td>\n",
       "      <td>00</td>\n",
       "      <td>00</td>\n",
       "      <td>00</td>\n",
       "      <td>00</td>\n",
       "      <td>00</td>\n",
       "      <td>R</td>\n",
       "    </tr>\n",
       "    <tr>\n",
       "      <th>34996</th>\n",
       "      <td>1.478198e+09</td>\n",
       "      <td>0350</td>\n",
       "      <td>8</td>\n",
       "      <td>05</td>\n",
       "      <td>20</td>\n",
       "      <td>64</td>\n",
       "      <td>68</td>\n",
       "      <td>77</td>\n",
       "      <td>00</td>\n",
       "      <td>00</td>\n",
       "      <td>5e</td>\n",
       "      <td>R</td>\n",
       "    </tr>\n",
       "    <tr>\n",
       "      <th>34997</th>\n",
       "      <td>1.478198e+09</td>\n",
       "      <td>0002</td>\n",
       "      <td>8</td>\n",
       "      <td>00</td>\n",
       "      <td>00</td>\n",
       "      <td>00</td>\n",
       "      <td>00</td>\n",
       "      <td>00</td>\n",
       "      <td>03</td>\n",
       "      <td>0f</td>\n",
       "      <td>65</td>\n",
       "      <td>R</td>\n",
       "    </tr>\n",
       "    <tr>\n",
       "      <th>34998</th>\n",
       "      <td>1.478198e+09</td>\n",
       "      <td>0153</td>\n",
       "      <td>8</td>\n",
       "      <td>00</td>\n",
       "      <td>21</td>\n",
       "      <td>10</td>\n",
       "      <td>ff</td>\n",
       "      <td>00</td>\n",
       "      <td>ff</td>\n",
       "      <td>00</td>\n",
       "      <td>00</td>\n",
       "      <td>R</td>\n",
       "    </tr>\n",
       "    <tr>\n",
       "      <th>34999</th>\n",
       "      <td>1.478198e+09</td>\n",
       "      <td>0130</td>\n",
       "      <td>8</td>\n",
       "      <td>27</td>\n",
       "      <td>80</td>\n",
       "      <td>00</td>\n",
       "      <td>ff</td>\n",
       "      <td>e7</td>\n",
       "      <td>7f</td>\n",
       "      <td>0f</td>\n",
       "      <td>c4</td>\n",
       "      <td>R</td>\n",
       "    </tr>\n",
       "  </tbody>\n",
       "</table>\n",
       "</div>"
      ],
      "text/plain": [
       "         time_stamp    id  dlc  d0  d1  d2  d3  d4  d5  d6  d7  R\n",
       "34995  1.478198e+09  02c0    8  14  00  00  00  00  00  00  00  R\n",
       "34996  1.478198e+09  0350    8  05  20  64  68  77  00  00  5e  R\n",
       "34997  1.478198e+09  0002    8  00  00  00  00  00  03  0f  65  R\n",
       "34998  1.478198e+09  0153    8  00  21  10  ff  00  ff  00  00  R\n",
       "34999  1.478198e+09  0130    8  27  80  00  ff  e7  7f  0f  c4  R"
      ]
     },
     "execution_count": 8,
     "metadata": {},
     "output_type": "execute_result"
    }
   ],
   "source": [
    "dos_data.tail()"
   ]
  },
  {
   "cell_type": "markdown",
   "id": "e64588c7",
   "metadata": {},
   "source": [
    "We can remove the dlc and R colunms because they do not hold any useful information."
   ]
  },
  {
   "cell_type": "code",
   "execution_count": 9,
   "id": "21ace1ef",
   "metadata": {},
   "outputs": [],
   "source": [
    "dos_data = dos_data.drop(['time_stamp', 'dlc','R'], axis=1)"
   ]
  },
  {
   "cell_type": "code",
   "execution_count": 10,
   "id": "13a554ed-fc20-4ddd-baf6-96f57ac3dcaf",
   "metadata": {},
   "outputs": [],
   "source": [
    "# dos_data[1:30].values"
   ]
  },
  {
   "cell_type": "markdown",
   "id": "8dc5ef19",
   "metadata": {},
   "source": [
    "### 2. Create features\n",
    "convert consequtive records into matrix freature according to [paper](https://www.sciencedirect.com/science/article/abs/pii/S2214209619302451)\n",
    "\n",
    "Note: we use integer instead of binary in this notebook"
   ]
  },
  {
   "cell_type": "code",
   "execution_count": 11,
   "id": "62a65cb9",
   "metadata": {},
   "outputs": [],
   "source": [
    "def create_feature(data_frame,label,n=30,m=9):\n",
    "    feature_list = []\n",
    "    nrow = data_frame.shape[0]\n",
    "    for col  in dos_data.columns:\n",
    "        data_frame[col] = data_frame[col].apply(int, base=16)\n",
    "    for i in range(0,nrow,n):\n",
    "        if nrow >=  i+n:\n",
    "            tem_file = data_frame.iloc[i:i+n,:].values\n",
    "            feature_list.append(tem_file)\n",
    "    feature_df = pd.DataFrame(data={\"features\":feature_list,\"label\":[label]*len(feature_list)})\n",
    "    return feature_df"
   ]
  },
  {
   "cell_type": "code",
   "execution_count": 12,
   "id": "b6190c49",
   "metadata": {},
   "outputs": [],
   "source": [
    "dos_feature_df = create_feature(dos_data,\"dos\")    "
   ]
  },
  {
   "cell_type": "code",
   "execution_count": 13,
   "id": "86809609-37e8-417e-a03c-cc7936b669b5",
   "metadata": {},
   "outputs": [
    {
     "data": {
      "text/plain": [
       "(1157, 2)"
      ]
     },
     "execution_count": 13,
     "metadata": {},
     "output_type": "execute_result"
    }
   ],
   "source": [
    "dos_feature_df.shape"
   ]
  },
  {
   "cell_type": "code",
   "execution_count": 14,
   "id": "f38e0059-4656-44f5-90eb-4feeff63ee87",
   "metadata": {},
   "outputs": [
    {
     "data": {
      "text/plain": [
       "2"
      ]
     },
     "execution_count": 14,
     "metadata": {},
     "output_type": "execute_result"
    }
   ],
   "source": [
    "dos_feature_df.shape[1]"
   ]
  },
  {
   "cell_type": "code",
   "execution_count": 15,
   "id": "5b3aa79e",
   "metadata": {},
   "outputs": [
    {
     "data": {
      "text/html": [
       "<div>\n",
       "<style scoped>\n",
       "    .dataframe tbody tr th:only-of-type {\n",
       "        vertical-align: middle;\n",
       "    }\n",
       "\n",
       "    .dataframe tbody tr th {\n",
       "        vertical-align: top;\n",
       "    }\n",
       "\n",
       "    .dataframe thead th {\n",
       "        text-align: right;\n",
       "    }\n",
       "</style>\n",
       "<table border=\"1\" class=\"dataframe\">\n",
       "  <thead>\n",
       "    <tr style=\"text-align: right;\">\n",
       "      <th></th>\n",
       "      <th>features</th>\n",
       "      <th>label</th>\n",
       "    </tr>\n",
       "  </thead>\n",
       "  <tbody>\n",
       "    <tr>\n",
       "      <th>0</th>\n",
       "      <td>[[790, 5, 33, 104, 9, 33, 33, 0, 111], [399, 2...</td>\n",
       "      <td>dos</td>\n",
       "    </tr>\n",
       "    <tr>\n",
       "      <th>1</th>\n",
       "      <td>[[304, 11, 128, 0, 255, 69, 128, 12, 133], [30...</td>\n",
       "      <td>dos</td>\n",
       "    </tr>\n",
       "    <tr>\n",
       "      <th>2</th>\n",
       "      <td>[[1349, 216, 0, 0, 136, 0, 0, 0, 0], [1072, 0,...</td>\n",
       "      <td>dos</td>\n",
       "    </tr>\n",
       "    <tr>\n",
       "      <th>3</th>\n",
       "      <td>[[790, 5, 34, 96, 9, 34, 33, 0, 111], [399, 25...</td>\n",
       "      <td>dos</td>\n",
       "    </tr>\n",
       "    <tr>\n",
       "      <th>4</th>\n",
       "      <td>[[304, 24, 128, 0, 255, 14, 128, 1, 186], [305...</td>\n",
       "      <td>dos</td>\n",
       "    </tr>\n",
       "  </tbody>\n",
       "</table>\n",
       "</div>"
      ],
      "text/plain": [
       "                                            features label\n",
       "0  [[790, 5, 33, 104, 9, 33, 33, 0, 111], [399, 2...   dos\n",
       "1  [[304, 11, 128, 0, 255, 69, 128, 12, 133], [30...   dos\n",
       "2  [[1349, 216, 0, 0, 136, 0, 0, 0, 0], [1072, 0,...   dos\n",
       "3  [[790, 5, 34, 96, 9, 34, 33, 0, 111], [399, 25...   dos\n",
       "4  [[304, 24, 128, 0, 255, 14, 128, 1, 186], [305...   dos"
      ]
     },
     "execution_count": 15,
     "metadata": {},
     "output_type": "execute_result"
    }
   ],
   "source": [
    "dos_feature_df.head()"
   ]
  },
  {
   "cell_type": "code",
   "execution_count": 16,
   "id": "76b1f306",
   "metadata": {},
   "outputs": [],
   "source": [
    "from PIL import Image\n",
    "from IPython.display import display"
   ]
  },
  {
   "cell_type": "code",
   "execution_count": 17,
   "id": "e22b6748",
   "metadata": {},
   "outputs": [
    {
     "data": {
      "image/png": "[encoded data removed]",
      "text/plain": [
       "<PIL.Image.Image image mode=L size=9x30 at 0x7F75F3790610>"
      ]
     },
     "metadata": {},
     "output_type": "display_data"
    }
   ],
   "source": [
    "img = Image.fromarray(dos_feature_df.features[0], 'L')\n",
    "display(img)"
   ]
  },
  {
   "cell_type": "markdown",
   "id": "6444f43b",
   "metadata": {},
   "source": [
    "### 3. Repeat the above operations on the rest of dataset"
   ]
  },
  {
   "cell_type": "code",
   "execution_count": 18,
   "id": "49150869",
   "metadata": {},
   "outputs": [
    {
     "data": {
      "text/html": [
       "<div>\n",
       "<style scoped>\n",
       "    .dataframe tbody tr th:only-of-type {\n",
       "        vertical-align: middle;\n",
       "    }\n",
       "\n",
       "    .dataframe tbody tr th {\n",
       "        vertical-align: top;\n",
       "    }\n",
       "\n",
       "    .dataframe thead th {\n",
       "        text-align: right;\n",
       "    }\n",
       "</style>\n",
       "<table border=\"1\" class=\"dataframe\">\n",
       "  <thead>\n",
       "    <tr style=\"text-align: right;\">\n",
       "      <th></th>\n",
       "      <th>features</th>\n",
       "      <th>label</th>\n",
       "    </tr>\n",
       "  </thead>\n",
       "  <tbody>\n",
       "    <tr>\n",
       "      <th>0</th>\n",
       "      <td>[[1349, 216, 0, 0, 138, 0, 0, 0, 0], [2, 0, 0,...</td>\n",
       "      <td>fuzzy</td>\n",
       "    </tr>\n",
       "    <tr>\n",
       "      <th>1</th>\n",
       "      <td>[[880, 0, 32, 0, 0, 0, 0, 0, 0], [1087, 16, 64...</td>\n",
       "      <td>fuzzy</td>\n",
       "    </tr>\n",
       "    <tr>\n",
       "      <th>2</th>\n",
       "      <td>[[339, 0, 33, 16, 255, 0, 255, 0, 0], [2, 0, 0...</td>\n",
       "      <td>fuzzy</td>\n",
       "    </tr>\n",
       "    <tr>\n",
       "      <th>3</th>\n",
       "      <td>[[672, 4, 0, 153, 29, 151, 2, 189, 0], [809, 6...</td>\n",
       "      <td>fuzzy</td>\n",
       "    </tr>\n",
       "    <tr>\n",
       "      <th>4</th>\n",
       "      <td>[[1087, 16, 64, 96, 255, 125, 136, 9, 0], [108...</td>\n",
       "      <td>fuzzy</td>\n",
       "    </tr>\n",
       "  </tbody>\n",
       "</table>\n",
       "</div>"
      ],
      "text/plain": [
       "                                            features  label\n",
       "0  [[1349, 216, 0, 0, 138, 0, 0, 0, 0], [2, 0, 0,...  fuzzy\n",
       "1  [[880, 0, 32, 0, 0, 0, 0, 0, 0], [1087, 16, 64...  fuzzy\n",
       "2  [[339, 0, 33, 16, 255, 0, 255, 0, 0], [2, 0, 0...  fuzzy\n",
       "3  [[672, 4, 0, 153, 29, 151, 2, 189, 0], [809, 6...  fuzzy\n",
       "4  [[1087, 16, 64, 96, 255, 125, 136, 9, 0], [108...  fuzzy"
      ]
     },
     "execution_count": 18,
     "metadata": {},
     "output_type": "execute_result"
    }
   ],
   "source": [
    "fuzzy_data = pd.read_csv(\"data/Fuzzy_dataset.csv\",nrows=row_num,sep=',',header=None)\n",
    "fuzzy_data.columns = col_names\n",
    "fuzzy_data = fuzzy_data.dropna()\n",
    "fuzzy_data = fuzzy_data.drop(['time_stamp', 'dlc','R'], axis=1)\n",
    "fuzzy_feature_df = create_feature(fuzzy_data,\"fuzzy\")\n",
    "fuzzy_feature_df.head()"
   ]
  },
  {
   "cell_type": "code",
   "execution_count": 19,
   "id": "526f62cb",
   "metadata": {},
   "outputs": [
    {
     "data": {
      "text/html": [
       "<div>\n",
       "<style scoped>\n",
       "    .dataframe tbody tr th:only-of-type {\n",
       "        vertical-align: middle;\n",
       "    }\n",
       "\n",
       "    .dataframe tbody tr th {\n",
       "        vertical-align: top;\n",
       "    }\n",
       "\n",
       "    .dataframe thead th {\n",
       "        text-align: right;\n",
       "    }\n",
       "</style>\n",
       "<table border=\"1\" class=\"dataframe\">\n",
       "  <thead>\n",
       "    <tr style=\"text-align: right;\">\n",
       "      <th></th>\n",
       "      <th>features</th>\n",
       "      <th>label</th>\n",
       "    </tr>\n",
       "  </thead>\n",
       "  <tbody>\n",
       "    <tr>\n",
       "      <th>0</th>\n",
       "      <td>[[320, 0, 0, 0, 0, 16, 41, 42, 36], [704, 21, ...</td>\n",
       "      <td>gear</td>\n",
       "    </tr>\n",
       "    <tr>\n",
       "      <th>1</th>\n",
       "      <td>[[497, 8, 0, 0, 0, 0, 0, 0, 0], [339, 0, 33, 1...</td>\n",
       "      <td>gear</td>\n",
       "    </tr>\n",
       "    <tr>\n",
       "      <th>2</th>\n",
       "      <td>[[399, 254, 80, 0, 0, 0, 60, 0, 0], [608, 25, ...</td>\n",
       "      <td>gear</td>\n",
       "    </tr>\n",
       "    <tr>\n",
       "      <th>3</th>\n",
       "      <td>[[880, 0, 32, 0, 0, 0, 0, 0, 0], [848, 5, 32, ...</td>\n",
       "      <td>gear</td>\n",
       "    </tr>\n",
       "    <tr>\n",
       "      <th>4</th>\n",
       "      <td>[[339, 0, 33, 16, 255, 0, 255, 0, 0], [672, 96...</td>\n",
       "      <td>gear</td>\n",
       "    </tr>\n",
       "  </tbody>\n",
       "</table>\n",
       "</div>"
      ],
      "text/plain": [
       "                                            features label\n",
       "0  [[320, 0, 0, 0, 0, 16, 41, 42, 36], [704, 21, ...  gear\n",
       "1  [[497, 8, 0, 0, 0, 0, 0, 0, 0], [339, 0, 33, 1...  gear\n",
       "2  [[399, 254, 80, 0, 0, 0, 60, 0, 0], [608, 25, ...  gear\n",
       "3  [[880, 0, 32, 0, 0, 0, 0, 0, 0], [848, 5, 32, ...  gear\n",
       "4  [[339, 0, 33, 16, 255, 0, 255, 0, 0], [672, 96...  gear"
      ]
     },
     "execution_count": 19,
     "metadata": {},
     "output_type": "execute_result"
    }
   ],
   "source": [
    "gear_data = pd.read_csv(\"data/gear_dataset.csv\",nrows=row_num,sep=',',header=None)\n",
    "gear_data.columns = col_names\n",
    "gear_data = gear_data.dropna()\n",
    "gear_data = gear_data.drop(['time_stamp', 'dlc','R'], axis=1)\n",
    "gear_feature_df = create_feature(gear_data,\"gear\")\n",
    "gear_feature_df.head()\n"
   ]
  },
  {
   "cell_type": "code",
   "execution_count": 20,
   "id": "788fef33",
   "metadata": {},
   "outputs": [
    {
     "data": {
      "text/html": [
       "<div>\n",
       "<style scoped>\n",
       "    .dataframe tbody tr th:only-of-type {\n",
       "        vertical-align: middle;\n",
       "    }\n",
       "\n",
       "    .dataframe tbody tr th {\n",
       "        vertical-align: top;\n",
       "    }\n",
       "\n",
       "    .dataframe thead th {\n",
       "        text-align: right;\n",
       "    }\n",
       "</style>\n",
       "<table border=\"1\" class=\"dataframe\">\n",
       "  <thead>\n",
       "    <tr style=\"text-align: right;\">\n",
       "      <th></th>\n",
       "      <th>features</th>\n",
       "      <th>label</th>\n",
       "    </tr>\n",
       "  </thead>\n",
       "  <tbody>\n",
       "    <tr>\n",
       "      <th>0</th>\n",
       "      <td>[[790, 5, 34, 104, 9, 34, 32, 0, 117], [399, 2...</td>\n",
       "      <td>rpm</td>\n",
       "    </tr>\n",
       "    <tr>\n",
       "      <th>1</th>\n",
       "      <td>[[305, 251, 127, 0, 0, 56, 127, 10, 65], [320,...</td>\n",
       "      <td>rpm</td>\n",
       "    </tr>\n",
       "    <tr>\n",
       "      <th>2</th>\n",
       "      <td>[[704, 21, 0, 0, 0, 0, 0, 0, 0], [1072, 0, 0, ...</td>\n",
       "      <td>rpm</td>\n",
       "    </tr>\n",
       "    <tr>\n",
       "      <th>3</th>\n",
       "      <td>[[848, 5, 32, 132, 104, 115, 0, 0, 186], [790,...</td>\n",
       "      <td>rpm</td>\n",
       "    </tr>\n",
       "    <tr>\n",
       "      <th>4</th>\n",
       "      <td>[[304, 11, 128, 0, 255, 31, 128, 15, 213], [30...</td>\n",
       "      <td>rpm</td>\n",
       "    </tr>\n",
       "  </tbody>\n",
       "</table>\n",
       "</div>"
      ],
      "text/plain": [
       "                                            features label\n",
       "0  [[790, 5, 34, 104, 9, 34, 32, 0, 117], [399, 2...   rpm\n",
       "1  [[305, 251, 127, 0, 0, 56, 127, 10, 65], [320,...   rpm\n",
       "2  [[704, 21, 0, 0, 0, 0, 0, 0, 0], [1072, 0, 0, ...   rpm\n",
       "3  [[848, 5, 32, 132, 104, 115, 0, 0, 186], [790,...   rpm\n",
       "4  [[304, 11, 128, 0, 255, 31, 128, 15, 213], [30...   rpm"
      ]
     },
     "execution_count": 20,
     "metadata": {},
     "output_type": "execute_result"
    }
   ],
   "source": [
    "rpm_data = pd.read_csv(\"data/RPM_dataset.csv\",nrows=row_num,sep=',',header=None)\n",
    "rpm_data.columns = col_names\n",
    "rpm_data = rpm_data.dropna()\n",
    "rpm_data = rpm_data.drop(['time_stamp', 'dlc','R'], axis=1)\n",
    "rpm_feature_df = create_feature(rpm_data,\"rpm\")\n",
    "rpm_feature_df.head()\n"
   ]
  },
  {
   "cell_type": "markdown",
   "id": "01d29923",
   "metadata": {},
   "source": [
    "On linux run the follow code to coverte txt file format to csv file\n",
    "\n",
    "Orginal format:\n",
    "\n",
    "Timestamp: 1479121500.969313        ID: 0140    000    DLC: 8    00 00 00 00 1a 00 24 ee\n",
    "\n",
    "Expected format:\n",
    "\n",
    "1479121500.969313,0140,8,00,00,00,00,1a,00,24,ee\n",
    "\n",
    "\n",
    "- `sed -i 's/Timestamp: //g' normal_run_data.txt`\n",
    "- `sed -i 's/        ID: /,/g' normal_run_data.txt`\n",
    "- `sed -i 's/    000    DLC: /,/g' normal_run_data.txt`\n",
    "- `sed -i 's/    /,/g' normal_run_data.txt`"
   ]
  },
  {
   "cell_type": "code",
   "execution_count": 21,
   "id": "dcf83f0c",
   "metadata": {},
   "outputs": [
    {
     "data": {
      "text/html": [
       "<div>\n",
       "<style scoped>\n",
       "    .dataframe tbody tr th:only-of-type {\n",
       "        vertical-align: middle;\n",
       "    }\n",
       "\n",
       "    .dataframe tbody tr th {\n",
       "        vertical-align: top;\n",
       "    }\n",
       "\n",
       "    .dataframe thead th {\n",
       "        text-align: right;\n",
       "    }\n",
       "</style>\n",
       "<table border=\"1\" class=\"dataframe\">\n",
       "  <thead>\n",
       "    <tr style=\"text-align: right;\">\n",
       "      <th></th>\n",
       "      <th>features</th>\n",
       "      <th>label</th>\n",
       "    </tr>\n",
       "  </thead>\n",
       "  <tbody>\n",
       "    <tr>\n",
       "      <th>0</th>\n",
       "      <td>[[848, 5, 40, 132, 102, 109, 0, 0, 162], [704,...</td>\n",
       "      <td>norm</td>\n",
       "    </tr>\n",
       "    <tr>\n",
       "      <th>1</th>\n",
       "      <td>[[672, 0, 0, 107, 29, 1, 4, 221, 0], [809, 135...</td>\n",
       "      <td>norm</td>\n",
       "    </tr>\n",
       "    <tr>\n",
       "      <th>2</th>\n",
       "      <td>[[305, 242, 127, 0, 0, 48, 127, 3, 55], [320, ...</td>\n",
       "      <td>norm</td>\n",
       "    </tr>\n",
       "    <tr>\n",
       "      <th>3</th>\n",
       "      <td>[[1088, 255, 0, 0, 0, 255, 106, 8, 0], [704, 2...</td>\n",
       "      <td>norm</td>\n",
       "    </tr>\n",
       "    <tr>\n",
       "      <th>4</th>\n",
       "      <td>[[672, 32, 0, 107, 29, 1, 4, 221, 0], [790, 5,...</td>\n",
       "      <td>norm</td>\n",
       "    </tr>\n",
       "  </tbody>\n",
       "</table>\n",
       "</div>"
      ],
      "text/plain": [
       "                                            features label\n",
       "0  [[848, 5, 40, 132, 102, 109, 0, 0, 162], [704,...  norm\n",
       "1  [[672, 0, 0, 107, 29, 1, 4, 221, 0], [809, 135...  norm\n",
       "2  [[305, 242, 127, 0, 0, 48, 127, 3, 55], [320, ...  norm\n",
       "3  [[1088, 255, 0, 0, 0, 255, 106, 8, 0], [704, 2...  norm\n",
       "4  [[672, 32, 0, 107, 29, 1, 4, 221, 0], [790, 5,...  norm"
      ]
     },
     "execution_count": 21,
     "metadata": {},
     "output_type": "execute_result"
    }
   ],
   "source": [
    "norm_data = pd.read_csv(\"data/normal_run_data.txt\",nrows=row_num,sep=',',header=None)\n",
    "norm_data.columns = col_names[:11]\n",
    "norm_data = norm_data.dropna()\n",
    "norm_data = norm_data.drop(['time_stamp', 'dlc'], axis=1)\n",
    "norm_data_df = create_feature(norm_data,\"norm\")\n",
    "norm_data_df.head()"
   ]
  },
  {
   "cell_type": "markdown",
   "id": "6c3acef9",
   "metadata": {},
   "source": [
    "### 4. Combine the loaded datasets"
   ]
  },
  {
   "cell_type": "code",
   "execution_count": 22,
   "id": "d305481c",
   "metadata": {},
   "outputs": [
    {
     "data": {
      "text/html": [
       "<div>\n",
       "<style scoped>\n",
       "    .dataframe tbody tr th:only-of-type {\n",
       "        vertical-align: middle;\n",
       "    }\n",
       "\n",
       "    .dataframe tbody tr th {\n",
       "        vertical-align: top;\n",
       "    }\n",
       "\n",
       "    .dataframe thead th {\n",
       "        text-align: right;\n",
       "    }\n",
       "</style>\n",
       "<table border=\"1\" class=\"dataframe\">\n",
       "  <thead>\n",
       "    <tr style=\"text-align: right;\">\n",
       "      <th></th>\n",
       "      <th>features</th>\n",
       "      <th>label</th>\n",
       "    </tr>\n",
       "  </thead>\n",
       "  <tbody>\n",
       "    <tr>\n",
       "      <th>0</th>\n",
       "      <td>[[790, 5, 33, 104, 9, 33, 33, 0, 111], [399, 2...</td>\n",
       "      <td>dos</td>\n",
       "    </tr>\n",
       "    <tr>\n",
       "      <th>1</th>\n",
       "      <td>[[304, 11, 128, 0, 255, 69, 128, 12, 133], [30...</td>\n",
       "      <td>dos</td>\n",
       "    </tr>\n",
       "    <tr>\n",
       "      <th>2</th>\n",
       "      <td>[[1349, 216, 0, 0, 136, 0, 0, 0, 0], [1072, 0,...</td>\n",
       "      <td>dos</td>\n",
       "    </tr>\n",
       "    <tr>\n",
       "      <th>3</th>\n",
       "      <td>[[790, 5, 34, 96, 9, 34, 33, 0, 111], [399, 25...</td>\n",
       "      <td>dos</td>\n",
       "    </tr>\n",
       "    <tr>\n",
       "      <th>4</th>\n",
       "      <td>[[304, 24, 128, 0, 255, 14, 128, 1, 186], [305...</td>\n",
       "      <td>dos</td>\n",
       "    </tr>\n",
       "  </tbody>\n",
       "</table>\n",
       "</div>"
      ],
      "text/plain": [
       "                                            features label\n",
       "0  [[790, 5, 33, 104, 9, 33, 33, 0, 111], [399, 2...   dos\n",
       "1  [[304, 11, 128, 0, 255, 69, 128, 12, 133], [30...   dos\n",
       "2  [[1349, 216, 0, 0, 136, 0, 0, 0, 0], [1072, 0,...   dos\n",
       "3  [[790, 5, 34, 96, 9, 34, 33, 0, 111], [399, 25...   dos\n",
       "4  [[304, 24, 128, 0, 255, 14, 128, 1, 186], [305...   dos"
      ]
     },
     "execution_count": 22,
     "metadata": {},
     "output_type": "execute_result"
    }
   ],
   "source": [
    "final_data = pd.concat([dos_feature_df,fuzzy_feature_df,gear_feature_df,rpm_feature_df,norm_data_df],ignore_index = True)\n",
    "final_data.head()"
   ]
  },
  {
   "cell_type": "code",
   "execution_count": 23,
   "id": "f0194192",
   "metadata": {},
   "outputs": [
    {
     "data": {
      "text/html": [
       "<div>\n",
       "<style scoped>\n",
       "    .dataframe tbody tr th:only-of-type {\n",
       "        vertical-align: middle;\n",
       "    }\n",
       "\n",
       "    .dataframe tbody tr th {\n",
       "        vertical-align: top;\n",
       "    }\n",
       "\n",
       "    .dataframe thead th {\n",
       "        text-align: right;\n",
       "    }\n",
       "</style>\n",
       "<table border=\"1\" class=\"dataframe\">\n",
       "  <thead>\n",
       "    <tr style=\"text-align: right;\">\n",
       "      <th></th>\n",
       "      <th>features</th>\n",
       "      <th>label</th>\n",
       "    </tr>\n",
       "  </thead>\n",
       "  <tbody>\n",
       "    <tr>\n",
       "      <th>5661</th>\n",
       "      <td>[[339, 0, 0, 0, 255, 0, 255, 0, 0], [2, 0, 0, ...</td>\n",
       "      <td>norm</td>\n",
       "    </tr>\n",
       "    <tr>\n",
       "      <th>5662</th>\n",
       "      <td>[[672, 64, 0, 107, 29, 1, 4, 221, 0], [809, 64...</td>\n",
       "      <td>norm</td>\n",
       "    </tr>\n",
       "    <tr>\n",
       "      <th>5663</th>\n",
       "      <td>[[1264, 0, 27, 0, 128, 0, 79, 3, 20], [704, 20...</td>\n",
       "      <td>norm</td>\n",
       "    </tr>\n",
       "    <tr>\n",
       "      <th>5664</th>\n",
       "      <td>[[1349, 216, 180, 0, 142, 0, 0, 0, 0], [2, 0, ...</td>\n",
       "      <td>norm</td>\n",
       "    </tr>\n",
       "    <tr>\n",
       "      <th>5665</th>\n",
       "      <td>[[399, 254, 52, 0, 0, 0, 98, 0, 0], [608, 25, ...</td>\n",
       "      <td>norm</td>\n",
       "    </tr>\n",
       "  </tbody>\n",
       "</table>\n",
       "</div>"
      ],
      "text/plain": [
       "                                               features label\n",
       "5661  [[339, 0, 0, 0, 255, 0, 255, 0, 0], [2, 0, 0, ...  norm\n",
       "5662  [[672, 64, 0, 107, 29, 1, 4, 221, 0], [809, 64...  norm\n",
       "5663  [[1264, 0, 27, 0, 128, 0, 79, 3, 20], [704, 20...  norm\n",
       "5664  [[1349, 216, 180, 0, 142, 0, 0, 0, 0], [2, 0, ...  norm\n",
       "5665  [[399, 254, 52, 0, 0, 0, 98, 0, 0], [608, 25, ...  norm"
      ]
     },
     "execution_count": 23,
     "metadata": {},
     "output_type": "execute_result"
    }
   ],
   "source": [
    "final_data.tail()"
   ]
  },
  {
   "cell_type": "code",
   "execution_count": 24,
   "id": "17026d60",
   "metadata": {},
   "outputs": [],
   "source": [
    "from sklearn.utils import shuffle"
   ]
  },
  {
   "cell_type": "code",
   "execution_count": 25,
   "id": "f15b965f",
   "metadata": {},
   "outputs": [
    {
     "data": {
      "text/html": [
       "<div>\n",
       "<style scoped>\n",
       "    .dataframe tbody tr th:only-of-type {\n",
       "        vertical-align: middle;\n",
       "    }\n",
       "\n",
       "    .dataframe tbody tr th {\n",
       "        vertical-align: top;\n",
       "    }\n",
       "\n",
       "    .dataframe thead th {\n",
       "        text-align: right;\n",
       "    }\n",
       "</style>\n",
       "<table border=\"1\" class=\"dataframe\">\n",
       "  <thead>\n",
       "    <tr style=\"text-align: right;\">\n",
       "      <th></th>\n",
       "      <th>features</th>\n",
       "      <th>label</th>\n",
       "    </tr>\n",
       "  </thead>\n",
       "  <tbody>\n",
       "    <tr>\n",
       "      <th>3933</th>\n",
       "      <td>[[672, 32, 0, 131, 29, 150, 2, 189, 0], [790, ...</td>\n",
       "      <td>rpm</td>\n",
       "    </tr>\n",
       "    <tr>\n",
       "      <th>5185</th>\n",
       "      <td>[[848, 5, 40, 84, 102, 109, 0, 0, 114], [2, 0,...</td>\n",
       "      <td>norm</td>\n",
       "    </tr>\n",
       "    <tr>\n",
       "      <th>3504</th>\n",
       "      <td>[[880, 0, 32, 0, 0, 0, 0, 0, 0], [790, 69, 41,...</td>\n",
       "      <td>rpm</td>\n",
       "    </tr>\n",
       "    <tr>\n",
       "      <th>4980</th>\n",
       "      <td>[[320, 0, 0, 0, 0, 20, 32, 45, 103], [1264, 0,...</td>\n",
       "      <td>norm</td>\n",
       "    </tr>\n",
       "    <tr>\n",
       "      <th>4124</th>\n",
       "      <td>[[399, 254, 59, 0, 0, 0, 60, 0, 0], [608, 25, ...</td>\n",
       "      <td>rpm</td>\n",
       "    </tr>\n",
       "  </tbody>\n",
       "</table>\n",
       "</div>"
      ],
      "text/plain": [
       "                                               features label\n",
       "3933  [[672, 32, 0, 131, 29, 150, 2, 189, 0], [790, ...   rpm\n",
       "5185  [[848, 5, 40, 84, 102, 109, 0, 0, 114], [2, 0,...  norm\n",
       "3504  [[880, 0, 32, 0, 0, 0, 0, 0, 0], [790, 69, 41,...   rpm\n",
       "4980  [[320, 0, 0, 0, 0, 20, 32, 45, 103], [1264, 0,...  norm\n",
       "4124  [[399, 254, 59, 0, 0, 0, 60, 0, 0], [608, 25, ...   rpm"
      ]
     },
     "execution_count": 25,
     "metadata": {},
     "output_type": "execute_result"
    }
   ],
   "source": [
    "final_data = shuffle(final_data)\n",
    "final_data.head()"
   ]
  },
  {
   "cell_type": "code",
   "execution_count": 26,
   "id": "128cc70c-f959-4f47-b1d6-145645c9815c",
   "metadata": {},
   "outputs": [],
   "source": [
    "from sklearn.preprocessing import LabelBinarizer\n",
    "encoder = LabelBinarizer()\n",
    "transfomed_label = encoder.fit_transform(final_data.label)"
   ]
  },
  {
   "cell_type": "code",
   "execution_count": 27,
   "id": "07c066be-da25-4c64-85fe-ae68890a9469",
   "metadata": {},
   "outputs": [],
   "source": [
    "# transfomed_label = transfomed_label.astype(np.float32)"
   ]
  },
  {
   "cell_type": "code",
   "execution_count": 28,
   "id": "45180b74-8795-437d-8b9a-20a1e76ce942",
   "metadata": {},
   "outputs": [
    {
     "data": {
      "text/plain": [
       "(30, 9)"
      ]
     },
     "execution_count": 28,
     "metadata": {},
     "output_type": "execute_result"
    }
   ],
   "source": [
    "a = dos_feature_df.features[0]\n",
    "a.shape"
   ]
  },
  {
   "cell_type": "code",
   "execution_count": 29,
   "id": "56f0bbbc",
   "metadata": {},
   "outputs": [],
   "source": [
    "from tensorflow.keras.layers import Input,Conv1D,Dropout,MaxPooling1D,Flatten,Dense\n",
    "from tensorflow.keras.models import Sequential\n",
    "from tensorflow.keras.layers import concatenate"
   ]
  },
  {
   "cell_type": "code",
   "execution_count": 30,
   "id": "5594acce-1491-4df9-aae1-da72b2bb68fc",
   "metadata": {},
   "outputs": [],
   "source": [
    "n_time_steps = 30\n",
    "n_features = 9\n",
    "n_epoch = 150"
   ]
  },
  {
   "cell_type": "code",
   "execution_count": 31,
   "id": "79c9ed99-7d79-49c8-ae2a-665a764279fd",
   "metadata": {},
   "outputs": [
    {
     "data": {
      "text/plain": [
       "(9, 30)"
      ]
     },
     "execution_count": 31,
     "metadata": {},
     "output_type": "execute_result"
    }
   ],
   "source": [
    "(n_features,n_time_steps)"
   ]
  },
  {
   "cell_type": "code",
   "execution_count": 32,
   "id": "71998f74-c8a0-4926-9068-57b91f2a977b",
   "metadata": {},
   "outputs": [],
   "source": [
    "model = Sequential([\n",
    "# Input((n_time_steps,9)),\n",
    "Conv1D(input_shape=(n_time_steps,n_features),filters=16, kernel_size=3,activation='relu'),\n",
    "Conv1D(filters=16, kernel_size=3,activation='relu'),\n",
    "# Conv1D(filters=32, kernel_size=3,activation='relu'),\n",
    "MaxPooling1D(pool_size=16),\n",
    "\n",
    "Flatten(),\n",
    "Dense(8, activation='relu'),\n",
    "#   tf.keras.layers.Dense(4, activation='relu'),\n",
    "# Dropout(0.2),\n",
    "Dense(5, activation='softmax')\n",
    "])\n",
    "\n",
    "\n",
    "model.compile(optimizer='adam',\n",
    "\n",
    "          loss='categorical_crossentropy',\n",
    "\n",
    "          metrics=['categorical_accuracy'])"
   ]
  },
  {
   "cell_type": "code",
   "execution_count": 33,
   "id": "d0987eab-961a-4d22-8d36-431580770dde",
   "metadata": {},
   "outputs": [
    {
     "name": "stdout",
     "output_type": "stream",
     "text": [
      "Model: \"sequential\"\n",
      "_________________________________________________________________\n",
      "Layer (type)                 Output Shape              Param #   \n",
      "=================================================================\n",
      "conv1d (Conv1D)              (None, 28, 16)            448       \n",
      "_________________________________________________________________\n",
      "conv1d_1 (Conv1D)            (None, 26, 16)            784       \n",
      "_________________________________________________________________\n",
      "max_pooling1d (MaxPooling1D) (None, 1, 16)             0         \n",
      "_________________________________________________________________\n",
      "flatten (Flatten)            (None, 16)                0         \n",
      "_________________________________________________________________\n",
      "dense (Dense)                (None, 8)                 136       \n",
      "_________________________________________________________________\n",
      "dense_1 (Dense)              (None, 5)                 45        \n",
      "=================================================================\n",
      "Total params: 1,413\n",
      "Trainable params: 1,413\n",
      "Non-trainable params: 0\n",
      "_________________________________________________________________\n"
     ]
    }
   ],
   "source": [
    "model.summary()"
   ]
  },
  {
   "cell_type": "code",
   "execution_count": 34,
   "id": "4d3f20d6-ffa4-49e7-949b-bf0903ed9968",
   "metadata": {},
   "outputs": [],
   "source": [
    "features = np.concatenate(final_data.features.values)\n",
    "features = features.reshape(-1,n_time_steps,n_features)"
   ]
  },
  {
   "cell_type": "code",
   "execution_count": 35,
   "id": "9ac0e077-55ec-4891-98e0-cb2f4e0aab46",
   "metadata": {},
   "outputs": [
    {
     "data": {
      "text/plain": [
       "(5666, 30, 9)"
      ]
     },
     "execution_count": 35,
     "metadata": {},
     "output_type": "execute_result"
    }
   ],
   "source": [
    "features.shape"
   ]
  },
  {
   "cell_type": "code",
   "execution_count": 2,
   "id": "cafe2a3c-8b64-4368-ae40-797d7bf5b47b",
   "metadata": {},
   "outputs": [],
   "source": [
    "history = model.fit(features[:test_num], transfomed_label[:test_num], epochs=n_epoch, batch_size=64,\n",
    "                    validation_data=(features[test_num:], transfomed_label[test_num:]))"
   ]
  },
  {
   "cell_type": "code",
   "execution_count": 37,
   "id": "43f155e7-e0c9-40ce-b8f3-2f8c2cad7d11",
   "metadata": {},
   "outputs": [],
   "source": [
    "import matplotlib.pyplot as plt\n",
    "%matplotlib inline"
   ]
  },
  {
   "cell_type": "code",
   "execution_count": 38,
   "id": "8f99f8db-d630-4586-b30e-db506568d73b",
   "metadata": {},
   "outputs": [
    {
     "data": {
      "image/png": "[encoded data removed]",
      "text/plain": [
       "<Figure size 432x288 with 1 Axes>"
      ]
     },
     "metadata": {
      "needs_background": "light"
     },
     "output_type": "display_data"
    }
   ],
   "source": [
    "x = list(range(n_epoch))\n",
    "plt.plot(x, history.history['loss'],label=\"loss\")\n",
    "plt.plot(x, history.history['val_loss'],label=\"val_loss\")\n",
    "plt.legend();"
   ]
  },
  {
   "cell_type": "code",
   "execution_count": 39,
   "id": "176d378a-70d0-4bb6-8603-3f08fbfcc119",
   "metadata": {},
   "outputs": [
    {
     "data": {
      "image/png": "[encoded data removed]",
      "text/plain": [
       "<Figure size 432x288 with 1 Axes>"
      ]
     },
     "metadata": {
      "needs_background": "light"
     },
     "output_type": "display_data"
    }
   ],
   "source": [
    "plt.plot(x, history.history['val_categorical_accuracy'],label=\"val_categorical_accuracy\")\n",
    "plt.plot(x, history.history['categorical_accuracy'],label=\"categorical_accuracy\")\n",
    "plt.legend();"
   ]
  },
  {
   "cell_type": "code",
   "execution_count": null,
   "id": "51380f70-da44-42cb-8a00-3551c5501c1c",
   "metadata": {},
   "outputs": [],
   "source": []
  },
  {
   "cell_type": "code",
   "execution_count": null,
   "id": "f59c4e2c-bf29-4df6-98da-1d7f4fc73a88",
   "metadata": {},
   "outputs": [],
   "source": []
  }
 ],
 "metadata": {
  "kernelspec": {
   "display_name": "Python 3 (ipykernel)",
   "language": "python",
   "name": "python3"
  },
  "language_info": {
   "codemirror_mode": {
    "name": "ipython",
    "version": 3
   },
   "file_extension": ".py",
   "mimetype": "text/x-python",
   "name": "python",
   "nbconvert_exporter": "python",
   "pygments_lexer": "ipython3",
   "version": "3.8.10"
  }
 },
 "nbformat": 4,
 "nbformat_minor": 5
}
