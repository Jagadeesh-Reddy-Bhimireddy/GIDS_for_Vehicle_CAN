{
 "cells": [
  {
   "cell_type": "code",
   "execution_count": 1,
   "id": "9f244072-1ac6-41f2-a8c4-7dc6ece6f43c",
   "metadata": {},
   "outputs": [],
   "source": [
    "import os\n",
    "os.environ['TF_CPP_MIN_LOG_LEVEL'] = '3' \n",
    "# 0 = all messages are logged (default behavior)\n",
    "# 1 = INFO messages are not printed\n",
    "# 2 = INFO and WARNING messages are not printed\n",
    "# 3 = INFO, WARNING, and ERROR messages are not printed"
   ]
  },
  {
   "cell_type": "code",
   "execution_count": 2,
   "id": "ae00fe71",
   "metadata": {},
   "outputs": [],
   "source": [
    "import pandas as pd\n",
    "import numpy as np\n",
    "import tensorflow as tf\n",
    "tf.random.set_seed(0)\n",
    "import matplotlib.pyplot as plt\n",
    "%matplotlib inline"
   ]
  },
  {
   "cell_type": "markdown",
   "id": "b0b18261",
   "metadata": {},
   "source": [
    "### 1. Load data\n",
    "- set the load data row number\n",
    "- set colunms names\n",
    "- remove useless colunms"
   ]
  },
  {
   "cell_type": "code",
   "execution_count": 3,
   "id": "dda6bfd1",
   "metadata": {},
   "outputs": [],
   "source": [
    "row_num = 40000\n",
    "test_num= 5500\n",
    "n_time_steps = 30\n",
    "n_features = 9\n",
    "n_epoch = 200\n",
    "batch_size=256"
   ]
  },
  {
   "cell_type": "code",
   "execution_count": 4,
   "id": "17026d60",
   "metadata": {},
   "outputs": [],
   "source": [
    "from ppl_util import DataUtil"
   ]
  },
  {
   "cell_type": "code",
   "execution_count": 5,
   "id": "f15b965f",
   "metadata": {},
   "outputs": [],
   "source": [
    "path_list = [\"data/DoS_dataset.csv\",\"data/Fuzzy_dataset.csv\",\"data/gear_dataset.csv\",'data/RPM_dataset.csv',\"data/normal_run_data.txt\"]\n",
    "data_util = DataUtil(n_row=row_num, path_list=path_list, n_time_step=n_time_steps, n_features=n_features)"
   ]
  },
  {
   "cell_type": "code",
   "execution_count": 6,
   "id": "9738fd10-5629-4443-aae3-d3c17a4d648d",
   "metadata": {},
   "outputs": [
    {
     "name": "stderr",
     "output_type": "stream",
     "text": [
      "/home/laha/anaconda3/envs/tf_ppl/lib/python3.8/site-packages/pandas/core/frame.py:3607: SettingWithCopyWarning: \n",
      "A value is trying to be set on a copy of a slice from a DataFrame.\n",
      "Try using .loc[row_indexer,col_indexer] = value instead\n",
      "\n",
      "See the caveats in the documentation: https://pandas.pydata.org/pandas-docs/stable/user_guide/indexing.html#returning-a-view-versus-a-copy\n",
      "  self._set_item(key, value)\n",
      "/home/laha/anaconda3/envs/tf_ppl/lib/python3.8/site-packages/pandas/core/frame.py:3607: SettingWithCopyWarning: \n",
      "A value is trying to be set on a copy of a slice from a DataFrame.\n",
      "Try using .loc[row_indexer,col_indexer] = value instead\n",
      "\n",
      "See the caveats in the documentation: https://pandas.pydata.org/pandas-docs/stable/user_guide/indexing.html#returning-a-view-versus-a-copy\n",
      "  self._set_item(key, value)\n",
      "/home/laha/anaconda3/envs/tf_ppl/lib/python3.8/site-packages/pandas/core/frame.py:3607: SettingWithCopyWarning: \n",
      "A value is trying to be set on a copy of a slice from a DataFrame.\n",
      "Try using .loc[row_indexer,col_indexer] = value instead\n",
      "\n",
      "See the caveats in the documentation: https://pandas.pydata.org/pandas-docs/stable/user_guide/indexing.html#returning-a-view-versus-a-copy\n",
      "  self._set_item(key, value)\n",
      "/home/laha/anaconda3/envs/tf_ppl/lib/python3.8/site-packages/pandas/core/frame.py:3607: SettingWithCopyWarning: \n",
      "A value is trying to be set on a copy of a slice from a DataFrame.\n",
      "Try using .loc[row_indexer,col_indexer] = value instead\n",
      "\n",
      "See the caveats in the documentation: https://pandas.pydata.org/pandas-docs/stable/user_guide/indexing.html#returning-a-view-versus-a-copy\n",
      "  self._set_item(key, value)\n",
      "/home/laha/anaconda3/envs/tf_ppl/lib/python3.8/site-packages/pandas/core/frame.py:3607: SettingWithCopyWarning: \n",
      "A value is trying to be set on a copy of a slice from a DataFrame.\n",
      "Try using .loc[row_indexer,col_indexer] = value instead\n",
      "\n",
      "See the caveats in the documentation: https://pandas.pydata.org/pandas-docs/stable/user_guide/indexing.html#returning-a-view-versus-a-copy\n",
      "  self._set_item(key, value)\n",
      "/home/laha/anaconda3/envs/tf_ppl/lib/python3.8/site-packages/pandas/core/frame.py:3607: SettingWithCopyWarning: \n",
      "A value is trying to be set on a copy of a slice from a DataFrame.\n",
      "Try using .loc[row_indexer,col_indexer] = value instead\n",
      "\n",
      "See the caveats in the documentation: https://pandas.pydata.org/pandas-docs/stable/user_guide/indexing.html#returning-a-view-versus-a-copy\n",
      "  self._set_item(key, value)\n"
     ]
    },
    {
     "data": {
      "text/html": [
       "<div>\n",
       "<style scoped>\n",
       "    .dataframe tbody tr th:only-of-type {\n",
       "        vertical-align: middle;\n",
       "    }\n",
       "\n",
       "    .dataframe tbody tr th {\n",
       "        vertical-align: top;\n",
       "    }\n",
       "\n",
       "    .dataframe thead th {\n",
       "        text-align: right;\n",
       "    }\n",
       "</style>\n",
       "<table border=\"1\" class=\"dataframe\">\n",
       "  <thead>\n",
       "    <tr style=\"text-align: right;\">\n",
       "      <th></th>\n",
       "      <th>features</th>\n",
       "      <th>label</th>\n",
       "    </tr>\n",
       "  </thead>\n",
       "  <tbody>\n",
       "    <tr>\n",
       "      <th>733</th>\n",
       "      <td>[[0.5047619047619049, 0.0196078431372549, 0.16...</td>\n",
       "      <td>0</td>\n",
       "    </tr>\n",
       "    <tr>\n",
       "      <th>2380</th>\n",
       "      <td>[[0.4142647777234978, 0.0196078431372549, 0.12...</td>\n",
       "      <td>1</td>\n",
       "    </tr>\n",
       "    <tr>\n",
       "      <th>4382</th>\n",
       "      <td>[[0.6471990464839094, 1.0, 0.0, 0.0, 0.0, 1.0,...</td>\n",
       "      <td>3</td>\n",
       "    </tr>\n",
       "    <tr>\n",
       "      <th>6229</th>\n",
       "      <td>[[0.5041716328963051, 0.0196078431372549, 0.15...</td>\n",
       "      <td>4</td>\n",
       "    </tr>\n",
       "    <tr>\n",
       "      <th>3789</th>\n",
       "      <td>[[0.6376638855780691, 0.0, 0.0, 0.0, 0.0, 0.0,...</td>\n",
       "      <td>2</td>\n",
       "    </tr>\n",
       "  </tbody>\n",
       "</table>\n",
       "</div>"
      ],
      "text/plain": [
       "                                               features  label\n",
       "733   [[0.5047619047619049, 0.0196078431372549, 0.16...      0\n",
       "2380  [[0.4142647777234978, 0.0196078431372549, 0.12...      1\n",
       "4382  [[0.6471990464839094, 1.0, 0.0, 0.0, 0.0, 1.0,...      3\n",
       "6229  [[0.5041716328963051, 0.0196078431372549, 0.15...      4\n",
       "3789  [[0.6376638855780691, 0.0, 0.0, 0.0, 0.0, 0.0,...      2"
      ]
     },
     "execution_count": 6,
     "metadata": {},
     "output_type": "execute_result"
    }
   ],
   "source": [
    "dataset = data_util.read_files(is_shuffle=True)\n",
    "dataset.head()"
   ]
  },
  {
   "cell_type": "code",
   "execution_count": 7,
   "id": "51380f70-da44-42cb-8a00-3551c5501c1c",
   "metadata": {},
   "outputs": [],
   "source": [
    "features, label = data_util.get_train_data()"
   ]
  },
  {
   "cell_type": "code",
   "execution_count": 8,
   "id": "c9fca2fc-a507-4f9c-a0b7-af41376135ca",
   "metadata": {},
   "outputs": [
    {
     "data": {
      "text/plain": [
       "(6474, 30, 9)"
      ]
     },
     "execution_count": 8,
     "metadata": {},
     "output_type": "execute_result"
    }
   ],
   "source": [
    "features.shape"
   ]
  },
  {
   "cell_type": "code",
   "execution_count": 9,
   "id": "fe52c4ce-b76e-4757-8cf6-2bb7092b3d86",
   "metadata": {},
   "outputs": [],
   "source": [
    "import tensorflow as tf\n",
    "import tensorflow_probability as tfp\n",
    "tfd = tfp.distributions\n",
    "tfpl = tfp.layers\n",
    "from tensorflow.keras.optimizers import RMSprop\n",
    "from tensorflow.keras.models import Sequential"
   ]
  },
  {
   "cell_type": "code",
   "execution_count": 10,
   "id": "994124cd",
   "metadata": {},
   "outputs": [],
   "source": [
    "from tensorflow.keras.layers import Input,Conv1D,Dropout,MaxPooling1D,Flatten,Dense"
   ]
  },
  {
   "cell_type": "code",
   "execution_count": 11,
   "id": "05f0932b",
   "metadata": {},
   "outputs": [],
   "source": [
    "divergence_fn = lambda q,p,_: tfd.kl_divergence(q,p)/features.shape[0]\n",
    "def kl_approx(q, p, q_tensor):\n",
    "    return tf.reduce_mean(q.log_prob(q_tensor) - p.log_prob(q_tensor))"
   ]
  },
  {
   "cell_type": "code",
   "execution_count": 12,
   "id": "db6dab05",
   "metadata": {},
   "outputs": [
    {
     "name": "stdout",
     "output_type": "stream",
     "text": [
      "Model: \"sequential\"\n",
      "_________________________________________________________________\n",
      "Layer (type)                 Output Shape              Param #   \n",
      "=================================================================\n",
      "conv1d_reparameterization (C (None, 28, 16)            896       \n",
      "_________________________________________________________________\n",
      "conv1d_reparameterization_1  (None, 26, 16)            1568      \n",
      "_________________________________________________________________\n",
      "max_pooling1d (MaxPooling1D) (None, 1, 16)             0         \n",
      "_________________________________________________________________\n",
      "flatten (Flatten)            (None, 16)                0         \n",
      "_________________________________________________________________\n",
      "dense_reparameterization (De (None, 5)                 170       \n",
      "_________________________________________________________________\n",
      "one_hot_categorical (OneHotC multiple                  0         \n",
      "=================================================================\n",
      "Total params: 2,634\n",
      "Trainable params: 2,634\n",
      "Non-trainable params: 0\n",
      "_________________________________________________________________\n"
     ]
    },
    {
     "name": "stderr",
     "output_type": "stream",
     "text": [
      "/home/laha/anaconda3/envs/tf_ppl/lib/python3.8/site-packages/tensorflow/python/keras/engine/base_layer.py:2191: UserWarning: `layer.add_variable` is deprecated and will be removed in a future version. Please use `layer.add_weight` method instead.\n",
      "  warnings.warn('`layer.add_variable` is deprecated and '\n"
     ]
    }
   ],
   "source": [
    "model = Sequential([\n",
    "    tfpl.Convolution1DReparameterization(\n",
    "    input_shape=(n_time_steps,n_features),filters=16, kernel_size=3,activation='relu',\n",
    "    kernel_prior_fn = tfpl.default_multivariate_normal_fn,\n",
    "    kernel_posterior_fn=tfpl.default_mean_field_normal_fn(is_singular=False),\n",
    "    kernel_divergence_fn = divergence_fn,\n",
    "    bias_prior_fn = tfpl.default_multivariate_normal_fn,\n",
    "    bias_posterior_fn = tfpl.default_mean_field_normal_fn(is_singular=False),\n",
    "    bias_divergence_fn =  divergence_fn   \n",
    "    ),\n",
    "    tfpl.Convolution1DReparameterization(\n",
    "    filters=16, kernel_size=3,activation='relu',\n",
    "    kernel_prior_fn = tfpl.default_multivariate_normal_fn,\n",
    "    kernel_posterior_fn=tfpl.default_mean_field_normal_fn(is_singular=False),\n",
    "    kernel_divergence_fn = divergence_fn,\n",
    "    bias_prior_fn = tfpl.default_multivariate_normal_fn,\n",
    "    bias_posterior_fn = tfpl.default_mean_field_normal_fn(is_singular=False),\n",
    "    bias_divergence_fn =  divergence_fn   \n",
    "    ),\n",
    "#     tfpl.Convolution1DReparameterization(\n",
    "#     filters=16, kernel_size=3,activation='relu',\n",
    "#     kernel_prior_fn = tfpl.default_multivariate_normal_fn,\n",
    "#     kernel_posterior_fn=tfpl.default_mean_field_normal_fn(is_singular=False),\n",
    "#     kernel_divergence_fn = divergence_fn,\n",
    "#     bias_prior_fn = tfpl.default_multivariate_normal_fn,\n",
    "#     bias_posterior_fn = tfpl.default_mean_field_normal_fn(is_singular=False),\n",
    "#     bias_divergence_fn =  divergence_fn   \n",
    "#     ),\n",
    "    MaxPooling1D(16),\n",
    "    Flatten(),\n",
    "    tfpl.DenseReparameterization(\n",
    "        units = tfpl.OneHotCategorical.params_size(5),activation=None,\n",
    "        kernel_prior_fn = tfpl.default_multivariate_normal_fn,\n",
    "        kernel_posterior_fn=tfpl.default_mean_field_normal_fn(is_singular=False),\n",
    "        kernel_divergence_fn = divergence_fn,\n",
    "        bias_prior_fn = tfpl.default_multivariate_normal_fn,\n",
    "        bias_posterior_fn = tfpl.default_mean_field_normal_fn(is_singular=False),\n",
    "        bias_divergence_fn =  divergence_fn   \n",
    "    ),\n",
    "    tfpl.OneHotCategorical(5)\n",
    "])\n",
    "\n",
    "model.summary()"
   ]
  },
  {
   "cell_type": "code",
   "execution_count": 13,
   "id": "7cea1e12",
   "metadata": {},
   "outputs": [],
   "source": [
    "def nll(y_true, y_pred):\n",
    "    return -y_pred.log_prob(y_true)\n",
    "\n",
    "model.compile(loss=nll,\n",
    "              optimizer='adam',\n",
    "              metrics=['categorical_accuracy'],\n",
    "              experimental_run_tf_function=False)"
   ]
  },
  {
   "cell_type": "code",
   "execution_count": 14,
   "id": "f59c4e2c-bf29-4df6-98da-1d7f4fc73a88",
   "metadata": {},
   "outputs": [
    {
     "name": "stdout",
     "output_type": "stream",
     "text": [
      "Epoch 1/200\n",
      "22/22 [==============================] - 3s 19ms/step - loss: 2.1287 - categorical_accuracy: 0.2069 - val_loss: 2.1175 - val_categorical_accuracy: 0.1858\n",
      "Epoch 2/200\n",
      "22/22 [==============================] - 0s 4ms/step - loss: 2.1123 - categorical_accuracy: 0.2058 - val_loss: 2.0996 - val_categorical_accuracy: 0.2197\n",
      "Epoch 3/200\n",
      "22/22 [==============================] - 0s 4ms/step - loss: 2.0920 - categorical_accuracy: 0.1993 - val_loss: 2.0764 - val_categorical_accuracy: 0.1756\n",
      "Epoch 4/200\n",
      "22/22 [==============================] - 0s 5ms/step - loss: 2.0595 - categorical_accuracy: 0.2142 - val_loss: 2.0196 - val_categorical_accuracy: 0.2556\n",
      "Epoch 5/200\n",
      "22/22 [==============================] - 0s 6ms/step - loss: 2.0164 - categorical_accuracy: 0.2213 - val_loss: 1.9683 - val_categorical_accuracy: 0.2433\n",
      "Epoch 6/200\n",
      "22/22 [==============================] - 0s 6ms/step - loss: 1.9627 - categorical_accuracy: 0.2498 - val_loss: 1.9091 - val_categorical_accuracy: 0.2752\n",
      "Epoch 7/200\n",
      "22/22 [==============================] - 0s 7ms/step - loss: 1.9060 - categorical_accuracy: 0.2553 - val_loss: 1.8429 - val_categorical_accuracy: 0.2752\n",
      "Epoch 8/200\n",
      "22/22 [==============================] - 0s 4ms/step - loss: 1.8494 - categorical_accuracy: 0.2955 - val_loss: 1.7916 - val_categorical_accuracy: 0.3039\n",
      "Epoch 9/200\n",
      "22/22 [==============================] - 0s 4ms/step - loss: 1.7980 - categorical_accuracy: 0.3136 - val_loss: 1.7244 - val_categorical_accuracy: 0.3131\n",
      "Epoch 10/200\n",
      "22/22 [==============================] - 0s 4ms/step - loss: 1.7294 - categorical_accuracy: 0.3433 - val_loss: 1.6748 - val_categorical_accuracy: 0.3727\n",
      "Epoch 11/200\n",
      "22/22 [==============================] - 0s 4ms/step - loss: 1.6797 - categorical_accuracy: 0.3502 - val_loss: 1.6291 - val_categorical_accuracy: 0.3624\n",
      "Epoch 12/200\n",
      "22/22 [==============================] - 0s 4ms/step - loss: 1.6261 - categorical_accuracy: 0.3818 - val_loss: 1.5773 - val_categorical_accuracy: 0.4209\n",
      "Epoch 13/200\n",
      "22/22 [==============================] - 0s 4ms/step - loss: 1.5575 - categorical_accuracy: 0.4107 - val_loss: 1.5196 - val_categorical_accuracy: 0.4261\n",
      "Epoch 14/200\n",
      "22/22 [==============================] - 0s 7ms/step - loss: 1.5123 - categorical_accuracy: 0.4220 - val_loss: 1.4543 - val_categorical_accuracy: 0.4723\n",
      "Epoch 15/200\n",
      "22/22 [==============================] - 0s 6ms/step - loss: 1.4552 - categorical_accuracy: 0.4567 - val_loss: 1.4464 - val_categorical_accuracy: 0.4682\n",
      "Epoch 16/200\n",
      "22/22 [==============================] - 0s 7ms/step - loss: 1.4159 - categorical_accuracy: 0.4816 - val_loss: 1.3593 - val_categorical_accuracy: 0.4908\n",
      "Epoch 17/200\n",
      "22/22 [==============================] - 0s 6ms/step - loss: 1.3849 - categorical_accuracy: 0.4958 - val_loss: 1.3401 - val_categorical_accuracy: 0.5195\n",
      "Epoch 18/200\n",
      "22/22 [==============================] - 0s 5ms/step - loss: 1.3354 - categorical_accuracy: 0.5142 - val_loss: 1.3031 - val_categorical_accuracy: 0.5575\n",
      "Epoch 19/200\n",
      "22/22 [==============================] - 0s 6ms/step - loss: 1.3160 - categorical_accuracy: 0.5298 - val_loss: 1.2577 - val_categorical_accuracy: 0.5585\n",
      "Epoch 20/200\n",
      "22/22 [==============================] - 0s 5ms/step - loss: 1.2728 - categorical_accuracy: 0.5464 - val_loss: 1.2720 - val_categorical_accuracy: 0.5544\n",
      "Epoch 21/200\n",
      "22/22 [==============================] - 0s 5ms/step - loss: 1.2340 - categorical_accuracy: 0.5725 - val_loss: 1.2205 - val_categorical_accuracy: 0.5791\n",
      "Epoch 22/200\n",
      "22/22 [==============================] - 0s 5ms/step - loss: 1.2209 - categorical_accuracy: 0.5816 - val_loss: 1.1959 - val_categorical_accuracy: 0.5873\n",
      "Epoch 23/200\n",
      "22/22 [==============================] - 0s 6ms/step - loss: 1.2008 - categorical_accuracy: 0.5913 - val_loss: 1.1750 - val_categorical_accuracy: 0.6047\n",
      "Epoch 24/200\n",
      "22/22 [==============================] - 0s 6ms/step - loss: 1.1799 - categorical_accuracy: 0.5967 - val_loss: 1.1695 - val_categorical_accuracy: 0.5924\n",
      "Epoch 25/200\n",
      "22/22 [==============================] - 0s 6ms/step - loss: 1.1385 - categorical_accuracy: 0.6016 - val_loss: 1.1730 - val_categorical_accuracy: 0.6140\n",
      "Epoch 26/200\n",
      "22/22 [==============================] - 0s 6ms/step - loss: 1.1297 - categorical_accuracy: 0.6255 - val_loss: 1.1763 - val_categorical_accuracy: 0.6150\n",
      "Epoch 27/200\n",
      "22/22 [==============================] - 0s 6ms/step - loss: 1.1317 - categorical_accuracy: 0.6205 - val_loss: 1.1425 - val_categorical_accuracy: 0.6407\n",
      "Epoch 28/200\n",
      "22/22 [==============================] - 0s 5ms/step - loss: 1.1109 - categorical_accuracy: 0.6387 - val_loss: 1.0990 - val_categorical_accuracy: 0.6437\n",
      "Epoch 29/200\n",
      "22/22 [==============================] - 0s 5ms/step - loss: 1.0615 - categorical_accuracy: 0.6560 - val_loss: 1.0864 - val_categorical_accuracy: 0.6653\n",
      "Epoch 30/200\n",
      "22/22 [==============================] - 0s 4ms/step - loss: 1.0640 - categorical_accuracy: 0.6444 - val_loss: 1.1307 - val_categorical_accuracy: 0.6448\n",
      "Epoch 31/200\n",
      "22/22 [==============================] - 0s 4ms/step - loss: 1.0440 - categorical_accuracy: 0.6571 - val_loss: 1.0692 - val_categorical_accuracy: 0.6509\n",
      "Epoch 32/200\n",
      "22/22 [==============================] - 0s 5ms/step - loss: 1.0372 - categorical_accuracy: 0.6647 - val_loss: 1.0905 - val_categorical_accuracy: 0.6581\n",
      "Epoch 33/200\n",
      "22/22 [==============================] - 0s 5ms/step - loss: 1.0169 - categorical_accuracy: 0.6676 - val_loss: 1.0372 - val_categorical_accuracy: 0.6786\n",
      "Epoch 34/200\n",
      "22/22 [==============================] - 0s 6ms/step - loss: 1.0275 - categorical_accuracy: 0.6755 - val_loss: 1.0384 - val_categorical_accuracy: 0.6869\n",
      "Epoch 35/200\n",
      "22/22 [==============================] - 0s 6ms/step - loss: 1.0006 - categorical_accuracy: 0.6844 - val_loss: 1.0362 - val_categorical_accuracy: 0.6889\n",
      "Epoch 36/200\n",
      "22/22 [==============================] - 0s 5ms/step - loss: 1.0010 - categorical_accuracy: 0.6949 - val_loss: 1.0634 - val_categorical_accuracy: 0.6848\n",
      "Epoch 37/200\n",
      "22/22 [==============================] - 0s 5ms/step - loss: 0.9944 - categorical_accuracy: 0.6973 - val_loss: 1.0083 - val_categorical_accuracy: 0.6838\n",
      "Epoch 38/200\n",
      "22/22 [==============================] - 0s 6ms/step - loss: 0.9856 - categorical_accuracy: 0.7018 - val_loss: 1.0638 - val_categorical_accuracy: 0.6838\n",
      "Epoch 39/200\n",
      "22/22 [==============================] - 0s 6ms/step - loss: 0.9871 - categorical_accuracy: 0.7042 - val_loss: 1.0420 - val_categorical_accuracy: 0.6951\n",
      "Epoch 40/200\n",
      "22/22 [==============================] - 0s 6ms/step - loss: 0.9624 - categorical_accuracy: 0.7113 - val_loss: 0.9564 - val_categorical_accuracy: 0.7177\n",
      "Epoch 41/200\n",
      "22/22 [==============================] - 0s 7ms/step - loss: 0.9571 - categorical_accuracy: 0.7073 - val_loss: 0.9503 - val_categorical_accuracy: 0.7166\n",
      "Epoch 42/200\n",
      "22/22 [==============================] - 0s 7ms/step - loss: 0.9411 - categorical_accuracy: 0.7222 - val_loss: 1.0620 - val_categorical_accuracy: 0.6869\n",
      "Epoch 43/200\n",
      "22/22 [==============================] - 0s 5ms/step - loss: 0.9368 - categorical_accuracy: 0.7227 - val_loss: 0.9443 - val_categorical_accuracy: 0.7402\n",
      "Epoch 44/200\n",
      "22/22 [==============================] - 0s 5ms/step - loss: 0.9236 - categorical_accuracy: 0.7213 - val_loss: 0.9961 - val_categorical_accuracy: 0.7177\n",
      "Epoch 45/200\n",
      "22/22 [==============================] - 0s 5ms/step - loss: 0.9213 - categorical_accuracy: 0.7324 - val_loss: 0.9712 - val_categorical_accuracy: 0.7259\n",
      "Epoch 46/200\n",
      "22/22 [==============================] - 0s 6ms/step - loss: 0.9278 - categorical_accuracy: 0.7322 - val_loss: 0.9604 - val_categorical_accuracy: 0.7361\n",
      "Epoch 47/200\n",
      "22/22 [==============================] - 0s 6ms/step - loss: 0.9240 - categorical_accuracy: 0.7271 - val_loss: 0.9151 - val_categorical_accuracy: 0.7382\n",
      "Epoch 48/200\n",
      "22/22 [==============================] - 0s 6ms/step - loss: 0.9042 - categorical_accuracy: 0.7456 - val_loss: 0.9036 - val_categorical_accuracy: 0.7505\n",
      "Epoch 49/200\n",
      "22/22 [==============================] - 0s 5ms/step - loss: 0.9241 - categorical_accuracy: 0.7391 - val_loss: 1.0023 - val_categorical_accuracy: 0.7341\n",
      "Epoch 50/200\n",
      "22/22 [==============================] - 0s 5ms/step - loss: 0.9005 - categorical_accuracy: 0.7498 - val_loss: 0.9097 - val_categorical_accuracy: 0.7587\n",
      "Epoch 51/200\n",
      "22/22 [==============================] - 0s 5ms/step - loss: 0.9055 - categorical_accuracy: 0.7464 - val_loss: 0.9068 - val_categorical_accuracy: 0.7587\n",
      "Epoch 52/200\n",
      "22/22 [==============================] - 0s 6ms/step - loss: 0.8894 - categorical_accuracy: 0.7407 - val_loss: 0.9180 - val_categorical_accuracy: 0.7515\n",
      "Epoch 53/200\n",
      "22/22 [==============================] - 0s 6ms/step - loss: 0.8940 - categorical_accuracy: 0.7445 - val_loss: 0.9100 - val_categorical_accuracy: 0.7505\n",
      "Epoch 54/200\n",
      "22/22 [==============================] - 0s 4ms/step - loss: 0.8944 - categorical_accuracy: 0.7533 - val_loss: 0.9144 - val_categorical_accuracy: 0.7526\n",
      "Epoch 55/200\n",
      "22/22 [==============================] - 0s 4ms/step - loss: 0.8745 - categorical_accuracy: 0.7602 - val_loss: 0.9008 - val_categorical_accuracy: 0.7598\n",
      "Epoch 56/200\n",
      "22/22 [==============================] - 0s 4ms/step - loss: 0.8576 - categorical_accuracy: 0.7675 - val_loss: 0.9144 - val_categorical_accuracy: 0.7546\n",
      "Epoch 57/200\n",
      "22/22 [==============================] - 0s 5ms/step - loss: 0.8607 - categorical_accuracy: 0.7584 - val_loss: 0.9328 - val_categorical_accuracy: 0.7515\n",
      "Epoch 58/200\n",
      "22/22 [==============================] - 0s 5ms/step - loss: 0.8630 - categorical_accuracy: 0.7627 - val_loss: 0.8575 - val_categorical_accuracy: 0.7885\n",
      "Epoch 59/200\n",
      "22/22 [==============================] - 0s 5ms/step - loss: 0.8462 - categorical_accuracy: 0.7767 - val_loss: 0.8702 - val_categorical_accuracy: 0.7710\n",
      "Epoch 60/200\n",
      "22/22 [==============================] - 0s 5ms/step - loss: 0.8377 - categorical_accuracy: 0.7816 - val_loss: 0.8778 - val_categorical_accuracy: 0.7936\n",
      "Epoch 61/200\n",
      "22/22 [==============================] - 0s 5ms/step - loss: 0.8419 - categorical_accuracy: 0.7738 - val_loss: 0.9070 - val_categorical_accuracy: 0.7526\n",
      "Epoch 62/200\n",
      "22/22 [==============================] - 0s 5ms/step - loss: 0.8261 - categorical_accuracy: 0.7764 - val_loss: 0.8517 - val_categorical_accuracy: 0.7793\n",
      "Epoch 63/200\n",
      "22/22 [==============================] - 0s 5ms/step - loss: 0.8153 - categorical_accuracy: 0.7964 - val_loss: 0.8726 - val_categorical_accuracy: 0.7752\n",
      "Epoch 64/200\n",
      "22/22 [==============================] - 0s 4ms/step - loss: 0.8212 - categorical_accuracy: 0.7867 - val_loss: 0.8692 - val_categorical_accuracy: 0.7639\n",
      "Epoch 65/200\n",
      "22/22 [==============================] - 0s 4ms/step - loss: 0.8097 - categorical_accuracy: 0.7913 - val_loss: 0.8662 - val_categorical_accuracy: 0.7834\n",
      "Epoch 66/200\n",
      "22/22 [==============================] - 0s 5ms/step - loss: 0.8187 - categorical_accuracy: 0.7984 - val_loss: 0.8146 - val_categorical_accuracy: 0.7864\n",
      "Epoch 67/200\n",
      "22/22 [==============================] - 0s 4ms/step - loss: 0.8039 - categorical_accuracy: 0.8025 - val_loss: 0.8369 - val_categorical_accuracy: 0.7823\n",
      "Epoch 68/200\n",
      "22/22 [==============================] - 0s 5ms/step - loss: 0.8099 - categorical_accuracy: 0.7967 - val_loss: 0.8593 - val_categorical_accuracy: 0.7895\n",
      "Epoch 69/200\n",
      "22/22 [==============================] - 0s 5ms/step - loss: 0.8063 - categorical_accuracy: 0.7935 - val_loss: 0.8158 - val_categorical_accuracy: 0.8142\n",
      "Epoch 70/200\n",
      "22/22 [==============================] - 0s 5ms/step - loss: 0.8223 - categorical_accuracy: 0.7882 - val_loss: 0.8829 - val_categorical_accuracy: 0.7752\n",
      "Epoch 71/200\n",
      "22/22 [==============================] - 0s 6ms/step - loss: 0.8106 - categorical_accuracy: 0.8007 - val_loss: 0.8554 - val_categorical_accuracy: 0.7936\n",
      "Epoch 72/200\n",
      "22/22 [==============================] - 0s 5ms/step - loss: 0.8116 - categorical_accuracy: 0.7924 - val_loss: 0.8151 - val_categorical_accuracy: 0.7936\n",
      "Epoch 73/200\n",
      "22/22 [==============================] - 0s 4ms/step - loss: 0.8229 - categorical_accuracy: 0.7973 - val_loss: 0.7901 - val_categorical_accuracy: 0.8142\n",
      "Epoch 74/200\n",
      "22/22 [==============================] - 0s 5ms/step - loss: 0.8081 - categorical_accuracy: 0.7936 - val_loss: 0.8076 - val_categorical_accuracy: 0.7998\n",
      "Epoch 75/200\n",
      "22/22 [==============================] - 0s 6ms/step - loss: 0.7776 - categorical_accuracy: 0.7982 - val_loss: 0.8107 - val_categorical_accuracy: 0.8029\n",
      "Epoch 76/200\n",
      "22/22 [==============================] - 0s 6ms/step - loss: 0.7927 - categorical_accuracy: 0.7980 - val_loss: 0.8330 - val_categorical_accuracy: 0.7895\n",
      "Epoch 77/200\n",
      "22/22 [==============================] - 0s 6ms/step - loss: 0.7988 - categorical_accuracy: 0.8040 - val_loss: 0.8238 - val_categorical_accuracy: 0.8018\n",
      "Epoch 78/200\n",
      "22/22 [==============================] - 0s 6ms/step - loss: 0.8018 - categorical_accuracy: 0.8067 - val_loss: 0.7916 - val_categorical_accuracy: 0.7936\n",
      "Epoch 79/200\n",
      "22/22 [==============================] - 0s 6ms/step - loss: 0.7701 - categorical_accuracy: 0.8131 - val_loss: 0.7768 - val_categorical_accuracy: 0.8224\n",
      "Epoch 80/200\n",
      "22/22 [==============================] - 0s 6ms/step - loss: 0.7726 - categorical_accuracy: 0.8111 - val_loss: 0.8017 - val_categorical_accuracy: 0.8183\n",
      "Epoch 81/200\n",
      "22/22 [==============================] - 0s 6ms/step - loss: 0.7748 - categorical_accuracy: 0.8140 - val_loss: 0.7854 - val_categorical_accuracy: 0.8101\n",
      "Epoch 82/200\n",
      "22/22 [==============================] - 0s 4ms/step - loss: 0.7675 - categorical_accuracy: 0.8131 - val_loss: 0.7935 - val_categorical_accuracy: 0.8152\n",
      "Epoch 83/200\n",
      "22/22 [==============================] - 0s 4ms/step - loss: 0.7686 - categorical_accuracy: 0.8196 - val_loss: 0.8051 - val_categorical_accuracy: 0.8101\n",
      "Epoch 84/200\n",
      "22/22 [==============================] - 0s 4ms/step - loss: 0.7414 - categorical_accuracy: 0.8342 - val_loss: 0.7999 - val_categorical_accuracy: 0.8296\n",
      "Epoch 85/200\n",
      "22/22 [==============================] - 0s 4ms/step - loss: 0.7728 - categorical_accuracy: 0.8275 - val_loss: 0.7585 - val_categorical_accuracy: 0.8306\n",
      "Epoch 86/200\n",
      "22/22 [==============================] - 0s 4ms/step - loss: 0.7448 - categorical_accuracy: 0.8187 - val_loss: 0.7791 - val_categorical_accuracy: 0.8142\n",
      "Epoch 87/200\n",
      "22/22 [==============================] - 0s 4ms/step - loss: 0.7463 - categorical_accuracy: 0.8316 - val_loss: 0.7779 - val_categorical_accuracy: 0.8224\n",
      "Epoch 88/200\n",
      "22/22 [==============================] - 0s 4ms/step - loss: 0.7479 - categorical_accuracy: 0.8282 - val_loss: 0.7758 - val_categorical_accuracy: 0.8347\n",
      "Epoch 89/200\n",
      "22/22 [==============================] - 0s 4ms/step - loss: 0.7613 - categorical_accuracy: 0.8180 - val_loss: 0.8091 - val_categorical_accuracy: 0.8368\n",
      "Epoch 90/200\n",
      "22/22 [==============================] - 0s 5ms/step - loss: 0.7534 - categorical_accuracy: 0.8291 - val_loss: 0.7722 - val_categorical_accuracy: 0.8203\n",
      "Epoch 91/200\n",
      "22/22 [==============================] - 0s 5ms/step - loss: 0.7356 - categorical_accuracy: 0.8284 - val_loss: 0.7723 - val_categorical_accuracy: 0.8234\n",
      "Epoch 92/200\n",
      "22/22 [==============================] - 0s 5ms/step - loss: 0.7357 - categorical_accuracy: 0.8364 - val_loss: 0.7775 - val_categorical_accuracy: 0.8142\n",
      "Epoch 93/200\n",
      "22/22 [==============================] - 0s 5ms/step - loss: 0.7211 - categorical_accuracy: 0.8395 - val_loss: 0.7475 - val_categorical_accuracy: 0.8337\n",
      "Epoch 94/200\n",
      "22/22 [==============================] - 0s 5ms/step - loss: 0.7481 - categorical_accuracy: 0.8340 - val_loss: 0.7864 - val_categorical_accuracy: 0.8234\n",
      "Epoch 95/200\n",
      "22/22 [==============================] - 0s 5ms/step - loss: 0.7372 - categorical_accuracy: 0.8338 - val_loss: 0.7603 - val_categorical_accuracy: 0.8142\n",
      "Epoch 96/200\n",
      "22/22 [==============================] - 0s 5ms/step - loss: 0.7343 - categorical_accuracy: 0.8353 - val_loss: 0.7678 - val_categorical_accuracy: 0.8183\n",
      "Epoch 97/200\n",
      "22/22 [==============================] - 0s 5ms/step - loss: 0.7414 - categorical_accuracy: 0.8362 - val_loss: 0.7446 - val_categorical_accuracy: 0.8388\n",
      "Epoch 98/200\n",
      "22/22 [==============================] - 0s 4ms/step - loss: 0.7432 - categorical_accuracy: 0.8345 - val_loss: 0.7610 - val_categorical_accuracy: 0.8316\n",
      "Epoch 99/200\n",
      "22/22 [==============================] - 0s 4ms/step - loss: 0.7301 - categorical_accuracy: 0.8358 - val_loss: 0.7451 - val_categorical_accuracy: 0.8501\n",
      "Epoch 100/200\n",
      "22/22 [==============================] - 0s 4ms/step - loss: 0.7154 - categorical_accuracy: 0.8353 - val_loss: 0.7566 - val_categorical_accuracy: 0.8368\n",
      "Epoch 101/200\n",
      "22/22 [==============================] - 0s 4ms/step - loss: 0.7075 - categorical_accuracy: 0.8480 - val_loss: 0.7633 - val_categorical_accuracy: 0.8450\n",
      "Epoch 102/200\n",
      "22/22 [==============================] - 0s 4ms/step - loss: 0.7160 - categorical_accuracy: 0.8493 - val_loss: 0.7605 - val_categorical_accuracy: 0.8275\n",
      "Epoch 103/200\n",
      "22/22 [==============================] - 0s 4ms/step - loss: 0.7144 - categorical_accuracy: 0.8409 - val_loss: 0.7370 - val_categorical_accuracy: 0.8398\n",
      "Epoch 104/200\n",
      "22/22 [==============================] - 0s 4ms/step - loss: 0.7092 - categorical_accuracy: 0.8429 - val_loss: 0.7632 - val_categorical_accuracy: 0.8275\n",
      "Epoch 105/200\n",
      "22/22 [==============================] - 0s 4ms/step - loss: 0.7271 - categorical_accuracy: 0.8445 - val_loss: 0.7290 - val_categorical_accuracy: 0.8316\n",
      "Epoch 106/200\n",
      "22/22 [==============================] - 0s 4ms/step - loss: 0.7232 - categorical_accuracy: 0.8438 - val_loss: 0.7335 - val_categorical_accuracy: 0.8296\n",
      "Epoch 107/200\n",
      "22/22 [==============================] - 0s 4ms/step - loss: 0.7087 - categorical_accuracy: 0.8476 - val_loss: 0.7251 - val_categorical_accuracy: 0.8378\n",
      "Epoch 108/200\n",
      "22/22 [==============================] - 0s 4ms/step - loss: 0.6993 - categorical_accuracy: 0.8555 - val_loss: 0.7316 - val_categorical_accuracy: 0.8347\n",
      "Epoch 109/200\n",
      "22/22 [==============================] - 0s 4ms/step - loss: 0.6999 - categorical_accuracy: 0.8455 - val_loss: 0.7325 - val_categorical_accuracy: 0.8480\n",
      "Epoch 110/200\n",
      "22/22 [==============================] - 0s 4ms/step - loss: 0.7127 - categorical_accuracy: 0.8582 - val_loss: 0.7418 - val_categorical_accuracy: 0.8583\n",
      "Epoch 111/200\n",
      "22/22 [==============================] - 0s 4ms/step - loss: 0.7090 - categorical_accuracy: 0.8465 - val_loss: 0.7146 - val_categorical_accuracy: 0.8511\n",
      "Epoch 112/200\n",
      "22/22 [==============================] - 0s 4ms/step - loss: 0.6944 - categorical_accuracy: 0.8544 - val_loss: 0.7581 - val_categorical_accuracy: 0.8511\n",
      "Epoch 113/200\n",
      "22/22 [==============================] - 0s 4ms/step - loss: 0.6930 - categorical_accuracy: 0.8555 - val_loss: 0.7232 - val_categorical_accuracy: 0.8583\n",
      "Epoch 114/200\n",
      "22/22 [==============================] - 0s 4ms/step - loss: 0.6922 - categorical_accuracy: 0.8585 - val_loss: 0.7197 - val_categorical_accuracy: 0.8542\n",
      "Epoch 115/200\n",
      "22/22 [==============================] - 0s 4ms/step - loss: 0.6915 - categorical_accuracy: 0.8576 - val_loss: 0.7126 - val_categorical_accuracy: 0.8614\n",
      "Epoch 116/200\n",
      "22/22 [==============================] - 0s 4ms/step - loss: 0.6816 - categorical_accuracy: 0.8562 - val_loss: 0.7124 - val_categorical_accuracy: 0.8501\n",
      "Epoch 117/200\n",
      "22/22 [==============================] - 0s 4ms/step - loss: 0.7003 - categorical_accuracy: 0.8605 - val_loss: 0.7328 - val_categorical_accuracy: 0.8706\n",
      "Epoch 118/200\n",
      "22/22 [==============================] - 0s 4ms/step - loss: 0.6972 - categorical_accuracy: 0.8484 - val_loss: 0.7022 - val_categorical_accuracy: 0.8614\n",
      "Epoch 119/200\n",
      "22/22 [==============================] - 0s 4ms/step - loss: 0.6859 - categorical_accuracy: 0.8595 - val_loss: 0.7345 - val_categorical_accuracy: 0.8439\n",
      "Epoch 120/200\n",
      "22/22 [==============================] - 0s 4ms/step - loss: 0.6782 - categorical_accuracy: 0.8587 - val_loss: 0.7703 - val_categorical_accuracy: 0.8357\n",
      "Epoch 121/200\n",
      "22/22 [==============================] - 0s 4ms/step - loss: 0.7099 - categorical_accuracy: 0.8535 - val_loss: 0.7292 - val_categorical_accuracy: 0.8419\n",
      "Epoch 122/200\n",
      "22/22 [==============================] - 0s 4ms/step - loss: 0.6845 - categorical_accuracy: 0.8631 - val_loss: 0.7471 - val_categorical_accuracy: 0.8511\n",
      "Epoch 123/200\n",
      "22/22 [==============================] - 0s 4ms/step - loss: 0.6795 - categorical_accuracy: 0.8662 - val_loss: 0.6958 - val_categorical_accuracy: 0.8758\n",
      "Epoch 124/200\n",
      "22/22 [==============================] - 0s 4ms/step - loss: 0.6737 - categorical_accuracy: 0.8595 - val_loss: 0.7506 - val_categorical_accuracy: 0.8491\n",
      "Epoch 125/200\n",
      "22/22 [==============================] - 0s 4ms/step - loss: 0.6808 - categorical_accuracy: 0.8629 - val_loss: 0.7072 - val_categorical_accuracy: 0.8768\n",
      "Epoch 126/200\n",
      "22/22 [==============================] - 0s 4ms/step - loss: 0.6696 - categorical_accuracy: 0.8669 - val_loss: 0.7167 - val_categorical_accuracy: 0.8491\n",
      "Epoch 127/200\n",
      "22/22 [==============================] - 0s 4ms/step - loss: 0.6941 - categorical_accuracy: 0.8576 - val_loss: 0.7481 - val_categorical_accuracy: 0.8326\n",
      "Epoch 128/200\n",
      "22/22 [==============================] - 0s 4ms/step - loss: 0.6877 - categorical_accuracy: 0.8631 - val_loss: 0.7400 - val_categorical_accuracy: 0.8522\n",
      "Epoch 129/200\n",
      "22/22 [==============================] - 0s 4ms/step - loss: 0.6850 - categorical_accuracy: 0.8664 - val_loss: 0.6715 - val_categorical_accuracy: 0.8768\n",
      "Epoch 130/200\n",
      "22/22 [==============================] - 0s 4ms/step - loss: 0.6718 - categorical_accuracy: 0.8678 - val_loss: 0.7067 - val_categorical_accuracy: 0.8665\n",
      "Epoch 131/200\n",
      "22/22 [==============================] - 0s 4ms/step - loss: 0.6668 - categorical_accuracy: 0.8713 - val_loss: 0.6904 - val_categorical_accuracy: 0.8501\n",
      "Epoch 132/200\n",
      "22/22 [==============================] - 0s 4ms/step - loss: 0.6584 - categorical_accuracy: 0.8696 - val_loss: 0.6873 - val_categorical_accuracy: 0.8593\n",
      "Epoch 133/200\n",
      "22/22 [==============================] - 0s 4ms/step - loss: 0.6536 - categorical_accuracy: 0.8773 - val_loss: 0.6848 - val_categorical_accuracy: 0.8696\n",
      "Epoch 134/200\n",
      "22/22 [==============================] - 0s 4ms/step - loss: 0.6633 - categorical_accuracy: 0.8796 - val_loss: 0.7049 - val_categorical_accuracy: 0.8460\n",
      "Epoch 135/200\n",
      "22/22 [==============================] - 0s 4ms/step - loss: 0.6838 - categorical_accuracy: 0.8638 - val_loss: 0.6847 - val_categorical_accuracy: 0.8727\n",
      "Epoch 136/200\n",
      "22/22 [==============================] - 0s 4ms/step - loss: 0.6579 - categorical_accuracy: 0.8722 - val_loss: 0.6866 - val_categorical_accuracy: 0.8634\n",
      "Epoch 137/200\n",
      "22/22 [==============================] - 0s 4ms/step - loss: 0.6415 - categorical_accuracy: 0.8702 - val_loss: 0.7035 - val_categorical_accuracy: 0.8583\n",
      "Epoch 138/200\n",
      "22/22 [==============================] - 0s 4ms/step - loss: 0.6698 - categorical_accuracy: 0.8665 - val_loss: 0.6906 - val_categorical_accuracy: 0.8542\n",
      "Epoch 139/200\n",
      "22/22 [==============================] - 0s 4ms/step - loss: 0.6681 - categorical_accuracy: 0.8627 - val_loss: 0.6877 - val_categorical_accuracy: 0.8634\n",
      "Epoch 140/200\n",
      "22/22 [==============================] - 0s 4ms/step - loss: 0.6443 - categorical_accuracy: 0.8860 - val_loss: 0.7117 - val_categorical_accuracy: 0.8706\n",
      "Epoch 141/200\n",
      "22/22 [==============================] - 0s 4ms/step - loss: 0.6363 - categorical_accuracy: 0.8805 - val_loss: 0.6631 - val_categorical_accuracy: 0.8830\n",
      "Epoch 142/200\n",
      "22/22 [==============================] - 0s 4ms/step - loss: 0.6365 - categorical_accuracy: 0.8793 - val_loss: 0.7240 - val_categorical_accuracy: 0.8676\n",
      "Epoch 143/200\n",
      "22/22 [==============================] - 0s 4ms/step - loss: 0.6368 - categorical_accuracy: 0.8838 - val_loss: 0.6602 - val_categorical_accuracy: 0.8840\n",
      "Epoch 144/200\n",
      "22/22 [==============================] - 0s 4ms/step - loss: 0.6407 - categorical_accuracy: 0.8811 - val_loss: 0.6945 - val_categorical_accuracy: 0.8686\n",
      "Epoch 145/200\n",
      "22/22 [==============================] - 0s 4ms/step - loss: 0.6287 - categorical_accuracy: 0.8836 - val_loss: 0.6771 - val_categorical_accuracy: 0.8686\n",
      "Epoch 146/200\n",
      "22/22 [==============================] - 0s 4ms/step - loss: 0.6354 - categorical_accuracy: 0.8764 - val_loss: 0.6921 - val_categorical_accuracy: 0.8686\n",
      "Epoch 147/200\n",
      "22/22 [==============================] - 0s 4ms/step - loss: 0.6516 - categorical_accuracy: 0.8787 - val_loss: 0.6812 - val_categorical_accuracy: 0.8686\n",
      "Epoch 148/200\n",
      "22/22 [==============================] - 0s 4ms/step - loss: 0.6372 - categorical_accuracy: 0.8849 - val_loss: 0.6880 - val_categorical_accuracy: 0.8573\n",
      "Epoch 149/200\n",
      "22/22 [==============================] - 0s 4ms/step - loss: 0.6399 - categorical_accuracy: 0.8800 - val_loss: 0.6835 - val_categorical_accuracy: 0.8563\n",
      "Epoch 150/200\n",
      "22/22 [==============================] - 0s 4ms/step - loss: 0.6339 - categorical_accuracy: 0.8862 - val_loss: 0.6632 - val_categorical_accuracy: 0.8696\n",
      "Epoch 151/200\n",
      "22/22 [==============================] - 0s 4ms/step - loss: 0.6305 - categorical_accuracy: 0.8827 - val_loss: 0.6913 - val_categorical_accuracy: 0.8799\n",
      "Epoch 152/200\n",
      "22/22 [==============================] - 0s 4ms/step - loss: 0.6418 - categorical_accuracy: 0.8858 - val_loss: 0.7166 - val_categorical_accuracy: 0.8696\n",
      "Epoch 153/200\n",
      "22/22 [==============================] - 0s 4ms/step - loss: 0.6255 - categorical_accuracy: 0.8927 - val_loss: 0.6898 - val_categorical_accuracy: 0.8747\n",
      "Epoch 154/200\n",
      "22/22 [==============================] - 0s 4ms/step - loss: 0.6412 - categorical_accuracy: 0.8778 - val_loss: 0.6613 - val_categorical_accuracy: 0.8696\n",
      "Epoch 155/200\n",
      "22/22 [==============================] - 0s 4ms/step - loss: 0.6171 - categorical_accuracy: 0.8915 - val_loss: 0.6584 - val_categorical_accuracy: 0.8727\n",
      "Epoch 156/200\n",
      "22/22 [==============================] - 0s 4ms/step - loss: 0.6278 - categorical_accuracy: 0.8869 - val_loss: 0.6574 - val_categorical_accuracy: 0.8747\n",
      "Epoch 157/200\n",
      "22/22 [==============================] - 0s 4ms/step - loss: 0.6359 - categorical_accuracy: 0.8836 - val_loss: 0.6667 - val_categorical_accuracy: 0.8696\n",
      "Epoch 158/200\n",
      "22/22 [==============================] - 0s 4ms/step - loss: 0.6577 - categorical_accuracy: 0.8700 - val_loss: 0.6682 - val_categorical_accuracy: 0.8850\n",
      "Epoch 159/200\n",
      "22/22 [==============================] - 0s 4ms/step - loss: 0.6247 - categorical_accuracy: 0.8860 - val_loss: 0.6652 - val_categorical_accuracy: 0.8830\n",
      "Epoch 160/200\n",
      "22/22 [==============================] - 0s 4ms/step - loss: 0.6345 - categorical_accuracy: 0.8798 - val_loss: 0.6977 - val_categorical_accuracy: 0.8676\n",
      "Epoch 161/200\n",
      "22/22 [==============================] - 0s 4ms/step - loss: 0.6254 - categorical_accuracy: 0.8889 - val_loss: 0.6532 - val_categorical_accuracy: 0.8789\n",
      "Epoch 162/200\n",
      "22/22 [==============================] - 0s 4ms/step - loss: 0.6107 - categorical_accuracy: 0.8980 - val_loss: 0.6644 - val_categorical_accuracy: 0.8871\n",
      "Epoch 163/200\n",
      "22/22 [==============================] - 0s 4ms/step - loss: 0.6392 - categorical_accuracy: 0.8853 - val_loss: 0.6559 - val_categorical_accuracy: 0.8840\n",
      "Epoch 164/200\n",
      "22/22 [==============================] - 0s 4ms/step - loss: 0.6330 - categorical_accuracy: 0.8784 - val_loss: 0.6551 - val_categorical_accuracy: 0.8665\n",
      "Epoch 165/200\n",
      "22/22 [==============================] - 0s 4ms/step - loss: 0.6125 - categorical_accuracy: 0.8915 - val_loss: 0.6539 - val_categorical_accuracy: 0.8860\n",
      "Epoch 166/200\n",
      "22/22 [==============================] - 0s 4ms/step - loss: 0.6165 - categorical_accuracy: 0.8889 - val_loss: 0.6502 - val_categorical_accuracy: 0.8932\n",
      "Epoch 167/200\n",
      "22/22 [==============================] - 0s 4ms/step - loss: 0.6346 - categorical_accuracy: 0.8807 - val_loss: 0.6502 - val_categorical_accuracy: 0.8860\n",
      "Epoch 168/200\n",
      "22/22 [==============================] - 0s 4ms/step - loss: 0.6139 - categorical_accuracy: 0.8960 - val_loss: 0.6696 - val_categorical_accuracy: 0.8737\n",
      "Epoch 169/200\n",
      "22/22 [==============================] - 0s 4ms/step - loss: 0.6115 - categorical_accuracy: 0.8933 - val_loss: 0.6688 - val_categorical_accuracy: 0.8634\n",
      "Epoch 170/200\n",
      "22/22 [==============================] - 0s 4ms/step - loss: 0.6113 - categorical_accuracy: 0.8951 - val_loss: 0.6502 - val_categorical_accuracy: 0.8840\n",
      "Epoch 171/200\n",
      "22/22 [==============================] - 0s 4ms/step - loss: 0.6070 - categorical_accuracy: 0.8938 - val_loss: 0.6542 - val_categorical_accuracy: 0.8819\n",
      "Epoch 172/200\n",
      "22/22 [==============================] - 0s 4ms/step - loss: 0.6023 - categorical_accuracy: 0.8942 - val_loss: 0.6746 - val_categorical_accuracy: 0.8655\n",
      "Epoch 173/200\n",
      "22/22 [==============================] - 0s 4ms/step - loss: 0.6129 - categorical_accuracy: 0.8931 - val_loss: 0.6582 - val_categorical_accuracy: 0.8922\n",
      "Epoch 174/200\n",
      "22/22 [==============================] - 0s 4ms/step - loss: 0.5980 - categorical_accuracy: 0.8993 - val_loss: 0.6849 - val_categorical_accuracy: 0.8686\n",
      "Epoch 175/200\n",
      "22/22 [==============================] - 0s 4ms/step - loss: 0.5965 - categorical_accuracy: 0.9005 - val_loss: 0.6386 - val_categorical_accuracy: 0.8901\n",
      "Epoch 176/200\n",
      "22/22 [==============================] - 0s 4ms/step - loss: 0.6223 - categorical_accuracy: 0.8920 - val_loss: 0.6583 - val_categorical_accuracy: 0.8799\n",
      "Epoch 177/200\n",
      "22/22 [==============================] - 0s 4ms/step - loss: 0.6286 - categorical_accuracy: 0.8842 - val_loss: 0.6293 - val_categorical_accuracy: 0.8809\n",
      "Epoch 178/200\n",
      "22/22 [==============================] - 0s 4ms/step - loss: 0.6080 - categorical_accuracy: 0.8905 - val_loss: 0.6257 - val_categorical_accuracy: 0.8943\n",
      "Epoch 179/200\n",
      "22/22 [==============================] - 0s 4ms/step - loss: 0.6014 - categorical_accuracy: 0.8931 - val_loss: 0.6615 - val_categorical_accuracy: 0.8891\n",
      "Epoch 180/200\n",
      "22/22 [==============================] - 0s 4ms/step - loss: 0.6014 - categorical_accuracy: 0.8940 - val_loss: 0.6806 - val_categorical_accuracy: 0.8830\n",
      "Epoch 181/200\n",
      "22/22 [==============================] - 0s 4ms/step - loss: 0.6120 - categorical_accuracy: 0.8998 - val_loss: 0.6271 - val_categorical_accuracy: 0.8953\n",
      "Epoch 182/200\n",
      "22/22 [==============================] - 0s 4ms/step - loss: 0.6180 - categorical_accuracy: 0.8902 - val_loss: 0.6418 - val_categorical_accuracy: 0.8932\n",
      "Epoch 183/200\n",
      "22/22 [==============================] - 0s 4ms/step - loss: 0.6060 - categorical_accuracy: 0.8911 - val_loss: 0.6494 - val_categorical_accuracy: 0.8768\n",
      "Epoch 184/200\n",
      "22/22 [==============================] - 0s 4ms/step - loss: 0.6007 - categorical_accuracy: 0.8944 - val_loss: 0.6351 - val_categorical_accuracy: 0.8871\n",
      "Epoch 185/200\n",
      "22/22 [==============================] - 0s 4ms/step - loss: 0.5925 - categorical_accuracy: 0.8987 - val_loss: 0.6264 - val_categorical_accuracy: 0.8973\n",
      "Epoch 186/200\n",
      "22/22 [==============================] - 0s 4ms/step - loss: 0.5984 - categorical_accuracy: 0.9062 - val_loss: 0.6607 - val_categorical_accuracy: 0.8768\n",
      "Epoch 187/200\n",
      "22/22 [==============================] - 0s 4ms/step - loss: 0.5945 - categorical_accuracy: 0.9018 - val_loss: 0.6358 - val_categorical_accuracy: 0.9035\n",
      "Epoch 188/200\n",
      "22/22 [==============================] - 0s 4ms/step - loss: 0.5923 - categorical_accuracy: 0.9033 - val_loss: 0.6125 - val_categorical_accuracy: 0.9148\n",
      "Epoch 189/200\n",
      "22/22 [==============================] - 0s 4ms/step - loss: 0.5851 - categorical_accuracy: 0.9027 - val_loss: 0.6445 - val_categorical_accuracy: 0.8891\n",
      "Epoch 190/200\n",
      "22/22 [==============================] - 0s 4ms/step - loss: 0.5880 - categorical_accuracy: 0.8973 - val_loss: 0.6248 - val_categorical_accuracy: 0.8881\n",
      "Epoch 191/200\n",
      "22/22 [==============================] - 0s 4ms/step - loss: 0.5943 - categorical_accuracy: 0.8996 - val_loss: 0.6114 - val_categorical_accuracy: 0.9066\n",
      "Epoch 192/200\n",
      "22/22 [==============================] - 0s 4ms/step - loss: 0.5922 - categorical_accuracy: 0.8980 - val_loss: 0.6126 - val_categorical_accuracy: 0.8994\n",
      "Epoch 193/200\n",
      "22/22 [==============================] - 0s 4ms/step - loss: 0.5906 - categorical_accuracy: 0.8976 - val_loss: 0.6121 - val_categorical_accuracy: 0.9004\n",
      "Epoch 194/200\n",
      "22/22 [==============================] - 0s 4ms/step - loss: 0.5925 - categorical_accuracy: 0.8969 - val_loss: 0.6736 - val_categorical_accuracy: 0.8881\n",
      "Epoch 195/200\n",
      "22/22 [==============================] - 0s 4ms/step - loss: 0.5779 - categorical_accuracy: 0.9015 - val_loss: 0.6734 - val_categorical_accuracy: 0.8655\n",
      "Epoch 196/200\n",
      "22/22 [==============================] - 0s 4ms/step - loss: 0.5888 - categorical_accuracy: 0.9049 - val_loss: 0.6362 - val_categorical_accuracy: 0.8984\n",
      "Epoch 197/200\n",
      "22/22 [==============================] - 0s 4ms/step - loss: 0.5881 - categorical_accuracy: 0.9002 - val_loss: 0.6571 - val_categorical_accuracy: 0.8984\n",
      "Epoch 198/200\n",
      "22/22 [==============================] - 0s 4ms/step - loss: 0.5750 - categorical_accuracy: 0.9089 - val_loss: 0.6304 - val_categorical_accuracy: 0.8932\n",
      "Epoch 199/200\n",
      "22/22 [==============================] - 0s 4ms/step - loss: 0.5932 - categorical_accuracy: 0.9038 - val_loss: 0.6465 - val_categorical_accuracy: 0.8706\n",
      "Epoch 200/200\n",
      "22/22 [==============================] - 0s 4ms/step - loss: 0.5855 - categorical_accuracy: 0.9013 - val_loss: 0.6150 - val_categorical_accuracy: 0.9055\n"
     ]
    }
   ],
   "source": [
    "history = model.fit(features[:test_num], label[:test_num], epochs=n_epoch, batch_size=batch_size,\n",
    "                    validation_data=(features[test_num:], label[test_num:]))"
   ]
  },
  {
   "cell_type": "code",
   "execution_count": 15,
   "id": "b90ef9af-0392-4709-ac77-c010929f9754",
   "metadata": {},
   "outputs": [
    {
     "data": {
      "image/png": "[encoded data removed]",
      "text/plain": [
       "<Figure size 432x288 with 1 Axes>"
      ]
     },
     "metadata": {
      "needs_background": "light"
     },
     "output_type": "display_data"
    }
   ],
   "source": [
    "x = list(range(n_epoch))\n",
    "plt.plot(x, history.history['loss'],label=\"loss\")\n",
    "plt.plot(x, history.history['val_loss'],label=\"val_loss\")\n",
    "plt.legend();"
   ]
  },
  {
   "cell_type": "code",
   "execution_count": 16,
   "id": "b9a9094b",
   "metadata": {},
   "outputs": [
    {
     "data": {
      "text/plain": [
       "1"
      ]
     },
     "execution_count": 16,
     "metadata": {},
     "output_type": "execute_result"
    }
   ],
   "source": [
    "np.argmax(label[1])"
   ]
  },
  {
   "cell_type": "code",
   "execution_count": 17,
   "id": "d5dfb740",
   "metadata": {},
   "outputs": [
    {
     "data": {
      "image/png": "[encoded data removed]",
      "text/plain": [
       "<Figure size 432x288 with 1 Axes>"
      ]
     },
     "metadata": {
      "needs_background": "light"
     },
     "output_type": "display_data"
    }
   ],
   "source": [
    "plt.plot(x, history.history['val_categorical_accuracy'],label=\"val_categorical_accuracy\")\n",
    "plt.plot(x, history.history['categorical_accuracy'],label=\"categorical_accuracy\")\n",
    "plt.legend();"
   ]
  },
  {
   "cell_type": "code",
   "execution_count": 18,
   "id": "937bdf03",
   "metadata": {},
   "outputs": [],
   "source": [
    "x_test = features[test_num:]\n",
    "y_test = dataset.label.to_list()"
   ]
  },
  {
   "cell_type": "code",
   "execution_count": 145,
   "id": "cf4f4925-92e7-4963-a3da-d675ba19dd56",
   "metadata": {},
   "outputs": [],
   "source": [
    "import seaborn as sns\n",
    "sns.set_theme(style=\"white\")"
   ]
  },
  {
   "cell_type": "code",
   "execution_count": null,
   "id": "de874cf8-805e-439c-9d87-9ee432bb860e",
   "metadata": {},
   "outputs": [],
   "source": []
  },
  {
   "cell_type": "code",
   "execution_count": 146,
   "id": "118a6402",
   "metadata": {},
   "outputs": [],
   "source": [
    "label_list = ['DoS', 'Fuzzy', 'RPM', 'gear',  'Normal']"
   ]
  },
  {
   "cell_type": "code",
   "execution_count": 175,
   "id": "fa28968e-71e7-4fdf-9325-2fbfc141c8e5",
   "metadata": {},
   "outputs": [
    {
     "data": {
      "image/png": "[encoded data removed]",
      "text/plain": [
       "<Figure size 1080x216 with 2 Axes>"
      ]
     },
     "metadata": {},
     "output_type": "display_data"
    },
    {
     "data": {
      "image/png": "[encoded data removed]",
      "text/plain": [
       "<Figure size 1080x216 with 2 Axes>"
      ]
     },
     "metadata": {},
     "output_type": "display_data"
    },
    {
     "data": {
      "image/png": "[encoded data removed]",
      "text/plain": [
       "<Figure size 1080x216 with 2 Axes>"
      ]
     },
     "metadata": {},
     "output_type": "display_data"
    },
    {
     "data": {
      "image/png": "[encoded data removed]",
      "text/plain": [
       "<Figure size 1080x216 with 2 Axes>"
      ]
     },
     "metadata": {},
     "output_type": "display_data"
    },
    {
     "data": {
      "image/png": "[encoded data removed]",
      "text/plain": [
       "<Figure size 1080x216 with 2 Axes>"
      ]
     },
     "metadata": {},
     "output_type": "display_data"
    }
   ],
   "source": [
    "def plot_pred_dist(act_num,n_samples=50):\n",
    "    label = data_util.label_to_activity[y_test[act_num]]\n",
    "    fig, axes = plt.subplots(1,2,figsize=(15,3),gridspec_kw={'width_ratios': [1, 5]})\n",
    "    axes[0].imshow(x_test[act_num], cmap='Greys', vmin=-1, vmax=1)\n",
    "#     ax.axis('off')\n",
    "    axes[0].axes.yaxis.set_ticks([])\n",
    "    axes[0].axes.xaxis.set_ticks([])\n",
    "    axes[0].set_xlabel(label)\n",
    "#     plt.show()\n",
    "\n",
    "  \n",
    "    pred_prob = np.empty(shape=(n_samples, 5))\n",
    "    for i in range(n_samples):\n",
    "        pred_prob[i] = model(x_test[1][np.newaxis, ...]).mean().numpy()[0]\n",
    "#     plt.figure(figsize=(10,3))\n",
    "    axes[1] = sns.boxplot(data=pred_prob)\n",
    "    \n",
    "    mybox = axes[1].artists[y_test[act_num]]\n",
    "\n",
    "    # Change the appearance of that box\n",
    "    mybox.set_facecolor('red')\n",
    "    mybox.set_edgecolor('black')\n",
    "\n",
    "\n",
    "    axes[1].set_xticks(np.arange(5))\n",
    "    axes[1].set_xticklabels(label_list,rotation=45, horizontalalignment='right')\n",
    "    axes[1].set_ylim([0, 1])\n",
    "    axes[1].set_ylabel('Probabillity')\n",
    "    plt.show();\n",
    "for i in [1,10,250,600,650]:\n",
    "    plot_pred_dist(i)"
   ]
  },
  {
   "cell_type": "code",
   "execution_count": 51,
   "id": "dd39fb2a",
   "metadata": {},
   "outputs": [],
   "source": [
    "def analyse_model_predictions(action_num):\n",
    "    \n",
    "    # Show the accelerometer data\n",
    "    print('------------------------------')\n",
    "    print('Attack data:')\n",
    "    fig, ax = plt.subplots(figsize=(10, 1))\n",
    "    ax.imshow(x_test[action_num].T, cmap='Greys', vmin=-1, vmax=1)\n",
    "    ax.axis('off')\n",
    "    plt.show()\n",
    "\n",
    "    # Print the true activity\n",
    "    print('------------------------------')\n",
    "    print('Attack Event:', data_util.label_to_activity[y_test[action_num]])\n",
    "    print('')\n",
    "\n",
    "    # Print the probabilities the model assigns\n",
    "    print('------------------------------')\n",
    "    print('Model estimated probabilities:')\n",
    "    # Create ensemble of predicted probabilities\n",
    "    predicted_probabilities = np.empty(shape=(200, 5))\n",
    "    for i in range(200):\n",
    "        predicted_probabilities[i] = model(x_test[action_num][np.newaxis, ...]).mean().numpy()[0]\n",
    "    pct_2p5 = np.array([np.percentile(predicted_probabilities[:, i], 2.5) for i in range(5)])\n",
    "    pct_97p5 = np.array([np.percentile(predicted_probabilities[:, i], 97.5) for i in range(5)])\n",
    "    # Make the plots\n",
    "    fig, ax = plt.subplots(figsize=(9, 3))\n",
    "    bar = ax.bar(np.arange(5), pct_97p5, color='red')\n",
    "\n",
    "    \n",
    "    bar[y_test[action_num]].set_color('blue')\n",
    "    bar = ax.bar(np.arange(5), pct_2p5-0.02, color='white', linewidth=1, edgecolor='white')\n",
    "    ax.set_xticks(np.arange(5))\n",
    "    ax.set_xticklabels(label_list,rotation=45, horizontalalignment='right')\n",
    "    \n",
    "\n",
    "    ax.set_ylim([0, 1])\n",
    "    ax.set_ylabel('Probability')\n",
    "    plt.show()"
   ]
  },
  {
   "cell_type": "code",
   "execution_count": 27,
   "id": "633abc1f",
   "metadata": {},
   "outputs": [
    {
     "name": "stdout",
     "output_type": "stream",
     "text": [
      "------------------------------\n",
      "Attack data:\n"
     ]
    },
    {
     "data": {
      "image/png": "[encoded data removed]",
      "text/plain": [
       "<Figure size 720x72 with 1 Axes>"
      ]
     },
     "metadata": {
      "needs_background": "light"
     },
     "output_type": "display_data"
    },
    {
     "name": "stdout",
     "output_type": "stream",
     "text": [
      "------------------------------\n",
      "Attack Event: Fuzzy\n",
      "\n",
      "------------------------------\n",
      "Model estimated probabilities:\n"
     ]
    },
    {
     "data": {
      "image/png": "[encoded data removed]",
      "text/plain": [
       "<Figure size 648x216 with 1 Axes>"
      ]
     },
     "metadata": {
      "needs_background": "light"
     },
     "output_type": "display_data"
    },
    {
     "name": "stdout",
     "output_type": "stream",
     "text": [
      "------------------------------\n",
      "Attack data:\n"
     ]
    },
    {
     "data": {
      "image/png": "[encoded data removed]",
      "text/plain": [
       "<Figure size 720x72 with 1 Axes>"
      ]
     },
     "metadata": {
      "needs_background": "light"
     },
     "output_type": "display_data"
    },
    {
     "name": "stdout",
     "output_type": "stream",
     "text": [
      "------------------------------\n",
      "Attack Event: DoS\n",
      "\n",
      "------------------------------\n",
      "Model estimated probabilities:\n"
     ]
    },
    {
     "data": {
      "image/png": "[encoded data removed]",
      "text/plain": [
       "<Figure size 648x216 with 1 Axes>"
      ]
     },
     "metadata": {
      "needs_background": "light"
     },
     "output_type": "display_data"
    },
    {
     "name": "stdout",
     "output_type": "stream",
     "text": [
      "------------------------------\n",
      "Attack data:\n"
     ]
    },
    {
     "data": {
      "image/png": "[encoded data removed]",
      "text/plain": [
       "<Figure size 720x72 with 1 Axes>"
      ]
     },
     "metadata": {
      "needs_background": "light"
     },
     "output_type": "display_data"
    },
    {
     "name": "stdout",
     "output_type": "stream",
     "text": [
      "------------------------------\n",
      "Attack Event: DoS\n",
      "\n",
      "------------------------------\n",
      "Model estimated probabilities:\n"
     ]
    },
    {
     "data": {
      "image/png": "[encoded data removed]",
      "text/plain": [
       "<Figure size 648x216 with 1 Axes>"
      ]
     },
     "metadata": {
      "needs_background": "light"
     },
     "output_type": "display_data"
    },
    {
     "name": "stdout",
     "output_type": "stream",
     "text": [
      "------------------------------\n",
      "Attack data:\n"
     ]
    },
    {
     "data": {
      "image/png": "[encoded data removed]",
      "text/plain": [
       "<Figure size 720x72 with 1 Axes>"
      ]
     },
     "metadata": {
      "needs_background": "light"
     },
     "output_type": "display_data"
    },
    {
     "name": "stdout",
     "output_type": "stream",
     "text": [
      "------------------------------\n",
      "Attack Event: Normal\n",
      "\n",
      "------------------------------\n",
      "Model estimated probabilities:\n"
     ]
    },
    {
     "data": {
      "image/png": "[encoded data removed]",
      "text/plain": [
       "<Figure size 648x216 with 1 Axes>"
      ]
     },
     "metadata": {
      "needs_background": "light"
     },
     "output_type": "display_data"
    },
    {
     "name": "stdout",
     "output_type": "stream",
     "text": [
      "------------------------------\n",
      "Attack data:\n"
     ]
    },
    {
     "data": {
      "image/png": "[encoded data removed]",
      "text/plain": [
       "<Figure size 720x72 with 1 Axes>"
      ]
     },
     "metadata": {
      "needs_background": "light"
     },
     "output_type": "display_data"
    },
    {
     "name": "stdout",
     "output_type": "stream",
     "text": [
      "------------------------------\n",
      "Attack Event: DoS\n",
      "\n",
      "------------------------------\n",
      "Model estimated probabilities:\n"
     ]
    },
    {
     "data": {
      "image/png": "[encoded data removed]",
      "text/plain": [
       "<Figure size 648x216 with 1 Axes>"
      ]
     },
     "metadata": {
      "needs_background": "light"
     },
     "output_type": "display_data"
    }
   ],
   "source": [
    "for i in [1,100,250,12,50]:\n",
    "    analyse_model_predictions(i)"
   ]
  },
  {
   "cell_type": "code",
   "execution_count": null,
   "id": "f2243998",
   "metadata": {},
   "outputs": [],
   "source": []
  },
  {
   "cell_type": "code",
   "execution_count": null,
   "id": "c4cb4488",
   "metadata": {},
   "outputs": [],
   "source": []
  }
 ],
 "metadata": {
  "kernelspec": {
   "display_name": "Python 3 (ipykernel)",
   "language": "python",
   "name": "python3"
  },
  "language_info": {
   "codemirror_mode": {
    "name": "ipython",
    "version": 3
   },
   "file_extension": ".py",
   "mimetype": "text/x-python",
   "name": "python",
   "nbconvert_exporter": "python",
   "pygments_lexer": "ipython3",
   "version": "3.8.10"
  }
 },
 "nbformat": 4,
 "nbformat_minor": 5
}
