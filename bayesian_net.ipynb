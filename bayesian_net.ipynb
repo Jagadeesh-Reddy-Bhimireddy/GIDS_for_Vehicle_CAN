{
 "cells": [
  {
   "cell_type": "code",
   "execution_count": 1,
   "id": "9f244072-1ac6-41f2-a8c4-7dc6ece6f43c",
   "metadata": {},
   "outputs": [],
   "source": [
    "import os\n",
    "os.environ['TF_CPP_MIN_LOG_LEVEL'] = '3' \n",
    "# 0 = all messages are logged (default behavior)\n",
    "# 1 = INFO messages are not printed\n",
    "# 2 = INFO and WARNING messages are not printed\n",
    "# 3 = INFO, WARNING, and ERROR messages are not printed"
   ]
  },
  {
   "cell_type": "code",
   "execution_count": 2,
   "id": "ae00fe71",
   "metadata": {},
   "outputs": [],
   "source": [
    "import pandas as pd\n",
    "import numpy as np\n",
    "import tensorflow as tf\n",
    "tf.random.set_seed(0)\n",
    "import matplotlib.pyplot as plt\n",
    "%matplotlib inline"
   ]
  },
  {
   "cell_type": "markdown",
   "id": "b0b18261",
   "metadata": {},
   "source": [
    "### 1. Load data\n",
    "- set the load data row number\n",
    "- set colunms names\n",
    "- remove useless colunms"
   ]
  },
  {
   "cell_type": "code",
   "execution_count": 3,
   "id": "dda6bfd1",
   "metadata": {},
   "outputs": [],
   "source": [
    "row_num = 40000\n",
    "test_num= 5500\n",
    "n_time_steps = 30\n",
    "n_features = 9\n",
    "n_epoch = 200\n",
    "batch_size=256"
   ]
  },
  {
   "cell_type": "code",
   "execution_count": 4,
   "id": "17026d60",
   "metadata": {},
   "outputs": [],
   "source": [
    "from ppl_util import DataUtil"
   ]
  },
  {
   "cell_type": "code",
   "execution_count": 5,
   "id": "f15b965f",
   "metadata": {},
   "outputs": [],
   "source": [
    "path_list = [\"data/DoS_dataset.csv\",\"data/Fuzzy_dataset.csv\",\"data/gear_dataset.csv\",'data/RPM_dataset.csv',\"data/normal_run_data.txt\"]\n",
    "data_util = DataUtil(n_row=row_num, path_list=path_list, n_time_step=n_time_steps, n_features=n_features)"
   ]
  },
  {
   "cell_type": "code",
   "execution_count": 6,
   "id": "9738fd10-5629-4443-aae3-d3c17a4d648d",
   "metadata": {},
   "outputs": [
    {
     "name": "stderr",
     "output_type": "stream",
     "text": [
      "/home/laha/anaconda3/envs/tf_ppl/lib/python3.8/site-packages/pandas/core/frame.py:3607: SettingWithCopyWarning: \n",
      "A value is trying to be set on a copy of a slice from a DataFrame.\n",
      "Try using .loc[row_indexer,col_indexer] = value instead\n",
      "\n",
      "See the caveats in the documentation: https://pandas.pydata.org/pandas-docs/stable/user_guide/indexing.html#returning-a-view-versus-a-copy\n",
      "  self._set_item(key, value)\n",
      "/home/laha/anaconda3/envs/tf_ppl/lib/python3.8/site-packages/pandas/core/frame.py:3607: SettingWithCopyWarning: \n",
      "A value is trying to be set on a copy of a slice from a DataFrame.\n",
      "Try using .loc[row_indexer,col_indexer] = value instead\n",
      "\n",
      "See the caveats in the documentation: https://pandas.pydata.org/pandas-docs/stable/user_guide/indexing.html#returning-a-view-versus-a-copy\n",
      "  self._set_item(key, value)\n",
      "/home/laha/anaconda3/envs/tf_ppl/lib/python3.8/site-packages/pandas/core/frame.py:3607: SettingWithCopyWarning: \n",
      "A value is trying to be set on a copy of a slice from a DataFrame.\n",
      "Try using .loc[row_indexer,col_indexer] = value instead\n",
      "\n",
      "See the caveats in the documentation: https://pandas.pydata.org/pandas-docs/stable/user_guide/indexing.html#returning-a-view-versus-a-copy\n",
      "  self._set_item(key, value)\n",
      "/home/laha/anaconda3/envs/tf_ppl/lib/python3.8/site-packages/pandas/core/frame.py:3607: SettingWithCopyWarning: \n",
      "A value is trying to be set on a copy of a slice from a DataFrame.\n",
      "Try using .loc[row_indexer,col_indexer] = value instead\n",
      "\n",
      "See the caveats in the documentation: https://pandas.pydata.org/pandas-docs/stable/user_guide/indexing.html#returning-a-view-versus-a-copy\n",
      "  self._set_item(key, value)\n",
      "/home/laha/anaconda3/envs/tf_ppl/lib/python3.8/site-packages/pandas/core/frame.py:3607: SettingWithCopyWarning: \n",
      "A value is trying to be set on a copy of a slice from a DataFrame.\n",
      "Try using .loc[row_indexer,col_indexer] = value instead\n",
      "\n",
      "See the caveats in the documentation: https://pandas.pydata.org/pandas-docs/stable/user_guide/indexing.html#returning-a-view-versus-a-copy\n",
      "  self._set_item(key, value)\n",
      "/home/laha/anaconda3/envs/tf_ppl/lib/python3.8/site-packages/pandas/core/frame.py:3607: SettingWithCopyWarning: \n",
      "A value is trying to be set on a copy of a slice from a DataFrame.\n",
      "Try using .loc[row_indexer,col_indexer] = value instead\n",
      "\n",
      "See the caveats in the documentation: https://pandas.pydata.org/pandas-docs/stable/user_guide/indexing.html#returning-a-view-versus-a-copy\n",
      "  self._set_item(key, value)\n"
     ]
    },
    {
     "data": {
      "text/html": [
       "<div>\n",
       "<style scoped>\n",
       "    .dataframe tbody tr th:only-of-type {\n",
       "        vertical-align: middle;\n",
       "    }\n",
       "\n",
       "    .dataframe tbody tr th {\n",
       "        vertical-align: top;\n",
       "    }\n",
       "\n",
       "    .dataframe thead th {\n",
       "        text-align: right;\n",
       "    }\n",
       "</style>\n",
       "<table border=\"1\" class=\"dataframe\">\n",
       "  <thead>\n",
       "    <tr style=\"text-align: right;\">\n",
       "      <th></th>\n",
       "      <th>features</th>\n",
       "      <th>label</th>\n",
       "    </tr>\n",
       "  </thead>\n",
       "  <tbody>\n",
       "    <tr>\n",
       "      <th>2943</th>\n",
       "      <td>[[0.9999999999999999, 0.0, 0.0, 0.003968253968...</td>\n",
       "      <td>gear</td>\n",
       "    </tr>\n",
       "    <tr>\n",
       "      <th>3222</th>\n",
       "      <td>[[0.6466030989272944, 0.00392156862745098, 0.3...</td>\n",
       "      <td>gear</td>\n",
       "    </tr>\n",
       "    <tr>\n",
       "      <th>949</th>\n",
       "      <td>[[0.4815476190476191, 0.047058823529411764, 0....</td>\n",
       "      <td>DoS</td>\n",
       "    </tr>\n",
       "    <tr>\n",
       "      <th>4157</th>\n",
       "      <td>[[0.09475566150178784, 0.5019607843137255, 0.7...</td>\n",
       "      <td>rpm</td>\n",
       "    </tr>\n",
       "    <tr>\n",
       "      <th>4581</th>\n",
       "      <td>[[0.5232419547079856, 0.0, 0.17391304347826086...</td>\n",
       "      <td>rpm</td>\n",
       "    </tr>\n",
       "  </tbody>\n",
       "</table>\n",
       "</div>"
      ],
      "text/plain": [
       "                                               features label\n",
       "2943  [[0.9999999999999999, 0.0, 0.0, 0.003968253968...  gear\n",
       "3222  [[0.6466030989272944, 0.00392156862745098, 0.3...  gear\n",
       "949   [[0.4815476190476191, 0.047058823529411764, 0....   DoS\n",
       "4157  [[0.09475566150178784, 0.5019607843137255, 0.7...   rpm\n",
       "4581  [[0.5232419547079856, 0.0, 0.17391304347826086...   rpm"
      ]
     },
     "execution_count": 6,
     "metadata": {},
     "output_type": "execute_result"
    }
   ],
   "source": [
    "dataset = data_util.read_files(is_shuffle=True)\n",
    "dataset.head()"
   ]
  },
  {
   "cell_type": "code",
   "execution_count": 7,
   "id": "51380f70-da44-42cb-8a00-3551c5501c1c",
   "metadata": {},
   "outputs": [],
   "source": [
    "features, label = data_util.get_train_data()"
   ]
  },
  {
   "cell_type": "code",
   "execution_count": 8,
   "id": "c9fca2fc-a507-4f9c-a0b7-af41376135ca",
   "metadata": {},
   "outputs": [
    {
     "data": {
      "text/plain": [
       "(6474, 30, 9)"
      ]
     },
     "execution_count": 8,
     "metadata": {},
     "output_type": "execute_result"
    }
   ],
   "source": [
    "features.shape"
   ]
  },
  {
   "cell_type": "code",
   "execution_count": 9,
   "id": "fe52c4ce-b76e-4757-8cf6-2bb7092b3d86",
   "metadata": {},
   "outputs": [],
   "source": [
    "import tensorflow as tf\n",
    "import tensorflow_probability as tfp\n",
    "tfd = tfp.distributions\n",
    "tfpl = tfp.layers\n",
    "from tensorflow.keras.optimizers import RMSprop\n",
    "from tensorflow.keras.models import Sequential"
   ]
  },
  {
   "cell_type": "code",
   "execution_count": 10,
   "id": "994124cd",
   "metadata": {},
   "outputs": [],
   "source": [
    "from tensorflow.keras.layers import Input,Conv1D,Dropout,MaxPooling1D,Flatten,Dense"
   ]
  },
  {
   "cell_type": "code",
   "execution_count": 11,
   "id": "05f0932b",
   "metadata": {},
   "outputs": [],
   "source": [
    "divergence_fn = lambda q,p,_: tfd.kl_divergence(q,p)/features.shape[0]\n",
    "def kl_approx(q, p, q_tensor):\n",
    "    return tf.reduce_mean(q.log_prob(q_tensor) - p.log_prob(q_tensor))"
   ]
  },
  {
   "cell_type": "code",
   "execution_count": 12,
   "id": "db6dab05",
   "metadata": {},
   "outputs": [
    {
     "name": "stdout",
     "output_type": "stream",
     "text": [
      "Model: \"sequential\"\n",
      "_________________________________________________________________\n",
      "Layer (type)                 Output Shape              Param #   \n",
      "=================================================================\n",
      "conv1d_reparameterization (C (None, 28, 16)            896       \n",
      "_________________________________________________________________\n",
      "conv1d_reparameterization_1  (None, 26, 16)            1568      \n",
      "_________________________________________________________________\n",
      "max_pooling1d (MaxPooling1D) (None, 1, 16)             0         \n",
      "_________________________________________________________________\n",
      "flatten (Flatten)            (None, 16)                0         \n",
      "_________________________________________________________________\n",
      "dense_reparameterization (De (None, 5)                 170       \n",
      "_________________________________________________________________\n",
      "one_hot_categorical (OneHotC multiple                  0         \n",
      "=================================================================\n",
      "Total params: 2,634\n",
      "Trainable params: 2,634\n",
      "Non-trainable params: 0\n",
      "_________________________________________________________________\n"
     ]
    },
    {
     "name": "stderr",
     "output_type": "stream",
     "text": [
      "/home/laha/anaconda3/envs/tf_ppl/lib/python3.8/site-packages/tensorflow/python/keras/engine/base_layer.py:2191: UserWarning: `layer.add_variable` is deprecated and will be removed in a future version. Please use `layer.add_weight` method instead.\n",
      "  warnings.warn('`layer.add_variable` is deprecated and '\n"
     ]
    }
   ],
   "source": [
    "model = Sequential([\n",
    "    tfpl.Convolution1DReparameterization(\n",
    "    input_shape=(n_time_steps,n_features),filters=16, kernel_size=3,activation='relu',\n",
    "    kernel_prior_fn = tfpl.default_multivariate_normal_fn,\n",
    "    kernel_posterior_fn=tfpl.default_mean_field_normal_fn(is_singular=False),\n",
    "    kernel_divergence_fn = divergence_fn,\n",
    "    bias_prior_fn = tfpl.default_multivariate_normal_fn,\n",
    "    bias_posterior_fn = tfpl.default_mean_field_normal_fn(is_singular=False),\n",
    "    bias_divergence_fn =  divergence_fn   \n",
    "    ),\n",
    "    tfpl.Convolution1DReparameterization(\n",
    "    filters=16, kernel_size=3,activation='relu',\n",
    "    kernel_prior_fn = tfpl.default_multivariate_normal_fn,\n",
    "    kernel_posterior_fn=tfpl.default_mean_field_normal_fn(is_singular=False),\n",
    "    kernel_divergence_fn = divergence_fn,\n",
    "    bias_prior_fn = tfpl.default_multivariate_normal_fn,\n",
    "    bias_posterior_fn = tfpl.default_mean_field_normal_fn(is_singular=False),\n",
    "    bias_divergence_fn =  divergence_fn   \n",
    "    ),\n",
    "#     tfpl.Convolution1DReparameterization(\n",
    "#     filters=16, kernel_size=3,activation='relu',\n",
    "#     kernel_prior_fn = tfpl.default_multivariate_normal_fn,\n",
    "#     kernel_posterior_fn=tfpl.default_mean_field_normal_fn(is_singular=False),\n",
    "#     kernel_divergence_fn = divergence_fn,\n",
    "#     bias_prior_fn = tfpl.default_multivariate_normal_fn,\n",
    "#     bias_posterior_fn = tfpl.default_mean_field_normal_fn(is_singular=False),\n",
    "#     bias_divergence_fn =  divergence_fn   \n",
    "#     ),\n",
    "    MaxPooling1D(16),\n",
    "    Flatten(),\n",
    "    tfpl.DenseReparameterization(\n",
    "        units = tfpl.OneHotCategorical.params_size(5),activation=None,\n",
    "        kernel_prior_fn = tfpl.default_multivariate_normal_fn,\n",
    "        kernel_posterior_fn=tfpl.default_mean_field_normal_fn(is_singular=False),\n",
    "        kernel_divergence_fn = divergence_fn,\n",
    "        bias_prior_fn = tfpl.default_multivariate_normal_fn,\n",
    "        bias_posterior_fn = tfpl.default_mean_field_normal_fn(is_singular=False),\n",
    "        bias_divergence_fn =  divergence_fn   \n",
    "    ),\n",
    "    tfpl.OneHotCategorical(5)\n",
    "])\n",
    "\n",
    "model.summary()"
   ]
  },
  {
   "cell_type": "code",
   "execution_count": 13,
   "id": "7cea1e12",
   "metadata": {},
   "outputs": [],
   "source": [
    "def nll(y_true, y_pred):\n",
    "    return -y_pred.log_prob(y_true)\n",
    "\n",
    "model.compile(loss=nll,\n",
    "              optimizer='adam',\n",
    "              metrics=['categorical_accuracy'],\n",
    "              experimental_run_tf_function=False)"
   ]
  },
  {
   "cell_type": "code",
   "execution_count": null,
   "id": "f59c4e2c-bf29-4df6-98da-1d7f4fc73a88",
   "metadata": {},
   "outputs": [],
   "source": [
    "history = model.fit(features[:test_num], label[:test_num], epochs=n_epoch, batch_size=batch_size,\n",
    "                    validation_data=(features[test_num:], label[test_num:]))"
   ]
  },
  {
   "cell_type": "code",
   "execution_count": 15,
   "id": "b90ef9af-0392-4709-ac77-c010929f9754",
   "metadata": {},
   "outputs": [
    {
     "data": {
      "image/png": "[encoded data removed]",
      "text/plain": [
       "<Figure size 432x288 with 1 Axes>"
      ]
     },
     "metadata": {
      "needs_background": "light"
     },
     "output_type": "display_data"
    }
   ],
   "source": [
    "x = list(range(n_epoch))\n",
    "plt.plot(x, history.history['loss'],label=\"loss\")\n",
    "plt.plot(x, history.history['val_loss'],label=\"val_loss\")\n",
    "plt.legend();"
   ]
  },
  {
   "cell_type": "code",
   "execution_count": 16,
   "id": "b9a9094b",
   "metadata": {},
   "outputs": [
    {
     "data": {
      "text/plain": [
       "2"
      ]
     },
     "execution_count": 16,
     "metadata": {},
     "output_type": "execute_result"
    }
   ],
   "source": [
    "np.argmax(label[1])"
   ]
  },
  {
   "cell_type": "code",
   "execution_count": 17,
   "id": "d5dfb740",
   "metadata": {},
   "outputs": [
    {
     "data": {
      "image/png": "[encoded data removed]",
      "text/plain": [
       "<Figure size 432x288 with 1 Axes>"
      ]
     },
     "metadata": {
      "needs_background": "light"
     },
     "output_type": "display_data"
    }
   ],
   "source": [
    "plt.plot(x, history.history['val_categorical_accuracy'],label=\"val_categorical_accuracy\")\n",
    "plt.plot(x, history.history['categorical_accuracy'],label=\"categorical_accuracy\")\n",
    "plt.legend();"
   ]
  },
  {
   "cell_type": "code",
   "execution_count": 29,
   "id": "937bdf03",
   "metadata": {},
   "outputs": [],
   "source": [
    "x_test = features[test_num:]\n",
    "y_test = dataset.label.to_list()"
   ]
  },
  {
   "cell_type": "code",
   "execution_count": 31,
   "id": "118a6402",
   "metadata": {},
   "outputs": [],
   "source": [
    "label_list = ['DoS', 'Fuzzy', 'RPM', 'gear',  'Normal']"
   ]
  },
  {
   "cell_type": "code",
   "execution_count": 32,
   "id": "dd39fb2a",
   "metadata": {},
   "outputs": [],
   "source": [
    "def analyse_model_predictions(action_num):\n",
    "    \n",
    "    # Show the accelerometer data\n",
    "    print('------------------------------')\n",
    "    print('Accelerometer data:')\n",
    "    fig, ax = plt.subplots(figsize=(10, 1))\n",
    "    ax.imshow(x_test[action_num].T, cmap='Greys', vmin=-1, vmax=1)\n",
    "    ax.axis('off')\n",
    "    plt.show()\n",
    "\n",
    "    # Print the true activity\n",
    "    print('------------------------------')\n",
    "    print('True Event:', y_test[action_num])\n",
    "    print('')\n",
    "\n",
    "    # Print the probabilities the model assigns\n",
    "    print('------------------------------')\n",
    "    print('Model estimated probabilities:')\n",
    "    # Create ensemble of predicted probabilities\n",
    "    predicted_probabilities = np.empty(shape=(200, 5))\n",
    "    for i in range(200):\n",
    "        predicted_probabilities[i] = model(x_test[action_num][np.newaxis, ...]).mean().numpy()[0]\n",
    "    pct_2p5 = np.array([np.percentile(predicted_probabilities[:, i], 2.5) for i in range(5)])\n",
    "    pct_97p5 = np.array([np.percentile(predicted_probabilities[:, i], 97.5) for i in range(5)])\n",
    "    # Make the plots\n",
    "    fig, ax = plt.subplots(figsize=(9, 3))\n",
    "    bar = ax.bar(np.arange(5), pct_97p5, color='red')\n",
    "\n",
    "    \n",
    "    bar[data_util.activity_to_label[y_test[action_num]]].set_color('blue')\n",
    "    bar = ax.bar(np.arange(5), pct_2p5-0.02, color='white', linewidth=1, edgecolor='white')\n",
    "    ax.set_xticks(np.arange(5))\n",
    "    ax.set_xticklabels(label_list,rotation=45, horizontalalignment='right')\n",
    "    \n",
    "\n",
    "    ax.set_ylim([0, 1])\n",
    "    ax.set_ylabel('Probability')\n",
    "    plt.show()"
   ]
  },
  {
   "cell_type": "code",
   "execution_count": 33,
   "id": "633abc1f",
   "metadata": {},
   "outputs": [
    {
     "name": "stdout",
     "output_type": "stream",
     "text": [
      "------------------------------\n",
      "Accelerometer data:\n"
     ]
    },
    {
     "data": {
      "image/png": "[encoded data removed]",
      "text/plain": [
       "<Figure size 720x72 with 1 Axes>"
      ]
     },
     "metadata": {
      "needs_background": "light"
     },
     "output_type": "display_data"
    },
    {
     "name": "stdout",
     "output_type": "stream",
     "text": [
      "------------------------------\n",
      "True Event: gear\n",
      "\n",
      "------------------------------\n",
      "Model estimated probabilities:\n"
     ]
    },
    {
     "data": {
      "image/png": "[encoded data removed]",
      "text/plain": [
       "<Figure size 648x216 with 1 Axes>"
      ]
     },
     "metadata": {
      "needs_background": "light"
     },
     "output_type": "display_data"
    },
    {
     "name": "stdout",
     "output_type": "stream",
     "text": [
      "------------------------------\n",
      "Accelerometer data:\n"
     ]
    },
    {
     "data": {
      "image/png": "[encoded data removed]",
      "text/plain": [
       "<Figure size 720x72 with 1 Axes>"
      ]
     },
     "metadata": {
      "needs_background": "light"
     },
     "output_type": "display_data"
    },
    {
     "name": "stdout",
     "output_type": "stream",
     "text": [
      "------------------------------\n",
      "True Event: gear\n",
      "\n",
      "------------------------------\n",
      "Model estimated probabilities:\n"
     ]
    },
    {
     "data": {
      "image/png": "[encoded data removed]",
      "text/plain": [
       "<Figure size 648x216 with 1 Axes>"
      ]
     },
     "metadata": {
      "needs_background": "light"
     },
     "output_type": "display_data"
    },
    {
     "name": "stdout",
     "output_type": "stream",
     "text": [
      "------------------------------\n",
      "Accelerometer data:\n"
     ]
    },
    {
     "data": {
      "image/png": "[encoded data removed]",
      "text/plain": [
       "<Figure size 720x72 with 1 Axes>"
      ]
     },
     "metadata": {
      "needs_background": "light"
     },
     "output_type": "display_data"
    },
    {
     "name": "stdout",
     "output_type": "stream",
     "text": [
      "------------------------------\n",
      "True Event: DoS\n",
      "\n",
      "------------------------------\n",
      "Model estimated probabilities:\n"
     ]
    },
    {
     "data": {
      "image/png": "[encoded data removed]",
      "text/plain": [
       "<Figure size 648x216 with 1 Axes>"
      ]
     },
     "metadata": {
      "needs_background": "light"
     },
     "output_type": "display_data"
    },
    {
     "name": "stdout",
     "output_type": "stream",
     "text": [
      "------------------------------\n",
      "Accelerometer data:\n"
     ]
    },
    {
     "data": {
      "image/png": "[encoded data removed]",
      "text/plain": [
       "<Figure size 720x72 with 1 Axes>"
      ]
     },
     "metadata": {
      "needs_background": "light"
     },
     "output_type": "display_data"
    },
    {
     "name": "stdout",
     "output_type": "stream",
     "text": [
      "------------------------------\n",
      "True Event: DoS\n",
      "\n",
      "------------------------------\n",
      "Model estimated probabilities:\n"
     ]
    },
    {
     "data": {
      "image/png": "[encoded data removed]",
      "text/plain": [
       "<Figure size 648x216 with 1 Axes>"
      ]
     },
     "metadata": {
      "needs_background": "light"
     },
     "output_type": "display_data"
    },
    {
     "name": "stdout",
     "output_type": "stream",
     "text": [
      "------------------------------\n",
      "Accelerometer data:\n"
     ]
    },
    {
     "data": {
      "image/png": "[encoded data removed]",
      "text/plain": [
       "<Figure size 720x72 with 1 Axes>"
      ]
     },
     "metadata": {
      "needs_background": "light"
     },
     "output_type": "display_data"
    },
    {
     "name": "stdout",
     "output_type": "stream",
     "text": [
      "------------------------------\n",
      "True Event: gear\n",
      "\n",
      "------------------------------\n",
      "Model estimated probabilities:\n"
     ]
    },
    {
     "data": {
      "image/png": "[encoded data removed]",
      "text/plain": [
       "<Figure size 648x216 with 1 Axes>"
      ]
     },
     "metadata": {
      "needs_background": "light"
     },
     "output_type": "display_data"
    }
   ],
   "source": [
    "for i in [1,100,250,12,50]:\n",
    "    analyse_model_predictions(i)"
   ]
  },
  {
   "cell_type": "code",
   "execution_count": null,
   "id": "f2243998",
   "metadata": {},
   "outputs": [],
   "source": []
  },
  {
   "cell_type": "code",
   "execution_count": null,
   "id": "c4cb4488",
   "metadata": {},
   "outputs": [],
   "source": []
  }
 ],
 "metadata": {
  "kernelspec": {
   "display_name": "Python 3",
   "language": "python",
   "name": "python3"
  },
  "language_info": {
   "codemirror_mode": {
    "name": "ipython",
    "version": 3
   },
   "file_extension": ".py",
   "mimetype": "text/x-python",
   "name": "python",
   "nbconvert_exporter": "python",
   "pygments_lexer": "ipython3",
   "version": "3.8.8"
  }
 },
 "nbformat": 4,
 "nbformat_minor": 5
}
