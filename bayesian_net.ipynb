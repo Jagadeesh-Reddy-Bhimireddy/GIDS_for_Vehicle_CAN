{
 "cells": [
  {
   "cell_type": "code",
   "execution_count": 1,
   "id": "9f244072-1ac6-41f2-a8c4-7dc6ece6f43c",
   "metadata": {},
   "outputs": [],
   "source": [
    "import os\n",
    "os.environ['TF_CPP_MIN_LOG_LEVEL'] = '3' \n",
    "# 0 = all messages are logged (default behavior)\n",
    "# 1 = INFO messages are not printed\n",
    "# 2 = INFO and WARNING messages are not printed\n",
    "# 3 = INFO, WARNING, and ERROR messages are not printed"
   ]
  },
  {
   "cell_type": "code",
   "execution_count": 2,
   "id": "ae00fe71",
   "metadata": {},
   "outputs": [],
   "source": [
    "import pandas as pd\n",
    "import numpy as np\n",
    "import tensorflow as tf\n",
    "tf.random.set_seed(0)\n",
    "import matplotlib.pyplot as plt\n",
    "%matplotlib inline"
   ]
  },
  {
   "cell_type": "markdown",
   "id": "b0b18261",
   "metadata": {},
   "source": [
    "### 1. Load data\n",
    "- set the load data row number\n",
    "- set colunms names\n",
    "- remove useless colunms"
   ]
  },
  {
   "cell_type": "code",
   "execution_count": 3,
   "id": "dda6bfd1",
   "metadata": {},
   "outputs": [],
   "source": [
    "row_num = 30000\n",
    "test_num= 4000\n",
    "n_time_steps = 30\n",
    "n_features = 9\n",
    "n_epoch = 150"
   ]
  },
  {
   "cell_type": "code",
   "execution_count": 4,
   "id": "17026d60",
   "metadata": {},
   "outputs": [],
   "source": [
    "from ppl_util import DataUtil"
   ]
  },
  {
   "cell_type": "code",
   "execution_count": 5,
   "id": "f15b965f",
   "metadata": {},
   "outputs": [],
   "source": [
    "path_list = [\"data/DoS_dataset.csv\",\"data/Fuzzy_dataset.csv\",\"data/gear_dataset.csv\",'data/RPM_dataset.csv',\"data/normal_run_data.txt\"]\n",
    "data_util = DataUtil(n_row=row_num, path_list=path_list, n_time_step=n_time_steps, n_features=n_features)"
   ]
  },
  {
   "cell_type": "code",
   "execution_count": 6,
   "id": "9738fd10-5629-4443-aae3-d3c17a4d648d",
   "metadata": {},
   "outputs": [
    {
     "name": "stderr",
     "output_type": "stream",
     "text": [
      "/home/laha/anaconda3/envs/tf_ppl/lib/python3.8/site-packages/pandas/core/frame.py:3607: SettingWithCopyWarning: \n",
      "A value is trying to be set on a copy of a slice from a DataFrame.\n",
      "Try using .loc[row_indexer,col_indexer] = value instead\n",
      "\n",
      "See the caveats in the documentation: https://pandas.pydata.org/pandas-docs/stable/user_guide/indexing.html#returning-a-view-versus-a-copy\n",
      "  self._set_item(key, value)\n"
     ]
    },
    {
     "data": {
      "text/html": [
       "<div>\n",
       "<style scoped>\n",
       "    .dataframe tbody tr th:only-of-type {\n",
       "        vertical-align: middle;\n",
       "    }\n",
       "\n",
       "    .dataframe tbody tr th {\n",
       "        vertical-align: top;\n",
       "    }\n",
       "\n",
       "    .dataframe thead th {\n",
       "        text-align: right;\n",
       "    }\n",
       "</style>\n",
       "<table border=\"1\" class=\"dataframe\">\n",
       "  <thead>\n",
       "    <tr style=\"text-align: right;\">\n",
       "      <th></th>\n",
       "      <th>features</th>\n",
       "      <th>label</th>\n",
       "    </tr>\n",
       "  </thead>\n",
       "  <tbody>\n",
       "    <tr>\n",
       "      <th>4826</th>\n",
       "      <td>[[2, 0, 0, 0, 0, 0, 2, 14, 52], [1349, 216, 0,...</td>\n",
       "      <td>norm</td>\n",
       "    </tr>\n",
       "    <tr>\n",
       "      <th>431</th>\n",
       "      <td>[[790, 5, 34, 96, 9, 34, 33, 0, 111], [399, 25...</td>\n",
       "      <td>dos</td>\n",
       "    </tr>\n",
       "    <tr>\n",
       "      <th>2824</th>\n",
       "      <td>[[305, 14, 128, 0, 0, 51, 127, 4, 243], [320, ...</td>\n",
       "      <td>gear</td>\n",
       "    </tr>\n",
       "    <tr>\n",
       "      <th>3241</th>\n",
       "      <td>[[1201, 0, 0, 0, 0, 0, 0, 0, 0], [497, 8, 0, 0...</td>\n",
       "      <td>rpm</td>\n",
       "    </tr>\n",
       "    <tr>\n",
       "      <th>3048</th>\n",
       "      <td>[[672, 0, 0, 131, 29, 150, 2, 189, 0], [848, 5...</td>\n",
       "      <td>rpm</td>\n",
       "    </tr>\n",
       "  </tbody>\n",
       "</table>\n",
       "</div>"
      ],
      "text/plain": [
       "                                               features label\n",
       "4826  [[2, 0, 0, 0, 0, 0, 2, 14, 52], [1349, 216, 0,...  norm\n",
       "431   [[790, 5, 34, 96, 9, 34, 33, 0, 111], [399, 25...   dos\n",
       "2824  [[305, 14, 128, 0, 0, 51, 127, 4, 243], [320, ...  gear\n",
       "3241  [[1201, 0, 0, 0, 0, 0, 0, 0, 0], [497, 8, 0, 0...   rpm\n",
       "3048  [[672, 0, 0, 131, 29, 150, 2, 189, 0], [848, 5...   rpm"
      ]
     },
     "execution_count": 6,
     "metadata": {},
     "output_type": "execute_result"
    }
   ],
   "source": [
    "dataset = data_util.read_files(is_shuffle=True)\n",
    "dataset.head()"
   ]
  },
  {
   "cell_type": "code",
   "execution_count": 7,
   "id": "51380f70-da44-42cb-8a00-3551c5501c1c",
   "metadata": {},
   "outputs": [],
   "source": [
    "features, label = data_util.get_train_data()"
   ]
  },
  {
   "cell_type": "code",
   "execution_count": 8,
   "id": "c9fca2fc-a507-4f9c-a0b7-af41376135ca",
   "metadata": {},
   "outputs": [
    {
     "data": {
      "text/plain": [
       "(4856, 30, 9)"
      ]
     },
     "execution_count": 8,
     "metadata": {},
     "output_type": "execute_result"
    }
   ],
   "source": [
    "features.shape"
   ]
  },
  {
   "cell_type": "code",
   "execution_count": 9,
   "id": "fe52c4ce-b76e-4757-8cf6-2bb7092b3d86",
   "metadata": {},
   "outputs": [],
   "source": [
    "import tensorflow as tf\n",
    "import tensorflow_probability as tfp\n",
    "tfd = tfp.distributions\n",
    "tfpl = tfp.layers\n",
    "from tensorflow.keras.optimizers import RMSprop\n",
    "from tensorflow.keras.models import Sequential"
   ]
  },
  {
   "cell_type": "code",
   "execution_count": 10,
   "id": "994124cd",
   "metadata": {},
   "outputs": [],
   "source": [
    "from tensorflow.keras.layers import Input,Conv1D,Dropout,MaxPooling1D,Flatten,Dense"
   ]
  },
  {
   "cell_type": "code",
   "execution_count": 11,
   "id": "05f0932b",
   "metadata": {},
   "outputs": [],
   "source": [
    "divergence_fn = lambda q,p,_: tfd.kl_divergence(q,p)/features.shape[0]\n",
    "def kl_approx(q, p, q_tensor):\n",
    "    return tf.reduce_mean(q.log_prob(q_tensor) - p.log_prob(q_tensor))"
   ]
  },
  {
   "cell_type": "code",
   "execution_count": 18,
   "id": "db6dab05",
   "metadata": {},
   "outputs": [
    {
     "name": "stdout",
     "output_type": "stream",
     "text": [
      "Model: \"sequential_1\"\n",
      "_________________________________________________________________\n",
      "Layer (type)                 Output Shape              Param #   \n",
      "=================================================================\n",
      "conv1d_reparameterization_2  (None, 28, 8)             448       \n",
      "_________________________________________________________________\n",
      "conv1d_reparameterization_3  (None, 26, 16)            800       \n",
      "_________________________________________________________________\n",
      "max_pooling1d_1 (MaxPooling1 (None, 1, 16)             0         \n",
      "_________________________________________________________________\n",
      "flatten_1 (Flatten)          (None, 16)                0         \n",
      "_________________________________________________________________\n",
      "dense_reparameterization_1 ( (None, 5)                 170       \n",
      "_________________________________________________________________\n",
      "one_hot_categorical_1 (OneHo multiple                  0         \n",
      "=================================================================\n",
      "Total params: 1,418\n",
      "Trainable params: 1,418\n",
      "Non-trainable params: 0\n",
      "_________________________________________________________________\n"
     ]
    },
    {
     "name": "stderr",
     "output_type": "stream",
     "text": [
      "/home/laha/anaconda3/envs/tf_ppl/lib/python3.8/site-packages/tensorflow/python/keras/engine/base_layer.py:2191: UserWarning: `layer.add_variable` is deprecated and will be removed in a future version. Please use `layer.add_weight` method instead.\n",
      "  warnings.warn('`layer.add_variable` is deprecated and '\n"
     ]
    }
   ],
   "source": [
    "model = Sequential([\n",
    "    tfpl.Convolution1DReparameterization(\n",
    "    input_shape=(n_time_steps,n_features),filters=8, kernel_size=3,activation='relu',\n",
    "    kernel_prior_fn = tfpl.default_multivariate_normal_fn,\n",
    "    kernel_posterior_fn=tfpl.default_mean_field_normal_fn(is_singular=False),\n",
    "    kernel_divergence_fn = divergence_fn,\n",
    "    bias_prior_fn = tfpl.default_multivariate_normal_fn,\n",
    "    bias_posterior_fn = tfpl.default_mean_field_normal_fn(is_singular=False),\n",
    "    bias_divergence_fn =  divergence_fn   \n",
    "    ),\n",
    "    tfpl.Convolution1DReparameterization(\n",
    "    filters=16, kernel_size=3,activation='relu',\n",
    "    kernel_prior_fn = tfpl.default_multivariate_normal_fn,\n",
    "    kernel_posterior_fn=tfpl.default_mean_field_normal_fn(is_singular=False),\n",
    "    kernel_divergence_fn = divergence_fn,\n",
    "    bias_prior_fn = tfpl.default_multivariate_normal_fn,\n",
    "    bias_posterior_fn = tfpl.default_mean_field_normal_fn(is_singular=False),\n",
    "    bias_divergence_fn =  divergence_fn   \n",
    "    ),\n",
    "    MaxPooling1D(16),\n",
    "    Flatten(),\n",
    "    tfpl.DenseReparameterization(\n",
    "        units = tfpl.OneHotCategorical.params_size(5),activation=None,\n",
    "        kernel_prior_fn = tfpl.default_multivariate_normal_fn,\n",
    "        kernel_posterior_fn=tfpl.default_mean_field_normal_fn(is_singular=False),\n",
    "        kernel_divergence_fn = divergence_fn,\n",
    "        bias_prior_fn = tfpl.default_multivariate_normal_fn,\n",
    "        bias_posterior_fn = tfpl.default_mean_field_normal_fn(is_singular=False),\n",
    "        bias_divergence_fn =  divergence_fn   \n",
    "    ),\n",
    "    tfpl.OneHotCategorical(5)\n",
    "])\n",
    "\n",
    "model.summary()"
   ]
  },
  {
   "cell_type": "code",
   "execution_count": 19,
   "id": "7cea1e12",
   "metadata": {},
   "outputs": [],
   "source": [
    "def nll(y_true, y_pred):\n",
    "    return -y_pred.log_prob(y_true)\n",
    "\n",
    "model.compile(loss=nll,\n",
    "              optimizer='adam',\n",
    "              metrics=['categorical_accuracy'],\n",
    "              experimental_run_tf_function=False)"
   ]
  },
  {
   "cell_type": "code",
   "execution_count": null,
   "id": "819fb1f4",
   "metadata": {},
   "outputs": [],
   "source": []
  },
  {
   "cell_type": "code",
   "execution_count": 20,
   "id": "f59c4e2c-bf29-4df6-98da-1d7f4fc73a88",
   "metadata": {},
   "outputs": [
    {
     "name": "stdout",
     "output_type": "stream",
     "text": [
      "Epoch 1/150\n",
      "63/63 [==============================] - 1s 8ms/step - loss: 16.8865 - categorical_accuracy: 0.2033 - val_loss: 10.5122 - val_categorical_accuracy: 0.2033\n",
      "Epoch 2/150\n",
      "63/63 [==============================] - 0s 4ms/step - loss: 9.2582 - categorical_accuracy: 0.2105 - val_loss: 6.1474 - val_categorical_accuracy: 0.2231\n",
      "Epoch 3/150\n",
      "63/63 [==============================] - 0s 6ms/step - loss: 5.2060 - categorical_accuracy: 0.2105 - val_loss: 4.7809 - val_categorical_accuracy: 0.2138\n",
      "Epoch 4/150\n",
      "63/63 [==============================] - 0s 5ms/step - loss: 4.2144 - categorical_accuracy: 0.2055 - val_loss: 3.1498 - val_categorical_accuracy: 0.2126\n",
      "Epoch 5/150\n",
      "63/63 [==============================] - 0s 4ms/step - loss: 3.0467 - categorical_accuracy: 0.1982 - val_loss: 2.5728 - val_categorical_accuracy: 0.2079\n",
      "Epoch 6/150\n",
      "63/63 [==============================] - 0s 5ms/step - loss: 2.6380 - categorical_accuracy: 0.2000 - val_loss: 2.5998 - val_categorical_accuracy: 0.1916\n",
      "Epoch 7/150\n",
      "63/63 [==============================] - 0s 4ms/step - loss: 2.2906 - categorical_accuracy: 0.2125 - val_loss: 2.5745 - val_categorical_accuracy: 0.1916\n",
      "Epoch 8/150\n",
      "63/63 [==============================] - 0s 5ms/step - loss: 2.1764 - categorical_accuracy: 0.2103 - val_loss: 2.1360 - val_categorical_accuracy: 0.1752\n",
      "Epoch 9/150\n",
      "63/63 [==============================] - 0s 5ms/step - loss: 2.1549 - categorical_accuracy: 0.2072 - val_loss: 2.0003 - val_categorical_accuracy: 0.1974\n",
      "Epoch 10/150\n",
      "63/63 [==============================] - 0s 5ms/step - loss: 2.0681 - categorical_accuracy: 0.2135 - val_loss: 2.0274 - val_categorical_accuracy: 0.2383\n",
      "Epoch 11/150\n",
      "63/63 [==============================] - 0s 5ms/step - loss: 2.0496 - categorical_accuracy: 0.2113 - val_loss: 1.9846 - val_categorical_accuracy: 0.2126\n",
      "Epoch 12/150\n",
      "63/63 [==============================] - 0s 5ms/step - loss: 2.0208 - categorical_accuracy: 0.2208 - val_loss: 2.0633 - val_categorical_accuracy: 0.2231\n",
      "Epoch 13/150\n",
      "63/63 [==============================] - 0s 4ms/step - loss: 2.0004 - categorical_accuracy: 0.2243 - val_loss: 2.1660 - val_categorical_accuracy: 0.2173\n",
      "Epoch 14/150\n",
      "63/63 [==============================] - 0s 4ms/step - loss: 1.9967 - categorical_accuracy: 0.2173 - val_loss: 1.9792 - val_categorical_accuracy: 0.2278\n",
      "Epoch 15/150\n",
      "63/63 [==============================] - 0s 5ms/step - loss: 1.9705 - categorical_accuracy: 0.2210 - val_loss: 1.9582 - val_categorical_accuracy: 0.2301\n",
      "Epoch 16/150\n",
      "63/63 [==============================] - 0s 6ms/step - loss: 1.9789 - categorical_accuracy: 0.2202 - val_loss: 1.9886 - val_categorical_accuracy: 0.2243\n",
      "Epoch 17/150\n",
      "63/63 [==============================] - 0s 7ms/step - loss: 1.9826 - categorical_accuracy: 0.2195 - val_loss: 1.9566 - val_categorical_accuracy: 0.2196\n",
      "Epoch 18/150\n",
      "63/63 [==============================] - 0s 6ms/step - loss: 1.9299 - categorical_accuracy: 0.2360 - val_loss: 1.9731 - val_categorical_accuracy: 0.1811\n",
      "Epoch 19/150\n",
      "63/63 [==============================] - 0s 4ms/step - loss: 1.9538 - categorical_accuracy: 0.2257 - val_loss: 1.9528 - val_categorical_accuracy: 0.2336\n",
      "Epoch 20/150\n",
      "63/63 [==============================] - 0s 6ms/step - loss: 1.9609 - categorical_accuracy: 0.2183 - val_loss: 1.9242 - val_categorical_accuracy: 0.2407\n",
      "Epoch 21/150\n",
      "63/63 [==============================] - 0s 6ms/step - loss: 1.9090 - categorical_accuracy: 0.2315 - val_loss: 1.9239 - val_categorical_accuracy: 0.2360\n",
      "Epoch 22/150\n",
      "63/63 [==============================] - 0s 5ms/step - loss: 1.9235 - categorical_accuracy: 0.2467 - val_loss: 1.9160 - val_categorical_accuracy: 0.2325\n",
      "Epoch 23/150\n",
      "63/63 [==============================] - 0s 4ms/step - loss: 1.9268 - categorical_accuracy: 0.2447 - val_loss: 1.9089 - val_categorical_accuracy: 0.2512\n",
      "Epoch 24/150\n",
      "63/63 [==============================] - 0s 3ms/step - loss: 1.9417 - categorical_accuracy: 0.2320 - val_loss: 1.9438 - val_categorical_accuracy: 0.2255\n",
      "Epoch 25/150\n",
      "63/63 [==============================] - 0s 5ms/step - loss: 1.9010 - categorical_accuracy: 0.2418 - val_loss: 1.8923 - val_categorical_accuracy: 0.2325\n",
      "Epoch 26/150\n",
      "63/63 [==============================] - 0s 6ms/step - loss: 1.8919 - categorical_accuracy: 0.2470 - val_loss: 2.1545 - val_categorical_accuracy: 0.2477\n",
      "Epoch 27/150\n",
      "63/63 [==============================] - 0s 6ms/step - loss: 1.8977 - categorical_accuracy: 0.2480 - val_loss: 1.8902 - val_categorical_accuracy: 0.2477\n",
      "Epoch 28/150\n",
      "63/63 [==============================] - 0s 6ms/step - loss: 1.8776 - categorical_accuracy: 0.2327 - val_loss: 1.9014 - val_categorical_accuracy: 0.2500\n",
      "Epoch 29/150\n",
      "63/63 [==============================] - 0s 6ms/step - loss: 1.8727 - categorical_accuracy: 0.2503 - val_loss: 1.9020 - val_categorical_accuracy: 0.2535\n",
      "Epoch 30/150\n",
      "63/63 [==============================] - 0s 4ms/step - loss: 1.8972 - categorical_accuracy: 0.2590 - val_loss: 1.8960 - val_categorical_accuracy: 0.2407\n",
      "Epoch 31/150\n",
      "63/63 [==============================] - 0s 4ms/step - loss: 1.8775 - categorical_accuracy: 0.2508 - val_loss: 1.9225 - val_categorical_accuracy: 0.2512\n",
      "Epoch 32/150\n",
      "63/63 [==============================] - 0s 5ms/step - loss: 1.8648 - categorical_accuracy: 0.2545 - val_loss: 1.9305 - val_categorical_accuracy: 0.2442\n",
      "Epoch 33/150\n",
      "63/63 [==============================] - 0s 5ms/step - loss: 1.8624 - categorical_accuracy: 0.2632 - val_loss: 1.8781 - val_categorical_accuracy: 0.2313\n",
      "Epoch 34/150\n",
      "63/63 [==============================] - 0s 6ms/step - loss: 1.8796 - categorical_accuracy: 0.2362 - val_loss: 1.8745 - val_categorical_accuracy: 0.2792\n",
      "Epoch 35/150\n",
      "63/63 [==============================] - 0s 4ms/step - loss: 1.8686 - categorical_accuracy: 0.2522 - val_loss: 1.8756 - val_categorical_accuracy: 0.2348\n",
      "Epoch 36/150\n",
      "63/63 [==============================] - 0s 4ms/step - loss: 1.8657 - categorical_accuracy: 0.2508 - val_loss: 1.9695 - val_categorical_accuracy: 0.2418\n",
      "Epoch 37/150\n",
      "63/63 [==============================] - 0s 6ms/step - loss: 1.8606 - categorical_accuracy: 0.2555 - val_loss: 1.8669 - val_categorical_accuracy: 0.2500\n",
      "Epoch 38/150\n",
      "63/63 [==============================] - 0s 6ms/step - loss: 1.8538 - categorical_accuracy: 0.2625 - val_loss: 1.8690 - val_categorical_accuracy: 0.2313\n",
      "Epoch 39/150\n",
      "63/63 [==============================] - 0s 5ms/step - loss: 1.8451 - categorical_accuracy: 0.2652 - val_loss: 1.8923 - val_categorical_accuracy: 0.2605\n",
      "Epoch 40/150\n",
      "63/63 [==============================] - 0s 5ms/step - loss: 1.8517 - categorical_accuracy: 0.2627 - val_loss: 1.8625 - val_categorical_accuracy: 0.2383\n",
      "Epoch 41/150\n",
      "63/63 [==============================] - 0s 6ms/step - loss: 1.8435 - categorical_accuracy: 0.2610 - val_loss: 1.8776 - val_categorical_accuracy: 0.2617\n",
      "Epoch 42/150\n",
      "63/63 [==============================] - 0s 5ms/step - loss: 1.8382 - categorical_accuracy: 0.2545 - val_loss: 1.8635 - val_categorical_accuracy: 0.2757\n",
      "Epoch 43/150\n",
      "63/63 [==============================] - 0s 6ms/step - loss: 1.8398 - categorical_accuracy: 0.2620 - val_loss: 1.8613 - val_categorical_accuracy: 0.2640\n",
      "Epoch 44/150\n",
      "63/63 [==============================] - 0s 6ms/step - loss: 1.8339 - categorical_accuracy: 0.2665 - val_loss: 1.8546 - val_categorical_accuracy: 0.2558\n",
      "Epoch 45/150\n",
      "63/63 [==============================] - 0s 5ms/step - loss: 1.8287 - categorical_accuracy: 0.2607 - val_loss: 1.8454 - val_categorical_accuracy: 0.2722\n",
      "Epoch 46/150\n",
      "63/63 [==============================] - 0s 6ms/step - loss: 1.8377 - categorical_accuracy: 0.2665 - val_loss: 1.8754 - val_categorical_accuracy: 0.2535\n",
      "Epoch 47/150\n",
      "63/63 [==============================] - 0s 5ms/step - loss: 1.8281 - categorical_accuracy: 0.2695 - val_loss: 1.8682 - val_categorical_accuracy: 0.2617\n",
      "Epoch 48/150\n",
      "63/63 [==============================] - 0s 4ms/step - loss: 1.8233 - categorical_accuracy: 0.2648 - val_loss: 1.8628 - val_categorical_accuracy: 0.2266\n",
      "Epoch 49/150\n",
      "63/63 [==============================] - 0s 5ms/step - loss: 1.8470 - categorical_accuracy: 0.2680 - val_loss: 1.8694 - val_categorical_accuracy: 0.2336\n",
      "Epoch 50/150\n"
     ]
    },
    {
     "name": "stdout",
     "output_type": "stream",
     "text": [
      "63/63 [==============================] - 0s 6ms/step - loss: 1.8315 - categorical_accuracy: 0.2670 - val_loss: 1.8476 - val_categorical_accuracy: 0.2617\n",
      "Epoch 51/150\n",
      "63/63 [==============================] - 0s 5ms/step - loss: 1.8275 - categorical_accuracy: 0.2715 - val_loss: 1.8519 - val_categorical_accuracy: 0.2932\n",
      "Epoch 52/150\n",
      "63/63 [==============================] - 0s 5ms/step - loss: 1.8317 - categorical_accuracy: 0.2673 - val_loss: 1.8538 - val_categorical_accuracy: 0.2558\n",
      "Epoch 53/150\n",
      "63/63 [==============================] - 0s 5ms/step - loss: 1.8206 - categorical_accuracy: 0.2603 - val_loss: 1.8511 - val_categorical_accuracy: 0.2617\n",
      "Epoch 54/150\n",
      "63/63 [==============================] - 0s 7ms/step - loss: 1.8189 - categorical_accuracy: 0.2735 - val_loss: 1.8414 - val_categorical_accuracy: 0.2582\n",
      "Epoch 55/150\n",
      "63/63 [==============================] - 0s 6ms/step - loss: 1.8152 - categorical_accuracy: 0.2700 - val_loss: 1.8501 - val_categorical_accuracy: 0.2722\n",
      "Epoch 56/150\n",
      "63/63 [==============================] - 0s 6ms/step - loss: 1.8173 - categorical_accuracy: 0.2743 - val_loss: 1.8456 - val_categorical_accuracy: 0.2862\n",
      "Epoch 57/150\n",
      "63/63 [==============================] - 0s 6ms/step - loss: 1.8301 - categorical_accuracy: 0.2758 - val_loss: 1.8447 - val_categorical_accuracy: 0.2769\n",
      "Epoch 58/150\n",
      "63/63 [==============================] - 0s 5ms/step - loss: 1.8143 - categorical_accuracy: 0.2797 - val_loss: 1.8432 - val_categorical_accuracy: 0.2629\n",
      "Epoch 59/150\n",
      "63/63 [==============================] - 0s 7ms/step - loss: 1.8129 - categorical_accuracy: 0.2797 - val_loss: 1.8390 - val_categorical_accuracy: 0.2769\n",
      "Epoch 60/150\n",
      "63/63 [==============================] - 0s 5ms/step - loss: 1.8090 - categorical_accuracy: 0.2738 - val_loss: 1.8455 - val_categorical_accuracy: 0.2418\n",
      "Epoch 61/150\n",
      "63/63 [==============================] - 0s 5ms/step - loss: 1.8482 - categorical_accuracy: 0.2675 - val_loss: 1.8480 - val_categorical_accuracy: 0.2407\n",
      "Epoch 62/150\n",
      "63/63 [==============================] - 0s 5ms/step - loss: 1.8069 - categorical_accuracy: 0.2772 - val_loss: 1.8377 - val_categorical_accuracy: 0.2617\n",
      "Epoch 63/150\n",
      "63/63 [==============================] - 0s 5ms/step - loss: 1.8076 - categorical_accuracy: 0.2808 - val_loss: 1.8372 - val_categorical_accuracy: 0.2745\n",
      "Epoch 64/150\n",
      "63/63 [==============================] - 0s 4ms/step - loss: 1.8057 - categorical_accuracy: 0.2727 - val_loss: 1.8376 - val_categorical_accuracy: 0.2465\n",
      "Epoch 65/150\n",
      "63/63 [==============================] - 0s 3ms/step - loss: 1.8130 - categorical_accuracy: 0.2592 - val_loss: 1.8335 - val_categorical_accuracy: 0.2523\n",
      "Epoch 66/150\n",
      "63/63 [==============================] - 0s 4ms/step - loss: 1.8059 - categorical_accuracy: 0.2758 - val_loss: 1.8450 - val_categorical_accuracy: 0.2652\n",
      "Epoch 67/150\n",
      "63/63 [==============================] - 0s 5ms/step - loss: 1.8102 - categorical_accuracy: 0.2710 - val_loss: 1.8535 - val_categorical_accuracy: 0.2535\n",
      "Epoch 68/150\n",
      "63/63 [==============================] - 0s 6ms/step - loss: 1.8017 - categorical_accuracy: 0.2890 - val_loss: 1.8360 - val_categorical_accuracy: 0.2617\n",
      "Epoch 69/150\n",
      "63/63 [==============================] - 0s 6ms/step - loss: 1.8026 - categorical_accuracy: 0.2750 - val_loss: 1.8399 - val_categorical_accuracy: 0.2488\n",
      "Epoch 70/150\n",
      "63/63 [==============================] - 0s 6ms/step - loss: 1.8011 - categorical_accuracy: 0.2795 - val_loss: 1.8657 - val_categorical_accuracy: 0.2745\n",
      "Epoch 71/150\n",
      "63/63 [==============================] - 0s 6ms/step - loss: 1.7988 - categorical_accuracy: 0.2792 - val_loss: 1.8438 - val_categorical_accuracy: 0.2605\n",
      "Epoch 72/150\n",
      "63/63 [==============================] - 0s 5ms/step - loss: 1.8126 - categorical_accuracy: 0.2790 - val_loss: 1.8323 - val_categorical_accuracy: 0.2535\n",
      "Epoch 73/150\n",
      "63/63 [==============================] - 0s 5ms/step - loss: 1.8007 - categorical_accuracy: 0.2770 - val_loss: 1.8336 - val_categorical_accuracy: 0.2652\n",
      "Epoch 74/150\n",
      "63/63 [==============================] - 0s 6ms/step - loss: 1.8021 - categorical_accuracy: 0.2707 - val_loss: 1.8420 - val_categorical_accuracy: 0.2722\n",
      "Epoch 75/150\n",
      "63/63 [==============================] - 0s 5ms/step - loss: 1.7994 - categorical_accuracy: 0.2817 - val_loss: 1.8297 - val_categorical_accuracy: 0.2652\n",
      "Epoch 76/150\n",
      "63/63 [==============================] - 0s 5ms/step - loss: 1.7975 - categorical_accuracy: 0.2810 - val_loss: 1.8264 - val_categorical_accuracy: 0.2722\n",
      "Epoch 77/150\n",
      "63/63 [==============================] - 0s 4ms/step - loss: 1.8059 - categorical_accuracy: 0.2817 - val_loss: 1.8284 - val_categorical_accuracy: 0.2850\n",
      "Epoch 78/150\n",
      "63/63 [==============================] - 0s 5ms/step - loss: 1.7976 - categorical_accuracy: 0.2835 - val_loss: 1.8354 - val_categorical_accuracy: 0.2535\n",
      "Epoch 79/150\n",
      "63/63 [==============================] - 0s 5ms/step - loss: 1.7940 - categorical_accuracy: 0.2668 - val_loss: 1.8278 - val_categorical_accuracy: 0.2605\n",
      "Epoch 80/150\n",
      "63/63 [==============================] - 0s 6ms/step - loss: 1.7981 - categorical_accuracy: 0.2837 - val_loss: 1.8371 - val_categorical_accuracy: 0.2477\n",
      "Epoch 81/150\n",
      "63/63 [==============================] - 0s 5ms/step - loss: 1.7944 - categorical_accuracy: 0.2820 - val_loss: 1.8237 - val_categorical_accuracy: 0.2792\n",
      "Epoch 82/150\n",
      "63/63 [==============================] - 0s 5ms/step - loss: 1.7933 - categorical_accuracy: 0.2833 - val_loss: 1.8276 - val_categorical_accuracy: 0.2430\n",
      "Epoch 83/150\n",
      "63/63 [==============================] - 0s 5ms/step - loss: 1.7901 - categorical_accuracy: 0.2785 - val_loss: 1.8233 - val_categorical_accuracy: 0.2477\n",
      "Epoch 84/150\n",
      "63/63 [==============================] - 0s 6ms/step - loss: 1.7943 - categorical_accuracy: 0.2750 - val_loss: 1.8256 - val_categorical_accuracy: 0.2640\n",
      "Epoch 85/150\n",
      "63/63 [==============================] - 0s 5ms/step - loss: 1.7893 - categorical_accuracy: 0.2840 - val_loss: 1.8193 - val_categorical_accuracy: 0.2710\n",
      "Epoch 86/150\n",
      "63/63 [==============================] - 0s 5ms/step - loss: 1.7862 - categorical_accuracy: 0.2822 - val_loss: 1.8480 - val_categorical_accuracy: 0.2523\n",
      "Epoch 87/150\n",
      "63/63 [==============================] - 0s 5ms/step - loss: 1.7888 - categorical_accuracy: 0.2750 - val_loss: 1.8235 - val_categorical_accuracy: 0.2477\n",
      "Epoch 88/150\n",
      "63/63 [==============================] - 0s 6ms/step - loss: 1.8085 - categorical_accuracy: 0.2875 - val_loss: 1.8207 - val_categorical_accuracy: 0.2313\n",
      "Epoch 89/150\n",
      "63/63 [==============================] - 0s 5ms/step - loss: 1.7876 - categorical_accuracy: 0.2820 - val_loss: 1.8365 - val_categorical_accuracy: 0.2582\n",
      "Epoch 90/150\n",
      "63/63 [==============================] - 0s 6ms/step - loss: 1.7874 - categorical_accuracy: 0.2727 - val_loss: 1.8571 - val_categorical_accuracy: 0.2722\n",
      "Epoch 91/150\n",
      "63/63 [==============================] - 0s 6ms/step - loss: 1.7858 - categorical_accuracy: 0.2775 - val_loss: 1.8182 - val_categorical_accuracy: 0.2664\n",
      "Epoch 92/150\n",
      "63/63 [==============================] - 0s 6ms/step - loss: 1.7820 - categorical_accuracy: 0.2845 - val_loss: 1.8179 - val_categorical_accuracy: 0.2593\n",
      "Epoch 93/150\n",
      "63/63 [==============================] - 0s 6ms/step - loss: 1.7811 - categorical_accuracy: 0.2772 - val_loss: 1.8223 - val_categorical_accuracy: 0.2652\n",
      "Epoch 94/150\n",
      "63/63 [==============================] - 0s 4ms/step - loss: 1.7864 - categorical_accuracy: 0.2668 - val_loss: 1.8280 - val_categorical_accuracy: 0.2488\n",
      "Epoch 95/150\n",
      "63/63 [==============================] - 0s 4ms/step - loss: 1.7855 - categorical_accuracy: 0.2727 - val_loss: 1.8222 - val_categorical_accuracy: 0.2886\n",
      "Epoch 96/150\n",
      "63/63 [==============================] - 0s 4ms/step - loss: 1.7787 - categorical_accuracy: 0.2713 - val_loss: 1.8164 - val_categorical_accuracy: 0.2687\n",
      "Epoch 97/150\n",
      "63/63 [==============================] - 0s 5ms/step - loss: 1.7769 - categorical_accuracy: 0.2815 - val_loss: 1.8269 - val_categorical_accuracy: 0.2593\n",
      "Epoch 98/150\n",
      "63/63 [==============================] - 0s 6ms/step - loss: 1.7768 - categorical_accuracy: 0.2808 - val_loss: 1.8114 - val_categorical_accuracy: 0.2769\n",
      "Epoch 99/150\n"
     ]
    },
    {
     "name": "stdout",
     "output_type": "stream",
     "text": [
      "63/63 [==============================] - 0s 7ms/step - loss: 1.7780 - categorical_accuracy: 0.2725 - val_loss: 1.8212 - val_categorical_accuracy: 0.2547\n",
      "Epoch 100/150\n",
      "63/63 [==============================] - 0s 5ms/step - loss: 1.7798 - categorical_accuracy: 0.2745 - val_loss: 1.8112 - val_categorical_accuracy: 0.2652\n",
      "Epoch 101/150\n",
      "63/63 [==============================] - 0s 6ms/step - loss: 1.7747 - categorical_accuracy: 0.2767 - val_loss: 1.8115 - val_categorical_accuracy: 0.2687\n",
      "Epoch 102/150\n",
      "63/63 [==============================] - 0s 5ms/step - loss: 1.7753 - categorical_accuracy: 0.2885 - val_loss: 1.8047 - val_categorical_accuracy: 0.2757\n",
      "Epoch 103/150\n",
      "63/63 [==============================] - 0s 5ms/step - loss: 1.7760 - categorical_accuracy: 0.2772 - val_loss: 1.8133 - val_categorical_accuracy: 0.2687\n",
      "Epoch 104/150\n",
      "63/63 [==============================] - 0s 5ms/step - loss: 1.7705 - categorical_accuracy: 0.2948 - val_loss: 1.8352 - val_categorical_accuracy: 0.2769\n",
      "Epoch 105/150\n",
      "63/63 [==============================] - 0s 5ms/step - loss: 1.7706 - categorical_accuracy: 0.2817 - val_loss: 1.8094 - val_categorical_accuracy: 0.2664\n",
      "Epoch 106/150\n",
      "63/63 [==============================] - 0s 4ms/step - loss: 1.7683 - categorical_accuracy: 0.2945 - val_loss: 1.8055 - val_categorical_accuracy: 0.2710\n",
      "Epoch 107/150\n",
      "63/63 [==============================] - 0s 4ms/step - loss: 1.7706 - categorical_accuracy: 0.2833 - val_loss: 1.8028 - val_categorical_accuracy: 0.2839\n",
      "Epoch 108/150\n",
      "63/63 [==============================] - 0s 4ms/step - loss: 1.7676 - categorical_accuracy: 0.2745 - val_loss: 1.8026 - val_categorical_accuracy: 0.2757\n",
      "Epoch 109/150\n",
      "63/63 [==============================] - 0s 5ms/step - loss: 1.7654 - categorical_accuracy: 0.2758 - val_loss: 1.8183 - val_categorical_accuracy: 0.2769\n",
      "Epoch 110/150\n",
      "63/63 [==============================] - 0s 5ms/step - loss: 1.7657 - categorical_accuracy: 0.2880 - val_loss: 1.8018 - val_categorical_accuracy: 0.2862\n",
      "Epoch 111/150\n",
      "63/63 [==============================] - 0s 6ms/step - loss: 1.7636 - categorical_accuracy: 0.2890 - val_loss: 1.8059 - val_categorical_accuracy: 0.2442\n",
      "Epoch 112/150\n",
      "63/63 [==============================] - 0s 5ms/step - loss: 1.7685 - categorical_accuracy: 0.2763 - val_loss: 1.7973 - val_categorical_accuracy: 0.2442\n",
      "Epoch 113/150\n",
      "63/63 [==============================] - 0s 4ms/step - loss: 1.7722 - categorical_accuracy: 0.2805 - val_loss: 1.8032 - val_categorical_accuracy: 0.2629\n",
      "Epoch 114/150\n",
      "63/63 [==============================] - 0s 6ms/step - loss: 1.7614 - categorical_accuracy: 0.2738 - val_loss: 1.7973 - val_categorical_accuracy: 0.2570\n",
      "Epoch 115/150\n",
      "63/63 [==============================] - 0s 5ms/step - loss: 1.7575 - categorical_accuracy: 0.2743 - val_loss: 1.7930 - val_categorical_accuracy: 0.2757\n",
      "Epoch 116/150\n",
      "63/63 [==============================] - 0s 5ms/step - loss: 1.7589 - categorical_accuracy: 0.2830 - val_loss: 1.7945 - val_categorical_accuracy: 0.2897\n",
      "Epoch 117/150\n",
      "63/63 [==============================] - 0s 5ms/step - loss: 1.7585 - categorical_accuracy: 0.2812 - val_loss: 1.7928 - val_categorical_accuracy: 0.2558\n",
      "Epoch 118/150\n",
      "63/63 [==============================] - 0s 5ms/step - loss: 1.7541 - categorical_accuracy: 0.2840 - val_loss: 1.7970 - val_categorical_accuracy: 0.2792\n",
      "Epoch 119/150\n",
      "63/63 [==============================] - 0s 5ms/step - loss: 1.7520 - categorical_accuracy: 0.2725 - val_loss: 1.8011 - val_categorical_accuracy: 0.2652\n",
      "Epoch 120/150\n",
      "63/63 [==============================] - 0s 5ms/step - loss: 1.7547 - categorical_accuracy: 0.2783 - val_loss: 1.7885 - val_categorical_accuracy: 0.2582\n",
      "Epoch 121/150\n",
      "63/63 [==============================] - 0s 7ms/step - loss: 1.7517 - categorical_accuracy: 0.2840 - val_loss: 1.7875 - val_categorical_accuracy: 0.2535\n",
      "Epoch 122/150\n",
      "63/63 [==============================] - 0s 4ms/step - loss: 1.7475 - categorical_accuracy: 0.2800 - val_loss: 1.7871 - val_categorical_accuracy: 0.2734\n",
      "Epoch 123/150\n",
      "63/63 [==============================] - 0s 5ms/step - loss: 1.7478 - categorical_accuracy: 0.2810 - val_loss: 1.7869 - val_categorical_accuracy: 0.2722\n",
      "Epoch 124/150\n",
      "63/63 [==============================] - 0s 5ms/step - loss: 1.7462 - categorical_accuracy: 0.2800 - val_loss: 1.7823 - val_categorical_accuracy: 0.2652\n",
      "Epoch 125/150\n",
      "63/63 [==============================] - 0s 6ms/step - loss: 1.7466 - categorical_accuracy: 0.2763 - val_loss: 1.7818 - val_categorical_accuracy: 0.2558\n",
      "Epoch 126/150\n",
      "63/63 [==============================] - 0s 7ms/step - loss: 1.7444 - categorical_accuracy: 0.2895 - val_loss: 1.7776 - val_categorical_accuracy: 0.2582\n",
      "Epoch 127/150\n",
      "63/63 [==============================] - 0s 7ms/step - loss: 1.7420 - categorical_accuracy: 0.2907 - val_loss: 1.7762 - val_categorical_accuracy: 0.2792\n",
      "Epoch 128/150\n",
      "63/63 [==============================] - 0s 6ms/step - loss: 1.7400 - categorical_accuracy: 0.2777 - val_loss: 1.7796 - val_categorical_accuracy: 0.2629\n",
      "Epoch 129/150\n",
      "63/63 [==============================] - 0s 5ms/step - loss: 1.7396 - categorical_accuracy: 0.2758 - val_loss: 1.7757 - val_categorical_accuracy: 0.2850\n",
      "Epoch 130/150\n",
      "63/63 [==============================] - 0s 5ms/step - loss: 1.7360 - categorical_accuracy: 0.2957 - val_loss: 1.7724 - val_categorical_accuracy: 0.2745\n",
      "Epoch 131/150\n",
      "63/63 [==============================] - 0s 4ms/step - loss: 1.7417 - categorical_accuracy: 0.2775 - val_loss: 1.7704 - val_categorical_accuracy: 0.2804\n",
      "Epoch 132/150\n",
      "63/63 [==============================] - 0s 5ms/step - loss: 1.7332 - categorical_accuracy: 0.2882 - val_loss: 1.7793 - val_categorical_accuracy: 0.2757\n",
      "Epoch 133/150\n",
      "63/63 [==============================] - 0s 6ms/step - loss: 1.7321 - categorical_accuracy: 0.2850 - val_loss: 1.7869 - val_categorical_accuracy: 0.2570\n",
      "Epoch 134/150\n",
      "63/63 [==============================] - 0s 4ms/step - loss: 1.7319 - categorical_accuracy: 0.2867 - val_loss: 1.7659 - val_categorical_accuracy: 0.2535\n",
      "Epoch 135/150\n",
      "63/63 [==============================] - 0s 7ms/step - loss: 1.7326 - categorical_accuracy: 0.2795 - val_loss: 1.7663 - val_categorical_accuracy: 0.2605\n",
      "Epoch 136/150\n",
      "63/63 [==============================] - 0s 4ms/step - loss: 1.7263 - categorical_accuracy: 0.2790 - val_loss: 1.7612 - val_categorical_accuracy: 0.2442\n",
      "Epoch 137/150\n",
      "63/63 [==============================] - 0s 6ms/step - loss: 1.7248 - categorical_accuracy: 0.2850 - val_loss: 1.7605 - val_categorical_accuracy: 0.2535\n",
      "Epoch 138/150\n",
      "63/63 [==============================] - 0s 7ms/step - loss: 1.7225 - categorical_accuracy: 0.2812 - val_loss: 1.7593 - val_categorical_accuracy: 0.2512\n",
      "Epoch 139/150\n",
      "63/63 [==============================] - 0s 6ms/step - loss: 1.7215 - categorical_accuracy: 0.2873 - val_loss: 1.7558 - val_categorical_accuracy: 0.2593\n",
      "Epoch 140/150\n",
      "63/63 [==============================] - 0s 6ms/step - loss: 1.7184 - categorical_accuracy: 0.2855 - val_loss: 1.7538 - val_categorical_accuracy: 0.2699\n",
      "Epoch 141/150\n",
      "63/63 [==============================] - 0s 5ms/step - loss: 1.7204 - categorical_accuracy: 0.2725 - val_loss: 1.7536 - val_categorical_accuracy: 0.2558\n",
      "Epoch 142/150\n",
      "63/63 [==============================] - 0s 6ms/step - loss: 1.7172 - categorical_accuracy: 0.2780 - val_loss: 1.7514 - val_categorical_accuracy: 0.2757\n",
      "Epoch 143/150\n",
      "63/63 [==============================] - 0s 6ms/step - loss: 1.7165 - categorical_accuracy: 0.2810 - val_loss: 1.7494 - val_categorical_accuracy: 0.2710\n",
      "Epoch 144/150\n",
      "63/63 [==============================] - 0s 6ms/step - loss: 1.7141 - categorical_accuracy: 0.2828 - val_loss: 1.7488 - val_categorical_accuracy: 0.2477\n",
      "Epoch 145/150\n",
      "63/63 [==============================] - 0s 6ms/step - loss: 1.7098 - categorical_accuracy: 0.2890 - val_loss: 1.7471 - val_categorical_accuracy: 0.2582\n",
      "Epoch 146/150\n",
      "63/63 [==============================] - 0s 5ms/step - loss: 1.7104 - categorical_accuracy: 0.2867 - val_loss: 1.7457 - val_categorical_accuracy: 0.2722\n",
      "Epoch 147/150\n",
      "63/63 [==============================] - 0s 5ms/step - loss: 1.7075 - categorical_accuracy: 0.2952 - val_loss: 1.7439 - val_categorical_accuracy: 0.2652\n",
      "Epoch 148/150\n"
     ]
    },
    {
     "name": "stdout",
     "output_type": "stream",
     "text": [
      "63/63 [==============================] - 0s 5ms/step - loss: 1.7056 - categorical_accuracy: 0.2828 - val_loss: 1.7410 - val_categorical_accuracy: 0.2500\n",
      "Epoch 149/150\n",
      "63/63 [==============================] - 0s 6ms/step - loss: 1.7030 - categorical_accuracy: 0.2783 - val_loss: 1.7372 - val_categorical_accuracy: 0.2640\n",
      "Epoch 150/150\n",
      "63/63 [==============================] - 0s 8ms/step - loss: 1.7027 - categorical_accuracy: 0.2905 - val_loss: 1.7357 - val_categorical_accuracy: 0.2629\n"
     ]
    }
   ],
   "source": [
    "history = model.fit(features[:test_num], label[:test_num], epochs=n_epoch, batch_size=64,\n",
    "                    validation_data=(features[test_num:], label[test_num:]))"
   ]
  },
  {
   "cell_type": "code",
   "execution_count": 22,
   "id": "b90ef9af-0392-4709-ac77-c010929f9754",
   "metadata": {},
   "outputs": [
    {
     "data": {
      "image/png": "[encoded data removed]",
      "text/plain": [
       "<Figure size 432x288 with 1 Axes>"
      ]
     },
     "metadata": {
      "needs_background": "light"
     },
     "output_type": "display_data"
    }
   ],
   "source": [
    "x = list(range(n_epoch))\n",
    "plt.plot(x, history.history['loss'],label=\"loss\")\n",
    "plt.plot(x, history.history['val_loss'],label=\"val_loss\")\n",
    "plt.legend();"
   ]
  },
  {
   "cell_type": "code",
   "execution_count": 23,
   "id": "d5dfb740",
   "metadata": {},
   "outputs": [
    {
     "data": {
      "image/png": "[encoded data removed]",
      "text/plain": [
       "<Figure size 432x288 with 1 Axes>"
      ]
     },
     "metadata": {
      "needs_background": "light"
     },
     "output_type": "display_data"
    }
   ],
   "source": [
    "plt.plot(x, history.history['val_categorical_accuracy'],label=\"val_categorical_accuracy\")\n",
    "plt.plot(x, history.history['categorical_accuracy'],label=\"categorical_accuracy\")\n",
    "plt.legend();"
   ]
  },
  {
   "cell_type": "code",
   "execution_count": 26,
   "id": "937bdf03",
   "metadata": {},
   "outputs": [],
   "source": [
    "x_test = features[test_num:]\n",
    "y_test = dataset.label"
   ]
  },
  {
   "cell_type": "code",
   "execution_count": 68,
   "id": "e49fa787",
   "metadata": {},
   "outputs": [],
   "source": [
    "label_to_activity = {0: 'DoS', 1: 'Fuzzy', 2: 'RPM',\n",
    "                     3: 'gear', 4: 'Normal'}\n",
    "activity_label = {'DoS':0, 'Fuzzy':1, 'RPM':2,\n",
    "                     'gear':3, 'Normal':4}"
   ]
  },
  {
   "cell_type": "code",
   "execution_count": 69,
   "id": "82151713",
   "metadata": {},
   "outputs": [
    {
     "data": {
      "text/plain": [
       "['DoS', 'Fuzzy', 'RPM', 'gear', 'Normal']"
      ]
     },
     "execution_count": 69,
     "metadata": {},
     "output_type": "execute_result"
    }
   ],
   "source": [
    "list(label_to_activity.values())"
   ]
  },
  {
   "cell_type": "code",
   "execution_count": 70,
   "id": "dd39fb2a",
   "metadata": {},
   "outputs": [],
   "source": [
    "def analyse_model_predictions(action_num):\n",
    "    \n",
    "    # Show the accelerometer data\n",
    "    print('------------------------------')\n",
    "    print('Accelerometer data:')\n",
    "    fig, ax = plt.subplots(figsize=(10, 1))\n",
    "    ax.imshow(x_test[action_num].T, cmap='Greys', vmin=-1, vmax=1)\n",
    "    ax.axis('off')\n",
    "    plt.show()\n",
    "\n",
    "    # Print the true activity\n",
    "    print('------------------------------')\n",
    "    print('True Event:', y_test[action_num])\n",
    "    print('')\n",
    "\n",
    "    # Print the probabilities the model assigns\n",
    "    print('------------------------------')\n",
    "    print('Model estimated probabilities:')\n",
    "    # Create ensemble of predicted probabilities\n",
    "    predicted_probabilities = np.empty(shape=(200, 5))\n",
    "    for i in range(200):\n",
    "        predicted_probabilities[i] = model(x_test[action_num][np.newaxis, ...]).mean().numpy()[0]\n",
    "    pct_2p5 = np.array([np.percentile(predicted_probabilities[:, i], 2.5) for i in range(5)])\n",
    "    pct_97p5 = np.array([np.percentile(predicted_probabilities[:, i], 97.5) for i in range(5)])\n",
    "    # Make the plots\n",
    "    fig, ax = plt.subplots(figsize=(9, 3))\n",
    "    bar = ax.bar(np.arange(5), pct_97p5, color='red')\n",
    "    ax.set_xticklabels([''] + [activity for activity in label_to_activity.values()],\n",
    "                       rotation=45, horizontalalignment='right')\n",
    "    \n",
    "    \n",
    "#     bar[activity_label[y_test[action_num]]].set_color('green')\n",
    "#     bar = ax.bar(np.arange(5), pct_2p5-0.02, color='white', linewidth=1, edgecolor='white')\n",
    "\n",
    "    ax.set_ylim([0, 1])\n",
    "    ax.set_ylabel('Probability')\n",
    "    plt.show()"
   ]
  },
  {
   "cell_type": "code",
   "execution_count": 71,
   "id": "633abc1f",
   "metadata": {},
   "outputs": [
    {
     "name": "stdout",
     "output_type": "stream",
     "text": [
      "------------------------------\n",
      "Accelerometer data:\n"
     ]
    },
    {
     "data": {
      "image/png": "[encoded data removed]",
      "text/plain": [
       "<Figure size 720x72 with 1 Axes>"
      ]
     },
     "metadata": {
      "needs_background": "light"
     },
     "output_type": "display_data"
    },
    {
     "name": "stdout",
     "output_type": "stream",
     "text": [
      "------------------------------\n",
      "True Event: dos\n",
      "\n",
      "------------------------------\n",
      "Model estimated probabilities:\n"
     ]
    },
    {
     "name": "stderr",
     "output_type": "stream",
     "text": [
      "/tmp/ipykernel_10142/1397705333.py:28: UserWarning: FixedFormatter should only be used together with FixedLocator\n",
      "  ax.set_xticklabels([''] + [activity for activity in label_to_activity.values()],\n"
     ]
    },
    {
     "data": {
      "image/png": "[encoded data removed]",
      "text/plain": [
       "<Figure size 648x216 with 1 Axes>"
      ]
     },
     "metadata": {
      "needs_background": "light"
     },
     "output_type": "display_data"
    }
   ],
   "source": [
    "analyse_model_predictions(1)"
   ]
  },
  {
   "cell_type": "code",
   "execution_count": null,
   "id": "e642f467",
   "metadata": {},
   "outputs": [],
   "source": []
  },
  {
   "cell_type": "code",
   "execution_count": null,
   "id": "210c51d6",
   "metadata": {},
   "outputs": [],
   "source": []
  }
 ],
 "metadata": {
  "kernelspec": {
   "display_name": "Python 3 (ipykernel)",
   "language": "python",
   "name": "python3"
  },
  "language_info": {
   "codemirror_mode": {
    "name": "ipython",
    "version": 3
   },
   "file_extension": ".py",
   "mimetype": "text/x-python",
   "name": "python",
   "nbconvert_exporter": "python",
   "pygments_lexer": "ipython3",
   "version": "3.8.10"
  }
 },
 "nbformat": 4,
 "nbformat_minor": 5
}
